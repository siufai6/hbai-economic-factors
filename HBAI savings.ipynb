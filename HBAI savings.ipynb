{
 "cells": [
  {
   "cell_type": "markdown",
   "metadata": {},
   "source": [
    "### HBAI savings\n",
    "Studies savings among low-income vs non Low income groups and observe the change over time.\n",
    "\n"
   ]
  },
  {
   "cell_type": "code",
   "execution_count": 3,
   "metadata": {},
   "outputs": [],
   "source": [
    "import pandas as pd\n",
    "\n",
    "import plotly.express as px\n",
    "import sys\n",
    "\n",
    "\n",
    "\n",
    "def read_csv(data_file):\n",
    "\n",
    "    # Read the CSV file, skipping the first row (header row) and unnecessary footer rows\n",
    "    df = pd.read_csv(data_file, skiprows=1, skipfooter=0, engine='python')\n",
    "\n",
    "    # Drop empty columns and rows\n",
    "    df = df.dropna(how='all', axis=1).dropna(how='all', axis=0)\n",
    "    #print(df)\n",
    "    # Extract the year column and clean it\n",
    "    df['Financial Year'] = df['Financial Year'].str.extract(r'(\\d{4}-\\d{2})')\n",
    "    df = df.dropna(subset=['Financial Year'])\n",
    "    #print(df.head())\n",
    "    # Set the year as the index\n",
    "    df.set_index('Financial Year', inplace=True)\n",
    "\n",
    "    # extract data columns.\n",
    "    total_col_index = df.columns.str.contains('Total').argmax()\n",
    "\n",
    "    print(total_col_index)\n",
    "    not_low_income = df.iloc[:, :total_col_index+1].add_suffix('-not low income')\n",
    "\n",
    "    # clean up the duplcated 1. 2. column names\n",
    "    df.columns = df.columns.str.replace(r'\\.\\d+$', '', regex=True)\n",
    "    \n",
    "    low_income = df.iloc[:, total_col_index + 1: total_col_index *2+2 ].add_suffix('-low income')\n",
    "\n",
    "    print(low_income)\n",
    "    total_columns = df.iloc[:, total_col_index *2 +3:].add_suffix('-total')\n",
    "\n",
    "    # Combine the two groups of columns\n",
    "    result = pd.concat([not_low_income, low_income, total_columns], axis=1)\n",
    "\n",
    "    \n",
    "\n",
    "    # Save or display the resulting DataFrame\n",
    "    #print(result.head())  # Display the first few rows\n",
    "    result.to_csv(data_file+\"_processed.csv\")  # Save to a new CSV file\n",
    "    #print(df.head())\n",
    "    #print(\"----\")    \n",
    "\n",
    "    # convert to numbers\n",
    "    result = result.apply(pd.to_numeric, errors='coerce')\n",
    "    print(result.head(10))\n",
    "    return result, low_income.columns\n",
    "\n",
    "\n",
    "\n",
    "\n"
   ]
  },
  {
   "cell_type": "code",
   "execution_count": 4,
   "metadata": {},
   "outputs": [
    {
     "name": "stdout",
     "output_type": "stream",
     "text": [
      "8\n",
      "               No savings-low income Less than £1,500-low income  \\\n",
      "Financial Year                                                     \n",
      "1994-95                      5862481                     1573200   \n",
      "1995-96                      5812377                     1659361   \n",
      "1996-97                      6212107                     2064888   \n",
      "1997-98                      6231188                     1962711   \n",
      "1998-99                      6111826                     2083739   \n",
      "1999-00                      5726539                     2322175   \n",
      "2000-01                      5708473                     2009318   \n",
      "2001-02                      5663870                     1975567   \n",
      "2002-03                      5704164                     1845793   \n",
      "2003-04                      5625528                     1756275   \n",
      "2004-05                      5338563                     1935943   \n",
      "2005-06                      5658961                     2024741   \n",
      "2006-07                      5680372                     2040061   \n",
      "2007-08                      5788836                     2101523   \n",
      "2008-09                      5995081                     1855647   \n",
      "2009-10                      5663988                     1847475   \n",
      "2010-11                      5601671                     1296275   \n",
      "2011-12                      5804440                     1153857   \n",
      "2012-13                      6043736                     1029544   \n",
      "2013-14                      5875196                     1125110   \n",
      "2014-15                      6348610                      943244   \n",
      "2015-16                      6211127                     1211310   \n",
      "2016-17                      6250774                     1052330   \n",
      "2017-18                      6648971                     1047255   \n",
      "2018-19                      6412414                     1088073   \n",
      "2019-20                      2996271                     4714128   \n",
      "2020-21                           ..                          ..   \n",
      "2021-22                      3029449                     3956777   \n",
      "2022-23                      3451375                     3972862   \n",
      "\n",
      "               £1,500 but less than £3,000-low income  \\\n",
      "Financial Year                                          \n",
      "1994-95                                        713804   \n",
      "1995-96                                        590861   \n",
      "1996-97                                        567544   \n",
      "1997-98                                        635601   \n",
      "1998-99                                        547242   \n",
      "1999-00                                        547591   \n",
      "2000-01                                        534584   \n",
      "2001-02                                        544419   \n",
      "2002-03                                        577368   \n",
      "2003-04                                        558400   \n",
      "2004-05                                        513057   \n",
      "2005-06                                        495075   \n",
      "2006-07                                        461485   \n",
      "2007-08                                        491485   \n",
      "2008-09                                        531427   \n",
      "2009-10                                        579407   \n",
      "2010-11                                        502776   \n",
      "2011-12                                        555387   \n",
      "2012-13                                        429334   \n",
      "2013-14                                        437101   \n",
      "2014-15                                        337163   \n",
      "2015-16                                        458658   \n",
      "2016-17                                        528743   \n",
      "2017-18                                        499903   \n",
      "2018-19                                        457572   \n",
      "2019-20                                        720044   \n",
      "2020-21                                            ..   \n",
      "2021-22                                        823301   \n",
      "2022-23                                        721264   \n",
      "\n",
      "               £3,000 but less than £8,000-low income  \\\n",
      "Financial Year                                          \n",
      "1994-95                                        943138   \n",
      "1995-96                                        803025   \n",
      "1996-97                                        816562   \n",
      "1997-98                                        867042   \n",
      "1998-99                                        882920   \n",
      "1999-00                                        924724   \n",
      "2000-01                                        864979   \n",
      "2001-02                                        892818   \n",
      "2002-03                                        960391   \n",
      "2003-04                                        930567   \n",
      "2004-05                                        862633   \n",
      "2005-06                                        843887   \n",
      "2006-07                                        934309   \n",
      "2007-08                                       1002627   \n",
      "2008-09                                        855848   \n",
      "2009-10                                        849693   \n",
      "2010-11                                        855950   \n",
      "2011-12                                        754571   \n",
      "2012-13                                        695195   \n",
      "2013-14                                        628071   \n",
      "2014-15                                        771557   \n",
      "2015-16                                        915043   \n",
      "2016-17                                        855773   \n",
      "2017-18                                       1042989   \n",
      "2018-19                                        925967   \n",
      "2019-20                                       1017846   \n",
      "2020-21                                            ..   \n",
      "2021-22                                       1079671   \n",
      "2022-23                                        906859   \n",
      "\n",
      "               £8,000 but less than £10,000-low income  \\\n",
      "Financial Year                                           \n",
      "1994-95                                         193959   \n",
      "1995-96                                         167772   \n",
      "1996-97                                         166760   \n",
      "1997-98                                         198529   \n",
      "1998-99                                         175929   \n",
      "1999-00                                         175637   \n",
      "2000-01                                         241660   \n",
      "2001-02                                         216420   \n",
      "2002-03                                         195312   \n",
      "2003-04                                         204430   \n",
      "2004-05                                         209070   \n",
      "2005-06                                         176864   \n",
      "2006-07                                         171691   \n",
      "2007-08                                         236310   \n",
      "2008-09                                         217644   \n",
      "2009-10                                         228213   \n",
      "2010-11                                         196869   \n",
      "2011-12                                         159064   \n",
      "2012-13                                         162655   \n",
      "2013-14                                         152431   \n",
      "2014-15                                         221681   \n",
      "2015-16                                         176627   \n",
      "2016-17                                         188327   \n",
      "2017-18                                         210174   \n",
      "2018-19                                         223453   \n",
      "2019-20                                         243734   \n",
      "2020-21                                             ..   \n",
      "2021-22                                         202878   \n",
      "2022-23                                         249875   \n",
      "\n",
      "               £10,000 but less than £16,000-low income  \\\n",
      "Financial Year                                            \n",
      "1994-95                                          401854   \n",
      "1995-96                                          319503   \n",
      "1996-97                                          307409   \n",
      "1997-98                                          300912   \n",
      "1998-99                                          391734   \n",
      "1999-00                                          314597   \n",
      "2000-01                                          312830   \n",
      "2001-02                                          365981   \n",
      "2002-03                                          336086   \n",
      "2003-04                                          433295   \n",
      "2004-05                                          363016   \n",
      "2005-06                                          375382   \n",
      "2006-07                                          429456   \n",
      "2007-08                                          416772   \n",
      "2008-09                                          474486   \n",
      "2009-10                                          406581   \n",
      "2010-11                                          370949   \n",
      "2011-12                                          357115   \n",
      "2012-13                                          383957   \n",
      "2013-14                                          336522   \n",
      "2014-15                                          381012   \n",
      "2015-16                                          326004   \n",
      "2016-17                                          419737   \n",
      "2017-18                                          399224   \n",
      "2018-19                                          395874   \n",
      "2019-20                                          413665   \n",
      "2020-21                                              ..   \n",
      "2021-22                                          444281   \n",
      "2022-23                                          432163   \n",
      "\n",
      "               £16,000 but less than £20,000-low income  \\\n",
      "Financial Year                                            \n",
      "1994-95                                          152865   \n",
      "1995-96                                          150154   \n",
      "1996-97                                          125594   \n",
      "1997-98                                          159390   \n",
      "1998-99                                          146456   \n",
      "1999-00                                          133882   \n",
      "2000-01                                          115079   \n",
      "2001-02                                          165886   \n",
      "2002-03                                          151450   \n",
      "2003-04                                          156714   \n",
      "2004-05                                          146451   \n",
      "2005-06                                          159436   \n",
      "2006-07                                          188737   \n",
      "2007-08                                          178778   \n",
      "2008-09                                          202276   \n",
      "2009-10                                          132396   \n",
      "2010-11                                          164762   \n",
      "2011-12                                          147155   \n",
      "2012-13                                          149816   \n",
      "2013-14                                          102552   \n",
      "2014-15                                          126299   \n",
      "2015-16                                          159192   \n",
      "2016-17                                          142900   \n",
      "2017-18                                          142381   \n",
      "2018-19                                          158640   \n",
      "2019-20                                          202920   \n",
      "2020-21                                              ..   \n",
      "2021-22                                          153077   \n",
      "2022-23                                          165406   \n",
      "\n",
      "               £20,000 or more-low income Total-low income  \n",
      "Financial Year                                              \n",
      "1994-95                            528308         10369609  \n",
      "1995-96                            442624          9945677  \n",
      "1996-97                            513372         10774236  \n",
      "1997-98                            501468         10856841  \n",
      "1998-99                            456976         10796822  \n",
      "1999-00                            538081         10683226  \n",
      "2000-01                            542222         10329145  \n",
      "2001-02                            523440         10348401  \n",
      "2002-03                            586515         10357079  \n",
      "2003-04                            626049         10291258  \n",
      "2004-05                            560367          9929100  \n",
      "2005-06                            596220         10330566  \n",
      "2006-07                            774657         10680768  \n",
      "2007-08                            717922         10934253  \n",
      "2008-09                            752986         10885395  \n",
      "2009-10                            658746         10366499  \n",
      "2010-11                            845761          9835013  \n",
      "2011-12                            901511          9833100  \n",
      "2012-13                            799096          9693333  \n",
      "2013-14                            924200          9581183  \n",
      "2014-15                            931577         10061143  \n",
      "2015-16                           1011446         10469407  \n",
      "2016-17                           1024968         10463552  \n",
      "2017-18                           1115073         11105970  \n",
      "2018-19                           1317030         10979023  \n",
      "2019-20                           1419997         11728605  \n",
      "2020-21                                ..               ..  \n",
      "2021-22                           1321683         11011117  \n",
      "2022-23                           1533850         11433654  \n",
      "                No savings-not low income  Less than £1,500-not low income  \\\n",
      "Financial Year                                                               \n",
      "1994-95                        12910142.0                        8855240.0   \n",
      "1995-96                        14042668.0                        9561441.0   \n",
      "1996-97                        12415320.0                       10259188.0   \n",
      "1997-98                        12468319.0                       10810724.0   \n",
      "1998-99                        12142982.0                       11041733.0   \n",
      "1999-00                        11366449.0                       11592294.0   \n",
      "2000-01                        11941845.0                       11486885.0   \n",
      "2001-02                        12676515.0                       10944398.0   \n",
      "2002-03                        13356273.0                       10598133.0   \n",
      "2003-04                        13478764.0                       10175984.0   \n",
      "\n",
      "                £1,500 but less than £3,000-not low income  \\\n",
      "Financial Year                                               \n",
      "1994-95                                          4416551.0   \n",
      "1995-96                                          4539054.0   \n",
      "1996-97                                          4399667.0   \n",
      "1997-98                                          4048259.0   \n",
      "1998-99                                          3754379.0   \n",
      "1999-00                                          3801810.0   \n",
      "2000-01                                          3612030.0   \n",
      "2001-02                                          3815646.0   \n",
      "2002-03                                          4186455.0   \n",
      "2003-04                                          4221726.0   \n",
      "\n",
      "                £3,000 but less than £8,000-not low income  \\\n",
      "Financial Year                                               \n",
      "1994-95                                          6520917.0   \n",
      "1995-96                                          6496963.0   \n",
      "1996-97                                          6478541.0   \n",
      "1997-98                                          6277275.0   \n",
      "1998-99                                          6322166.0   \n",
      "1999-00                                          6535818.0   \n",
      "2000-01                                          6578700.0   \n",
      "2001-02                                          6607049.0   \n",
      "2002-03                                          7267621.0   \n",
      "2003-04                                          7534886.0   \n",
      "\n",
      "                £8,000 but less than £10,000-not low income  \\\n",
      "Financial Year                                                \n",
      "1994-95                                           1660569.0   \n",
      "1995-96                                           1290494.0   \n",
      "1996-97                                           1361414.0   \n",
      "1997-98                                           1276527.0   \n",
      "1998-99                                           1482881.0   \n",
      "1999-00                                           1420916.0   \n",
      "2000-01                                           1488732.0   \n",
      "2001-02                                           1519638.0   \n",
      "2002-03                                           1629191.0   \n",
      "2003-04                                           1697696.0   \n",
      "\n",
      "                £10,000 but less than £16,000-not low income  \\\n",
      "Financial Year                                                 \n",
      "1994-95                                            2938342.0   \n",
      "1995-96                                            2501252.0   \n",
      "1996-97                                            2633330.0   \n",
      "1997-98                                            2869009.0   \n",
      "1998-99                                            2942035.0   \n",
      "1999-00                                            2909697.0   \n",
      "2000-01                                            3051512.0   \n",
      "2001-02                                            3122421.0   \n",
      "2002-03                                            3143269.0   \n",
      "2003-04                                            3240363.0   \n",
      "\n",
      "                £16,000 but less than £20,000-not low income  \\\n",
      "Financial Year                                                 \n",
      "1994-95                                            1337369.0   \n",
      "1995-96                                            1047936.0   \n",
      "1996-97                                            1066016.0   \n",
      "1997-98                                            1150826.0   \n",
      "1998-99                                            1283855.0   \n",
      "1999-00                                            1231555.0   \n",
      "2000-01                                            1132397.0   \n",
      "2001-02                                            1229954.0   \n",
      "2002-03                                            1252386.0   \n",
      "2003-04                                            1184447.0   \n",
      "\n",
      "                £20,000 or more-not low income  Total-not low income  \\\n",
      "Financial Year                                                         \n",
      "1994-95                              6325290.0            44964420.0   \n",
      "1995-96                              6050533.0            45530341.0   \n",
      "1996-97                              6203675.0            44817151.0   \n",
      "1997-98                              5962111.0            44863050.0   \n",
      "1998-99                              6099983.0            45070014.0   \n",
      "1999-00                              6520542.0            45379081.0   \n",
      "2000-01                              6621061.0            45913162.0   \n",
      "2001-02                              6176829.0            46092450.0   \n",
      "2002-03                              6514740.0            47948068.0   \n",
      "2003-04                              6744591.0            48278457.0   \n",
      "\n",
      "                No savings-low income  ...  £20,000 or more-low income  \\\n",
      "Financial Year                         ...                               \n",
      "1994-95                     5862481.0  ...                    528308.0   \n",
      "1995-96                     5812377.0  ...                    442624.0   \n",
      "1996-97                     6212107.0  ...                    513372.0   \n",
      "1997-98                     6231188.0  ...                    501468.0   \n",
      "1998-99                     6111826.0  ...                    456976.0   \n",
      "1999-00                     5726539.0  ...                    538081.0   \n",
      "2000-01                     5708473.0  ...                    542222.0   \n",
      "2001-02                     5663870.0  ...                    523440.0   \n",
      "2002-03                     5704164.0  ...                    586515.0   \n",
      "2003-04                     5625528.0  ...                    626049.0   \n",
      "\n",
      "                Total-low income  Less than £1,500-total  \\\n",
      "Financial Year                                             \n",
      "1994-95               10369609.0              10428440.0   \n",
      "1995-96                9945677.0              11220802.0   \n",
      "1996-97               10774236.0              12324076.0   \n",
      "1997-98               10856841.0              12773435.0   \n",
      "1998-99               10796822.0              13125472.0   \n",
      "1999-00               10683226.0              13914469.0   \n",
      "2000-01               10329145.0              13496203.0   \n",
      "2001-02               10348401.0              12919965.0   \n",
      "2002-03               10357079.0              12443926.0   \n",
      "2003-04               10291258.0              11932259.0   \n",
      "\n",
      "                £1,500 but less than £3,000-total  \\\n",
      "Financial Year                                      \n",
      "1994-95                                 5130355.0   \n",
      "1995-96                                 5129915.0   \n",
      "1996-97                                 4967211.0   \n",
      "1997-98                                 4683860.0   \n",
      "1998-99                                 4301621.0   \n",
      "1999-00                                 4349401.0   \n",
      "2000-01                                 4146614.0   \n",
      "2001-02                                 4360065.0   \n",
      "2002-03                                 4763823.0   \n",
      "2003-04                                 4780126.0   \n",
      "\n",
      "                £3,000 but less than £8,000-total  \\\n",
      "Financial Year                                      \n",
      "1994-95                                 7464055.0   \n",
      "1995-96                                 7299988.0   \n",
      "1996-97                                 7295103.0   \n",
      "1997-98                                 7144317.0   \n",
      "1998-99                                 7205086.0   \n",
      "1999-00                                 7460542.0   \n",
      "2000-01                                 7443679.0   \n",
      "2001-02                                 7499867.0   \n",
      "2002-03                                 8228012.0   \n",
      "2003-04                                 8465453.0   \n",
      "\n",
      "                £8,000 but less than £10,000-total  \\\n",
      "Financial Year                                       \n",
      "1994-95                                  1854528.0   \n",
      "1995-96                                  1458266.0   \n",
      "1996-97                                  1528174.0   \n",
      "1997-98                                  1475056.0   \n",
      "1998-99                                  1658810.0   \n",
      "1999-00                                  1596553.0   \n",
      "2000-01                                  1730392.0   \n",
      "2001-02                                  1736058.0   \n",
      "2002-03                                  1824503.0   \n",
      "2003-04                                  1902126.0   \n",
      "\n",
      "                £10,000 but less than £16,000-total  \\\n",
      "Financial Year                                        \n",
      "1994-95                                   3340196.0   \n",
      "1995-96                                   2820755.0   \n",
      "1996-97                                   2940739.0   \n",
      "1997-98                                   3169921.0   \n",
      "1998-99                                   3333769.0   \n",
      "1999-00                                   3224294.0   \n",
      "2000-01                                   3364342.0   \n",
      "2001-02                                   3488402.0   \n",
      "2002-03                                   3479355.0   \n",
      "2003-04                                   3673658.0   \n",
      "\n",
      "                £16,000 but less than £20,000-total  £20,000 or more-total  \\\n",
      "Financial Year                                                               \n",
      "1994-95                                   1490234.0              6853598.0   \n",
      "1995-96                                   1198090.0              6493157.0   \n",
      "1996-97                                   1191610.0              6717047.0   \n",
      "1997-98                                   1310216.0              6463579.0   \n",
      "1998-99                                   1430311.0              6556959.0   \n",
      "1999-00                                   1365437.0              7058623.0   \n",
      "2000-01                                   1247476.0              7163283.0   \n",
      "2001-02                                   1395840.0              6700269.0   \n",
      "2002-03                                   1403836.0              7101255.0   \n",
      "2003-04                                   1341161.0              7370640.0   \n",
      "\n",
      "                Total-total  \n",
      "Financial Year               \n",
      "1994-95          55334029.0  \n",
      "1995-96          55476018.0  \n",
      "1996-97          55591387.0  \n",
      "1997-98          55719891.0  \n",
      "1998-99          55866836.0  \n",
      "1999-00          56062307.0  \n",
      "2000-01          56242307.0  \n",
      "2001-02          56440851.0  \n",
      "2002-03          58305147.0  \n",
      "2003-04          58569715.0  \n",
      "\n",
      "[10 rows x 26 columns]\n"
     ]
    }
   ],
   "source": [
    "\n",
    "BHC, savings=read_csv(\"./HBAI-BHC-saving.csv\")"
   ]
  },
  {
   "cell_type": "code",
   "execution_count": 5,
   "metadata": {},
   "outputs": [
    {
     "data": {
      "text/plain": [
       "['No savings',\n",
       " 'Less than £1,500',\n",
       " '£1,500 but less than £3,000',\n",
       " '£3,000 but less than £8,000',\n",
       " '£8,000 but less than £10,000',\n",
       " '£10,000 but less than £16,000',\n",
       " '£16,000 but less than £20,000',\n",
       " '£20,000 or more',\n",
       " 'Total']"
      ]
     },
     "execution_count": 5,
     "metadata": {},
     "output_type": "execute_result"
    }
   ],
   "source": [
    "savings_categories=list(savings.str.replace('-low income',''))\n",
    "\n",
    "savings_categories"
   ]
  },
  {
   "cell_type": "code",
   "execution_count": 9,
   "metadata": {},
   "outputs": [],
   "source": [
    "def extract_and_fix_year(year_range):\n",
    "    try:\n",
    "        year_suffix = year_range.split('-')[1]\n",
    "        full_year = \"20\" + year_suffix  if int(year_suffix) < 50 else \"19\" +year_suffix\n",
    "        return int(full_year) \n",
    "    except:\n",
    "        return None\n",
    "    \n",
    "def plot_hbai_trends(bhc_df, savings_categories, islowincome=True):\n",
    "\n",
    "    suffix=\"-low income\" if islowincome else \"-not low income\"\n",
    "    income_level_desc = \" Low income\" if islowincome else \" Not low income\"\n",
    "    # Calculate the impact (AHC - BHC) for each region\n",
    "    for cat in savings_categories:\n",
    "        #print(cat)\n",
    "        #bhc_df[f'{cat} pct'] = ((bhc_df[f'{cat}{suffix}']/bhc_df[f'{cat}-total'])*100)\n",
    "        bhc_df[f'{cat} pct'] = ((bhc_df[f'{cat}{suffix}']/bhc_df[f'Total{suffix}'])*100)\n",
    "\n",
    "\n",
    "    cat_cols = [f'{cat} pct' for cat in savings_categories]\n",
    "    bhc_df=bhc_df.reset_index()\n",
    "    # Melt the data to long format for easier plotting (if needed)\n",
    "    impact_data = bhc_df.melt(\n",
    "        id_vars=['Financial Year'],\n",
    "        value_vars=cat_cols,\n",
    "        var_name='Savings',\n",
    "        value_name='Savings categories'\n",
    "    )\n",
    "    impact_data['Financial Year'] = impact_data['Financial Year'].apply(extract_and_fix_year)\n",
    "\n",
    "    print(impact_data)\n",
    "    # Create the line chart\n",
    "    fig = px.line(impact_data, \n",
    "                x='Financial Year', \n",
    "                y='Savings categories', \n",
    "                color='Savings',\n",
    "                title=f'Savings of {income_level_desc} Populations  BHC , 1994-2023',\n",
    "                labels={'Savings categories': 'Amount of savings', 'Financial Year': 'Year'},\n",
    "                hover_data=['Savings'], width=1200, height=600)\n",
    "\n",
    "    # Customize the layout (optional)\n",
    "    fig.update_layout(\n",
    "        xaxis_title=\"Year\",\n",
    "        yaxis_title=f\"Pct of {income_level_desc} population with savings\",\n",
    "        legend_title=\"Savings\",\n",
    "        hovermode=\"x unified\"  # Shows data for all regions at a given year\n",
    "    )\n",
    "    #fig.add_annotation(\n",
    "    #    text=\"Note: percentage is calculated by (low income BHC in region-low income AHC in region)/total BHC in region.\",\n",
    "    #    xref=\"paper\", yref=\"paper\",  # Relative to the entire plot\n",
    "    #    x=0.5, y=-0.2,  # Position below the plot\n",
    "    #    showarrow=False,\n",
    "    #    font=dict(size=12, color=\"gray\")\n",
    "    #)\n",
    "\n",
    "    # Show the plot\n",
    "    fig.show()\n",
    "    fig.write_html(\"savings_of_hbai_bhc.html\")\n",
    "\n",
    "\n",
    "\n"
   ]
  },
  {
   "cell_type": "code",
   "execution_count": 10,
   "metadata": {},
   "outputs": [
    {
     "name": "stdout",
     "output_type": "stream",
     "text": [
      "     Financial Year              Savings  Savings categories\n",
      "0              1995       No savings pct           56.535217\n",
      "1              1996       No savings pct           58.441240\n",
      "2              1997       No savings pct           57.657053\n",
      "3              1998       No savings pct           57.394117\n",
      "4              1999       No savings pct           56.607639\n",
      "..              ...                  ...                 ...\n",
      "227            2019  £20,000 or more pct           11.995876\n",
      "228            2020  £20,000 or more pct           12.107126\n",
      "229            2021  £20,000 or more pct                 NaN\n",
      "230            2022  £20,000 or more pct           12.003169\n",
      "231            2023  £20,000 or more pct           13.415221\n",
      "\n",
      "[232 rows x 3 columns]\n"
     ]
    },
    {
     "data": {
      "application/vnd.plotly.v1+json": {
       "config": {
        "plotlyServerURL": "https://plot.ly"
       },
       "data": [
        {
         "customdata": [
          [
           "No savings pct"
          ],
          [
           "No savings pct"
          ],
          [
           "No savings pct"
          ],
          [
           "No savings pct"
          ],
          [
           "No savings pct"
          ],
          [
           "No savings pct"
          ],
          [
           "No savings pct"
          ],
          [
           "No savings pct"
          ],
          [
           "No savings pct"
          ],
          [
           "No savings pct"
          ],
          [
           "No savings pct"
          ],
          [
           "No savings pct"
          ],
          [
           "No savings pct"
          ],
          [
           "No savings pct"
          ],
          [
           "No savings pct"
          ],
          [
           "No savings pct"
          ],
          [
           "No savings pct"
          ],
          [
           "No savings pct"
          ],
          [
           "No savings pct"
          ],
          [
           "No savings pct"
          ],
          [
           "No savings pct"
          ],
          [
           "No savings pct"
          ],
          [
           "No savings pct"
          ],
          [
           "No savings pct"
          ],
          [
           "No savings pct"
          ],
          [
           "No savings pct"
          ],
          [
           "No savings pct"
          ],
          [
           "No savings pct"
          ],
          [
           "No savings pct"
          ]
         ],
         "hovertemplate": "Savings=%{customdata[0]}<br>Year=%{x}<br>Amount of savings=%{y}<extra></extra>",
         "legendgroup": "No savings pct",
         "line": {
          "color": "#636efa",
          "dash": "solid"
         },
         "marker": {
          "symbol": "circle"
         },
         "mode": "lines",
         "name": "No savings pct",
         "orientation": "v",
         "showlegend": true,
         "type": "scatter",
         "x": {
          "bdata": "ywfMB80HzgfPB9AH0QfSB9MH1AfVB9YH1wfYB9kH2gfbB9wH3QfeB98H4AfhB+IH4wfkB+UH5gfnBw==",
          "dtype": "i2"
         },
         "xaxis": "x",
         "y": {
          "bdata": "kO2iAYJETECqXFSQejhNQKNkGVMa1ExAvL8Ba3KyTEBoErobx01MQON5JvoxzUpA1JCFDAKiS0DSdlrYrF1LQCGNlXeaiUtAjWjuzOJUS0BJYe61J+JKQJA/9wGwY0tADK6ma3KXSkA9zNqUmnhKQI01n3WKiUtA/R4MG5dRS0Aimujda3pMQBIhIBHKg01AJx8pfbksT0CymXe/+qhOQEwqSSvWjE9A8S1J9MipTUD08+66iN5NQJuHzAsp701AbBIJjPkzTUCj46o79Is5QAAAAAAAAPh/NF8HYzyDO0C3u96wpC8+QA==",
          "dtype": "f8"
         },
         "yaxis": "y"
        },
        {
         "customdata": [
          [
           "Less than £1,500 pct"
          ],
          [
           "Less than £1,500 pct"
          ],
          [
           "Less than £1,500 pct"
          ],
          [
           "Less than £1,500 pct"
          ],
          [
           "Less than £1,500 pct"
          ],
          [
           "Less than £1,500 pct"
          ],
          [
           "Less than £1,500 pct"
          ],
          [
           "Less than £1,500 pct"
          ],
          [
           "Less than £1,500 pct"
          ],
          [
           "Less than £1,500 pct"
          ],
          [
           "Less than £1,500 pct"
          ],
          [
           "Less than £1,500 pct"
          ],
          [
           "Less than £1,500 pct"
          ],
          [
           "Less than £1,500 pct"
          ],
          [
           "Less than £1,500 pct"
          ],
          [
           "Less than £1,500 pct"
          ],
          [
           "Less than £1,500 pct"
          ],
          [
           "Less than £1,500 pct"
          ],
          [
           "Less than £1,500 pct"
          ],
          [
           "Less than £1,500 pct"
          ],
          [
           "Less than £1,500 pct"
          ],
          [
           "Less than £1,500 pct"
          ],
          [
           "Less than £1,500 pct"
          ],
          [
           "Less than £1,500 pct"
          ],
          [
           "Less than £1,500 pct"
          ],
          [
           "Less than £1,500 pct"
          ],
          [
           "Less than £1,500 pct"
          ],
          [
           "Less than £1,500 pct"
          ],
          [
           "Less than £1,500 pct"
          ]
         ],
         "hovertemplate": "Savings=%{customdata[0]}<br>Year=%{x}<br>Amount of savings=%{y}<extra></extra>",
         "legendgroup": "Less than £1,500 pct",
         "line": {
          "color": "#EF553B",
          "dash": "solid"
         },
         "marker": {
          "symbol": "circle"
         },
         "mode": "lines",
         "name": "Less than £1,500 pct",
         "orientation": "v",
         "showlegend": true,
         "type": "scatter",
         "x": {
          "bdata": "ywfMB80HzgfPB9AH0QfSB9MH1AfVB9YH1wfYB9kH2gfbB9wH3QfeB98H4AfhB+IH4wfkB+UH5gfnBw==",
          "dtype": "i2"
         },
         "xaxis": "x",
         "y": {
          "bdata": "VdY89a5XLkDseFOaKq8wQHW8pONAKjNA1AWVnv4TMkBJqxLhr0wzQAtIY9KUvDVACYbkGPFzM0Dy/+B+LhczQJKOw7lR0jFAMqjLk9EQMUD9h2gzZ38zQHi7z+t5mTNArilJp64ZM0Do9pKwOTgzQM+P43IQDDFANiggwVPSMUAmRAH/Q1wqQArnm48FeCdAI8kAIgg+JUBbkFIdX3wnQGes820PwCJAAfFGjdYjJ0BV9OtZPB0kQLcCmCX82yJASEW5YinSI0CZ1Z8iwhhEQAAAAAAAAPh/NB0c4Jn3QUCu1MyhoF9BQA==",
          "dtype": "f8"
         },
         "yaxis": "y"
        },
        {
         "customdata": [
          [
           "£1,500 but less than £3,000 pct"
          ],
          [
           "£1,500 but less than £3,000 pct"
          ],
          [
           "£1,500 but less than £3,000 pct"
          ],
          [
           "£1,500 but less than £3,000 pct"
          ],
          [
           "£1,500 but less than £3,000 pct"
          ],
          [
           "£1,500 but less than £3,000 pct"
          ],
          [
           "£1,500 but less than £3,000 pct"
          ],
          [
           "£1,500 but less than £3,000 pct"
          ],
          [
           "£1,500 but less than £3,000 pct"
          ],
          [
           "£1,500 but less than £3,000 pct"
          ],
          [
           "£1,500 but less than £3,000 pct"
          ],
          [
           "£1,500 but less than £3,000 pct"
          ],
          [
           "£1,500 but less than £3,000 pct"
          ],
          [
           "£1,500 but less than £3,000 pct"
          ],
          [
           "£1,500 but less than £3,000 pct"
          ],
          [
           "£1,500 but less than £3,000 pct"
          ],
          [
           "£1,500 but less than £3,000 pct"
          ],
          [
           "£1,500 but less than £3,000 pct"
          ],
          [
           "£1,500 but less than £3,000 pct"
          ],
          [
           "£1,500 but less than £3,000 pct"
          ],
          [
           "£1,500 but less than £3,000 pct"
          ],
          [
           "£1,500 but less than £3,000 pct"
          ],
          [
           "£1,500 but less than £3,000 pct"
          ],
          [
           "£1,500 but less than £3,000 pct"
          ],
          [
           "£1,500 but less than £3,000 pct"
          ],
          [
           "£1,500 but less than £3,000 pct"
          ],
          [
           "£1,500 but less than £3,000 pct"
          ],
          [
           "£1,500 but less than £3,000 pct"
          ],
          [
           "£1,500 but less than £3,000 pct"
          ]
         ],
         "hovertemplate": "Savings=%{customdata[0]}<br>Year=%{x}<br>Amount of savings=%{y}<extra></extra>",
         "legendgroup": "£1,500 but less than £3,000 pct",
         "line": {
          "color": "#00cc96",
          "dash": "solid"
         },
         "marker": {
          "symbol": "circle"
         },
         "mode": "lines",
         "name": "£1,500 but less than £3,000 pct",
         "orientation": "v",
         "showlegend": true,
         "type": "scatter",
         "x": {
          "bdata": "ywfMB80HzgfPB9AH0QfSB9MH1AfVB9YH1wfYB9kH2gfbB9wH3QfeB98H4AfhB+IH4wfkB+UH5gfnBw==",
          "dtype": "i2"
         },
         "xaxis": "x",
         "y": {
          "bdata": "+1xieNKIG0CAS0K+dsMXQLSKj5IGEhVAFjpFP+NqF0CQm84wMUYUQHaHFay5gBRA71E9/bOzFEAN/1JMKQsVQO48vbJpTBZAXEL+BTC0FUBj00fqN6sUQA4oTwdZKxNAQizULGhIEUBYBkkXyvoRQEor+9wvhxNAz5NX6l1bFkDtUqYky3IUQHH8h1WxlxZAsMeczne3EUDpNMtCkT8SQJQXpY0izwpA25w8CRSGEUBBmLwHdzYUQFL1Ph49ARJAvdc1x7erEEDi6r/BjY4YQAAAAAAAAPh/Pbk1K3LoHUCcxXEVpzsZQA==",
          "dtype": "f8"
         },
         "yaxis": "y"
        },
        {
         "customdata": [
          [
           "£3,000 but less than £8,000 pct"
          ],
          [
           "£3,000 but less than £8,000 pct"
          ],
          [
           "£3,000 but less than £8,000 pct"
          ],
          [
           "£3,000 but less than £8,000 pct"
          ],
          [
           "£3,000 but less than £8,000 pct"
          ],
          [
           "£3,000 but less than £8,000 pct"
          ],
          [
           "£3,000 but less than £8,000 pct"
          ],
          [
           "£3,000 but less than £8,000 pct"
          ],
          [
           "£3,000 but less than £8,000 pct"
          ],
          [
           "£3,000 but less than £8,000 pct"
          ],
          [
           "£3,000 but less than £8,000 pct"
          ],
          [
           "£3,000 but less than £8,000 pct"
          ],
          [
           "£3,000 but less than £8,000 pct"
          ],
          [
           "£3,000 but less than £8,000 pct"
          ],
          [
           "£3,000 but less than £8,000 pct"
          ],
          [
           "£3,000 but less than £8,000 pct"
          ],
          [
           "£3,000 but less than £8,000 pct"
          ],
          [
           "£3,000 but less than £8,000 pct"
          ],
          [
           "£3,000 but less than £8,000 pct"
          ],
          [
           "£3,000 but less than £8,000 pct"
          ],
          [
           "£3,000 but less than £8,000 pct"
          ],
          [
           "£3,000 but less than £8,000 pct"
          ],
          [
           "£3,000 but less than £8,000 pct"
          ],
          [
           "£3,000 but less than £8,000 pct"
          ],
          [
           "£3,000 but less than £8,000 pct"
          ],
          [
           "£3,000 but less than £8,000 pct"
          ],
          [
           "£3,000 but less than £8,000 pct"
          ],
          [
           "£3,000 but less than £8,000 pct"
          ],
          [
           "£3,000 but less than £8,000 pct"
          ]
         ],
         "hovertemplate": "Savings=%{customdata[0]}<br>Year=%{x}<br>Amount of savings=%{y}<extra></extra>",
         "legendgroup": "£3,000 but less than £8,000 pct",
         "line": {
          "color": "#ab63fa",
          "dash": "solid"
         },
         "marker": {
          "symbol": "circle"
         },
         "mode": "lines",
         "name": "£3,000 but less than £8,000 pct",
         "orientation": "v",
         "showlegend": true,
         "type": "scatter",
         "x": {
          "bdata": "ywfMB80HzgfPB9AH0QfSB9MH1AfVB9YH1wfYB9kH2gfbB9wH3QfeB98H4AfhB+IH4wfkB+UH5gfnBw==",
          "dtype": "i2"
         },
         "xaxis": "x",
         "y": {
          "bdata": "Ba3Hub8wIkCusEfg8SUgQOZYxyu7UB5AWoqVbM3xH0Ay6HxG7VogQLRKqYzLTyFAnK9kvJG/IEDtFX34U0EhQC36SCmsiyJA7LbiFKkVIkArmlcFOGAhQNhw5a1xViBAeaWJJMN+IUAdpe5+1VYiQI2XAzsMcx9AlbagU59kIECzpF5e+2chQDCPHtL0sR5Am1XzcQOwHEDnUezTlDgaQFO84s+6rB5AJIQdWfZ6IUD5f8ChclsgQIVIXXBRyCJAe9gstjDeIEC344XmTFshQAAAAAAAAPh/Bq7N1U2cI0DIuyc72LkfQA==",
          "dtype": "f8"
         },
         "yaxis": "y"
        },
        {
         "customdata": [
          [
           "£8,000 but less than £10,000 pct"
          ],
          [
           "£8,000 but less than £10,000 pct"
          ],
          [
           "£8,000 but less than £10,000 pct"
          ],
          [
           "£8,000 but less than £10,000 pct"
          ],
          [
           "£8,000 but less than £10,000 pct"
          ],
          [
           "£8,000 but less than £10,000 pct"
          ],
          [
           "£8,000 but less than £10,000 pct"
          ],
          [
           "£8,000 but less than £10,000 pct"
          ],
          [
           "£8,000 but less than £10,000 pct"
          ],
          [
           "£8,000 but less than £10,000 pct"
          ],
          [
           "£8,000 but less than £10,000 pct"
          ],
          [
           "£8,000 but less than £10,000 pct"
          ],
          [
           "£8,000 but less than £10,000 pct"
          ],
          [
           "£8,000 but less than £10,000 pct"
          ],
          [
           "£8,000 but less than £10,000 pct"
          ],
          [
           "£8,000 but less than £10,000 pct"
          ],
          [
           "£8,000 but less than £10,000 pct"
          ],
          [
           "£8,000 but less than £10,000 pct"
          ],
          [
           "£8,000 but less than £10,000 pct"
          ],
          [
           "£8,000 but less than £10,000 pct"
          ],
          [
           "£8,000 but less than £10,000 pct"
          ],
          [
           "£8,000 but less than £10,000 pct"
          ],
          [
           "£8,000 but less than £10,000 pct"
          ],
          [
           "£8,000 but less than £10,000 pct"
          ],
          [
           "£8,000 but less than £10,000 pct"
          ],
          [
           "£8,000 but less than £10,000 pct"
          ],
          [
           "£8,000 but less than £10,000 pct"
          ],
          [
           "£8,000 but less than £10,000 pct"
          ],
          [
           "£8,000 but less than £10,000 pct"
          ]
         ],
         "hovertemplate": "Savings=%{customdata[0]}<br>Year=%{x}<br>Amount of savings=%{y}<extra></extra>",
         "legendgroup": "£8,000 but less than £10,000 pct",
         "line": {
          "color": "#FFA15A",
          "dash": "solid"
         },
         "marker": {
          "symbol": "circle"
         },
         "mode": "lines",
         "name": "£8,000 but less than £10,000 pct",
         "orientation": "v",
         "showlegend": true,
         "type": "scatter",
         "x": {
          "bdata": "ywfMB80HzgfPB9AH0QfSB9MH1AfVB9YH1wfYB9kH2gfbB9wH3QfeB98H4AfhB+IH4wfkB+UH5gfnBw==",
          "dtype": "i2"
         },
         "xaxis": "x",
         "y": {
          "bdata": "7nJTiWPt/T+m2/q3ef36P4pavqemw/g/E2Rg2vlB/T8gSA3zOxL6P1+AfLUBTvo/Srl7xXy3AkDIBLYzD7sAQAXtmnAqLP4/DSrxt3jI/z+aHiz4U9gAQPZmnuuJZPs/+epq5Dq4+T9JyioRHkoBQPPapnWY/f8/O9fwVpCcAUA+XkmGgwMAQAmBbMnY4fk/pBGz9h/Z+j/OA7DkfnT5P/nTx71voAFAw7qv4ET++j+xx54UI8z8P4KNo+BwR/4/cT/wxjxIAEBXIH40+58AQAAAAAAAAPh/LaWh2M96/T9flNT+xHsBQA==",
          "dtype": "f8"
         },
         "yaxis": "y"
        },
        {
         "customdata": [
          [
           "£10,000 but less than £16,000 pct"
          ],
          [
           "£10,000 but less than £16,000 pct"
          ],
          [
           "£10,000 but less than £16,000 pct"
          ],
          [
           "£10,000 but less than £16,000 pct"
          ],
          [
           "£10,000 but less than £16,000 pct"
          ],
          [
           "£10,000 but less than £16,000 pct"
          ],
          [
           "£10,000 but less than £16,000 pct"
          ],
          [
           "£10,000 but less than £16,000 pct"
          ],
          [
           "£10,000 but less than £16,000 pct"
          ],
          [
           "£10,000 but less than £16,000 pct"
          ],
          [
           "£10,000 but less than £16,000 pct"
          ],
          [
           "£10,000 but less than £16,000 pct"
          ],
          [
           "£10,000 but less than £16,000 pct"
          ],
          [
           "£10,000 but less than £16,000 pct"
          ],
          [
           "£10,000 but less than £16,000 pct"
          ],
          [
           "£10,000 but less than £16,000 pct"
          ],
          [
           "£10,000 but less than £16,000 pct"
          ],
          [
           "£10,000 but less than £16,000 pct"
          ],
          [
           "£10,000 but less than £16,000 pct"
          ],
          [
           "£10,000 but less than £16,000 pct"
          ],
          [
           "£10,000 but less than £16,000 pct"
          ],
          [
           "£10,000 but less than £16,000 pct"
          ],
          [
           "£10,000 but less than £16,000 pct"
          ],
          [
           "£10,000 but less than £16,000 pct"
          ],
          [
           "£10,000 but less than £16,000 pct"
          ],
          [
           "£10,000 but less than £16,000 pct"
          ],
          [
           "£10,000 but less than £16,000 pct"
          ],
          [
           "£10,000 but less than £16,000 pct"
          ],
          [
           "£10,000 but less than £16,000 pct"
          ]
         ],
         "hovertemplate": "Savings=%{customdata[0]}<br>Year=%{x}<br>Amount of savings=%{y}<extra></extra>",
         "legendgroup": "£10,000 but less than £16,000 pct",
         "line": {
          "color": "#19d3f3",
          "dash": "solid"
         },
         "marker": {
          "symbol": "circle"
         },
         "mode": "lines",
         "name": "£10,000 but less than £16,000 pct",
         "orientation": "v",
         "showlegend": true,
         "type": "scatter",
         "x": {
          "bdata": "ywfMB80HzgfPB9AH0QfSB9MH1AfVB9YH1wfYB9kH2gfbB9wH3QfeB98H4AfhB+IH4wfkB+UH5gfnBw==",
          "dtype": "i2"
         },
         "xaxis": "x",
         "y": {
          "bdata": "P5NlB6AAD0DQSLpSKbMJQH3kADdT0wZArEFN8k4sBkDpx3+1nwYNQA+TnlnmjgdA1FgDU5o6CEDmxM0n8koMQENwt2q89QlAPCqDZV7XEECMxj24pz8NQDACTHDSEQ1ATSu7oFUVEEAyKZLKMX4OQFH8PYuJbxFAycLCemRgD0AyXi25eiwOQLLd+lvaDQ1AxPHB1TawD0A6+yBJPBkMQKy1U360Sw5AZKnWDjbpCECDEuqjsQsQQDPx6DLnwQxAnfHSUonYDEDax+TRPjcMQAAAAAAAAPh/awxeNa0jEECk3PQa6zwOQA==",
          "dtype": "f8"
         },
         "yaxis": "y"
        },
        {
         "customdata": [
          [
           "£16,000 but less than £20,000 pct"
          ],
          [
           "£16,000 but less than £20,000 pct"
          ],
          [
           "£16,000 but less than £20,000 pct"
          ],
          [
           "£16,000 but less than £20,000 pct"
          ],
          [
           "£16,000 but less than £20,000 pct"
          ],
          [
           "£16,000 but less than £20,000 pct"
          ],
          [
           "£16,000 but less than £20,000 pct"
          ],
          [
           "£16,000 but less than £20,000 pct"
          ],
          [
           "£16,000 but less than £20,000 pct"
          ],
          [
           "£16,000 but less than £20,000 pct"
          ],
          [
           "£16,000 but less than £20,000 pct"
          ],
          [
           "£16,000 but less than £20,000 pct"
          ],
          [
           "£16,000 but less than £20,000 pct"
          ],
          [
           "£16,000 but less than £20,000 pct"
          ],
          [
           "£16,000 but less than £20,000 pct"
          ],
          [
           "£16,000 but less than £20,000 pct"
          ],
          [
           "£16,000 but less than £20,000 pct"
          ],
          [
           "£16,000 but less than £20,000 pct"
          ],
          [
           "£16,000 but less than £20,000 pct"
          ],
          [
           "£16,000 but less than £20,000 pct"
          ],
          [
           "£16,000 but less than £20,000 pct"
          ],
          [
           "£16,000 but less than £20,000 pct"
          ],
          [
           "£16,000 but less than £20,000 pct"
          ],
          [
           "£16,000 but less than £20,000 pct"
          ],
          [
           "£16,000 but less than £20,000 pct"
          ],
          [
           "£16,000 but less than £20,000 pct"
          ],
          [
           "£16,000 but less than £20,000 pct"
          ],
          [
           "£16,000 but less than £20,000 pct"
          ],
          [
           "£16,000 but less than £20,000 pct"
          ]
         ],
         "hovertemplate": "Savings=%{customdata[0]}<br>Year=%{x}<br>Amount of savings=%{y}<extra></extra>",
         "legendgroup": "£16,000 but less than £20,000 pct",
         "line": {
          "color": "#FF6692",
          "dash": "solid"
         },
         "marker": {
          "symbol": "circle"
         },
         "mode": "lines",
         "name": "£16,000 but less than £20,000 pct",
         "orientation": "v",
         "showlegend": true,
         "type": "scatter",
         "x": {
          "bdata": "ywfMB80HzgfPB9AH0QfSB9MH1AfVB9YH1wfYB9kH2gfbB9wH3QfeB98H4AfhB+IH4wfkB+UH5gfnBw==",
          "dtype": "i2"
         },
         "xaxis": "x",
         "y": {
          "bdata": "OAa3jiyW9z+r9ZGQ5if4Px5ORbGopvI/jSRtWl199z/3Ir9FHbT1Pyf7fZgZDfQ/jAqcx27T8T+CjEbM7qX5P6Mt+tOEZfc/uEzzhVZd+D8yZb2Kd5n3P8ElTL+Hsfg/L1srqO5F/D8QQtEtEin6P1KOmoFSu/0/77jDcjdv9D9qoCkE3c36P1pUY1XG8fc/JgHcHpq6+D90Abs3JSDxPyQaEMvEFfQ/7hjqiyZU+D9A1Vru4Nn1P+Zen7Mpg/Q/sJatlnYe9z/FzUrHm677PwAAAAAAAPh/A5yKp0Y+9j9hUnMMhCX3Pw==",
          "dtype": "f8"
         },
         "yaxis": "y"
        },
        {
         "customdata": [
          [
           "£20,000 or more pct"
          ],
          [
           "£20,000 or more pct"
          ],
          [
           "£20,000 or more pct"
          ],
          [
           "£20,000 or more pct"
          ],
          [
           "£20,000 or more pct"
          ],
          [
           "£20,000 or more pct"
          ],
          [
           "£20,000 or more pct"
          ],
          [
           "£20,000 or more pct"
          ],
          [
           "£20,000 or more pct"
          ],
          [
           "£20,000 or more pct"
          ],
          [
           "£20,000 or more pct"
          ],
          [
           "£20,000 or more pct"
          ],
          [
           "£20,000 or more pct"
          ],
          [
           "£20,000 or more pct"
          ],
          [
           "£20,000 or more pct"
          ],
          [
           "£20,000 or more pct"
          ],
          [
           "£20,000 or more pct"
          ],
          [
           "£20,000 or more pct"
          ],
          [
           "£20,000 or more pct"
          ],
          [
           "£20,000 or more pct"
          ],
          [
           "£20,000 or more pct"
          ],
          [
           "£20,000 or more pct"
          ],
          [
           "£20,000 or more pct"
          ],
          [
           "£20,000 or more pct"
          ],
          [
           "£20,000 or more pct"
          ],
          [
           "£20,000 or more pct"
          ],
          [
           "£20,000 or more pct"
          ],
          [
           "£20,000 or more pct"
          ],
          [
           "£20,000 or more pct"
          ]
         ],
         "hovertemplate": "Savings=%{customdata[0]}<br>Year=%{x}<br>Amount of savings=%{y}<extra></extra>",
         "legendgroup": "£20,000 or more pct",
         "line": {
          "color": "#B6E880",
          "dash": "solid"
         },
         "marker": {
          "symbol": "circle"
         },
         "mode": "lines",
         "name": "£20,000 or more pct",
         "orientation": "v",
         "showlegend": true,
         "type": "scatter",
         "x": {
          "bdata": "ywfMB80HzgfPB9AH0QfSB9MH1AfVB9YH1wfYB9kH2gfbB9wH3QfeB98H4AfhB+IH4wfkB+UH5gfnBw==",
          "dtype": "i2"
         },
         "xaxis": "x",
         "y": {
          "bdata": "6cfHEgxhFEBlMb3ZOc0RQBOpiagqDxNAXyNpO8R5EkD0VCm3Fe4QQHoLiR+SJRRAZCQUhGz/FEDHloejkTsUQJ8sdVDZphZAqyKe5E5VGEAjgg/TIZMWQJdnDDvuFRdA3rTdi+MCHUCgp2QIY0MaQOr6aiZqqxtADav6SxNrGUACokdo8DIhQMKcN50UViJA1UzwUM98IED9pZ1Dv0ojQK0gJDGwhCJA25+PUmpSI0DeMmVCWZcjQNWBdoyiFCRAkS0UeuP9J0Bo9UI82TYoQAAAAAAAAPh/xLNjY58BKECZrsHml9QqQA==",
          "dtype": "f8"
         },
         "yaxis": "y"
        }
       ],
       "layout": {
        "height": 600,
        "hovermode": "x unified",
        "legend": {
         "title": {
          "text": "Savings"
         },
         "tracegroupgap": 0
        },
        "template": {
         "data": {
          "bar": [
           {
            "error_x": {
             "color": "#2a3f5f"
            },
            "error_y": {
             "color": "#2a3f5f"
            },
            "marker": {
             "line": {
              "color": "#E5ECF6",
              "width": 0.5
             },
             "pattern": {
              "fillmode": "overlay",
              "size": 10,
              "solidity": 0.2
             }
            },
            "type": "bar"
           }
          ],
          "barpolar": [
           {
            "marker": {
             "line": {
              "color": "#E5ECF6",
              "width": 0.5
             },
             "pattern": {
              "fillmode": "overlay",
              "size": 10,
              "solidity": 0.2
             }
            },
            "type": "barpolar"
           }
          ],
          "carpet": [
           {
            "aaxis": {
             "endlinecolor": "#2a3f5f",
             "gridcolor": "white",
             "linecolor": "white",
             "minorgridcolor": "white",
             "startlinecolor": "#2a3f5f"
            },
            "baxis": {
             "endlinecolor": "#2a3f5f",
             "gridcolor": "white",
             "linecolor": "white",
             "minorgridcolor": "white",
             "startlinecolor": "#2a3f5f"
            },
            "type": "carpet"
           }
          ],
          "choropleth": [
           {
            "colorbar": {
             "outlinewidth": 0,
             "ticks": ""
            },
            "type": "choropleth"
           }
          ],
          "contour": [
           {
            "colorbar": {
             "outlinewidth": 0,
             "ticks": ""
            },
            "colorscale": [
             [
              0,
              "#0d0887"
             ],
             [
              0.1111111111111111,
              "#46039f"
             ],
             [
              0.2222222222222222,
              "#7201a8"
             ],
             [
              0.3333333333333333,
              "#9c179e"
             ],
             [
              0.4444444444444444,
              "#bd3786"
             ],
             [
              0.5555555555555556,
              "#d8576b"
             ],
             [
              0.6666666666666666,
              "#ed7953"
             ],
             [
              0.7777777777777778,
              "#fb9f3a"
             ],
             [
              0.8888888888888888,
              "#fdca26"
             ],
             [
              1,
              "#f0f921"
             ]
            ],
            "type": "contour"
           }
          ],
          "contourcarpet": [
           {
            "colorbar": {
             "outlinewidth": 0,
             "ticks": ""
            },
            "type": "contourcarpet"
           }
          ],
          "heatmap": [
           {
            "colorbar": {
             "outlinewidth": 0,
             "ticks": ""
            },
            "colorscale": [
             [
              0,
              "#0d0887"
             ],
             [
              0.1111111111111111,
              "#46039f"
             ],
             [
              0.2222222222222222,
              "#7201a8"
             ],
             [
              0.3333333333333333,
              "#9c179e"
             ],
             [
              0.4444444444444444,
              "#bd3786"
             ],
             [
              0.5555555555555556,
              "#d8576b"
             ],
             [
              0.6666666666666666,
              "#ed7953"
             ],
             [
              0.7777777777777778,
              "#fb9f3a"
             ],
             [
              0.8888888888888888,
              "#fdca26"
             ],
             [
              1,
              "#f0f921"
             ]
            ],
            "type": "heatmap"
           }
          ],
          "histogram": [
           {
            "marker": {
             "pattern": {
              "fillmode": "overlay",
              "size": 10,
              "solidity": 0.2
             }
            },
            "type": "histogram"
           }
          ],
          "histogram2d": [
           {
            "colorbar": {
             "outlinewidth": 0,
             "ticks": ""
            },
            "colorscale": [
             [
              0,
              "#0d0887"
             ],
             [
              0.1111111111111111,
              "#46039f"
             ],
             [
              0.2222222222222222,
              "#7201a8"
             ],
             [
              0.3333333333333333,
              "#9c179e"
             ],
             [
              0.4444444444444444,
              "#bd3786"
             ],
             [
              0.5555555555555556,
              "#d8576b"
             ],
             [
              0.6666666666666666,
              "#ed7953"
             ],
             [
              0.7777777777777778,
              "#fb9f3a"
             ],
             [
              0.8888888888888888,
              "#fdca26"
             ],
             [
              1,
              "#f0f921"
             ]
            ],
            "type": "histogram2d"
           }
          ],
          "histogram2dcontour": [
           {
            "colorbar": {
             "outlinewidth": 0,
             "ticks": ""
            },
            "colorscale": [
             [
              0,
              "#0d0887"
             ],
             [
              0.1111111111111111,
              "#46039f"
             ],
             [
              0.2222222222222222,
              "#7201a8"
             ],
             [
              0.3333333333333333,
              "#9c179e"
             ],
             [
              0.4444444444444444,
              "#bd3786"
             ],
             [
              0.5555555555555556,
              "#d8576b"
             ],
             [
              0.6666666666666666,
              "#ed7953"
             ],
             [
              0.7777777777777778,
              "#fb9f3a"
             ],
             [
              0.8888888888888888,
              "#fdca26"
             ],
             [
              1,
              "#f0f921"
             ]
            ],
            "type": "histogram2dcontour"
           }
          ],
          "mesh3d": [
           {
            "colorbar": {
             "outlinewidth": 0,
             "ticks": ""
            },
            "type": "mesh3d"
           }
          ],
          "parcoords": [
           {
            "line": {
             "colorbar": {
              "outlinewidth": 0,
              "ticks": ""
             }
            },
            "type": "parcoords"
           }
          ],
          "pie": [
           {
            "automargin": true,
            "type": "pie"
           }
          ],
          "scatter": [
           {
            "fillpattern": {
             "fillmode": "overlay",
             "size": 10,
             "solidity": 0.2
            },
            "type": "scatter"
           }
          ],
          "scatter3d": [
           {
            "line": {
             "colorbar": {
              "outlinewidth": 0,
              "ticks": ""
             }
            },
            "marker": {
             "colorbar": {
              "outlinewidth": 0,
              "ticks": ""
             }
            },
            "type": "scatter3d"
           }
          ],
          "scattercarpet": [
           {
            "marker": {
             "colorbar": {
              "outlinewidth": 0,
              "ticks": ""
             }
            },
            "type": "scattercarpet"
           }
          ],
          "scattergeo": [
           {
            "marker": {
             "colorbar": {
              "outlinewidth": 0,
              "ticks": ""
             }
            },
            "type": "scattergeo"
           }
          ],
          "scattergl": [
           {
            "marker": {
             "colorbar": {
              "outlinewidth": 0,
              "ticks": ""
             }
            },
            "type": "scattergl"
           }
          ],
          "scattermap": [
           {
            "marker": {
             "colorbar": {
              "outlinewidth": 0,
              "ticks": ""
             }
            },
            "type": "scattermap"
           }
          ],
          "scattermapbox": [
           {
            "marker": {
             "colorbar": {
              "outlinewidth": 0,
              "ticks": ""
             }
            },
            "type": "scattermapbox"
           }
          ],
          "scatterpolar": [
           {
            "marker": {
             "colorbar": {
              "outlinewidth": 0,
              "ticks": ""
             }
            },
            "type": "scatterpolar"
           }
          ],
          "scatterpolargl": [
           {
            "marker": {
             "colorbar": {
              "outlinewidth": 0,
              "ticks": ""
             }
            },
            "type": "scatterpolargl"
           }
          ],
          "scatterternary": [
           {
            "marker": {
             "colorbar": {
              "outlinewidth": 0,
              "ticks": ""
             }
            },
            "type": "scatterternary"
           }
          ],
          "surface": [
           {
            "colorbar": {
             "outlinewidth": 0,
             "ticks": ""
            },
            "colorscale": [
             [
              0,
              "#0d0887"
             ],
             [
              0.1111111111111111,
              "#46039f"
             ],
             [
              0.2222222222222222,
              "#7201a8"
             ],
             [
              0.3333333333333333,
              "#9c179e"
             ],
             [
              0.4444444444444444,
              "#bd3786"
             ],
             [
              0.5555555555555556,
              "#d8576b"
             ],
             [
              0.6666666666666666,
              "#ed7953"
             ],
             [
              0.7777777777777778,
              "#fb9f3a"
             ],
             [
              0.8888888888888888,
              "#fdca26"
             ],
             [
              1,
              "#f0f921"
             ]
            ],
            "type": "surface"
           }
          ],
          "table": [
           {
            "cells": {
             "fill": {
              "color": "#EBF0F8"
             },
             "line": {
              "color": "white"
             }
            },
            "header": {
             "fill": {
              "color": "#C8D4E3"
             },
             "line": {
              "color": "white"
             }
            },
            "type": "table"
           }
          ]
         },
         "layout": {
          "annotationdefaults": {
           "arrowcolor": "#2a3f5f",
           "arrowhead": 0,
           "arrowwidth": 1
          },
          "autotypenumbers": "strict",
          "coloraxis": {
           "colorbar": {
            "outlinewidth": 0,
            "ticks": ""
           }
          },
          "colorscale": {
           "diverging": [
            [
             0,
             "#8e0152"
            ],
            [
             0.1,
             "#c51b7d"
            ],
            [
             0.2,
             "#de77ae"
            ],
            [
             0.3,
             "#f1b6da"
            ],
            [
             0.4,
             "#fde0ef"
            ],
            [
             0.5,
             "#f7f7f7"
            ],
            [
             0.6,
             "#e6f5d0"
            ],
            [
             0.7,
             "#b8e186"
            ],
            [
             0.8,
             "#7fbc41"
            ],
            [
             0.9,
             "#4d9221"
            ],
            [
             1,
             "#276419"
            ]
           ],
           "sequential": [
            [
             0,
             "#0d0887"
            ],
            [
             0.1111111111111111,
             "#46039f"
            ],
            [
             0.2222222222222222,
             "#7201a8"
            ],
            [
             0.3333333333333333,
             "#9c179e"
            ],
            [
             0.4444444444444444,
             "#bd3786"
            ],
            [
             0.5555555555555556,
             "#d8576b"
            ],
            [
             0.6666666666666666,
             "#ed7953"
            ],
            [
             0.7777777777777778,
             "#fb9f3a"
            ],
            [
             0.8888888888888888,
             "#fdca26"
            ],
            [
             1,
             "#f0f921"
            ]
           ],
           "sequentialminus": [
            [
             0,
             "#0d0887"
            ],
            [
             0.1111111111111111,
             "#46039f"
            ],
            [
             0.2222222222222222,
             "#7201a8"
            ],
            [
             0.3333333333333333,
             "#9c179e"
            ],
            [
             0.4444444444444444,
             "#bd3786"
            ],
            [
             0.5555555555555556,
             "#d8576b"
            ],
            [
             0.6666666666666666,
             "#ed7953"
            ],
            [
             0.7777777777777778,
             "#fb9f3a"
            ],
            [
             0.8888888888888888,
             "#fdca26"
            ],
            [
             1,
             "#f0f921"
            ]
           ]
          },
          "colorway": [
           "#636efa",
           "#EF553B",
           "#00cc96",
           "#ab63fa",
           "#FFA15A",
           "#19d3f3",
           "#FF6692",
           "#B6E880",
           "#FF97FF",
           "#FECB52"
          ],
          "font": {
           "color": "#2a3f5f"
          },
          "geo": {
           "bgcolor": "white",
           "lakecolor": "white",
           "landcolor": "#E5ECF6",
           "showlakes": true,
           "showland": true,
           "subunitcolor": "white"
          },
          "hoverlabel": {
           "align": "left"
          },
          "hovermode": "closest",
          "mapbox": {
           "style": "light"
          },
          "paper_bgcolor": "white",
          "plot_bgcolor": "#E5ECF6",
          "polar": {
           "angularaxis": {
            "gridcolor": "white",
            "linecolor": "white",
            "ticks": ""
           },
           "bgcolor": "#E5ECF6",
           "radialaxis": {
            "gridcolor": "white",
            "linecolor": "white",
            "ticks": ""
           }
          },
          "scene": {
           "xaxis": {
            "backgroundcolor": "#E5ECF6",
            "gridcolor": "white",
            "gridwidth": 2,
            "linecolor": "white",
            "showbackground": true,
            "ticks": "",
            "zerolinecolor": "white"
           },
           "yaxis": {
            "backgroundcolor": "#E5ECF6",
            "gridcolor": "white",
            "gridwidth": 2,
            "linecolor": "white",
            "showbackground": true,
            "ticks": "",
            "zerolinecolor": "white"
           },
           "zaxis": {
            "backgroundcolor": "#E5ECF6",
            "gridcolor": "white",
            "gridwidth": 2,
            "linecolor": "white",
            "showbackground": true,
            "ticks": "",
            "zerolinecolor": "white"
           }
          },
          "shapedefaults": {
           "line": {
            "color": "#2a3f5f"
           }
          },
          "ternary": {
           "aaxis": {
            "gridcolor": "white",
            "linecolor": "white",
            "ticks": ""
           },
           "baxis": {
            "gridcolor": "white",
            "linecolor": "white",
            "ticks": ""
           },
           "bgcolor": "#E5ECF6",
           "caxis": {
            "gridcolor": "white",
            "linecolor": "white",
            "ticks": ""
           }
          },
          "title": {
           "x": 0.05
          },
          "xaxis": {
           "automargin": true,
           "gridcolor": "white",
           "linecolor": "white",
           "ticks": "",
           "title": {
            "standoff": 15
           },
           "zerolinecolor": "white",
           "zerolinewidth": 2
          },
          "yaxis": {
           "automargin": true,
           "gridcolor": "white",
           "linecolor": "white",
           "ticks": "",
           "title": {
            "standoff": 15
           },
           "zerolinecolor": "white",
           "zerolinewidth": 2
          }
         }
        },
        "title": {
         "text": "Savings of  Low income Populations  BHC , 1994-2023"
        },
        "width": 1200,
        "xaxis": {
         "anchor": "y",
         "domain": [
          0,
          1
         ],
         "title": {
          "text": "Year"
         }
        },
        "yaxis": {
         "anchor": "x",
         "domain": [
          0,
          1
         ],
         "title": {
          "text": "Pct of  Low income population with savings"
         }
        }
       }
      }
     },
     "metadata": {},
     "output_type": "display_data"
    }
   ],
   "source": [
    "savings_categories.remove(\"Total\") if \"Total\" in savings_categories else None\n",
    "plot_hbai_trends(BHC, savings_categories, True)\n"
   ]
  },
  {
   "cell_type": "code",
   "execution_count": 11,
   "metadata": {},
   "outputs": [
    {
     "name": "stdout",
     "output_type": "stream",
     "text": [
      "     Financial Year              Savings  Savings categories\n",
      "0              1995       No savings pct           28.711906\n",
      "1              1996       No savings pct           30.842440\n",
      "2              1997       No savings pct           27.702163\n",
      "3              1998       No savings pct           27.791956\n",
      "4              1999       No savings pct           26.942486\n",
      "..              ...                  ...                 ...\n",
      "227            2019  £20,000 or more pct           20.095491\n",
      "228            2020  £20,000 or more pct           22.360551\n",
      "229            2021  £20,000 or more pct                 NaN\n",
      "230            2022  £20,000 or more pct           24.317262\n",
      "231            2023  £20,000 or more pct           24.919778\n",
      "\n",
      "[232 rows x 3 columns]\n"
     ]
    },
    {
     "data": {
      "application/vnd.plotly.v1+json": {
       "config": {
        "plotlyServerURL": "https://plot.ly"
       },
       "data": [
        {
         "customdata": [
          [
           "No savings pct"
          ],
          [
           "No savings pct"
          ],
          [
           "No savings pct"
          ],
          [
           "No savings pct"
          ],
          [
           "No savings pct"
          ],
          [
           "No savings pct"
          ],
          [
           "No savings pct"
          ],
          [
           "No savings pct"
          ],
          [
           "No savings pct"
          ],
          [
           "No savings pct"
          ],
          [
           "No savings pct"
          ],
          [
           "No savings pct"
          ],
          [
           "No savings pct"
          ],
          [
           "No savings pct"
          ],
          [
           "No savings pct"
          ],
          [
           "No savings pct"
          ],
          [
           "No savings pct"
          ],
          [
           "No savings pct"
          ],
          [
           "No savings pct"
          ],
          [
           "No savings pct"
          ],
          [
           "No savings pct"
          ],
          [
           "No savings pct"
          ],
          [
           "No savings pct"
          ],
          [
           "No savings pct"
          ],
          [
           "No savings pct"
          ],
          [
           "No savings pct"
          ],
          [
           "No savings pct"
          ],
          [
           "No savings pct"
          ],
          [
           "No savings pct"
          ]
         ],
         "hovertemplate": "Savings=%{customdata[0]}<br>Year=%{x}<br>Amount of savings=%{y}<extra></extra>",
         "legendgroup": "No savings pct",
         "line": {
          "color": "#636efa",
          "dash": "solid"
         },
         "marker": {
          "symbol": "circle"
         },
         "mode": "lines",
         "name": "No savings pct",
         "orientation": "v",
         "showlegend": true,
         "type": "scatter",
         "x": {
          "bdata": "ywfMB80HzgfPB9AH0QfSB9MH1AfVB9YH1wfYB9kH2gfbB9wH3QfeB98H4AfhB+IH4wfkB+UH5gfnBw==",
          "dtype": "i2"
         },
         "xaxis": "x",
         "y": {
          "bdata": "3RiXeD+2PEB0/vwhqtc+QN4xAuzAsztAy9+GnL3KO0B4Q027RvE6QOIqm9I6DDlAVvxMUXcCOkAd3ncom4A7QL37eZEP2ztAbJSrOTbrO0CW9Rg0Qv87QHjCm39olTxAOuMC5KrjPEBeU8KFVn07QEzjZd8bsjxAUiIlATj4P0B8ke2xyQVBQCswkV4DakFAKdtYzT/YQkDuBfxv2kxDQGQlQ1m+kEJA4V3aQbjMQUB6EFUGbg9DQKrDmkXkI0NAq7yDnlTxQkCbZUyQtncpQAAAAAAAAPh/1iDU2HyBLEDtJm+KZwswQA==",
          "dtype": "f8"
         },
         "yaxis": "y"
        },
        {
         "customdata": [
          [
           "Less than £1,500 pct"
          ],
          [
           "Less than £1,500 pct"
          ],
          [
           "Less than £1,500 pct"
          ],
          [
           "Less than £1,500 pct"
          ],
          [
           "Less than £1,500 pct"
          ],
          [
           "Less than £1,500 pct"
          ],
          [
           "Less than £1,500 pct"
          ],
          [
           "Less than £1,500 pct"
          ],
          [
           "Less than £1,500 pct"
          ],
          [
           "Less than £1,500 pct"
          ],
          [
           "Less than £1,500 pct"
          ],
          [
           "Less than £1,500 pct"
          ],
          [
           "Less than £1,500 pct"
          ],
          [
           "Less than £1,500 pct"
          ],
          [
           "Less than £1,500 pct"
          ],
          [
           "Less than £1,500 pct"
          ],
          [
           "Less than £1,500 pct"
          ],
          [
           "Less than £1,500 pct"
          ],
          [
           "Less than £1,500 pct"
          ],
          [
           "Less than £1,500 pct"
          ],
          [
           "Less than £1,500 pct"
          ],
          [
           "Less than £1,500 pct"
          ],
          [
           "Less than £1,500 pct"
          ],
          [
           "Less than £1,500 pct"
          ],
          [
           "Less than £1,500 pct"
          ],
          [
           "Less than £1,500 pct"
          ],
          [
           "Less than £1,500 pct"
          ],
          [
           "Less than £1,500 pct"
          ],
          [
           "Less than £1,500 pct"
          ]
         ],
         "hovertemplate": "Savings=%{customdata[0]}<br>Year=%{x}<br>Amount of savings=%{y}<extra></extra>",
         "legendgroup": "Less than £1,500 pct",
         "line": {
          "color": "#EF553B",
          "dash": "solid"
         },
         "marker": {
          "symbol": "circle"
         },
         "mode": "lines",
         "name": "Less than £1,500 pct",
         "orientation": "v",
         "showlegend": true,
         "type": "scatter",
         "x": {
          "bdata": "ywfMB80HzgfPB9AH0QfSB9MH1AfVB9YH1wfYB9kH2gfbB9wH3QfeB98H4AfhB+IH4wfkB+UH5gfnBw==",
          "dtype": "i2"
         },
         "xaxis": "x",
         "y": {
          "bdata": "N1gHR6KxM0APn+n8CQA1QO+xAFEm5DZAx1jD7N8YOEAJXpXdwn84QF5/0B+jizlAPg1DxcoEOUCSkF4rlL43QHbwJad1GjZAM34sj+MTNUBc07OXHH83QFJKTFnUiDZA5ecskrYDNkBxe0a1f2I1QNaIy2/yTzNA7w/TH0S0M0DErtlPqIgvQBgKDbqt6C1Ancbp2u3uK0DwG0DhYuYpQJ5Y11ut9SdArChtdEKpKkDyLUG7DPkoQN8aAWao4yZAXZFmJ2F9J0DTLFtjWRs/QAAAAAAAAPh/003AXwfCOkDCLmJCROI6QA==",
          "dtype": "f8"
         },
         "yaxis": "y"
        },
        {
         "customdata": [
          [
           "£1,500 but less than £3,000 pct"
          ],
          [
           "£1,500 but less than £3,000 pct"
          ],
          [
           "£1,500 but less than £3,000 pct"
          ],
          [
           "£1,500 but less than £3,000 pct"
          ],
          [
           "£1,500 but less than £3,000 pct"
          ],
          [
           "£1,500 but less than £3,000 pct"
          ],
          [
           "£1,500 but less than £3,000 pct"
          ],
          [
           "£1,500 but less than £3,000 pct"
          ],
          [
           "£1,500 but less than £3,000 pct"
          ],
          [
           "£1,500 but less than £3,000 pct"
          ],
          [
           "£1,500 but less than £3,000 pct"
          ],
          [
           "£1,500 but less than £3,000 pct"
          ],
          [
           "£1,500 but less than £3,000 pct"
          ],
          [
           "£1,500 but less than £3,000 pct"
          ],
          [
           "£1,500 but less than £3,000 pct"
          ],
          [
           "£1,500 but less than £3,000 pct"
          ],
          [
           "£1,500 but less than £3,000 pct"
          ],
          [
           "£1,500 but less than £3,000 pct"
          ],
          [
           "£1,500 but less than £3,000 pct"
          ],
          [
           "£1,500 but less than £3,000 pct"
          ],
          [
           "£1,500 but less than £3,000 pct"
          ],
          [
           "£1,500 but less than £3,000 pct"
          ],
          [
           "£1,500 but less than £3,000 pct"
          ],
          [
           "£1,500 but less than £3,000 pct"
          ],
          [
           "£1,500 but less than £3,000 pct"
          ],
          [
           "£1,500 but less than £3,000 pct"
          ],
          [
           "£1,500 but less than £3,000 pct"
          ],
          [
           "£1,500 but less than £3,000 pct"
          ],
          [
           "£1,500 but less than £3,000 pct"
          ]
         ],
         "hovertemplate": "Savings=%{customdata[0]}<br>Year=%{x}<br>Amount of savings=%{y}<extra></extra>",
         "legendgroup": "£1,500 but less than £3,000 pct",
         "line": {
          "color": "#00cc96",
          "dash": "solid"
         },
         "marker": {
          "symbol": "circle"
         },
         "mode": "lines",
         "name": "£1,500 but less than £3,000 pct",
         "orientation": "v",
         "showlegend": true,
         "type": "scatter",
         "x": {
          "bdata": "ywfMB80HzgfPB9AH0QfSB9MH1AfVB9YH1wfYB9kH2gfbB9wH3QfeB98H4AfhB+IH4wfkB+UH5gfnBw==",
          "dtype": "i2"
         },
         "xaxis": "x",
         "y": {
          "bdata": "0Ft2pQelI0CfZ4RuR/AjQG0Rr0FEoiNA97HEXhQMIkC++VBhA6kgQIc4FPJ6wSBAov2RkeZ3H0AxRnsldo4gQO92f3pjdiFAH9tsiTN9IUD1u9aEvr0eQN8gQMMOVx1AVkWt2Le2HEAixfAWKIMcQB4MGD9Ylx1AFATBNFLKHEBzmKJdVkwdQELLCXJGEhxA3oLn1sT6GkCXz+58L8UYQNJu7mUsVRtAG/pry0J0G0C9lYYxNAUcQDCA0ZeJ2BtAL/DHsscgG0DfgfMt+iQhQAAAAAAAAPh/39t+aG4xIEByv6vwx9gdQA==",
          "dtype": "f8"
         },
         "yaxis": "y"
        },
        {
         "customdata": [
          [
           "£3,000 but less than £8,000 pct"
          ],
          [
           "£3,000 but less than £8,000 pct"
          ],
          [
           "£3,000 but less than £8,000 pct"
          ],
          [
           "£3,000 but less than £8,000 pct"
          ],
          [
           "£3,000 but less than £8,000 pct"
          ],
          [
           "£3,000 but less than £8,000 pct"
          ],
          [
           "£3,000 but less than £8,000 pct"
          ],
          [
           "£3,000 but less than £8,000 pct"
          ],
          [
           "£3,000 but less than £8,000 pct"
          ],
          [
           "£3,000 but less than £8,000 pct"
          ],
          [
           "£3,000 but less than £8,000 pct"
          ],
          [
           "£3,000 but less than £8,000 pct"
          ],
          [
           "£3,000 but less than £8,000 pct"
          ],
          [
           "£3,000 but less than £8,000 pct"
          ],
          [
           "£3,000 but less than £8,000 pct"
          ],
          [
           "£3,000 but less than £8,000 pct"
          ],
          [
           "£3,000 but less than £8,000 pct"
          ],
          [
           "£3,000 but less than £8,000 pct"
          ],
          [
           "£3,000 but less than £8,000 pct"
          ],
          [
           "£3,000 but less than £8,000 pct"
          ],
          [
           "£3,000 but less than £8,000 pct"
          ],
          [
           "£3,000 but less than £8,000 pct"
          ],
          [
           "£3,000 but less than £8,000 pct"
          ],
          [
           "£3,000 but less than £8,000 pct"
          ],
          [
           "£3,000 but less than £8,000 pct"
          ],
          [
           "£3,000 but less than £8,000 pct"
          ],
          [
           "£3,000 but less than £8,000 pct"
          ],
          [
           "£3,000 but less than £8,000 pct"
          ],
          [
           "£3,000 but less than £8,000 pct"
          ]
         ],
         "hovertemplate": "Savings=%{customdata[0]}<br>Year=%{x}<br>Amount of savings=%{y}<extra></extra>",
         "legendgroup": "£3,000 but less than £8,000 pct",
         "line": {
          "color": "#ab63fa",
          "dash": "solid"
         },
         "marker": {
          "symbol": "circle"
         },
         "mode": "lines",
         "name": "£3,000 but less than £8,000 pct",
         "orientation": "v",
         "showlegend": true,
         "type": "scatter",
         "x": {
          "bdata": "ywfMB80HzgfPB9AH0QfSB9MH1AfVB9YH1wfYB9kH2gfbB9wH3QfeB98H4AfhB+IH4wfkB+UH5gfnBw==",
          "dtype": "i2"
         },
         "xaxis": "x",
         "y": {
          "bdata": "qCtTrzkBLUBbM20R/4ksQBVTXKI26SxA2kItP/L7K0AfynixCw4sQC3u7iowzixAX44kdDqoLED9Z2PBLqssQPd7m3qGUC5A69Pc89o2L0CGKO2x174rQLINsOKUEixAAaUG5FWfK0DoFuNU/EEsQGDf1PWWZSxABju3vn/hK0Ax2P7gRjAqQOAdW7hw0ihA/QEqMfhxKEAtyb0x3esoQFLwy8ouzilAidKEPvIdKkChaL4ZycIoQMsmTRDk2ShAyeyRlH8tKUCUwrGF7oEqQAAAAAAAAPh/AH27/XfIK0C8Roolt9IoQA==",
          "dtype": "f8"
         },
         "yaxis": "y"
        },
        {
         "customdata": [
          [
           "£8,000 but less than £10,000 pct"
          ],
          [
           "£8,000 but less than £10,000 pct"
          ],
          [
           "£8,000 but less than £10,000 pct"
          ],
          [
           "£8,000 but less than £10,000 pct"
          ],
          [
           "£8,000 but less than £10,000 pct"
          ],
          [
           "£8,000 but less than £10,000 pct"
          ],
          [
           "£8,000 but less than £10,000 pct"
          ],
          [
           "£8,000 but less than £10,000 pct"
          ],
          [
           "£8,000 but less than £10,000 pct"
          ],
          [
           "£8,000 but less than £10,000 pct"
          ],
          [
           "£8,000 but less than £10,000 pct"
          ],
          [
           "£8,000 but less than £10,000 pct"
          ],
          [
           "£8,000 but less than £10,000 pct"
          ],
          [
           "£8,000 but less than £10,000 pct"
          ],
          [
           "£8,000 but less than £10,000 pct"
          ],
          [
           "£8,000 but less than £10,000 pct"
          ],
          [
           "£8,000 but less than £10,000 pct"
          ],
          [
           "£8,000 but less than £10,000 pct"
          ],
          [
           "£8,000 but less than £10,000 pct"
          ],
          [
           "£8,000 but less than £10,000 pct"
          ],
          [
           "£8,000 but less than £10,000 pct"
          ],
          [
           "£8,000 but less than £10,000 pct"
          ],
          [
           "£8,000 but less than £10,000 pct"
          ],
          [
           "£8,000 but less than £10,000 pct"
          ],
          [
           "£8,000 but less than £10,000 pct"
          ],
          [
           "£8,000 but less than £10,000 pct"
          ],
          [
           "£8,000 but less than £10,000 pct"
          ],
          [
           "£8,000 but less than £10,000 pct"
          ],
          [
           "£8,000 but less than £10,000 pct"
          ]
         ],
         "hovertemplate": "Savings=%{customdata[0]}<br>Year=%{x}<br>Amount of savings=%{y}<extra></extra>",
         "legendgroup": "£8,000 but less than £10,000 pct",
         "line": {
          "color": "#FFA15A",
          "dash": "solid"
         },
         "marker": {
          "symbol": "circle"
         },
         "mode": "lines",
         "name": "£8,000 but less than £10,000 pct",
         "orientation": "v",
         "showlegend": true,
         "type": "scatter",
         "x": {
          "bdata": "ywfMB80HzgfPB9AH0QfSB9MH1AfVB9YH1wfYB9kH2gfbB9wH3QfeB98H4AfhB+IH4wfkB+UH5gfnBw==",
          "dtype": "i2"
         },
         "xaxis": "x",
         "y": {
          "bdata": "vrDKBmqLDUCsw2YyxawGQNPQyqM5TQhAwKD+zFnDBkDWXzi4RVIKQJ35VsS5DAlA0z0oPaHwCUCfrCpTH2AKQMm2DGS+LgtAbMD1cLkhDECnUNWmMK0MQMv7PeKB5gtAZKTjMF0dCkDfjegCLkcMQFOqNyJ4mQpAJIYTCDNiC0ChL1hiFswHQNMBc84ukAdAwC9x5R6CBkBRF0dURK4FQFFVhpd6TAhANHsgbhO7CEA3qlyn6QYGQDC0hkaHZAdACWc9wmFRBEC7bBG8GcYJQAAAAAAAAPh/2c8i+d4HCECqEwaJFxoGQA==",
          "dtype": "f8"
         },
         "yaxis": "y"
        },
        {
         "customdata": [
          [
           "£10,000 but less than £16,000 pct"
          ],
          [
           "£10,000 but less than £16,000 pct"
          ],
          [
           "£10,000 but less than £16,000 pct"
          ],
          [
           "£10,000 but less than £16,000 pct"
          ],
          [
           "£10,000 but less than £16,000 pct"
          ],
          [
           "£10,000 but less than £16,000 pct"
          ],
          [
           "£10,000 but less than £16,000 pct"
          ],
          [
           "£10,000 but less than £16,000 pct"
          ],
          [
           "£10,000 but less than £16,000 pct"
          ],
          [
           "£10,000 but less than £16,000 pct"
          ],
          [
           "£10,000 but less than £16,000 pct"
          ],
          [
           "£10,000 but less than £16,000 pct"
          ],
          [
           "£10,000 but less than £16,000 pct"
          ],
          [
           "£10,000 but less than £16,000 pct"
          ],
          [
           "£10,000 but less than £16,000 pct"
          ],
          [
           "£10,000 but less than £16,000 pct"
          ],
          [
           "£10,000 but less than £16,000 pct"
          ],
          [
           "£10,000 but less than £16,000 pct"
          ],
          [
           "£10,000 but less than £16,000 pct"
          ],
          [
           "£10,000 but less than £16,000 pct"
          ],
          [
           "£10,000 but less than £16,000 pct"
          ],
          [
           "£10,000 but less than £16,000 pct"
          ],
          [
           "£10,000 but less than £16,000 pct"
          ],
          [
           "£10,000 but less than £16,000 pct"
          ],
          [
           "£10,000 but less than £16,000 pct"
          ],
          [
           "£10,000 but less than £16,000 pct"
          ],
          [
           "£10,000 but less than £16,000 pct"
          ],
          [
           "£10,000 but less than £16,000 pct"
          ],
          [
           "£10,000 but less than £16,000 pct"
          ]
         ],
         "hovertemplate": "Savings=%{customdata[0]}<br>Year=%{x}<br>Amount of savings=%{y}<extra></extra>",
         "legendgroup": "£10,000 but less than £16,000 pct",
         "line": {
          "color": "#19d3f3",
          "dash": "solid"
         },
         "marker": {
          "symbol": "circle"
         },
         "mode": "lines",
         "name": "£10,000 but less than £16,000 pct",
         "orientation": "v",
         "showlegend": true,
         "type": "scatter",
         "x": {
          "bdata": "ywfMB80HzgfPB9AH0QfSB9MH1AfVB9YH1wfYB9kH2gfbB9wH3QfeB98H4AfhB+IH4wfkB+UH5gfnBw==",
          "dtype": "i2"
         },
         "xaxis": "x",
         "y": {
          "bdata": "wmVsvaYjGkBOPKCocPkVQAI/wJC8gBdABjMjyYSUGUDTHkk2XRwaQOCkXr3dpRlAAqd1ZceVGkBLHLfQ1hgbQO4C/EDnOBpAwV4jRefYGkCn9A4cxk0bQEQ6N+8RpxlA6HO12E4+GUDUAjw0RXUaQHCu5EN/TRtAPpUjphPGGkDWbmJ3ra8ZQJppxsxpUBpAiW9Lo6oEGEBc05RSCW0YQPBn5kR4dBhAWNxKYFf/F0COtDBGsC0YQL4Gwdm/uhdAzLYecnroF0BFBAxU86kZQAAAAAAAAPh/TZ/yIHegGkDC/05XuUgaQA==",
          "dtype": "f8"
         },
         "yaxis": "y"
        },
        {
         "customdata": [
          [
           "£16,000 but less than £20,000 pct"
          ],
          [
           "£16,000 but less than £20,000 pct"
          ],
          [
           "£16,000 but less than £20,000 pct"
          ],
          [
           "£16,000 but less than £20,000 pct"
          ],
          [
           "£16,000 but less than £20,000 pct"
          ],
          [
           "£16,000 but less than £20,000 pct"
          ],
          [
           "£16,000 but less than £20,000 pct"
          ],
          [
           "£16,000 but less than £20,000 pct"
          ],
          [
           "£16,000 but less than £20,000 pct"
          ],
          [
           "£16,000 but less than £20,000 pct"
          ],
          [
           "£16,000 but less than £20,000 pct"
          ],
          [
           "£16,000 but less than £20,000 pct"
          ],
          [
           "£16,000 but less than £20,000 pct"
          ],
          [
           "£16,000 but less than £20,000 pct"
          ],
          [
           "£16,000 but less than £20,000 pct"
          ],
          [
           "£16,000 but less than £20,000 pct"
          ],
          [
           "£16,000 but less than £20,000 pct"
          ],
          [
           "£16,000 but less than £20,000 pct"
          ],
          [
           "£16,000 but less than £20,000 pct"
          ],
          [
           "£16,000 but less than £20,000 pct"
          ],
          [
           "£16,000 but less than £20,000 pct"
          ],
          [
           "£16,000 but less than £20,000 pct"
          ],
          [
           "£16,000 but less than £20,000 pct"
          ],
          [
           "£16,000 but less than £20,000 pct"
          ],
          [
           "£16,000 but less than £20,000 pct"
          ],
          [
           "£16,000 but less than £20,000 pct"
          ],
          [
           "£16,000 but less than £20,000 pct"
          ],
          [
           "£16,000 but less than £20,000 pct"
          ],
          [
           "£16,000 but less than £20,000 pct"
          ]
         ],
         "hovertemplate": "Savings=%{customdata[0]}<br>Year=%{x}<br>Amount of savings=%{y}<extra></extra>",
         "legendgroup": "£16,000 but less than £20,000 pct",
         "line": {
          "color": "#FF6692",
          "dash": "solid"
         },
         "marker": {
          "symbol": "circle"
         },
         "mode": "lines",
         "name": "£16,000 but less than £20,000 pct",
         "orientation": "v",
         "showlegend": true,
         "type": "scatter",
         "x": {
          "bdata": "ywfMB80HzgfPB9AH0QfSB9MH1AfVB9YH1wfYB9kH2gfbB9wH3QfeB98H4AfhB+IH4wfkB+UH5gfnBw==",
          "dtype": "i2"
         },
         "xaxis": "x",
         "y": {
          "bdata": "V43OxFTLB0C4hNBluGkCQI6vMeBZBwNAM0gUdYaFBEBJvxPX48kGQFOn+DQftgVAFa8q9Cm7A0BsCoRV/FgFQIxmwhRN5QRAVdQlFX6gA0BIgzsI/l8GQF1guH/rCgVAtjr/ppVYBkBc0RVyZvoHQD9kCVts4QZAzfKFs8/PBEDyDzj4dRcEQCZuFrix1gRAXfHHs/cQA0BqI5Fj13IDQF10a6moIgRAYzz3v284BUD35WUnMiACQFqrRWl/kAVADaQSOrwXA0AZrSjaTq4CQAAAAAAAAPh/cFHYMaovCECEavAc9o4HQA==",
          "dtype": "f8"
         },
         "yaxis": "y"
        },
        {
         "customdata": [
          [
           "£20,000 or more pct"
          ],
          [
           "£20,000 or more pct"
          ],
          [
           "£20,000 or more pct"
          ],
          [
           "£20,000 or more pct"
          ],
          [
           "£20,000 or more pct"
          ],
          [
           "£20,000 or more pct"
          ],
          [
           "£20,000 or more pct"
          ],
          [
           "£20,000 or more pct"
          ],
          [
           "£20,000 or more pct"
          ],
          [
           "£20,000 or more pct"
          ],
          [
           "£20,000 or more pct"
          ],
          [
           "£20,000 or more pct"
          ],
          [
           "£20,000 or more pct"
          ],
          [
           "£20,000 or more pct"
          ],
          [
           "£20,000 or more pct"
          ],
          [
           "£20,000 or more pct"
          ],
          [
           "£20,000 or more pct"
          ],
          [
           "£20,000 or more pct"
          ],
          [
           "£20,000 or more pct"
          ],
          [
           "£20,000 or more pct"
          ],
          [
           "£20,000 or more pct"
          ],
          [
           "£20,000 or more pct"
          ],
          [
           "£20,000 or more pct"
          ],
          [
           "£20,000 or more pct"
          ],
          [
           "£20,000 or more pct"
          ],
          [
           "£20,000 or more pct"
          ],
          [
           "£20,000 or more pct"
          ],
          [
           "£20,000 or more pct"
          ],
          [
           "£20,000 or more pct"
          ]
         ],
         "hovertemplate": "Savings=%{customdata[0]}<br>Year=%{x}<br>Amount of savings=%{y}<extra></extra>",
         "legendgroup": "£20,000 or more pct",
         "line": {
          "color": "#B6E880",
          "dash": "solid"
         },
         "marker": {
          "symbol": "circle"
         },
         "mode": "lines",
         "name": "£20,000 or more pct",
         "orientation": "v",
         "showlegend": true,
         "type": "scatter",
         "x": {
          "bdata": "ywfMB80HzgfPB9AH0QfSB9MH1AfVB9YH1wfYB9kH2gfbB9wH3QfeB98H4AfhB+IH4wfkB+UH5gfnBw==",
          "dtype": "i2"
         },
         "xaxis": "x",
         "y": {
          "bdata": "/BNdGngiLEDCOeOH+ZMqQEuUj3gzrytAS0Zj2kOUKkDwYXm8pBErQB9KIuHzvCxA6tDilnfXLECOOO0eSs0qQOhr8xqVLCtAKJftbLzwK0BMOEK6XHsrQCCUxrmF9S1AXLDvIOd5L0DYpxq53bgwQLnTfMWTYjFAlLX/YtTwLEDJTyWDgtwxQHlQJOnhqDJAo4SQrc4sMkCBEa1reYwyQNqhVKdHfDNAE5ohMp5nM0Ap7w9xnPEyQCsqRQf+VTNAdZw4HHIYNEDbueESTVw2QAAAAAAAAPh/V2kcEzhROEBfB6yZdus4QA==",
          "dtype": "f8"
         },
         "yaxis": "y"
        }
       ],
       "layout": {
        "height": 600,
        "hovermode": "x unified",
        "legend": {
         "title": {
          "text": "Savings"
         },
         "tracegroupgap": 0
        },
        "template": {
         "data": {
          "bar": [
           {
            "error_x": {
             "color": "#2a3f5f"
            },
            "error_y": {
             "color": "#2a3f5f"
            },
            "marker": {
             "line": {
              "color": "#E5ECF6",
              "width": 0.5
             },
             "pattern": {
              "fillmode": "overlay",
              "size": 10,
              "solidity": 0.2
             }
            },
            "type": "bar"
           }
          ],
          "barpolar": [
           {
            "marker": {
             "line": {
              "color": "#E5ECF6",
              "width": 0.5
             },
             "pattern": {
              "fillmode": "overlay",
              "size": 10,
              "solidity": 0.2
             }
            },
            "type": "barpolar"
           }
          ],
          "carpet": [
           {
            "aaxis": {
             "endlinecolor": "#2a3f5f",
             "gridcolor": "white",
             "linecolor": "white",
             "minorgridcolor": "white",
             "startlinecolor": "#2a3f5f"
            },
            "baxis": {
             "endlinecolor": "#2a3f5f",
             "gridcolor": "white",
             "linecolor": "white",
             "minorgridcolor": "white",
             "startlinecolor": "#2a3f5f"
            },
            "type": "carpet"
           }
          ],
          "choropleth": [
           {
            "colorbar": {
             "outlinewidth": 0,
             "ticks": ""
            },
            "type": "choropleth"
           }
          ],
          "contour": [
           {
            "colorbar": {
             "outlinewidth": 0,
             "ticks": ""
            },
            "colorscale": [
             [
              0,
              "#0d0887"
             ],
             [
              0.1111111111111111,
              "#46039f"
             ],
             [
              0.2222222222222222,
              "#7201a8"
             ],
             [
              0.3333333333333333,
              "#9c179e"
             ],
             [
              0.4444444444444444,
              "#bd3786"
             ],
             [
              0.5555555555555556,
              "#d8576b"
             ],
             [
              0.6666666666666666,
              "#ed7953"
             ],
             [
              0.7777777777777778,
              "#fb9f3a"
             ],
             [
              0.8888888888888888,
              "#fdca26"
             ],
             [
              1,
              "#f0f921"
             ]
            ],
            "type": "contour"
           }
          ],
          "contourcarpet": [
           {
            "colorbar": {
             "outlinewidth": 0,
             "ticks": ""
            },
            "type": "contourcarpet"
           }
          ],
          "heatmap": [
           {
            "colorbar": {
             "outlinewidth": 0,
             "ticks": ""
            },
            "colorscale": [
             [
              0,
              "#0d0887"
             ],
             [
              0.1111111111111111,
              "#46039f"
             ],
             [
              0.2222222222222222,
              "#7201a8"
             ],
             [
              0.3333333333333333,
              "#9c179e"
             ],
             [
              0.4444444444444444,
              "#bd3786"
             ],
             [
              0.5555555555555556,
              "#d8576b"
             ],
             [
              0.6666666666666666,
              "#ed7953"
             ],
             [
              0.7777777777777778,
              "#fb9f3a"
             ],
             [
              0.8888888888888888,
              "#fdca26"
             ],
             [
              1,
              "#f0f921"
             ]
            ],
            "type": "heatmap"
           }
          ],
          "histogram": [
           {
            "marker": {
             "pattern": {
              "fillmode": "overlay",
              "size": 10,
              "solidity": 0.2
             }
            },
            "type": "histogram"
           }
          ],
          "histogram2d": [
           {
            "colorbar": {
             "outlinewidth": 0,
             "ticks": ""
            },
            "colorscale": [
             [
              0,
              "#0d0887"
             ],
             [
              0.1111111111111111,
              "#46039f"
             ],
             [
              0.2222222222222222,
              "#7201a8"
             ],
             [
              0.3333333333333333,
              "#9c179e"
             ],
             [
              0.4444444444444444,
              "#bd3786"
             ],
             [
              0.5555555555555556,
              "#d8576b"
             ],
             [
              0.6666666666666666,
              "#ed7953"
             ],
             [
              0.7777777777777778,
              "#fb9f3a"
             ],
             [
              0.8888888888888888,
              "#fdca26"
             ],
             [
              1,
              "#f0f921"
             ]
            ],
            "type": "histogram2d"
           }
          ],
          "histogram2dcontour": [
           {
            "colorbar": {
             "outlinewidth": 0,
             "ticks": ""
            },
            "colorscale": [
             [
              0,
              "#0d0887"
             ],
             [
              0.1111111111111111,
              "#46039f"
             ],
             [
              0.2222222222222222,
              "#7201a8"
             ],
             [
              0.3333333333333333,
              "#9c179e"
             ],
             [
              0.4444444444444444,
              "#bd3786"
             ],
             [
              0.5555555555555556,
              "#d8576b"
             ],
             [
              0.6666666666666666,
              "#ed7953"
             ],
             [
              0.7777777777777778,
              "#fb9f3a"
             ],
             [
              0.8888888888888888,
              "#fdca26"
             ],
             [
              1,
              "#f0f921"
             ]
            ],
            "type": "histogram2dcontour"
           }
          ],
          "mesh3d": [
           {
            "colorbar": {
             "outlinewidth": 0,
             "ticks": ""
            },
            "type": "mesh3d"
           }
          ],
          "parcoords": [
           {
            "line": {
             "colorbar": {
              "outlinewidth": 0,
              "ticks": ""
             }
            },
            "type": "parcoords"
           }
          ],
          "pie": [
           {
            "automargin": true,
            "type": "pie"
           }
          ],
          "scatter": [
           {
            "fillpattern": {
             "fillmode": "overlay",
             "size": 10,
             "solidity": 0.2
            },
            "type": "scatter"
           }
          ],
          "scatter3d": [
           {
            "line": {
             "colorbar": {
              "outlinewidth": 0,
              "ticks": ""
             }
            },
            "marker": {
             "colorbar": {
              "outlinewidth": 0,
              "ticks": ""
             }
            },
            "type": "scatter3d"
           }
          ],
          "scattercarpet": [
           {
            "marker": {
             "colorbar": {
              "outlinewidth": 0,
              "ticks": ""
             }
            },
            "type": "scattercarpet"
           }
          ],
          "scattergeo": [
           {
            "marker": {
             "colorbar": {
              "outlinewidth": 0,
              "ticks": ""
             }
            },
            "type": "scattergeo"
           }
          ],
          "scattergl": [
           {
            "marker": {
             "colorbar": {
              "outlinewidth": 0,
              "ticks": ""
             }
            },
            "type": "scattergl"
           }
          ],
          "scattermap": [
           {
            "marker": {
             "colorbar": {
              "outlinewidth": 0,
              "ticks": ""
             }
            },
            "type": "scattermap"
           }
          ],
          "scattermapbox": [
           {
            "marker": {
             "colorbar": {
              "outlinewidth": 0,
              "ticks": ""
             }
            },
            "type": "scattermapbox"
           }
          ],
          "scatterpolar": [
           {
            "marker": {
             "colorbar": {
              "outlinewidth": 0,
              "ticks": ""
             }
            },
            "type": "scatterpolar"
           }
          ],
          "scatterpolargl": [
           {
            "marker": {
             "colorbar": {
              "outlinewidth": 0,
              "ticks": ""
             }
            },
            "type": "scatterpolargl"
           }
          ],
          "scatterternary": [
           {
            "marker": {
             "colorbar": {
              "outlinewidth": 0,
              "ticks": ""
             }
            },
            "type": "scatterternary"
           }
          ],
          "surface": [
           {
            "colorbar": {
             "outlinewidth": 0,
             "ticks": ""
            },
            "colorscale": [
             [
              0,
              "#0d0887"
             ],
             [
              0.1111111111111111,
              "#46039f"
             ],
             [
              0.2222222222222222,
              "#7201a8"
             ],
             [
              0.3333333333333333,
              "#9c179e"
             ],
             [
              0.4444444444444444,
              "#bd3786"
             ],
             [
              0.5555555555555556,
              "#d8576b"
             ],
             [
              0.6666666666666666,
              "#ed7953"
             ],
             [
              0.7777777777777778,
              "#fb9f3a"
             ],
             [
              0.8888888888888888,
              "#fdca26"
             ],
             [
              1,
              "#f0f921"
             ]
            ],
            "type": "surface"
           }
          ],
          "table": [
           {
            "cells": {
             "fill": {
              "color": "#EBF0F8"
             },
             "line": {
              "color": "white"
             }
            },
            "header": {
             "fill": {
              "color": "#C8D4E3"
             },
             "line": {
              "color": "white"
             }
            },
            "type": "table"
           }
          ]
         },
         "layout": {
          "annotationdefaults": {
           "arrowcolor": "#2a3f5f",
           "arrowhead": 0,
           "arrowwidth": 1
          },
          "autotypenumbers": "strict",
          "coloraxis": {
           "colorbar": {
            "outlinewidth": 0,
            "ticks": ""
           }
          },
          "colorscale": {
           "diverging": [
            [
             0,
             "#8e0152"
            ],
            [
             0.1,
             "#c51b7d"
            ],
            [
             0.2,
             "#de77ae"
            ],
            [
             0.3,
             "#f1b6da"
            ],
            [
             0.4,
             "#fde0ef"
            ],
            [
             0.5,
             "#f7f7f7"
            ],
            [
             0.6,
             "#e6f5d0"
            ],
            [
             0.7,
             "#b8e186"
            ],
            [
             0.8,
             "#7fbc41"
            ],
            [
             0.9,
             "#4d9221"
            ],
            [
             1,
             "#276419"
            ]
           ],
           "sequential": [
            [
             0,
             "#0d0887"
            ],
            [
             0.1111111111111111,
             "#46039f"
            ],
            [
             0.2222222222222222,
             "#7201a8"
            ],
            [
             0.3333333333333333,
             "#9c179e"
            ],
            [
             0.4444444444444444,
             "#bd3786"
            ],
            [
             0.5555555555555556,
             "#d8576b"
            ],
            [
             0.6666666666666666,
             "#ed7953"
            ],
            [
             0.7777777777777778,
             "#fb9f3a"
            ],
            [
             0.8888888888888888,
             "#fdca26"
            ],
            [
             1,
             "#f0f921"
            ]
           ],
           "sequentialminus": [
            [
             0,
             "#0d0887"
            ],
            [
             0.1111111111111111,
             "#46039f"
            ],
            [
             0.2222222222222222,
             "#7201a8"
            ],
            [
             0.3333333333333333,
             "#9c179e"
            ],
            [
             0.4444444444444444,
             "#bd3786"
            ],
            [
             0.5555555555555556,
             "#d8576b"
            ],
            [
             0.6666666666666666,
             "#ed7953"
            ],
            [
             0.7777777777777778,
             "#fb9f3a"
            ],
            [
             0.8888888888888888,
             "#fdca26"
            ],
            [
             1,
             "#f0f921"
            ]
           ]
          },
          "colorway": [
           "#636efa",
           "#EF553B",
           "#00cc96",
           "#ab63fa",
           "#FFA15A",
           "#19d3f3",
           "#FF6692",
           "#B6E880",
           "#FF97FF",
           "#FECB52"
          ],
          "font": {
           "color": "#2a3f5f"
          },
          "geo": {
           "bgcolor": "white",
           "lakecolor": "white",
           "landcolor": "#E5ECF6",
           "showlakes": true,
           "showland": true,
           "subunitcolor": "white"
          },
          "hoverlabel": {
           "align": "left"
          },
          "hovermode": "closest",
          "mapbox": {
           "style": "light"
          },
          "paper_bgcolor": "white",
          "plot_bgcolor": "#E5ECF6",
          "polar": {
           "angularaxis": {
            "gridcolor": "white",
            "linecolor": "white",
            "ticks": ""
           },
           "bgcolor": "#E5ECF6",
           "radialaxis": {
            "gridcolor": "white",
            "linecolor": "white",
            "ticks": ""
           }
          },
          "scene": {
           "xaxis": {
            "backgroundcolor": "#E5ECF6",
            "gridcolor": "white",
            "gridwidth": 2,
            "linecolor": "white",
            "showbackground": true,
            "ticks": "",
            "zerolinecolor": "white"
           },
           "yaxis": {
            "backgroundcolor": "#E5ECF6",
            "gridcolor": "white",
            "gridwidth": 2,
            "linecolor": "white",
            "showbackground": true,
            "ticks": "",
            "zerolinecolor": "white"
           },
           "zaxis": {
            "backgroundcolor": "#E5ECF6",
            "gridcolor": "white",
            "gridwidth": 2,
            "linecolor": "white",
            "showbackground": true,
            "ticks": "",
            "zerolinecolor": "white"
           }
          },
          "shapedefaults": {
           "line": {
            "color": "#2a3f5f"
           }
          },
          "ternary": {
           "aaxis": {
            "gridcolor": "white",
            "linecolor": "white",
            "ticks": ""
           },
           "baxis": {
            "gridcolor": "white",
            "linecolor": "white",
            "ticks": ""
           },
           "bgcolor": "#E5ECF6",
           "caxis": {
            "gridcolor": "white",
            "linecolor": "white",
            "ticks": ""
           }
          },
          "title": {
           "x": 0.05
          },
          "xaxis": {
           "automargin": true,
           "gridcolor": "white",
           "linecolor": "white",
           "ticks": "",
           "title": {
            "standoff": 15
           },
           "zerolinecolor": "white",
           "zerolinewidth": 2
          },
          "yaxis": {
           "automargin": true,
           "gridcolor": "white",
           "linecolor": "white",
           "ticks": "",
           "title": {
            "standoff": 15
           },
           "zerolinecolor": "white",
           "zerolinewidth": 2
          }
         }
        },
        "title": {
         "text": "Savings of  Not low income Populations  BHC , 1994-2023"
        },
        "width": 1200,
        "xaxis": {
         "anchor": "y",
         "domain": [
          0,
          1
         ],
         "title": {
          "text": "Year"
         }
        },
        "yaxis": {
         "anchor": "x",
         "domain": [
          0,
          1
         ],
         "title": {
          "text": "Pct of  Not low income population with savings"
         }
        }
       }
      }
     },
     "metadata": {},
     "output_type": "display_data"
    }
   ],
   "source": [
    "plot_hbai_trends(BHC, savings_categories, False)"
   ]
  },
  {
   "cell_type": "markdown",
   "metadata": {},
   "source": [
    "### Observations\n",
    "The percentage of the higher-income population with no saving generally increases over the years, with the exception of the year 2020.  This is likely due to government's intervention during COVID period.  Lockdowns kept people at home and reduced their spendings.\n",
    "However, the general trend is still concerning, as these population would not be able to cushion shocks when the economy takes a downturn or when there are changes in their circumstances due to unfortunate events like accidents or sickness.  In such events, they would again rely on government's spendings. \n",
    "\n"
   ]
  }
 ],
 "metadata": {
  "kernelspec": {
   "display_name": "venv",
   "language": "python",
   "name": "python3"
  },
  "language_info": {
   "codemirror_mode": {
    "name": "ipython",
    "version": 3
   },
   "file_extension": ".py",
   "mimetype": "text/x-python",
   "name": "python",
   "nbconvert_exporter": "python",
   "pygments_lexer": "ipython3",
   "version": "3.10.0"
  }
 },
 "nbformat": 4,
 "nbformat_minor": 2
}
