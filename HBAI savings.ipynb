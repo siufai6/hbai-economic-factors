{
 "cells": [
  {
   "cell_type": "markdown",
   "metadata": {},
   "source": [
    "### HBAI savings\n",
    "Studies savings among low-income vs non Low income groups and observe the change over time.\n",
    "\n"
   ]
  },
  {
   "cell_type": "code",
   "execution_count": 9,
   "metadata": {},
   "outputs": [],
   "source": [
    "import pandas as pd\n",
    "\n",
    "import plotly.express as px\n",
    "import sys\n",
    "\n",
    "\n",
    "\n",
    "def read_csv(data_file):\n",
    "\n",
    "    # Read the CSV file, skipping the first row (header row) and unnecessary footer rows\n",
    "    df = pd.read_csv(data_file, skiprows=1, skipfooter=0, engine='python')\n",
    "\n",
    "    # Drop empty columns and rows\n",
    "    df = df.dropna(how='all', axis=1).dropna(how='all', axis=0)\n",
    "    # Extract the year column and clean it\n",
    "    df['Financial Year'] = df['Financial Year'].str.extract(r'(\\d{4}-\\d{2})')\n",
    "    df = df.dropna(subset=['Financial Year'])\n",
    "    # Set the year as the index\n",
    "    df.set_index('Financial Year', inplace=True)\n",
    "\n",
    "    # extract data columns.\n",
    "    total_col_index = df.columns.str.contains('Total').argmax()\n",
    "\n",
    "    #print(total_col_index)\n",
    "    not_low_income = df.iloc[:, :total_col_index+1].add_suffix('-not low income')\n",
    "\n",
    "    # clean up the duplcated 1. 2. column names\n",
    "    df.columns = df.columns.str.replace(r'\\.\\d+$', '', regex=True)\n",
    "    \n",
    "    low_income = df.iloc[:, total_col_index + 1: total_col_index *2+2 ].add_suffix('-low income')\n",
    "\n",
    "    #print(low_income)\n",
    "    total_columns = df.iloc[:, total_col_index *2 +3:].add_suffix('-total')\n",
    "\n",
    "    # Combine the two groups of columns\n",
    "    result = pd.concat([not_low_income, low_income, total_columns], axis=1)\n",
    "\n",
    "    \n",
    "\n",
    "    # Save or display the resulting DataFrame\n",
    "    #print(result.head())  # Display the first few rows\n",
    "    result.to_csv(data_file+\"_processed.csv\")  # Save to a new CSV file\n",
    "    #print(df.head())\n",
    "    #print(\"----\")    \n",
    "\n",
    "    # convert to numbers\n",
    "    result = result.apply(pd.to_numeric, errors='coerce')\n",
    "    #print(result.head(10))\n",
    "    return result, low_income.columns\n",
    "\n",
    "\n",
    "\n",
    "\n"
   ]
  },
  {
   "cell_type": "code",
   "execution_count": 10,
   "metadata": {},
   "outputs": [],
   "source": [
    "\n",
    "BHC, savings=read_csv(\"./HBAI-BHC-saving.csv\")"
   ]
  },
  {
   "cell_type": "code",
   "execution_count": 11,
   "metadata": {},
   "outputs": [
    {
     "data": {
      "text/plain": [
       "['No savings',\n",
       " 'Less than £1,500',\n",
       " '£1,500 but less than £3,000',\n",
       " '£3,000 but less than £8,000',\n",
       " '£8,000 but less than £10,000',\n",
       " '£10,000 but less than £16,000',\n",
       " '£16,000 but less than £20,000',\n",
       " '£20,000 or more',\n",
       " 'Total']"
      ]
     },
     "execution_count": 11,
     "metadata": {},
     "output_type": "execute_result"
    }
   ],
   "source": [
    "savings_categories=list(savings.str.replace('-low income',''))\n",
    "\n",
    "savings_categories"
   ]
  },
  {
   "cell_type": "code",
   "execution_count": 12,
   "metadata": {},
   "outputs": [],
   "source": [
    "def extract_and_fix_year(year_range):\n",
    "    try:\n",
    "        year_suffix = year_range.split('-')[1]\n",
    "        full_year = \"20\" + year_suffix  if int(year_suffix) < 50 else \"19\" +year_suffix\n",
    "        return int(full_year) \n",
    "    except:\n",
    "        return None\n",
    "    \n",
    "def plot_hbai_trends(bhc_df, savings_categories, islowincome=True):\n",
    "\n",
    "    suffix=\"-low income\" if islowincome else \"-not low income\"\n",
    "    income_level_desc = \" Low income\" if islowincome else \" Not low income\"\n",
    "    # Calculate the impact (AHC - BHC) for each region\n",
    "    for cat in savings_categories:\n",
    "        #print(cat)\n",
    "        #bhc_df[f'{cat} pct'] = ((bhc_df[f'{cat}{suffix}']/bhc_df[f'{cat}-total'])*100)\n",
    "        bhc_df[f'{cat} pct'] = ((bhc_df[f'{cat}{suffix}']/bhc_df[f'Total{suffix}'])*100)\n",
    "\n",
    "\n",
    "    cat_cols = [f'{cat} pct' for cat in savings_categories]\n",
    "    bhc_df=bhc_df.reset_index()\n",
    "    # Melt the data to long format for easier plotting (if needed)\n",
    "    impact_data = bhc_df.melt(\n",
    "        id_vars=['Financial Year'],\n",
    "        value_vars=cat_cols,\n",
    "        var_name='Savings',\n",
    "        value_name='Savings categories'\n",
    "    )\n",
    "    impact_data['Financial Year'] = impact_data['Financial Year'].apply(extract_and_fix_year)\n",
    "\n",
    "    print(impact_data)\n",
    "    # Create the line chart\n",
    "    fig = px.line(impact_data, \n",
    "                x='Financial Year', \n",
    "                y='Savings categories', \n",
    "                color='Savings',\n",
    "                title=f'Savings of {income_level_desc} Populations  BHC , 1994-2023',\n",
    "                labels={'Savings categories': 'Amount of savings', 'Financial Year': 'Year'},\n",
    "                hover_data=['Savings'], width=1200, height=600)\n",
    "\n",
    "    # Customize the layout (optional)\n",
    "    fig.update_layout(\n",
    "        xaxis_title=\"Year\",\n",
    "        yaxis_title=f\"Pct of {income_level_desc} population with savings\",\n",
    "        legend_title=\"Savings\",\n",
    "        hovermode=\"x unified\"  # Shows data for all regions at a given year\n",
    "    )\n",
    "    #fig.add_annotation(\n",
    "    #    text=\"Note: percentage is calculated by (low income BHC in region-low income AHC in region)/total BHC in region.\",\n",
    "    #    xref=\"paper\", yref=\"paper\",  # Relative to the entire plot\n",
    "    #    x=0.5, y=-0.2,  # Position below the plot\n",
    "    #    showarrow=False,\n",
    "    #    font=dict(size=12, color=\"gray\")\n",
    "    #)\n",
    "\n",
    "    # Show the plot\n",
    "    fig.show()\n",
    "    #fig.write_html(\"savings_of_hbai_bhc.html\")\n",
    "    \n",
    "    import plotly.io as pio\n",
    "    pio.write_image(fig, 'chart.png')  # Save the figure as an image\n",
    "\n",
    "    from IPython.display import display, Image\n",
    "    display(Image(filename='chart.png'))\n",
    "\n",
    "\n",
    "\n"
   ]
  },
  {
   "cell_type": "code",
   "execution_count": 13,
   "metadata": {},
   "outputs": [
    {
     "name": "stdout",
     "output_type": "stream",
     "text": [
      "     Financial Year              Savings  Savings categories\n",
      "0              1995       No savings pct           56.535217\n",
      "1              1996       No savings pct           58.441240\n",
      "2              1997       No savings pct           57.657053\n",
      "3              1998       No savings pct           57.394117\n",
      "4              1999       No savings pct           56.607639\n",
      "..              ...                  ...                 ...\n",
      "227            2019  £20,000 or more pct           11.995876\n",
      "228            2020  £20,000 or more pct           12.107126\n",
      "229            2021  £20,000 or more pct                 NaN\n",
      "230            2022  £20,000 or more pct           12.003169\n",
      "231            2023  £20,000 or more pct           13.415221\n",
      "\n",
      "[232 rows x 3 columns]\n"
     ]
    },
    {
     "data": {
      "application/vnd.plotly.v1+json": {
       "config": {
        "plotlyServerURL": "https://plot.ly"
       },
       "data": [
        {
         "customdata": [
          [
           "No savings pct"
          ],
          [
           "No savings pct"
          ],
          [
           "No savings pct"
          ],
          [
           "No savings pct"
          ],
          [
           "No savings pct"
          ],
          [
           "No savings pct"
          ],
          [
           "No savings pct"
          ],
          [
           "No savings pct"
          ],
          [
           "No savings pct"
          ],
          [
           "No savings pct"
          ],
          [
           "No savings pct"
          ],
          [
           "No savings pct"
          ],
          [
           "No savings pct"
          ],
          [
           "No savings pct"
          ],
          [
           "No savings pct"
          ],
          [
           "No savings pct"
          ],
          [
           "No savings pct"
          ],
          [
           "No savings pct"
          ],
          [
           "No savings pct"
          ],
          [
           "No savings pct"
          ],
          [
           "No savings pct"
          ],
          [
           "No savings pct"
          ],
          [
           "No savings pct"
          ],
          [
           "No savings pct"
          ],
          [
           "No savings pct"
          ],
          [
           "No savings pct"
          ],
          [
           "No savings pct"
          ],
          [
           "No savings pct"
          ],
          [
           "No savings pct"
          ]
         ],
         "hovertemplate": "Savings=%{customdata[0]}<br>Year=%{x}<br>Amount of savings=%{y}<extra></extra>",
         "legendgroup": "No savings pct",
         "line": {
          "color": "#636efa",
          "dash": "solid"
         },
         "marker": {
          "symbol": "circle"
         },
         "mode": "lines",
         "name": "No savings pct",
         "orientation": "v",
         "showlegend": true,
         "type": "scatter",
         "x": {
          "bdata": "ywfMB80HzgfPB9AH0QfSB9MH1AfVB9YH1wfYB9kH2gfbB9wH3QfeB98H4AfhB+IH4wfkB+UH5gfnBw==",
          "dtype": "i2"
         },
         "xaxis": "x",
         "y": {
          "bdata": "kO2iAYJETECqXFSQejhNQKNkGVMa1ExAvL8Ba3KyTEBoErobx01MQON5JvoxzUpA1JCFDAKiS0DSdlrYrF1LQCGNlXeaiUtAjWjuzOJUS0BJYe61J+JKQJA/9wGwY0tADK6ma3KXSkA9zNqUmnhKQI01n3WKiUtA/R4MG5dRS0Aimujda3pMQBIhIBHKg01AJx8pfbksT0CymXe/+qhOQEwqSSvWjE9A8S1J9MipTUD08+66iN5NQJuHzAsp701AbBIJjPkzTUCj46o79Is5QAAAAAAAAPh/NF8HYzyDO0C3u96wpC8+QA==",
          "dtype": "f8"
         },
         "yaxis": "y"
        },
        {
         "customdata": [
          [
           "Less than £1,500 pct"
          ],
          [
           "Less than £1,500 pct"
          ],
          [
           "Less than £1,500 pct"
          ],
          [
           "Less than £1,500 pct"
          ],
          [
           "Less than £1,500 pct"
          ],
          [
           "Less than £1,500 pct"
          ],
          [
           "Less than £1,500 pct"
          ],
          [
           "Less than £1,500 pct"
          ],
          [
           "Less than £1,500 pct"
          ],
          [
           "Less than £1,500 pct"
          ],
          [
           "Less than £1,500 pct"
          ],
          [
           "Less than £1,500 pct"
          ],
          [
           "Less than £1,500 pct"
          ],
          [
           "Less than £1,500 pct"
          ],
          [
           "Less than £1,500 pct"
          ],
          [
           "Less than £1,500 pct"
          ],
          [
           "Less than £1,500 pct"
          ],
          [
           "Less than £1,500 pct"
          ],
          [
           "Less than £1,500 pct"
          ],
          [
           "Less than £1,500 pct"
          ],
          [
           "Less than £1,500 pct"
          ],
          [
           "Less than £1,500 pct"
          ],
          [
           "Less than £1,500 pct"
          ],
          [
           "Less than £1,500 pct"
          ],
          [
           "Less than £1,500 pct"
          ],
          [
           "Less than £1,500 pct"
          ],
          [
           "Less than £1,500 pct"
          ],
          [
           "Less than £1,500 pct"
          ],
          [
           "Less than £1,500 pct"
          ]
         ],
         "hovertemplate": "Savings=%{customdata[0]}<br>Year=%{x}<br>Amount of savings=%{y}<extra></extra>",
         "legendgroup": "Less than £1,500 pct",
         "line": {
          "color": "#EF553B",
          "dash": "solid"
         },
         "marker": {
          "symbol": "circle"
         },
         "mode": "lines",
         "name": "Less than £1,500 pct",
         "orientation": "v",
         "showlegend": true,
         "type": "scatter",
         "x": {
          "bdata": "ywfMB80HzgfPB9AH0QfSB9MH1AfVB9YH1wfYB9kH2gfbB9wH3QfeB98H4AfhB+IH4wfkB+UH5gfnBw==",
          "dtype": "i2"
         },
         "xaxis": "x",
         "y": {
          "bdata": "VdY89a5XLkDseFOaKq8wQHW8pONAKjNA1AWVnv4TMkBJqxLhr0wzQAtIY9KUvDVACYbkGPFzM0Dy/+B+LhczQJKOw7lR0jFAMqjLk9EQMUD9h2gzZ38zQHi7z+t5mTNArilJp64ZM0Do9pKwOTgzQM+P43IQDDFANiggwVPSMUAmRAH/Q1wqQArnm48FeCdAI8kAIgg+JUBbkFIdX3wnQGes820PwCJAAfFGjdYjJ0BV9OtZPB0kQLcCmCX82yJASEW5YinSI0CZ1Z8iwhhEQAAAAAAAAPh/NB0c4Jn3QUCu1MyhoF9BQA==",
          "dtype": "f8"
         },
         "yaxis": "y"
        },
        {
         "customdata": [
          [
           "£1,500 but less than £3,000 pct"
          ],
          [
           "£1,500 but less than £3,000 pct"
          ],
          [
           "£1,500 but less than £3,000 pct"
          ],
          [
           "£1,500 but less than £3,000 pct"
          ],
          [
           "£1,500 but less than £3,000 pct"
          ],
          [
           "£1,500 but less than £3,000 pct"
          ],
          [
           "£1,500 but less than £3,000 pct"
          ],
          [
           "£1,500 but less than £3,000 pct"
          ],
          [
           "£1,500 but less than £3,000 pct"
          ],
          [
           "£1,500 but less than £3,000 pct"
          ],
          [
           "£1,500 but less than £3,000 pct"
          ],
          [
           "£1,500 but less than £3,000 pct"
          ],
          [
           "£1,500 but less than £3,000 pct"
          ],
          [
           "£1,500 but less than £3,000 pct"
          ],
          [
           "£1,500 but less than £3,000 pct"
          ],
          [
           "£1,500 but less than £3,000 pct"
          ],
          [
           "£1,500 but less than £3,000 pct"
          ],
          [
           "£1,500 but less than £3,000 pct"
          ],
          [
           "£1,500 but less than £3,000 pct"
          ],
          [
           "£1,500 but less than £3,000 pct"
          ],
          [
           "£1,500 but less than £3,000 pct"
          ],
          [
           "£1,500 but less than £3,000 pct"
          ],
          [
           "£1,500 but less than £3,000 pct"
          ],
          [
           "£1,500 but less than £3,000 pct"
          ],
          [
           "£1,500 but less than £3,000 pct"
          ],
          [
           "£1,500 but less than £3,000 pct"
          ],
          [
           "£1,500 but less than £3,000 pct"
          ],
          [
           "£1,500 but less than £3,000 pct"
          ],
          [
           "£1,500 but less than £3,000 pct"
          ]
         ],
         "hovertemplate": "Savings=%{customdata[0]}<br>Year=%{x}<br>Amount of savings=%{y}<extra></extra>",
         "legendgroup": "£1,500 but less than £3,000 pct",
         "line": {
          "color": "#00cc96",
          "dash": "solid"
         },
         "marker": {
          "symbol": "circle"
         },
         "mode": "lines",
         "name": "£1,500 but less than £3,000 pct",
         "orientation": "v",
         "showlegend": true,
         "type": "scatter",
         "x": {
          "bdata": "ywfMB80HzgfPB9AH0QfSB9MH1AfVB9YH1wfYB9kH2gfbB9wH3QfeB98H4AfhB+IH4wfkB+UH5gfnBw==",
          "dtype": "i2"
         },
         "xaxis": "x",
         "y": {
          "bdata": "+1xieNKIG0CAS0K+dsMXQLSKj5IGEhVAFjpFP+NqF0CQm84wMUYUQHaHFay5gBRA71E9/bOzFEAN/1JMKQsVQO48vbJpTBZAXEL+BTC0FUBj00fqN6sUQA4oTwdZKxNAQizULGhIEUBYBkkXyvoRQEor+9wvhxNAz5NX6l1bFkDtUqYky3IUQHH8h1WxlxZAsMeczne3EUDpNMtCkT8SQJQXpY0izwpA25w8CRSGEUBBmLwHdzYUQFL1Ph49ARJAvdc1x7erEEDi6r/BjY4YQAAAAAAAAPh/Pbk1K3LoHUCcxXEVpzsZQA==",
          "dtype": "f8"
         },
         "yaxis": "y"
        },
        {
         "customdata": [
          [
           "£3,000 but less than £8,000 pct"
          ],
          [
           "£3,000 but less than £8,000 pct"
          ],
          [
           "£3,000 but less than £8,000 pct"
          ],
          [
           "£3,000 but less than £8,000 pct"
          ],
          [
           "£3,000 but less than £8,000 pct"
          ],
          [
           "£3,000 but less than £8,000 pct"
          ],
          [
           "£3,000 but less than £8,000 pct"
          ],
          [
           "£3,000 but less than £8,000 pct"
          ],
          [
           "£3,000 but less than £8,000 pct"
          ],
          [
           "£3,000 but less than £8,000 pct"
          ],
          [
           "£3,000 but less than £8,000 pct"
          ],
          [
           "£3,000 but less than £8,000 pct"
          ],
          [
           "£3,000 but less than £8,000 pct"
          ],
          [
           "£3,000 but less than £8,000 pct"
          ],
          [
           "£3,000 but less than £8,000 pct"
          ],
          [
           "£3,000 but less than £8,000 pct"
          ],
          [
           "£3,000 but less than £8,000 pct"
          ],
          [
           "£3,000 but less than £8,000 pct"
          ],
          [
           "£3,000 but less than £8,000 pct"
          ],
          [
           "£3,000 but less than £8,000 pct"
          ],
          [
           "£3,000 but less than £8,000 pct"
          ],
          [
           "£3,000 but less than £8,000 pct"
          ],
          [
           "£3,000 but less than £8,000 pct"
          ],
          [
           "£3,000 but less than £8,000 pct"
          ],
          [
           "£3,000 but less than £8,000 pct"
          ],
          [
           "£3,000 but less than £8,000 pct"
          ],
          [
           "£3,000 but less than £8,000 pct"
          ],
          [
           "£3,000 but less than £8,000 pct"
          ],
          [
           "£3,000 but less than £8,000 pct"
          ]
         ],
         "hovertemplate": "Savings=%{customdata[0]}<br>Year=%{x}<br>Amount of savings=%{y}<extra></extra>",
         "legendgroup": "£3,000 but less than £8,000 pct",
         "line": {
          "color": "#ab63fa",
          "dash": "solid"
         },
         "marker": {
          "symbol": "circle"
         },
         "mode": "lines",
         "name": "£3,000 but less than £8,000 pct",
         "orientation": "v",
         "showlegend": true,
         "type": "scatter",
         "x": {
          "bdata": "ywfMB80HzgfPB9AH0QfSB9MH1AfVB9YH1wfYB9kH2gfbB9wH3QfeB98H4AfhB+IH4wfkB+UH5gfnBw==",
          "dtype": "i2"
         },
         "xaxis": "x",
         "y": {
          "bdata": "Ba3Hub8wIkCusEfg8SUgQOZYxyu7UB5AWoqVbM3xH0Ay6HxG7VogQLRKqYzLTyFAnK9kvJG/IEDtFX34U0EhQC36SCmsiyJA7LbiFKkVIkArmlcFOGAhQNhw5a1xViBAeaWJJMN+IUAdpe5+1VYiQI2XAzsMcx9AlbagU59kIECzpF5e+2chQDCPHtL0sR5Am1XzcQOwHEDnUezTlDgaQFO84s+6rB5AJIQdWfZ6IUD5f8ChclsgQIVIXXBRyCJAe9gstjDeIEC344XmTFshQAAAAAAAAPh/Bq7N1U2cI0DIuyc72LkfQA==",
          "dtype": "f8"
         },
         "yaxis": "y"
        },
        {
         "customdata": [
          [
           "£8,000 but less than £10,000 pct"
          ],
          [
           "£8,000 but less than £10,000 pct"
          ],
          [
           "£8,000 but less than £10,000 pct"
          ],
          [
           "£8,000 but less than £10,000 pct"
          ],
          [
           "£8,000 but less than £10,000 pct"
          ],
          [
           "£8,000 but less than £10,000 pct"
          ],
          [
           "£8,000 but less than £10,000 pct"
          ],
          [
           "£8,000 but less than £10,000 pct"
          ],
          [
           "£8,000 but less than £10,000 pct"
          ],
          [
           "£8,000 but less than £10,000 pct"
          ],
          [
           "£8,000 but less than £10,000 pct"
          ],
          [
           "£8,000 but less than £10,000 pct"
          ],
          [
           "£8,000 but less than £10,000 pct"
          ],
          [
           "£8,000 but less than £10,000 pct"
          ],
          [
           "£8,000 but less than £10,000 pct"
          ],
          [
           "£8,000 but less than £10,000 pct"
          ],
          [
           "£8,000 but less than £10,000 pct"
          ],
          [
           "£8,000 but less than £10,000 pct"
          ],
          [
           "£8,000 but less than £10,000 pct"
          ],
          [
           "£8,000 but less than £10,000 pct"
          ],
          [
           "£8,000 but less than £10,000 pct"
          ],
          [
           "£8,000 but less than £10,000 pct"
          ],
          [
           "£8,000 but less than £10,000 pct"
          ],
          [
           "£8,000 but less than £10,000 pct"
          ],
          [
           "£8,000 but less than £10,000 pct"
          ],
          [
           "£8,000 but less than £10,000 pct"
          ],
          [
           "£8,000 but less than £10,000 pct"
          ],
          [
           "£8,000 but less than £10,000 pct"
          ],
          [
           "£8,000 but less than £10,000 pct"
          ]
         ],
         "hovertemplate": "Savings=%{customdata[0]}<br>Year=%{x}<br>Amount of savings=%{y}<extra></extra>",
         "legendgroup": "£8,000 but less than £10,000 pct",
         "line": {
          "color": "#FFA15A",
          "dash": "solid"
         },
         "marker": {
          "symbol": "circle"
         },
         "mode": "lines",
         "name": "£8,000 but less than £10,000 pct",
         "orientation": "v",
         "showlegend": true,
         "type": "scatter",
         "x": {
          "bdata": "ywfMB80HzgfPB9AH0QfSB9MH1AfVB9YH1wfYB9kH2gfbB9wH3QfeB98H4AfhB+IH4wfkB+UH5gfnBw==",
          "dtype": "i2"
         },
         "xaxis": "x",
         "y": {
          "bdata": "7nJTiWPt/T+m2/q3ef36P4pavqemw/g/E2Rg2vlB/T8gSA3zOxL6P1+AfLUBTvo/Srl7xXy3AkDIBLYzD7sAQAXtmnAqLP4/DSrxt3jI/z+aHiz4U9gAQPZmnuuJZPs/+epq5Dq4+T9JyioRHkoBQPPapnWY/f8/O9fwVpCcAUA+XkmGgwMAQAmBbMnY4fk/pBGz9h/Z+j/OA7DkfnT5P/nTx71voAFAw7qv4ET++j+xx54UI8z8P4KNo+BwR/4/cT/wxjxIAEBXIH40+58AQAAAAAAAAPh/LaWh2M96/T9flNT+xHsBQA==",
          "dtype": "f8"
         },
         "yaxis": "y"
        },
        {
         "customdata": [
          [
           "£10,000 but less than £16,000 pct"
          ],
          [
           "£10,000 but less than £16,000 pct"
          ],
          [
           "£10,000 but less than £16,000 pct"
          ],
          [
           "£10,000 but less than £16,000 pct"
          ],
          [
           "£10,000 but less than £16,000 pct"
          ],
          [
           "£10,000 but less than £16,000 pct"
          ],
          [
           "£10,000 but less than £16,000 pct"
          ],
          [
           "£10,000 but less than £16,000 pct"
          ],
          [
           "£10,000 but less than £16,000 pct"
          ],
          [
           "£10,000 but less than £16,000 pct"
          ],
          [
           "£10,000 but less than £16,000 pct"
          ],
          [
           "£10,000 but less than £16,000 pct"
          ],
          [
           "£10,000 but less than £16,000 pct"
          ],
          [
           "£10,000 but less than £16,000 pct"
          ],
          [
           "£10,000 but less than £16,000 pct"
          ],
          [
           "£10,000 but less than £16,000 pct"
          ],
          [
           "£10,000 but less than £16,000 pct"
          ],
          [
           "£10,000 but less than £16,000 pct"
          ],
          [
           "£10,000 but less than £16,000 pct"
          ],
          [
           "£10,000 but less than £16,000 pct"
          ],
          [
           "£10,000 but less than £16,000 pct"
          ],
          [
           "£10,000 but less than £16,000 pct"
          ],
          [
           "£10,000 but less than £16,000 pct"
          ],
          [
           "£10,000 but less than £16,000 pct"
          ],
          [
           "£10,000 but less than £16,000 pct"
          ],
          [
           "£10,000 but less than £16,000 pct"
          ],
          [
           "£10,000 but less than £16,000 pct"
          ],
          [
           "£10,000 but less than £16,000 pct"
          ],
          [
           "£10,000 but less than £16,000 pct"
          ]
         ],
         "hovertemplate": "Savings=%{customdata[0]}<br>Year=%{x}<br>Amount of savings=%{y}<extra></extra>",
         "legendgroup": "£10,000 but less than £16,000 pct",
         "line": {
          "color": "#19d3f3",
          "dash": "solid"
         },
         "marker": {
          "symbol": "circle"
         },
         "mode": "lines",
         "name": "£10,000 but less than £16,000 pct",
         "orientation": "v",
         "showlegend": true,
         "type": "scatter",
         "x": {
          "bdata": "ywfMB80HzgfPB9AH0QfSB9MH1AfVB9YH1wfYB9kH2gfbB9wH3QfeB98H4AfhB+IH4wfkB+UH5gfnBw==",
          "dtype": "i2"
         },
         "xaxis": "x",
         "y": {
          "bdata": "P5NlB6AAD0DQSLpSKbMJQH3kADdT0wZArEFN8k4sBkDpx3+1nwYNQA+TnlnmjgdA1FgDU5o6CEDmxM0n8koMQENwt2q89QlAPCqDZV7XEECMxj24pz8NQDACTHDSEQ1ATSu7oFUVEEAyKZLKMX4OQFH8PYuJbxFAycLCemRgD0AyXi25eiwOQLLd+lvaDQ1AxPHB1TawD0A6+yBJPBkMQKy1U360Sw5AZKnWDjbpCECDEuqjsQsQQDPx6DLnwQxAnfHSUonYDEDax+TRPjcMQAAAAAAAAPh/awxeNa0jEECk3PQa6zwOQA==",
          "dtype": "f8"
         },
         "yaxis": "y"
        },
        {
         "customdata": [
          [
           "£16,000 but less than £20,000 pct"
          ],
          [
           "£16,000 but less than £20,000 pct"
          ],
          [
           "£16,000 but less than £20,000 pct"
          ],
          [
           "£16,000 but less than £20,000 pct"
          ],
          [
           "£16,000 but less than £20,000 pct"
          ],
          [
           "£16,000 but less than £20,000 pct"
          ],
          [
           "£16,000 but less than £20,000 pct"
          ],
          [
           "£16,000 but less than £20,000 pct"
          ],
          [
           "£16,000 but less than £20,000 pct"
          ],
          [
           "£16,000 but less than £20,000 pct"
          ],
          [
           "£16,000 but less than £20,000 pct"
          ],
          [
           "£16,000 but less than £20,000 pct"
          ],
          [
           "£16,000 but less than £20,000 pct"
          ],
          [
           "£16,000 but less than £20,000 pct"
          ],
          [
           "£16,000 but less than £20,000 pct"
          ],
          [
           "£16,000 but less than £20,000 pct"
          ],
          [
           "£16,000 but less than £20,000 pct"
          ],
          [
           "£16,000 but less than £20,000 pct"
          ],
          [
           "£16,000 but less than £20,000 pct"
          ],
          [
           "£16,000 but less than £20,000 pct"
          ],
          [
           "£16,000 but less than £20,000 pct"
          ],
          [
           "£16,000 but less than £20,000 pct"
          ],
          [
           "£16,000 but less than £20,000 pct"
          ],
          [
           "£16,000 but less than £20,000 pct"
          ],
          [
           "£16,000 but less than £20,000 pct"
          ],
          [
           "£16,000 but less than £20,000 pct"
          ],
          [
           "£16,000 but less than £20,000 pct"
          ],
          [
           "£16,000 but less than £20,000 pct"
          ],
          [
           "£16,000 but less than £20,000 pct"
          ]
         ],
         "hovertemplate": "Savings=%{customdata[0]}<br>Year=%{x}<br>Amount of savings=%{y}<extra></extra>",
         "legendgroup": "£16,000 but less than £20,000 pct",
         "line": {
          "color": "#FF6692",
          "dash": "solid"
         },
         "marker": {
          "symbol": "circle"
         },
         "mode": "lines",
         "name": "£16,000 but less than £20,000 pct",
         "orientation": "v",
         "showlegend": true,
         "type": "scatter",
         "x": {
          "bdata": "ywfMB80HzgfPB9AH0QfSB9MH1AfVB9YH1wfYB9kH2gfbB9wH3QfeB98H4AfhB+IH4wfkB+UH5gfnBw==",
          "dtype": "i2"
         },
         "xaxis": "x",
         "y": {
          "bdata": "OAa3jiyW9z+r9ZGQ5if4Px5ORbGopvI/jSRtWl199z/3Ir9FHbT1Pyf7fZgZDfQ/jAqcx27T8T+CjEbM7qX5P6Mt+tOEZfc/uEzzhVZd+D8yZb2Kd5n3P8ElTL+Hsfg/L1srqO5F/D8QQtEtEin6P1KOmoFSu/0/77jDcjdv9D9qoCkE3c36P1pUY1XG8fc/JgHcHpq6+D90Abs3JSDxPyQaEMvEFfQ/7hjqiyZU+D9A1Vru4Nn1P+Zen7Mpg/Q/sJatlnYe9z/FzUrHm677PwAAAAAAAPh/A5yKp0Y+9j9hUnMMhCX3Pw==",
          "dtype": "f8"
         },
         "yaxis": "y"
        },
        {
         "customdata": [
          [
           "£20,000 or more pct"
          ],
          [
           "£20,000 or more pct"
          ],
          [
           "£20,000 or more pct"
          ],
          [
           "£20,000 or more pct"
          ],
          [
           "£20,000 or more pct"
          ],
          [
           "£20,000 or more pct"
          ],
          [
           "£20,000 or more pct"
          ],
          [
           "£20,000 or more pct"
          ],
          [
           "£20,000 or more pct"
          ],
          [
           "£20,000 or more pct"
          ],
          [
           "£20,000 or more pct"
          ],
          [
           "£20,000 or more pct"
          ],
          [
           "£20,000 or more pct"
          ],
          [
           "£20,000 or more pct"
          ],
          [
           "£20,000 or more pct"
          ],
          [
           "£20,000 or more pct"
          ],
          [
           "£20,000 or more pct"
          ],
          [
           "£20,000 or more pct"
          ],
          [
           "£20,000 or more pct"
          ],
          [
           "£20,000 or more pct"
          ],
          [
           "£20,000 or more pct"
          ],
          [
           "£20,000 or more pct"
          ],
          [
           "£20,000 or more pct"
          ],
          [
           "£20,000 or more pct"
          ],
          [
           "£20,000 or more pct"
          ],
          [
           "£20,000 or more pct"
          ],
          [
           "£20,000 or more pct"
          ],
          [
           "£20,000 or more pct"
          ],
          [
           "£20,000 or more pct"
          ]
         ],
         "hovertemplate": "Savings=%{customdata[0]}<br>Year=%{x}<br>Amount of savings=%{y}<extra></extra>",
         "legendgroup": "£20,000 or more pct",
         "line": {
          "color": "#B6E880",
          "dash": "solid"
         },
         "marker": {
          "symbol": "circle"
         },
         "mode": "lines",
         "name": "£20,000 or more pct",
         "orientation": "v",
         "showlegend": true,
         "type": "scatter",
         "x": {
          "bdata": "ywfMB80HzgfPB9AH0QfSB9MH1AfVB9YH1wfYB9kH2gfbB9wH3QfeB98H4AfhB+IH4wfkB+UH5gfnBw==",
          "dtype": "i2"
         },
         "xaxis": "x",
         "y": {
          "bdata": "6cfHEgxhFEBlMb3ZOc0RQBOpiagqDxNAXyNpO8R5EkD0VCm3Fe4QQHoLiR+SJRRAZCQUhGz/FEDHloejkTsUQJ8sdVDZphZAqyKe5E5VGEAjgg/TIZMWQJdnDDvuFRdA3rTdi+MCHUCgp2QIY0MaQOr6aiZqqxtADav6SxNrGUACokdo8DIhQMKcN50UViJA1UzwUM98IED9pZ1Dv0ojQK0gJDGwhCJA25+PUmpSI0DeMmVCWZcjQNWBdoyiFCRAkS0UeuP9J0Bo9UI82TYoQAAAAAAAAPh/xLNjY58BKECZrsHml9QqQA==",
          "dtype": "f8"
         },
         "yaxis": "y"
        }
       ],
       "layout": {
        "height": 600,
        "hovermode": "x unified",
        "legend": {
         "title": {
          "text": "Savings"
         },
         "tracegroupgap": 0
        },
        "template": {
         "data": {
          "bar": [
           {
            "error_x": {
             "color": "#2a3f5f"
            },
            "error_y": {
             "color": "#2a3f5f"
            },
            "marker": {
             "line": {
              "color": "#E5ECF6",
              "width": 0.5
             },
             "pattern": {
              "fillmode": "overlay",
              "size": 10,
              "solidity": 0.2
             }
            },
            "type": "bar"
           }
          ],
          "barpolar": [
           {
            "marker": {
             "line": {
              "color": "#E5ECF6",
              "width": 0.5
             },
             "pattern": {
              "fillmode": "overlay",
              "size": 10,
              "solidity": 0.2
             }
            },
            "type": "barpolar"
           }
          ],
          "carpet": [
           {
            "aaxis": {
             "endlinecolor": "#2a3f5f",
             "gridcolor": "white",
             "linecolor": "white",
             "minorgridcolor": "white",
             "startlinecolor": "#2a3f5f"
            },
            "baxis": {
             "endlinecolor": "#2a3f5f",
             "gridcolor": "white",
             "linecolor": "white",
             "minorgridcolor": "white",
             "startlinecolor": "#2a3f5f"
            },
            "type": "carpet"
           }
          ],
          "choropleth": [
           {
            "colorbar": {
             "outlinewidth": 0,
             "ticks": ""
            },
            "type": "choropleth"
           }
          ],
          "contour": [
           {
            "colorbar": {
             "outlinewidth": 0,
             "ticks": ""
            },
            "colorscale": [
             [
              0,
              "#0d0887"
             ],
             [
              0.1111111111111111,
              "#46039f"
             ],
             [
              0.2222222222222222,
              "#7201a8"
             ],
             [
              0.3333333333333333,
              "#9c179e"
             ],
             [
              0.4444444444444444,
              "#bd3786"
             ],
             [
              0.5555555555555556,
              "#d8576b"
             ],
             [
              0.6666666666666666,
              "#ed7953"
             ],
             [
              0.7777777777777778,
              "#fb9f3a"
             ],
             [
              0.8888888888888888,
              "#fdca26"
             ],
             [
              1,
              "#f0f921"
             ]
            ],
            "type": "contour"
           }
          ],
          "contourcarpet": [
           {
            "colorbar": {
             "outlinewidth": 0,
             "ticks": ""
            },
            "type": "contourcarpet"
           }
          ],
          "heatmap": [
           {
            "colorbar": {
             "outlinewidth": 0,
             "ticks": ""
            },
            "colorscale": [
             [
              0,
              "#0d0887"
             ],
             [
              0.1111111111111111,
              "#46039f"
             ],
             [
              0.2222222222222222,
              "#7201a8"
             ],
             [
              0.3333333333333333,
              "#9c179e"
             ],
             [
              0.4444444444444444,
              "#bd3786"
             ],
             [
              0.5555555555555556,
              "#d8576b"
             ],
             [
              0.6666666666666666,
              "#ed7953"
             ],
             [
              0.7777777777777778,
              "#fb9f3a"
             ],
             [
              0.8888888888888888,
              "#fdca26"
             ],
             [
              1,
              "#f0f921"
             ]
            ],
            "type": "heatmap"
           }
          ],
          "histogram": [
           {
            "marker": {
             "pattern": {
              "fillmode": "overlay",
              "size": 10,
              "solidity": 0.2
             }
            },
            "type": "histogram"
           }
          ],
          "histogram2d": [
           {
            "colorbar": {
             "outlinewidth": 0,
             "ticks": ""
            },
            "colorscale": [
             [
              0,
              "#0d0887"
             ],
             [
              0.1111111111111111,
              "#46039f"
             ],
             [
              0.2222222222222222,
              "#7201a8"
             ],
             [
              0.3333333333333333,
              "#9c179e"
             ],
             [
              0.4444444444444444,
              "#bd3786"
             ],
             [
              0.5555555555555556,
              "#d8576b"
             ],
             [
              0.6666666666666666,
              "#ed7953"
             ],
             [
              0.7777777777777778,
              "#fb9f3a"
             ],
             [
              0.8888888888888888,
              "#fdca26"
             ],
             [
              1,
              "#f0f921"
             ]
            ],
            "type": "histogram2d"
           }
          ],
          "histogram2dcontour": [
           {
            "colorbar": {
             "outlinewidth": 0,
             "ticks": ""
            },
            "colorscale": [
             [
              0,
              "#0d0887"
             ],
             [
              0.1111111111111111,
              "#46039f"
             ],
             [
              0.2222222222222222,
              "#7201a8"
             ],
             [
              0.3333333333333333,
              "#9c179e"
             ],
             [
              0.4444444444444444,
              "#bd3786"
             ],
             [
              0.5555555555555556,
              "#d8576b"
             ],
             [
              0.6666666666666666,
              "#ed7953"
             ],
             [
              0.7777777777777778,
              "#fb9f3a"
             ],
             [
              0.8888888888888888,
              "#fdca26"
             ],
             [
              1,
              "#f0f921"
             ]
            ],
            "type": "histogram2dcontour"
           }
          ],
          "mesh3d": [
           {
            "colorbar": {
             "outlinewidth": 0,
             "ticks": ""
            },
            "type": "mesh3d"
           }
          ],
          "parcoords": [
           {
            "line": {
             "colorbar": {
              "outlinewidth": 0,
              "ticks": ""
             }
            },
            "type": "parcoords"
           }
          ],
          "pie": [
           {
            "automargin": true,
            "type": "pie"
           }
          ],
          "scatter": [
           {
            "fillpattern": {
             "fillmode": "overlay",
             "size": 10,
             "solidity": 0.2
            },
            "type": "scatter"
           }
          ],
          "scatter3d": [
           {
            "line": {
             "colorbar": {
              "outlinewidth": 0,
              "ticks": ""
             }
            },
            "marker": {
             "colorbar": {
              "outlinewidth": 0,
              "ticks": ""
             }
            },
            "type": "scatter3d"
           }
          ],
          "scattercarpet": [
           {
            "marker": {
             "colorbar": {
              "outlinewidth": 0,
              "ticks": ""
             }
            },
            "type": "scattercarpet"
           }
          ],
          "scattergeo": [
           {
            "marker": {
             "colorbar": {
              "outlinewidth": 0,
              "ticks": ""
             }
            },
            "type": "scattergeo"
           }
          ],
          "scattergl": [
           {
            "marker": {
             "colorbar": {
              "outlinewidth": 0,
              "ticks": ""
             }
            },
            "type": "scattergl"
           }
          ],
          "scattermap": [
           {
            "marker": {
             "colorbar": {
              "outlinewidth": 0,
              "ticks": ""
             }
            },
            "type": "scattermap"
           }
          ],
          "scattermapbox": [
           {
            "marker": {
             "colorbar": {
              "outlinewidth": 0,
              "ticks": ""
             }
            },
            "type": "scattermapbox"
           }
          ],
          "scatterpolar": [
           {
            "marker": {
             "colorbar": {
              "outlinewidth": 0,
              "ticks": ""
             }
            },
            "type": "scatterpolar"
           }
          ],
          "scatterpolargl": [
           {
            "marker": {
             "colorbar": {
              "outlinewidth": 0,
              "ticks": ""
             }
            },
            "type": "scatterpolargl"
           }
          ],
          "scatterternary": [
           {
            "marker": {
             "colorbar": {
              "outlinewidth": 0,
              "ticks": ""
             }
            },
            "type": "scatterternary"
           }
          ],
          "surface": [
           {
            "colorbar": {
             "outlinewidth": 0,
             "ticks": ""
            },
            "colorscale": [
             [
              0,
              "#0d0887"
             ],
             [
              0.1111111111111111,
              "#46039f"
             ],
             [
              0.2222222222222222,
              "#7201a8"
             ],
             [
              0.3333333333333333,
              "#9c179e"
             ],
             [
              0.4444444444444444,
              "#bd3786"
             ],
             [
              0.5555555555555556,
              "#d8576b"
             ],
             [
              0.6666666666666666,
              "#ed7953"
             ],
             [
              0.7777777777777778,
              "#fb9f3a"
             ],
             [
              0.8888888888888888,
              "#fdca26"
             ],
             [
              1,
              "#f0f921"
             ]
            ],
            "type": "surface"
           }
          ],
          "table": [
           {
            "cells": {
             "fill": {
              "color": "#EBF0F8"
             },
             "line": {
              "color": "white"
             }
            },
            "header": {
             "fill": {
              "color": "#C8D4E3"
             },
             "line": {
              "color": "white"
             }
            },
            "type": "table"
           }
          ]
         },
         "layout": {
          "annotationdefaults": {
           "arrowcolor": "#2a3f5f",
           "arrowhead": 0,
           "arrowwidth": 1
          },
          "autotypenumbers": "strict",
          "coloraxis": {
           "colorbar": {
            "outlinewidth": 0,
            "ticks": ""
           }
          },
          "colorscale": {
           "diverging": [
            [
             0,
             "#8e0152"
            ],
            [
             0.1,
             "#c51b7d"
            ],
            [
             0.2,
             "#de77ae"
            ],
            [
             0.3,
             "#f1b6da"
            ],
            [
             0.4,
             "#fde0ef"
            ],
            [
             0.5,
             "#f7f7f7"
            ],
            [
             0.6,
             "#e6f5d0"
            ],
            [
             0.7,
             "#b8e186"
            ],
            [
             0.8,
             "#7fbc41"
            ],
            [
             0.9,
             "#4d9221"
            ],
            [
             1,
             "#276419"
            ]
           ],
           "sequential": [
            [
             0,
             "#0d0887"
            ],
            [
             0.1111111111111111,
             "#46039f"
            ],
            [
             0.2222222222222222,
             "#7201a8"
            ],
            [
             0.3333333333333333,
             "#9c179e"
            ],
            [
             0.4444444444444444,
             "#bd3786"
            ],
            [
             0.5555555555555556,
             "#d8576b"
            ],
            [
             0.6666666666666666,
             "#ed7953"
            ],
            [
             0.7777777777777778,
             "#fb9f3a"
            ],
            [
             0.8888888888888888,
             "#fdca26"
            ],
            [
             1,
             "#f0f921"
            ]
           ],
           "sequentialminus": [
            [
             0,
             "#0d0887"
            ],
            [
             0.1111111111111111,
             "#46039f"
            ],
            [
             0.2222222222222222,
             "#7201a8"
            ],
            [
             0.3333333333333333,
             "#9c179e"
            ],
            [
             0.4444444444444444,
             "#bd3786"
            ],
            [
             0.5555555555555556,
             "#d8576b"
            ],
            [
             0.6666666666666666,
             "#ed7953"
            ],
            [
             0.7777777777777778,
             "#fb9f3a"
            ],
            [
             0.8888888888888888,
             "#fdca26"
            ],
            [
             1,
             "#f0f921"
            ]
           ]
          },
          "colorway": [
           "#636efa",
           "#EF553B",
           "#00cc96",
           "#ab63fa",
           "#FFA15A",
           "#19d3f3",
           "#FF6692",
           "#B6E880",
           "#FF97FF",
           "#FECB52"
          ],
          "font": {
           "color": "#2a3f5f"
          },
          "geo": {
           "bgcolor": "white",
           "lakecolor": "white",
           "landcolor": "#E5ECF6",
           "showlakes": true,
           "showland": true,
           "subunitcolor": "white"
          },
          "hoverlabel": {
           "align": "left"
          },
          "hovermode": "closest",
          "mapbox": {
           "style": "light"
          },
          "paper_bgcolor": "white",
          "plot_bgcolor": "#E5ECF6",
          "polar": {
           "angularaxis": {
            "gridcolor": "white",
            "linecolor": "white",
            "ticks": ""
           },
           "bgcolor": "#E5ECF6",
           "radialaxis": {
            "gridcolor": "white",
            "linecolor": "white",
            "ticks": ""
           }
          },
          "scene": {
           "xaxis": {
            "backgroundcolor": "#E5ECF6",
            "gridcolor": "white",
            "gridwidth": 2,
            "linecolor": "white",
            "showbackground": true,
            "ticks": "",
            "zerolinecolor": "white"
           },
           "yaxis": {
            "backgroundcolor": "#E5ECF6",
            "gridcolor": "white",
            "gridwidth": 2,
            "linecolor": "white",
            "showbackground": true,
            "ticks": "",
            "zerolinecolor": "white"
           },
           "zaxis": {
            "backgroundcolor": "#E5ECF6",
            "gridcolor": "white",
            "gridwidth": 2,
            "linecolor": "white",
            "showbackground": true,
            "ticks": "",
            "zerolinecolor": "white"
           }
          },
          "shapedefaults": {
           "line": {
            "color": "#2a3f5f"
           }
          },
          "ternary": {
           "aaxis": {
            "gridcolor": "white",
            "linecolor": "white",
            "ticks": ""
           },
           "baxis": {
            "gridcolor": "white",
            "linecolor": "white",
            "ticks": ""
           },
           "bgcolor": "#E5ECF6",
           "caxis": {
            "gridcolor": "white",
            "linecolor": "white",
            "ticks": ""
           }
          },
          "title": {
           "x": 0.05
          },
          "xaxis": {
           "automargin": true,
           "gridcolor": "white",
           "linecolor": "white",
           "ticks": "",
           "title": {
            "standoff": 15
           },
           "zerolinecolor": "white",
           "zerolinewidth": 2
          },
          "yaxis": {
           "automargin": true,
           "gridcolor": "white",
           "linecolor": "white",
           "ticks": "",
           "title": {
            "standoff": 15
           },
           "zerolinecolor": "white",
           "zerolinewidth": 2
          }
         }
        },
        "title": {
         "text": "Savings of  Low income Populations  BHC , 1994-2023"
        },
        "width": 1200,
        "xaxis": {
         "anchor": "y",
         "domain": [
          0,
          1
         ],
         "title": {
          "text": "Year"
         }
        },
        "yaxis": {
         "anchor": "x",
         "domain": [
          0,
          1
         ],
         "title": {
          "text": "Pct of  Low income population with savings"
         }
        }
       }
      }
     },
     "metadata": {},
     "output_type": "display_data"
    },
    {
     "data": {
      "image/png": "[encoded data removed]",
      "text/plain": [
       "<IPython.core.display.Image object>"
      ]
     },
     "metadata": {},
     "output_type": "display_data"
    }
   ],
   "source": [
    "savings_categories.remove(\"Total\") if \"Total\" in savings_categories else None\n",
    "plot_hbai_trends(BHC, savings_categories, True)\n"
   ]
  },
  {
   "cell_type": "code",
   "execution_count": 14,
   "metadata": {},
   "outputs": [
    {
     "name": "stdout",
     "output_type": "stream",
     "text": [
      "     Financial Year              Savings  Savings categories\n",
      "0              1995       No savings pct           28.711906\n",
      "1              1996       No savings pct           30.842440\n",
      "2              1997       No savings pct           27.702163\n",
      "3              1998       No savings pct           27.791956\n",
      "4              1999       No savings pct           26.942486\n",
      "..              ...                  ...                 ...\n",
      "227            2019  £20,000 or more pct           20.095491\n",
      "228            2020  £20,000 or more pct           22.360551\n",
      "229            2021  £20,000 or more pct                 NaN\n",
      "230            2022  £20,000 or more pct           24.317262\n",
      "231            2023  £20,000 or more pct           24.919778\n",
      "\n",
      "[232 rows x 3 columns]\n"
     ]
    },
    {
     "data": {
      "application/vnd.plotly.v1+json": {
       "config": {
        "plotlyServerURL": "https://plot.ly"
       },
       "data": [
        {
         "customdata": [
          [
           "No savings pct"
          ],
          [
           "No savings pct"
          ],
          [
           "No savings pct"
          ],
          [
           "No savings pct"
          ],
          [
           "No savings pct"
          ],
          [
           "No savings pct"
          ],
          [
           "No savings pct"
          ],
          [
           "No savings pct"
          ],
          [
           "No savings pct"
          ],
          [
           "No savings pct"
          ],
          [
           "No savings pct"
          ],
          [
           "No savings pct"
          ],
          [
           "No savings pct"
          ],
          [
           "No savings pct"
          ],
          [
           "No savings pct"
          ],
          [
           "No savings pct"
          ],
          [
           "No savings pct"
          ],
          [
           "No savings pct"
          ],
          [
           "No savings pct"
          ],
          [
           "No savings pct"
          ],
          [
           "No savings pct"
          ],
          [
           "No savings pct"
          ],
          [
           "No savings pct"
          ],
          [
           "No savings pct"
          ],
          [
           "No savings pct"
          ],
          [
           "No savings pct"
          ],
          [
           "No savings pct"
          ],
          [
           "No savings pct"
          ],
          [
           "No savings pct"
          ]
         ],
         "hovertemplate": "Savings=%{customdata[0]}<br>Year=%{x}<br>Amount of savings=%{y}<extra></extra>",
         "legendgroup": "No savings pct",
         "line": {
          "color": "#636efa",
          "dash": "solid"
         },
         "marker": {
          "symbol": "circle"
         },
         "mode": "lines",
         "name": "No savings pct",
         "orientation": "v",
         "showlegend": true,
         "type": "scatter",
         "x": {
          "bdata": "ywfMB80HzgfPB9AH0QfSB9MH1AfVB9YH1wfYB9kH2gfbB9wH3QfeB98H4AfhB+IH4wfkB+UH5gfnBw==",
          "dtype": "i2"
         },
         "xaxis": "x",
         "y": {
          "bdata": "3RiXeD+2PEB0/vwhqtc+QN4xAuzAsztAy9+GnL3KO0B4Q027RvE6QOIqm9I6DDlAVvxMUXcCOkAd3ncom4A7QL37eZEP2ztAbJSrOTbrO0CW9Rg0Qv87QHjCm39olTxAOuMC5KrjPEBeU8KFVn07QEzjZd8bsjxAUiIlATj4P0B8ke2xyQVBQCswkV4DakFAKdtYzT/YQkDuBfxv2kxDQGQlQ1m+kEJA4V3aQbjMQUB6EFUGbg9DQKrDmkXkI0NAq7yDnlTxQkCbZUyQtncpQAAAAAAAAPh/1iDU2HyBLEDtJm+KZwswQA==",
          "dtype": "f8"
         },
         "yaxis": "y"
        },
        {
         "customdata": [
          [
           "Less than £1,500 pct"
          ],
          [
           "Less than £1,500 pct"
          ],
          [
           "Less than £1,500 pct"
          ],
          [
           "Less than £1,500 pct"
          ],
          [
           "Less than £1,500 pct"
          ],
          [
           "Less than £1,500 pct"
          ],
          [
           "Less than £1,500 pct"
          ],
          [
           "Less than £1,500 pct"
          ],
          [
           "Less than £1,500 pct"
          ],
          [
           "Less than £1,500 pct"
          ],
          [
           "Less than £1,500 pct"
          ],
          [
           "Less than £1,500 pct"
          ],
          [
           "Less than £1,500 pct"
          ],
          [
           "Less than £1,500 pct"
          ],
          [
           "Less than £1,500 pct"
          ],
          [
           "Less than £1,500 pct"
          ],
          [
           "Less than £1,500 pct"
          ],
          [
           "Less than £1,500 pct"
          ],
          [
           "Less than £1,500 pct"
          ],
          [
           "Less than £1,500 pct"
          ],
          [
           "Less than £1,500 pct"
          ],
          [
           "Less than £1,500 pct"
          ],
          [
           "Less than £1,500 pct"
          ],
          [
           "Less than £1,500 pct"
          ],
          [
           "Less than £1,500 pct"
          ],
          [
           "Less than £1,500 pct"
          ],
          [
           "Less than £1,500 pct"
          ],
          [
           "Less than £1,500 pct"
          ],
          [
           "Less than £1,500 pct"
          ]
         ],
         "hovertemplate": "Savings=%{customdata[0]}<br>Year=%{x}<br>Amount of savings=%{y}<extra></extra>",
         "legendgroup": "Less than £1,500 pct",
         "line": {
          "color": "#EF553B",
          "dash": "solid"
         },
         "marker": {
          "symbol": "circle"
         },
         "mode": "lines",
         "name": "Less than £1,500 pct",
         "orientation": "v",
         "showlegend": true,
         "type": "scatter",
         "x": {
          "bdata": "ywfMB80HzgfPB9AH0QfSB9MH1AfVB9YH1wfYB9kH2gfbB9wH3QfeB98H4AfhB+IH4wfkB+UH5gfnBw==",
          "dtype": "i2"
         },
         "xaxis": "x",
         "y": {
          "bdata": "N1gHR6KxM0APn+n8CQA1QO+xAFEm5DZAx1jD7N8YOEAJXpXdwn84QF5/0B+jizlAPg1DxcoEOUCSkF4rlL43QHbwJad1GjZAM34sj+MTNUBc07OXHH83QFJKTFnUiDZA5ecskrYDNkBxe0a1f2I1QNaIy2/yTzNA7w/TH0S0M0DErtlPqIgvQBgKDbqt6C1Ancbp2u3uK0DwG0DhYuYpQJ5Y11ut9SdArChtdEKpKkDyLUG7DPkoQN8aAWao4yZAXZFmJ2F9J0DTLFtjWRs/QAAAAAAAAPh/003AXwfCOkDCLmJCROI6QA==",
          "dtype": "f8"
         },
         "yaxis": "y"
        },
        {
         "customdata": [
          [
           "£1,500 but less than £3,000 pct"
          ],
          [
           "£1,500 but less than £3,000 pct"
          ],
          [
           "£1,500 but less than £3,000 pct"
          ],
          [
           "£1,500 but less than £3,000 pct"
          ],
          [
           "£1,500 but less than £3,000 pct"
          ],
          [
           "£1,500 but less than £3,000 pct"
          ],
          [
           "£1,500 but less than £3,000 pct"
          ],
          [
           "£1,500 but less than £3,000 pct"
          ],
          [
           "£1,500 but less than £3,000 pct"
          ],
          [
           "£1,500 but less than £3,000 pct"
          ],
          [
           "£1,500 but less than £3,000 pct"
          ],
          [
           "£1,500 but less than £3,000 pct"
          ],
          [
           "£1,500 but less than £3,000 pct"
          ],
          [
           "£1,500 but less than £3,000 pct"
          ],
          [
           "£1,500 but less than £3,000 pct"
          ],
          [
           "£1,500 but less than £3,000 pct"
          ],
          [
           "£1,500 but less than £3,000 pct"
          ],
          [
           "£1,500 but less than £3,000 pct"
          ],
          [
           "£1,500 but less than £3,000 pct"
          ],
          [
           "£1,500 but less than £3,000 pct"
          ],
          [
           "£1,500 but less than £3,000 pct"
          ],
          [
           "£1,500 but less than £3,000 pct"
          ],
          [
           "£1,500 but less than £3,000 pct"
          ],
          [
           "£1,500 but less than £3,000 pct"
          ],
          [
           "£1,500 but less than £3,000 pct"
          ],
          [
           "£1,500 but less than £3,000 pct"
          ],
          [
           "£1,500 but less than £3,000 pct"
          ],
          [
           "£1,500 but less than £3,000 pct"
          ],
          [
           "£1,500 but less than £3,000 pct"
          ]
         ],
         "hovertemplate": "Savings=%{customdata[0]}<br>Year=%{x}<br>Amount of savings=%{y}<extra></extra>",
         "legendgroup": "£1,500 but less than £3,000 pct",
         "line": {
          "color": "#00cc96",
          "dash": "solid"
         },
         "marker": {
          "symbol": "circle"
         },
         "mode": "lines",
         "name": "£1,500 but less than £3,000 pct",
         "orientation": "v",
         "showlegend": true,
         "type": "scatter",
         "x": {
          "bdata": "ywfMB80HzgfPB9AH0QfSB9MH1AfVB9YH1wfYB9kH2gfbB9wH3QfeB98H4AfhB+IH4wfkB+UH5gfnBw==",
          "dtype": "i2"
         },
         "xaxis": "x",
         "y": {
          "bdata": "0Ft2pQelI0CfZ4RuR/AjQG0Rr0FEoiNA97HEXhQMIkC++VBhA6kgQIc4FPJ6wSBAov2RkeZ3H0AxRnsldo4gQO92f3pjdiFAH9tsiTN9IUD1u9aEvr0eQN8gQMMOVx1AVkWt2Le2HEAixfAWKIMcQB4MGD9Ylx1AFATBNFLKHEBzmKJdVkwdQELLCXJGEhxA3oLn1sT6GkCXz+58L8UYQNJu7mUsVRtAG/pry0J0G0C9lYYxNAUcQDCA0ZeJ2BtAL/DHsscgG0DfgfMt+iQhQAAAAAAAAPh/39t+aG4xIEByv6vwx9gdQA==",
          "dtype": "f8"
         },
         "yaxis": "y"
        },
        {
         "customdata": [
          [
           "£3,000 but less than £8,000 pct"
          ],
          [
           "£3,000 but less than £8,000 pct"
          ],
          [
           "£3,000 but less than £8,000 pct"
          ],
          [
           "£3,000 but less than £8,000 pct"
          ],
          [
           "£3,000 but less than £8,000 pct"
          ],
          [
           "£3,000 but less than £8,000 pct"
          ],
          [
           "£3,000 but less than £8,000 pct"
          ],
          [
           "£3,000 but less than £8,000 pct"
          ],
          [
           "£3,000 but less than £8,000 pct"
          ],
          [
           "£3,000 but less than £8,000 pct"
          ],
          [
           "£3,000 but less than £8,000 pct"
          ],
          [
           "£3,000 but less than £8,000 pct"
          ],
          [
           "£3,000 but less than £8,000 pct"
          ],
          [
           "£3,000 but less than £8,000 pct"
          ],
          [
           "£3,000 but less than £8,000 pct"
          ],
          [
           "£3,000 but less than £8,000 pct"
          ],
          [
           "£3,000 but less than £8,000 pct"
          ],
          [
           "£3,000 but less than £8,000 pct"
          ],
          [
           "£3,000 but less than £8,000 pct"
          ],
          [
           "£3,000 but less than £8,000 pct"
          ],
          [
           "£3,000 but less than £8,000 pct"
          ],
          [
           "£3,000 but less than £8,000 pct"
          ],
          [
           "£3,000 but less than £8,000 pct"
          ],
          [
           "£3,000 but less than £8,000 pct"
          ],
          [
           "£3,000 but less than £8,000 pct"
          ],
          [
           "£3,000 but less than £8,000 pct"
          ],
          [
           "£3,000 but less than £8,000 pct"
          ],
          [
           "£3,000 but less than £8,000 pct"
          ],
          [
           "£3,000 but less than £8,000 pct"
          ]
         ],
         "hovertemplate": "Savings=%{customdata[0]}<br>Year=%{x}<br>Amount of savings=%{y}<extra></extra>",
         "legendgroup": "£3,000 but less than £8,000 pct",
         "line": {
          "color": "#ab63fa",
          "dash": "solid"
         },
         "marker": {
          "symbol": "circle"
         },
         "mode": "lines",
         "name": "£3,000 but less than £8,000 pct",
         "orientation": "v",
         "showlegend": true,
         "type": "scatter",
         "x": {
          "bdata": "ywfMB80HzgfPB9AH0QfSB9MH1AfVB9YH1wfYB9kH2gfbB9wH3QfeB98H4AfhB+IH4wfkB+UH5gfnBw==",
          "dtype": "i2"
         },
         "xaxis": "x",
         "y": {
          "bdata": "qCtTrzkBLUBbM20R/4ksQBVTXKI26SxA2kItP/L7K0AfynixCw4sQC3u7iowzixAX44kdDqoLED9Z2PBLqssQPd7m3qGUC5A69Pc89o2L0CGKO2x174rQLINsOKUEixAAaUG5FWfK0DoFuNU/EEsQGDf1PWWZSxABju3vn/hK0Ax2P7gRjAqQOAdW7hw0ihA/QEqMfhxKEAtyb0x3esoQFLwy8ouzilAidKEPvIdKkChaL4ZycIoQMsmTRDk2ShAyeyRlH8tKUCUwrGF7oEqQAAAAAAAAPh/AH27/XfIK0C8Roolt9IoQA==",
          "dtype": "f8"
         },
         "yaxis": "y"
        },
        {
         "customdata": [
          [
           "£8,000 but less than £10,000 pct"
          ],
          [
           "£8,000 but less than £10,000 pct"
          ],
          [
           "£8,000 but less than £10,000 pct"
          ],
          [
           "£8,000 but less than £10,000 pct"
          ],
          [
           "£8,000 but less than £10,000 pct"
          ],
          [
           "£8,000 but less than £10,000 pct"
          ],
          [
           "£8,000 but less than £10,000 pct"
          ],
          [
           "£8,000 but less than £10,000 pct"
          ],
          [
           "£8,000 but less than £10,000 pct"
          ],
          [
           "£8,000 but less than £10,000 pct"
          ],
          [
           "£8,000 but less than £10,000 pct"
          ],
          [
           "£8,000 but less than £10,000 pct"
          ],
          [
           "£8,000 but less than £10,000 pct"
          ],
          [
           "£8,000 but less than £10,000 pct"
          ],
          [
           "£8,000 but less than £10,000 pct"
          ],
          [
           "£8,000 but less than £10,000 pct"
          ],
          [
           "£8,000 but less than £10,000 pct"
          ],
          [
           "£8,000 but less than £10,000 pct"
          ],
          [
           "£8,000 but less than £10,000 pct"
          ],
          [
           "£8,000 but less than £10,000 pct"
          ],
          [
           "£8,000 but less than £10,000 pct"
          ],
          [
           "£8,000 but less than £10,000 pct"
          ],
          [
           "£8,000 but less than £10,000 pct"
          ],
          [
           "£8,000 but less than £10,000 pct"
          ],
          [
           "£8,000 but less than £10,000 pct"
          ],
          [
           "£8,000 but less than £10,000 pct"
          ],
          [
           "£8,000 but less than £10,000 pct"
          ],
          [
           "£8,000 but less than £10,000 pct"
          ],
          [
           "£8,000 but less than £10,000 pct"
          ]
         ],
         "hovertemplate": "Savings=%{customdata[0]}<br>Year=%{x}<br>Amount of savings=%{y}<extra></extra>",
         "legendgroup": "£8,000 but less than £10,000 pct",
         "line": {
          "color": "#FFA15A",
          "dash": "solid"
         },
         "marker": {
          "symbol": "circle"
         },
         "mode": "lines",
         "name": "£8,000 but less than £10,000 pct",
         "orientation": "v",
         "showlegend": true,
         "type": "scatter",
         "x": {
          "bdata": "ywfMB80HzgfPB9AH0QfSB9MH1AfVB9YH1wfYB9kH2gfbB9wH3QfeB98H4AfhB+IH4wfkB+UH5gfnBw==",
          "dtype": "i2"
         },
         "xaxis": "x",
         "y": {
          "bdata": "vrDKBmqLDUCsw2YyxawGQNPQyqM5TQhAwKD+zFnDBkDWXzi4RVIKQJ35VsS5DAlA0z0oPaHwCUCfrCpTH2AKQMm2DGS+LgtAbMD1cLkhDECnUNWmMK0MQMv7PeKB5gtAZKTjMF0dCkDfjegCLkcMQFOqNyJ4mQpAJIYTCDNiC0ChL1hiFswHQNMBc84ukAdAwC9x5R6CBkBRF0dURK4FQFFVhpd6TAhANHsgbhO7CEA3qlyn6QYGQDC0hkaHZAdACWc9wmFRBEC7bBG8GcYJQAAAAAAAAPh/2c8i+d4HCECqEwaJFxoGQA==",
          "dtype": "f8"
         },
         "yaxis": "y"
        },
        {
         "customdata": [
          [
           "£10,000 but less than £16,000 pct"
          ],
          [
           "£10,000 but less than £16,000 pct"
          ],
          [
           "£10,000 but less than £16,000 pct"
          ],
          [
           "£10,000 but less than £16,000 pct"
          ],
          [
           "£10,000 but less than £16,000 pct"
          ],
          [
           "£10,000 but less than £16,000 pct"
          ],
          [
           "£10,000 but less than £16,000 pct"
          ],
          [
           "£10,000 but less than £16,000 pct"
          ],
          [
           "£10,000 but less than £16,000 pct"
          ],
          [
           "£10,000 but less than £16,000 pct"
          ],
          [
           "£10,000 but less than £16,000 pct"
          ],
          [
           "£10,000 but less than £16,000 pct"
          ],
          [
           "£10,000 but less than £16,000 pct"
          ],
          [
           "£10,000 but less than £16,000 pct"
          ],
          [
           "£10,000 but less than £16,000 pct"
          ],
          [
           "£10,000 but less than £16,000 pct"
          ],
          [
           "£10,000 but less than £16,000 pct"
          ],
          [
           "£10,000 but less than £16,000 pct"
          ],
          [
           "£10,000 but less than £16,000 pct"
          ],
          [
           "£10,000 but less than £16,000 pct"
          ],
          [
           "£10,000 but less than £16,000 pct"
          ],
          [
           "£10,000 but less than £16,000 pct"
          ],
          [
           "£10,000 but less than £16,000 pct"
          ],
          [
           "£10,000 but less than £16,000 pct"
          ],
          [
           "£10,000 but less than £16,000 pct"
          ],
          [
           "£10,000 but less than £16,000 pct"
          ],
          [
           "£10,000 but less than £16,000 pct"
          ],
          [
           "£10,000 but less than £16,000 pct"
          ],
          [
           "£10,000 but less than £16,000 pct"
          ]
         ],
         "hovertemplate": "Savings=%{customdata[0]}<br>Year=%{x}<br>Amount of savings=%{y}<extra></extra>",
         "legendgroup": "£10,000 but less than £16,000 pct",
         "line": {
          "color": "#19d3f3",
          "dash": "solid"
         },
         "marker": {
          "symbol": "circle"
         },
         "mode": "lines",
         "name": "£10,000 but less than £16,000 pct",
         "orientation": "v",
         "showlegend": true,
         "type": "scatter",
         "x": {
          "bdata": "ywfMB80HzgfPB9AH0QfSB9MH1AfVB9YH1wfYB9kH2gfbB9wH3QfeB98H4AfhB+IH4wfkB+UH5gfnBw==",
          "dtype": "i2"
         },
         "xaxis": "x",
         "y": {
          "bdata": "wmVsvaYjGkBOPKCocPkVQAI/wJC8gBdABjMjyYSUGUDTHkk2XRwaQOCkXr3dpRlAAqd1ZceVGkBLHLfQ1hgbQO4C/EDnOBpAwV4jRefYGkCn9A4cxk0bQEQ6N+8RpxlA6HO12E4+GUDUAjw0RXUaQHCu5EN/TRtAPpUjphPGGkDWbmJ3ra8ZQJppxsxpUBpAiW9Lo6oEGEBc05RSCW0YQPBn5kR4dBhAWNxKYFf/F0COtDBGsC0YQL4Gwdm/uhdAzLYecnroF0BFBAxU86kZQAAAAAAAAPh/TZ/yIHegGkDC/05XuUgaQA==",
          "dtype": "f8"
         },
         "yaxis": "y"
        },
        {
         "customdata": [
          [
           "£16,000 but less than £20,000 pct"
          ],
          [
           "£16,000 but less than £20,000 pct"
          ],
          [
           "£16,000 but less than £20,000 pct"
          ],
          [
           "£16,000 but less than £20,000 pct"
          ],
          [
           "£16,000 but less than £20,000 pct"
          ],
          [
           "£16,000 but less than £20,000 pct"
          ],
          [
           "£16,000 but less than £20,000 pct"
          ],
          [
           "£16,000 but less than £20,000 pct"
          ],
          [
           "£16,000 but less than £20,000 pct"
          ],
          [
           "£16,000 but less than £20,000 pct"
          ],
          [
           "£16,000 but less than £20,000 pct"
          ],
          [
           "£16,000 but less than £20,000 pct"
          ],
          [
           "£16,000 but less than £20,000 pct"
          ],
          [
           "£16,000 but less than £20,000 pct"
          ],
          [
           "£16,000 but less than £20,000 pct"
          ],
          [
           "£16,000 but less than £20,000 pct"
          ],
          [
           "£16,000 but less than £20,000 pct"
          ],
          [
           "£16,000 but less than £20,000 pct"
          ],
          [
           "£16,000 but less than £20,000 pct"
          ],
          [
           "£16,000 but less than £20,000 pct"
          ],
          [
           "£16,000 but less than £20,000 pct"
          ],
          [
           "£16,000 but less than £20,000 pct"
          ],
          [
           "£16,000 but less than £20,000 pct"
          ],
          [
           "£16,000 but less than £20,000 pct"
          ],
          [
           "£16,000 but less than £20,000 pct"
          ],
          [
           "£16,000 but less than £20,000 pct"
          ],
          [
           "£16,000 but less than £20,000 pct"
          ],
          [
           "£16,000 but less than £20,000 pct"
          ],
          [
           "£16,000 but less than £20,000 pct"
          ]
         ],
         "hovertemplate": "Savings=%{customdata[0]}<br>Year=%{x}<br>Amount of savings=%{y}<extra></extra>",
         "legendgroup": "£16,000 but less than £20,000 pct",
         "line": {
          "color": "#FF6692",
          "dash": "solid"
         },
         "marker": {
          "symbol": "circle"
         },
         "mode": "lines",
         "name": "£16,000 but less than £20,000 pct",
         "orientation": "v",
         "showlegend": true,
         "type": "scatter",
         "x": {
          "bdata": "ywfMB80HzgfPB9AH0QfSB9MH1AfVB9YH1wfYB9kH2gfbB9wH3QfeB98H4AfhB+IH4wfkB+UH5gfnBw==",
          "dtype": "i2"
         },
         "xaxis": "x",
         "y": {
          "bdata": "V43OxFTLB0C4hNBluGkCQI6vMeBZBwNAM0gUdYaFBEBJvxPX48kGQFOn+DQftgVAFa8q9Cm7A0BsCoRV/FgFQIxmwhRN5QRAVdQlFX6gA0BIgzsI/l8GQF1guH/rCgVAtjr/ppVYBkBc0RVyZvoHQD9kCVts4QZAzfKFs8/PBEDyDzj4dRcEQCZuFrix1gRAXfHHs/cQA0BqI5Fj13IDQF10a6moIgRAYzz3v284BUD35WUnMiACQFqrRWl/kAVADaQSOrwXA0AZrSjaTq4CQAAAAAAAAPh/cFHYMaovCECEavAc9o4HQA==",
          "dtype": "f8"
         },
         "yaxis": "y"
        },
        {
         "customdata": [
          [
           "£20,000 or more pct"
          ],
          [
           "£20,000 or more pct"
          ],
          [
           "£20,000 or more pct"
          ],
          [
           "£20,000 or more pct"
          ],
          [
           "£20,000 or more pct"
          ],
          [
           "£20,000 or more pct"
          ],
          [
           "£20,000 or more pct"
          ],
          [
           "£20,000 or more pct"
          ],
          [
           "£20,000 or more pct"
          ],
          [
           "£20,000 or more pct"
          ],
          [
           "£20,000 or more pct"
          ],
          [
           "£20,000 or more pct"
          ],
          [
           "£20,000 or more pct"
          ],
          [
           "£20,000 or more pct"
          ],
          [
           "£20,000 or more pct"
          ],
          [
           "£20,000 or more pct"
          ],
          [
           "£20,000 or more pct"
          ],
          [
           "£20,000 or more pct"
          ],
          [
           "£20,000 or more pct"
          ],
          [
           "£20,000 or more pct"
          ],
          [
           "£20,000 or more pct"
          ],
          [
           "£20,000 or more pct"
          ],
          [
           "£20,000 or more pct"
          ],
          [
           "£20,000 or more pct"
          ],
          [
           "£20,000 or more pct"
          ],
          [
           "£20,000 or more pct"
          ],
          [
           "£20,000 or more pct"
          ],
          [
           "£20,000 or more pct"
          ],
          [
           "£20,000 or more pct"
          ]
         ],
         "hovertemplate": "Savings=%{customdata[0]}<br>Year=%{x}<br>Amount of savings=%{y}<extra></extra>",
         "legendgroup": "£20,000 or more pct",
         "line": {
          "color": "#B6E880",
          "dash": "solid"
         },
         "marker": {
          "symbol": "circle"
         },
         "mode": "lines",
         "name": "£20,000 or more pct",
         "orientation": "v",
         "showlegend": true,
         "type": "scatter",
         "x": {
          "bdata": "ywfMB80HzgfPB9AH0QfSB9MH1AfVB9YH1wfYB9kH2gfbB9wH3QfeB98H4AfhB+IH4wfkB+UH5gfnBw==",
          "dtype": "i2"
         },
         "xaxis": "x",
         "y": {
          "bdata": "/BNdGngiLEDCOeOH+ZMqQEuUj3gzrytAS0Zj2kOUKkDwYXm8pBErQB9KIuHzvCxA6tDilnfXLECOOO0eSs0qQOhr8xqVLCtAKJftbLzwK0BMOEK6XHsrQCCUxrmF9S1AXLDvIOd5L0DYpxq53bgwQLnTfMWTYjFAlLX/YtTwLEDJTyWDgtwxQHlQJOnhqDJAo4SQrc4sMkCBEa1reYwyQNqhVKdHfDNAE5ohMp5nM0Ap7w9xnPEyQCsqRQf+VTNAdZw4HHIYNEDbueESTVw2QAAAAAAAAPh/V2kcEzhROEBfB6yZdus4QA==",
          "dtype": "f8"
         },
         "yaxis": "y"
        }
       ],
       "layout": {
        "height": 600,
        "hovermode": "x unified",
        "legend": {
         "title": {
          "text": "Savings"
         },
         "tracegroupgap": 0
        },
        "template": {
         "data": {
          "bar": [
           {
            "error_x": {
             "color": "#2a3f5f"
            },
            "error_y": {
             "color": "#2a3f5f"
            },
            "marker": {
             "line": {
              "color": "#E5ECF6",
              "width": 0.5
             },
             "pattern": {
              "fillmode": "overlay",
              "size": 10,
              "solidity": 0.2
             }
            },
            "type": "bar"
           }
          ],
          "barpolar": [
           {
            "marker": {
             "line": {
              "color": "#E5ECF6",
              "width": 0.5
             },
             "pattern": {
              "fillmode": "overlay",
              "size": 10,
              "solidity": 0.2
             }
            },
            "type": "barpolar"
           }
          ],
          "carpet": [
           {
            "aaxis": {
             "endlinecolor": "#2a3f5f",
             "gridcolor": "white",
             "linecolor": "white",
             "minorgridcolor": "white",
             "startlinecolor": "#2a3f5f"
            },
            "baxis": {
             "endlinecolor": "#2a3f5f",
             "gridcolor": "white",
             "linecolor": "white",
             "minorgridcolor": "white",
             "startlinecolor": "#2a3f5f"
            },
            "type": "carpet"
           }
          ],
          "choropleth": [
           {
            "colorbar": {
             "outlinewidth": 0,
             "ticks": ""
            },
            "type": "choropleth"
           }
          ],
          "contour": [
           {
            "colorbar": {
             "outlinewidth": 0,
             "ticks": ""
            },
            "colorscale": [
             [
              0,
              "#0d0887"
             ],
             [
              0.1111111111111111,
              "#46039f"
             ],
             [
              0.2222222222222222,
              "#7201a8"
             ],
             [
              0.3333333333333333,
              "#9c179e"
             ],
             [
              0.4444444444444444,
              "#bd3786"
             ],
             [
              0.5555555555555556,
              "#d8576b"
             ],
             [
              0.6666666666666666,
              "#ed7953"
             ],
             [
              0.7777777777777778,
              "#fb9f3a"
             ],
             [
              0.8888888888888888,
              "#fdca26"
             ],
             [
              1,
              "#f0f921"
             ]
            ],
            "type": "contour"
           }
          ],
          "contourcarpet": [
           {
            "colorbar": {
             "outlinewidth": 0,
             "ticks": ""
            },
            "type": "contourcarpet"
           }
          ],
          "heatmap": [
           {
            "colorbar": {
             "outlinewidth": 0,
             "ticks": ""
            },
            "colorscale": [
             [
              0,
              "#0d0887"
             ],
             [
              0.1111111111111111,
              "#46039f"
             ],
             [
              0.2222222222222222,
              "#7201a8"
             ],
             [
              0.3333333333333333,
              "#9c179e"
             ],
             [
              0.4444444444444444,
              "#bd3786"
             ],
             [
              0.5555555555555556,
              "#d8576b"
             ],
             [
              0.6666666666666666,
              "#ed7953"
             ],
             [
              0.7777777777777778,
              "#fb9f3a"
             ],
             [
              0.8888888888888888,
              "#fdca26"
             ],
             [
              1,
              "#f0f921"
             ]
            ],
            "type": "heatmap"
           }
          ],
          "histogram": [
           {
            "marker": {
             "pattern": {
              "fillmode": "overlay",
              "size": 10,
              "solidity": 0.2
             }
            },
            "type": "histogram"
           }
          ],
          "histogram2d": [
           {
            "colorbar": {
             "outlinewidth": 0,
             "ticks": ""
            },
            "colorscale": [
             [
              0,
              "#0d0887"
             ],
             [
              0.1111111111111111,
              "#46039f"
             ],
             [
              0.2222222222222222,
              "#7201a8"
             ],
             [
              0.3333333333333333,
              "#9c179e"
             ],
             [
              0.4444444444444444,
              "#bd3786"
             ],
             [
              0.5555555555555556,
              "#d8576b"
             ],
             [
              0.6666666666666666,
              "#ed7953"
             ],
             [
              0.7777777777777778,
              "#fb9f3a"
             ],
             [
              0.8888888888888888,
              "#fdca26"
             ],
             [
              1,
              "#f0f921"
             ]
            ],
            "type": "histogram2d"
           }
          ],
          "histogram2dcontour": [
           {
            "colorbar": {
             "outlinewidth": 0,
             "ticks": ""
            },
            "colorscale": [
             [
              0,
              "#0d0887"
             ],
             [
              0.1111111111111111,
              "#46039f"
             ],
             [
              0.2222222222222222,
              "#7201a8"
             ],
             [
              0.3333333333333333,
              "#9c179e"
             ],
             [
              0.4444444444444444,
              "#bd3786"
             ],
             [
              0.5555555555555556,
              "#d8576b"
             ],
             [
              0.6666666666666666,
              "#ed7953"
             ],
             [
              0.7777777777777778,
              "#fb9f3a"
             ],
             [
              0.8888888888888888,
              "#fdca26"
             ],
             [
              1,
              "#f0f921"
             ]
            ],
            "type": "histogram2dcontour"
           }
          ],
          "mesh3d": [
           {
            "colorbar": {
             "outlinewidth": 0,
             "ticks": ""
            },
            "type": "mesh3d"
           }
          ],
          "parcoords": [
           {
            "line": {
             "colorbar": {
              "outlinewidth": 0,
              "ticks": ""
             }
            },
            "type": "parcoords"
           }
          ],
          "pie": [
           {
            "automargin": true,
            "type": "pie"
           }
          ],
          "scatter": [
           {
            "fillpattern": {
             "fillmode": "overlay",
             "size": 10,
             "solidity": 0.2
            },
            "type": "scatter"
           }
          ],
          "scatter3d": [
           {
            "line": {
             "colorbar": {
              "outlinewidth": 0,
              "ticks": ""
             }
            },
            "marker": {
             "colorbar": {
              "outlinewidth": 0,
              "ticks": ""
             }
            },
            "type": "scatter3d"
           }
          ],
          "scattercarpet": [
           {
            "marker": {
             "colorbar": {
              "outlinewidth": 0,
              "ticks": ""
             }
            },
            "type": "scattercarpet"
           }
          ],
          "scattergeo": [
           {
            "marker": {
             "colorbar": {
              "outlinewidth": 0,
              "ticks": ""
             }
            },
            "type": "scattergeo"
           }
          ],
          "scattergl": [
           {
            "marker": {
             "colorbar": {
              "outlinewidth": 0,
              "ticks": ""
             }
            },
            "type": "scattergl"
           }
          ],
          "scattermap": [
           {
            "marker": {
             "colorbar": {
              "outlinewidth": 0,
              "ticks": ""
             }
            },
            "type": "scattermap"
           }
          ],
          "scattermapbox": [
           {
            "marker": {
             "colorbar": {
              "outlinewidth": 0,
              "ticks": ""
             }
            },
            "type": "scattermapbox"
           }
          ],
          "scatterpolar": [
           {
            "marker": {
             "colorbar": {
              "outlinewidth": 0,
              "ticks": ""
             }
            },
            "type": "scatterpolar"
           }
          ],
          "scatterpolargl": [
           {
            "marker": {
             "colorbar": {
              "outlinewidth": 0,
              "ticks": ""
             }
            },
            "type": "scatterpolargl"
           }
          ],
          "scatterternary": [
           {
            "marker": {
             "colorbar": {
              "outlinewidth": 0,
              "ticks": ""
             }
            },
            "type": "scatterternary"
           }
          ],
          "surface": [
           {
            "colorbar": {
             "outlinewidth": 0,
             "ticks": ""
            },
            "colorscale": [
             [
              0,
              "#0d0887"
             ],
             [
              0.1111111111111111,
              "#46039f"
             ],
             [
              0.2222222222222222,
              "#7201a8"
             ],
             [
              0.3333333333333333,
              "#9c179e"
             ],
             [
              0.4444444444444444,
              "#bd3786"
             ],
             [
              0.5555555555555556,
              "#d8576b"
             ],
             [
              0.6666666666666666,
              "#ed7953"
             ],
             [
              0.7777777777777778,
              "#fb9f3a"
             ],
             [
              0.8888888888888888,
              "#fdca26"
             ],
             [
              1,
              "#f0f921"
             ]
            ],
            "type": "surface"
           }
          ],
          "table": [
           {
            "cells": {
             "fill": {
              "color": "#EBF0F8"
             },
             "line": {
              "color": "white"
             }
            },
            "header": {
             "fill": {
              "color": "#C8D4E3"
             },
             "line": {
              "color": "white"
             }
            },
            "type": "table"
           }
          ]
         },
         "layout": {
          "annotationdefaults": {
           "arrowcolor": "#2a3f5f",
           "arrowhead": 0,
           "arrowwidth": 1
          },
          "autotypenumbers": "strict",
          "coloraxis": {
           "colorbar": {
            "outlinewidth": 0,
            "ticks": ""
           }
          },
          "colorscale": {
           "diverging": [
            [
             0,
             "#8e0152"
            ],
            [
             0.1,
             "#c51b7d"
            ],
            [
             0.2,
             "#de77ae"
            ],
            [
             0.3,
             "#f1b6da"
            ],
            [
             0.4,
             "#fde0ef"
            ],
            [
             0.5,
             "#f7f7f7"
            ],
            [
             0.6,
             "#e6f5d0"
            ],
            [
             0.7,
             "#b8e186"
            ],
            [
             0.8,
             "#7fbc41"
            ],
            [
             0.9,
             "#4d9221"
            ],
            [
             1,
             "#276419"
            ]
           ],
           "sequential": [
            [
             0,
             "#0d0887"
            ],
            [
             0.1111111111111111,
             "#46039f"
            ],
            [
             0.2222222222222222,
             "#7201a8"
            ],
            [
             0.3333333333333333,
             "#9c179e"
            ],
            [
             0.4444444444444444,
             "#bd3786"
            ],
            [
             0.5555555555555556,
             "#d8576b"
            ],
            [
             0.6666666666666666,
             "#ed7953"
            ],
            [
             0.7777777777777778,
             "#fb9f3a"
            ],
            [
             0.8888888888888888,
             "#fdca26"
            ],
            [
             1,
             "#f0f921"
            ]
           ],
           "sequentialminus": [
            [
             0,
             "#0d0887"
            ],
            [
             0.1111111111111111,
             "#46039f"
            ],
            [
             0.2222222222222222,
             "#7201a8"
            ],
            [
             0.3333333333333333,
             "#9c179e"
            ],
            [
             0.4444444444444444,
             "#bd3786"
            ],
            [
             0.5555555555555556,
             "#d8576b"
            ],
            [
             0.6666666666666666,
             "#ed7953"
            ],
            [
             0.7777777777777778,
             "#fb9f3a"
            ],
            [
             0.8888888888888888,
             "#fdca26"
            ],
            [
             1,
             "#f0f921"
            ]
           ]
          },
          "colorway": [
           "#636efa",
           "#EF553B",
           "#00cc96",
           "#ab63fa",
           "#FFA15A",
           "#19d3f3",
           "#FF6692",
           "#B6E880",
           "#FF97FF",
           "#FECB52"
          ],
          "font": {
           "color": "#2a3f5f"
          },
          "geo": {
           "bgcolor": "white",
           "lakecolor": "white",
           "landcolor": "#E5ECF6",
           "showlakes": true,
           "showland": true,
           "subunitcolor": "white"
          },
          "hoverlabel": {
           "align": "left"
          },
          "hovermode": "closest",
          "mapbox": {
           "style": "light"
          },
          "paper_bgcolor": "white",
          "plot_bgcolor": "#E5ECF6",
          "polar": {
           "angularaxis": {
            "gridcolor": "white",
            "linecolor": "white",
            "ticks": ""
           },
           "bgcolor": "#E5ECF6",
           "radialaxis": {
            "gridcolor": "white",
            "linecolor": "white",
            "ticks": ""
           }
          },
          "scene": {
           "xaxis": {
            "backgroundcolor": "#E5ECF6",
            "gridcolor": "white",
            "gridwidth": 2,
            "linecolor": "white",
            "showbackground": true,
            "ticks": "",
            "zerolinecolor": "white"
           },
           "yaxis": {
            "backgroundcolor": "#E5ECF6",
            "gridcolor": "white",
            "gridwidth": 2,
            "linecolor": "white",
            "showbackground": true,
            "ticks": "",
            "zerolinecolor": "white"
           },
           "zaxis": {
            "backgroundcolor": "#E5ECF6",
            "gridcolor": "white",
            "gridwidth": 2,
            "linecolor": "white",
            "showbackground": true,
            "ticks": "",
            "zerolinecolor": "white"
           }
          },
          "shapedefaults": {
           "line": {
            "color": "#2a3f5f"
           }
          },
          "ternary": {
           "aaxis": {
            "gridcolor": "white",
            "linecolor": "white",
            "ticks": ""
           },
           "baxis": {
            "gridcolor": "white",
            "linecolor": "white",
            "ticks": ""
           },
           "bgcolor": "#E5ECF6",
           "caxis": {
            "gridcolor": "white",
            "linecolor": "white",
            "ticks": ""
           }
          },
          "title": {
           "x": 0.05
          },
          "xaxis": {
           "automargin": true,
           "gridcolor": "white",
           "linecolor": "white",
           "ticks": "",
           "title": {
            "standoff": 15
           },
           "zerolinecolor": "white",
           "zerolinewidth": 2
          },
          "yaxis": {
           "automargin": true,
           "gridcolor": "white",
           "linecolor": "white",
           "ticks": "",
           "title": {
            "standoff": 15
           },
           "zerolinecolor": "white",
           "zerolinewidth": 2
          }
         }
        },
        "title": {
         "text": "Savings of  Not low income Populations  BHC , 1994-2023"
        },
        "width": 1200,
        "xaxis": {
         "anchor": "y",
         "domain": [
          0,
          1
         ],
         "title": {
          "text": "Year"
         }
        },
        "yaxis": {
         "anchor": "x",
         "domain": [
          0,
          1
         ],
         "title": {
          "text": "Pct of  Not low income population with savings"
         }
        }
       }
      }
     },
     "metadata": {},
     "output_type": "display_data"
    },
    {
     "data": {
      "image/png": "[encoded data removed]",
      "text/plain": [
       "<IPython.core.display.Image object>"
      ]
     },
     "metadata": {},
     "output_type": "display_data"
    }
   ],
   "source": [
    "plot_hbai_trends(BHC, savings_categories, False)"
   ]
  },
  {
   "cell_type": "markdown",
   "metadata": {},
   "source": [
    "### Observations\n",
    "The percentage of the higher-income population with no saving generally increases over the years, with the exception of the year 2020.  This is likely due to government's intervention during COVID period.  Lockdowns kept people at home and reduced their spendings.\n",
    "However, the general trend is still concerning, as these population would not be able to cushion shocks when the economy takes a downturn or when there are changes in their circumstances due to unfortunate events like accidents or sickness.  In such events, they would again rely on government's spendings. \n",
    "\n"
   ]
  }
 ],
 "metadata": {
  "kernelspec": {
   "display_name": "venv",
   "language": "python",
   "name": "python3"
  },
  "language_info": {
   "codemirror_mode": {
    "name": "ipython",
    "version": 3
   },
   "file_extension": ".py",
   "mimetype": "text/x-python",
   "name": "python",
   "nbconvert_exporter": "python",
   "pygments_lexer": "ipython3",
   "version": "3.10.0"
  }
 },
 "nbformat": 4,
 "nbformat_minor": 2
}
