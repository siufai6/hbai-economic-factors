{
 "cells": [
  {
   "cell_type": "markdown",
   "metadata": {},
   "source": [
    "### HBAI savings\n",
    "Studies savings among low-income vs non Low income groups and observe the change over time.\n",
    "\n"
   ]
  },
  {
   "cell_type": "code",
   "execution_count": 76,
   "metadata": {},
   "outputs": [],
   "source": [
    "import pandas as pd\n",
    "\n",
    "import plotly.express as px\n",
    "import sys\n",
    "\n",
    "\n",
    "\n",
    "def read_csv(data_file):\n",
    "\n",
    "    # Read the CSV file, skipping the first row (header row) and unnecessary footer rows\n",
    "    df = pd.read_csv(data_file, skiprows=1, skipfooter=0, engine='python')\n",
    "\n",
    "    # Drop empty columns and rows\n",
    "    df = df.dropna(how='all', axis=1).dropna(how='all', axis=0)\n",
    "    #print(df)\n",
    "    # Extract the year column and clean it\n",
    "    df['Financial Year'] = df['Financial Year'].str.extract(r'(\\d{4}-\\d{2})')\n",
    "    df = df.dropna(subset=['Financial Year'])\n",
    "    #print(df.head())\n",
    "    # Set the year as the index\n",
    "    df.set_index('Financial Year', inplace=True)\n",
    "\n",
    "    # extract data columns.\n",
    "    total_col_index = df.columns.str.contains('Total').argmax()\n",
    "\n",
    "    print(total_col_index)\n",
    "    not_low_income = df.iloc[:, :total_col_index+1].add_suffix('-not low income')\n",
    "\n",
    "    # clean up the duplcated 1. 2. column names\n",
    "    df.columns = df.columns.str.replace(r'\\.\\d+$', '', regex=True)\n",
    "    \n",
    "    low_income = df.iloc[:, total_col_index + 1: total_col_index *2+2 ].add_suffix('-low income')\n",
    "\n",
    "    print(low_income)\n",
    "    total_columns = df.iloc[:, total_col_index *2 +3:].add_suffix('-total')\n",
    "\n",
    "    # Combine the two groups of columns\n",
    "    result = pd.concat([not_low_income, low_income, total_columns], axis=1)\n",
    "\n",
    "    \n",
    "\n",
    "    # Save or display the resulting DataFrame\n",
    "    #print(result.head())  # Display the first few rows\n",
    "    result.to_csv(data_file+\"_processed.csv\")  # Save to a new CSV file\n",
    "    #print(df.head())\n",
    "    #print(\"----\")    \n",
    "\n",
    "    # convert to numbers\n",
    "    result = result.apply(pd.to_numeric, errors='coerce')\n",
    "    print(result.head(10))\n",
    "    return result, low_income.columns\n",
    "\n",
    "\n",
    "\n",
    "\n"
   ]
  },
  {
   "cell_type": "code",
   "execution_count": 77,
   "metadata": {},
   "outputs": [
    {
     "name": "stdout",
     "output_type": "stream",
     "text": [
      "8\n",
      "               No savings-low income Less than £1,500-low income  \\\n",
      "Financial Year                                                     \n",
      "1994-95                      5862481                     1573200   \n",
      "1995-96                      5812377                     1659361   \n",
      "1996-97                      6212107                     2064888   \n",
      "1997-98                      6231188                     1962711   \n",
      "1998-99                      6111826                     2083739   \n",
      "1999-00                      5726539                     2322175   \n",
      "2000-01                      5708473                     2009318   \n",
      "2001-02                      5663870                     1975567   \n",
      "2002-03                      5704164                     1845793   \n",
      "2003-04                      5625528                     1756275   \n",
      "2004-05                      5338563                     1935943   \n",
      "2005-06                      5658961                     2024741   \n",
      "2006-07                      5680372                     2040061   \n",
      "2007-08                      5788836                     2101523   \n",
      "2008-09                      5995081                     1855647   \n",
      "2009-10                      5663988                     1847475   \n",
      "2010-11                      5601671                     1296275   \n",
      "2011-12                      5804440                     1153857   \n",
      "2012-13                      6043736                     1029544   \n",
      "2013-14                      5875196                     1125110   \n",
      "2014-15                      6348610                      943244   \n",
      "2015-16                      6211127                     1211310   \n",
      "2016-17                      6250774                     1052330   \n",
      "2017-18                      6648971                     1047255   \n",
      "2018-19                      6412414                     1088073   \n",
      "2019-20                      2996271                     4714128   \n",
      "2020-21                           ..                          ..   \n",
      "2021-22                      3029449                     3956777   \n",
      "2022-23                      3451375                     3972862   \n",
      "\n",
      "               £1,500 but less than £3,000-low income  \\\n",
      "Financial Year                                          \n",
      "1994-95                                        713804   \n",
      "1995-96                                        590861   \n",
      "1996-97                                        567544   \n",
      "1997-98                                        635601   \n",
      "1998-99                                        547242   \n",
      "1999-00                                        547591   \n",
      "2000-01                                        534584   \n",
      "2001-02                                        544419   \n",
      "2002-03                                        577368   \n",
      "2003-04                                        558400   \n",
      "2004-05                                        513057   \n",
      "2005-06                                        495075   \n",
      "2006-07                                        461485   \n",
      "2007-08                                        491485   \n",
      "2008-09                                        531427   \n",
      "2009-10                                        579407   \n",
      "2010-11                                        502776   \n",
      "2011-12                                        555387   \n",
      "2012-13                                        429334   \n",
      "2013-14                                        437101   \n",
      "2014-15                                        337163   \n",
      "2015-16                                        458658   \n",
      "2016-17                                        528743   \n",
      "2017-18                                        499903   \n",
      "2018-19                                        457572   \n",
      "2019-20                                        720044   \n",
      "2020-21                                            ..   \n",
      "2021-22                                        823301   \n",
      "2022-23                                        721264   \n",
      "\n",
      "               £3,000 but less than £8,000-low income  \\\n",
      "Financial Year                                          \n",
      "1994-95                                        943138   \n",
      "1995-96                                        803025   \n",
      "1996-97                                        816562   \n",
      "1997-98                                        867042   \n",
      "1998-99                                        882920   \n",
      "1999-00                                        924724   \n",
      "2000-01                                        864979   \n",
      "2001-02                                        892818   \n",
      "2002-03                                        960391   \n",
      "2003-04                                        930567   \n",
      "2004-05                                        862633   \n",
      "2005-06                                        843887   \n",
      "2006-07                                        934309   \n",
      "2007-08                                       1002627   \n",
      "2008-09                                        855848   \n",
      "2009-10                                        849693   \n",
      "2010-11                                        855950   \n",
      "2011-12                                        754571   \n",
      "2012-13                                        695195   \n",
      "2013-14                                        628071   \n",
      "2014-15                                        771557   \n",
      "2015-16                                        915043   \n",
      "2016-17                                        855773   \n",
      "2017-18                                       1042989   \n",
      "2018-19                                        925967   \n",
      "2019-20                                       1017846   \n",
      "2020-21                                            ..   \n",
      "2021-22                                       1079671   \n",
      "2022-23                                        906859   \n",
      "\n",
      "               £8,000 but less than £10,000-low income  \\\n",
      "Financial Year                                           \n",
      "1994-95                                         193959   \n",
      "1995-96                                         167772   \n",
      "1996-97                                         166760   \n",
      "1997-98                                         198529   \n",
      "1998-99                                         175929   \n",
      "1999-00                                         175637   \n",
      "2000-01                                         241660   \n",
      "2001-02                                         216420   \n",
      "2002-03                                         195312   \n",
      "2003-04                                         204430   \n",
      "2004-05                                         209070   \n",
      "2005-06                                         176864   \n",
      "2006-07                                         171691   \n",
      "2007-08                                         236310   \n",
      "2008-09                                         217644   \n",
      "2009-10                                         228213   \n",
      "2010-11                                         196869   \n",
      "2011-12                                         159064   \n",
      "2012-13                                         162655   \n",
      "2013-14                                         152431   \n",
      "2014-15                                         221681   \n",
      "2015-16                                         176627   \n",
      "2016-17                                         188327   \n",
      "2017-18                                         210174   \n",
      "2018-19                                         223453   \n",
      "2019-20                                         243734   \n",
      "2020-21                                             ..   \n",
      "2021-22                                         202878   \n",
      "2022-23                                         249875   \n",
      "\n",
      "               £10,000 but less than £16,000-low income  \\\n",
      "Financial Year                                            \n",
      "1994-95                                          401854   \n",
      "1995-96                                          319503   \n",
      "1996-97                                          307409   \n",
      "1997-98                                          300912   \n",
      "1998-99                                          391734   \n",
      "1999-00                                          314597   \n",
      "2000-01                                          312830   \n",
      "2001-02                                          365981   \n",
      "2002-03                                          336086   \n",
      "2003-04                                          433295   \n",
      "2004-05                                          363016   \n",
      "2005-06                                          375382   \n",
      "2006-07                                          429456   \n",
      "2007-08                                          416772   \n",
      "2008-09                                          474486   \n",
      "2009-10                                          406581   \n",
      "2010-11                                          370949   \n",
      "2011-12                                          357115   \n",
      "2012-13                                          383957   \n",
      "2013-14                                          336522   \n",
      "2014-15                                          381012   \n",
      "2015-16                                          326004   \n",
      "2016-17                                          419737   \n",
      "2017-18                                          399224   \n",
      "2018-19                                          395874   \n",
      "2019-20                                          413665   \n",
      "2020-21                                              ..   \n",
      "2021-22                                          444281   \n",
      "2022-23                                          432163   \n",
      "\n",
      "               £16,000 but less than £20,000-low income  \\\n",
      "Financial Year                                            \n",
      "1994-95                                          152865   \n",
      "1995-96                                          150154   \n",
      "1996-97                                          125594   \n",
      "1997-98                                          159390   \n",
      "1998-99                                          146456   \n",
      "1999-00                                          133882   \n",
      "2000-01                                          115079   \n",
      "2001-02                                          165886   \n",
      "2002-03                                          151450   \n",
      "2003-04                                          156714   \n",
      "2004-05                                          146451   \n",
      "2005-06                                          159436   \n",
      "2006-07                                          188737   \n",
      "2007-08                                          178778   \n",
      "2008-09                                          202276   \n",
      "2009-10                                          132396   \n",
      "2010-11                                          164762   \n",
      "2011-12                                          147155   \n",
      "2012-13                                          149816   \n",
      "2013-14                                          102552   \n",
      "2014-15                                          126299   \n",
      "2015-16                                          159192   \n",
      "2016-17                                          142900   \n",
      "2017-18                                          142381   \n",
      "2018-19                                          158640   \n",
      "2019-20                                          202920   \n",
      "2020-21                                              ..   \n",
      "2021-22                                          153077   \n",
      "2022-23                                          165406   \n",
      "\n",
      "               £20,000 or more-low income Total-low income  \n",
      "Financial Year                                              \n",
      "1994-95                            528308         10369609  \n",
      "1995-96                            442624          9945677  \n",
      "1996-97                            513372         10774236  \n",
      "1997-98                            501468         10856841  \n",
      "1998-99                            456976         10796822  \n",
      "1999-00                            538081         10683226  \n",
      "2000-01                            542222         10329145  \n",
      "2001-02                            523440         10348401  \n",
      "2002-03                            586515         10357079  \n",
      "2003-04                            626049         10291258  \n",
      "2004-05                            560367          9929100  \n",
      "2005-06                            596220         10330566  \n",
      "2006-07                            774657         10680768  \n",
      "2007-08                            717922         10934253  \n",
      "2008-09                            752986         10885395  \n",
      "2009-10                            658746         10366499  \n",
      "2010-11                            845761          9835013  \n",
      "2011-12                            901511          9833100  \n",
      "2012-13                            799096          9693333  \n",
      "2013-14                            924200          9581183  \n",
      "2014-15                            931577         10061143  \n",
      "2015-16                           1011446         10469407  \n",
      "2016-17                           1024968         10463552  \n",
      "2017-18                           1115073         11105970  \n",
      "2018-19                           1317030         10979023  \n",
      "2019-20                           1419997         11728605  \n",
      "2020-21                                ..               ..  \n",
      "2021-22                           1321683         11011117  \n",
      "2022-23                           1533850         11433654  \n",
      "                No savings-not low income  Less than £1,500-not low income  \\\n",
      "Financial Year                                                               \n",
      "1994-95                        12910142.0                        8855240.0   \n",
      "1995-96                        14042668.0                        9561441.0   \n",
      "1996-97                        12415320.0                       10259188.0   \n",
      "1997-98                        12468319.0                       10810724.0   \n",
      "1998-99                        12142982.0                       11041733.0   \n",
      "1999-00                        11366449.0                       11592294.0   \n",
      "2000-01                        11941845.0                       11486885.0   \n",
      "2001-02                        12676515.0                       10944398.0   \n",
      "2002-03                        13356273.0                       10598133.0   \n",
      "2003-04                        13478764.0                       10175984.0   \n",
      "\n",
      "                £1,500 but less than £3,000-not low income  \\\n",
      "Financial Year                                               \n",
      "1994-95                                          4416551.0   \n",
      "1995-96                                          4539054.0   \n",
      "1996-97                                          4399667.0   \n",
      "1997-98                                          4048259.0   \n",
      "1998-99                                          3754379.0   \n",
      "1999-00                                          3801810.0   \n",
      "2000-01                                          3612030.0   \n",
      "2001-02                                          3815646.0   \n",
      "2002-03                                          4186455.0   \n",
      "2003-04                                          4221726.0   \n",
      "\n",
      "                £3,000 but less than £8,000-not low income  \\\n",
      "Financial Year                                               \n",
      "1994-95                                          6520917.0   \n",
      "1995-96                                          6496963.0   \n",
      "1996-97                                          6478541.0   \n",
      "1997-98                                          6277275.0   \n",
      "1998-99                                          6322166.0   \n",
      "1999-00                                          6535818.0   \n",
      "2000-01                                          6578700.0   \n",
      "2001-02                                          6607049.0   \n",
      "2002-03                                          7267621.0   \n",
      "2003-04                                          7534886.0   \n",
      "\n",
      "                £8,000 but less than £10,000-not low income  \\\n",
      "Financial Year                                                \n",
      "1994-95                                           1660569.0   \n",
      "1995-96                                           1290494.0   \n",
      "1996-97                                           1361414.0   \n",
      "1997-98                                           1276527.0   \n",
      "1998-99                                           1482881.0   \n",
      "1999-00                                           1420916.0   \n",
      "2000-01                                           1488732.0   \n",
      "2001-02                                           1519638.0   \n",
      "2002-03                                           1629191.0   \n",
      "2003-04                                           1697696.0   \n",
      "\n",
      "                £10,000 but less than £16,000-not low income  \\\n",
      "Financial Year                                                 \n",
      "1994-95                                            2938342.0   \n",
      "1995-96                                            2501252.0   \n",
      "1996-97                                            2633330.0   \n",
      "1997-98                                            2869009.0   \n",
      "1998-99                                            2942035.0   \n",
      "1999-00                                            2909697.0   \n",
      "2000-01                                            3051512.0   \n",
      "2001-02                                            3122421.0   \n",
      "2002-03                                            3143269.0   \n",
      "2003-04                                            3240363.0   \n",
      "\n",
      "                £16,000 but less than £20,000-not low income  \\\n",
      "Financial Year                                                 \n",
      "1994-95                                            1337369.0   \n",
      "1995-96                                            1047936.0   \n",
      "1996-97                                            1066016.0   \n",
      "1997-98                                            1150826.0   \n",
      "1998-99                                            1283855.0   \n",
      "1999-00                                            1231555.0   \n",
      "2000-01                                            1132397.0   \n",
      "2001-02                                            1229954.0   \n",
      "2002-03                                            1252386.0   \n",
      "2003-04                                            1184447.0   \n",
      "\n",
      "                £20,000 or more-not low income  Total-not low income  \\\n",
      "Financial Year                                                         \n",
      "1994-95                              6325290.0            44964420.0   \n",
      "1995-96                              6050533.0            45530341.0   \n",
      "1996-97                              6203675.0            44817151.0   \n",
      "1997-98                              5962111.0            44863050.0   \n",
      "1998-99                              6099983.0            45070014.0   \n",
      "1999-00                              6520542.0            45379081.0   \n",
      "2000-01                              6621061.0            45913162.0   \n",
      "2001-02                              6176829.0            46092450.0   \n",
      "2002-03                              6514740.0            47948068.0   \n",
      "2003-04                              6744591.0            48278457.0   \n",
      "\n",
      "                No savings-low income  ...  £20,000 or more-low income  \\\n",
      "Financial Year                         ...                               \n",
      "1994-95                     5862481.0  ...                    528308.0   \n",
      "1995-96                     5812377.0  ...                    442624.0   \n",
      "1996-97                     6212107.0  ...                    513372.0   \n",
      "1997-98                     6231188.0  ...                    501468.0   \n",
      "1998-99                     6111826.0  ...                    456976.0   \n",
      "1999-00                     5726539.0  ...                    538081.0   \n",
      "2000-01                     5708473.0  ...                    542222.0   \n",
      "2001-02                     5663870.0  ...                    523440.0   \n",
      "2002-03                     5704164.0  ...                    586515.0   \n",
      "2003-04                     5625528.0  ...                    626049.0   \n",
      "\n",
      "                Total-low income  Less than £1,500-total  \\\n",
      "Financial Year                                             \n",
      "1994-95               10369609.0              10428440.0   \n",
      "1995-96                9945677.0              11220802.0   \n",
      "1996-97               10774236.0              12324076.0   \n",
      "1997-98               10856841.0              12773435.0   \n",
      "1998-99               10796822.0              13125472.0   \n",
      "1999-00               10683226.0              13914469.0   \n",
      "2000-01               10329145.0              13496203.0   \n",
      "2001-02               10348401.0              12919965.0   \n",
      "2002-03               10357079.0              12443926.0   \n",
      "2003-04               10291258.0              11932259.0   \n",
      "\n",
      "                £1,500 but less than £3,000-total  \\\n",
      "Financial Year                                      \n",
      "1994-95                                 5130355.0   \n",
      "1995-96                                 5129915.0   \n",
      "1996-97                                 4967211.0   \n",
      "1997-98                                 4683860.0   \n",
      "1998-99                                 4301621.0   \n",
      "1999-00                                 4349401.0   \n",
      "2000-01                                 4146614.0   \n",
      "2001-02                                 4360065.0   \n",
      "2002-03                                 4763823.0   \n",
      "2003-04                                 4780126.0   \n",
      "\n",
      "                £3,000 but less than £8,000-total  \\\n",
      "Financial Year                                      \n",
      "1994-95                                 7464055.0   \n",
      "1995-96                                 7299988.0   \n",
      "1996-97                                 7295103.0   \n",
      "1997-98                                 7144317.0   \n",
      "1998-99                                 7205086.0   \n",
      "1999-00                                 7460542.0   \n",
      "2000-01                                 7443679.0   \n",
      "2001-02                                 7499867.0   \n",
      "2002-03                                 8228012.0   \n",
      "2003-04                                 8465453.0   \n",
      "\n",
      "                £8,000 but less than £10,000-total  \\\n",
      "Financial Year                                       \n",
      "1994-95                                  1854528.0   \n",
      "1995-96                                  1458266.0   \n",
      "1996-97                                  1528174.0   \n",
      "1997-98                                  1475056.0   \n",
      "1998-99                                  1658810.0   \n",
      "1999-00                                  1596553.0   \n",
      "2000-01                                  1730392.0   \n",
      "2001-02                                  1736058.0   \n",
      "2002-03                                  1824503.0   \n",
      "2003-04                                  1902126.0   \n",
      "\n",
      "                £10,000 but less than £16,000-total  \\\n",
      "Financial Year                                        \n",
      "1994-95                                   3340196.0   \n",
      "1995-96                                   2820755.0   \n",
      "1996-97                                   2940739.0   \n",
      "1997-98                                   3169921.0   \n",
      "1998-99                                   3333769.0   \n",
      "1999-00                                   3224294.0   \n",
      "2000-01                                   3364342.0   \n",
      "2001-02                                   3488402.0   \n",
      "2002-03                                   3479355.0   \n",
      "2003-04                                   3673658.0   \n",
      "\n",
      "                £16,000 but less than £20,000-total  £20,000 or more-total  \\\n",
      "Financial Year                                                               \n",
      "1994-95                                   1490234.0              6853598.0   \n",
      "1995-96                                   1198090.0              6493157.0   \n",
      "1996-97                                   1191610.0              6717047.0   \n",
      "1997-98                                   1310216.0              6463579.0   \n",
      "1998-99                                   1430311.0              6556959.0   \n",
      "1999-00                                   1365437.0              7058623.0   \n",
      "2000-01                                   1247476.0              7163283.0   \n",
      "2001-02                                   1395840.0              6700269.0   \n",
      "2002-03                                   1403836.0              7101255.0   \n",
      "2003-04                                   1341161.0              7370640.0   \n",
      "\n",
      "                Total-total  \n",
      "Financial Year               \n",
      "1994-95          55334029.0  \n",
      "1995-96          55476018.0  \n",
      "1996-97          55591387.0  \n",
      "1997-98          55719891.0  \n",
      "1998-99          55866836.0  \n",
      "1999-00          56062307.0  \n",
      "2000-01          56242307.0  \n",
      "2001-02          56440851.0  \n",
      "2002-03          58305147.0  \n",
      "2003-04          58569715.0  \n",
      "\n",
      "[10 rows x 26 columns]\n"
     ]
    }
   ],
   "source": [
    "\n",
    "BHC, savings=read_csv(\"./HBAI-BHC-saving.csv\")"
   ]
  },
  {
   "cell_type": "code",
   "execution_count": 85,
   "metadata": {},
   "outputs": [
    {
     "data": {
      "text/plain": [
       "['No savings',\n",
       " 'Less than £1,500',\n",
       " '£1,500 but less than £3,000',\n",
       " '£3,000 but less than £8,000',\n",
       " '£8,000 but less than £10,000',\n",
       " '£10,000 but less than £16,000',\n",
       " '£16,000 but less than £20,000',\n",
       " '£20,000 or more',\n",
       " 'Total']"
      ]
     },
     "execution_count": 85,
     "metadata": {},
     "output_type": "execute_result"
    }
   ],
   "source": [
    "savings_categories=list(savings.str.replace('-low income',''))\n",
    "\n",
    "savings_categories"
   ]
  },
  {
   "cell_type": "code",
   "execution_count": 90,
   "metadata": {},
   "outputs": [],
   "source": [
    "def plot_hbai_trends(bhc_df, savings_categories, islowincome=True):\n",
    "\n",
    "    suffix=\"-low income\" if islowincome else \"-not low income\"\n",
    "    income_level_desc = \" Low income\" if islowincome else \" Not low income\"\n",
    "    # Calculate the impact (AHC - BHC) for each region\n",
    "    for cat in savings_categories:\n",
    "        #print(cat)\n",
    "        #bhc_df[f'{cat} pct'] = ((bhc_df[f'{cat}{suffix}']/bhc_df[f'{cat}-total'])*100)\n",
    "        bhc_df[f'{cat} pct'] = ((bhc_df[f'{cat}{suffix}']/bhc_df[f'Total{suffix}'])*100)\n",
    "\n",
    "\n",
    "    cat_cols = [f'{cat} pct' for cat in savings_categories]\n",
    "    bhc_df=bhc_df.reset_index()\n",
    "    # Melt the data to long format for easier plotting (if needed)\n",
    "    impact_data = bhc_df.melt(\n",
    "        id_vars=['Financial Year'],\n",
    "        value_vars=cat_cols,\n",
    "        var_name='Savings',\n",
    "        value_name='Savings categories'\n",
    "    )\n",
    "    print(impact_data)\n",
    "    # Create the line chart\n",
    "    fig = px.line(impact_data, \n",
    "                x='Financial Year', \n",
    "                y='Savings categories', \n",
    "                color='Savings',\n",
    "                title=f'Savings of {income_level_desc} Populations  BHC , 1994-2023',\n",
    "                labels={'Savings categories': 'Amount of savings', 'Financial Year': 'Year'},\n",
    "                hover_data=['Savings'])\n",
    "\n",
    "    # Customize the layout (optional)\n",
    "    fig.update_layout(\n",
    "        xaxis_title=\"Year\",\n",
    "        yaxis_title=f\"Pct of {income_level_desc} population with savings\",\n",
    "        legend_title=\"Savings\",\n",
    "        hovermode=\"x unified\"  # Shows data for all regions at a given year\n",
    "    )\n",
    "    #fig.add_annotation(\n",
    "    #    text=\"Note: percentage is calculated by (low income BHC in region-low income AHC in region)/total BHC in region.\",\n",
    "    #    xref=\"paper\", yref=\"paper\",  # Relative to the entire plot\n",
    "    #    x=0.5, y=-0.2,  # Position below the plot\n",
    "    #    showarrow=False,\n",
    "    #    font=dict(size=12, color=\"gray\")\n",
    "    #)\n",
    "\n",
    "    # Show the plot\n",
    "    fig.show()\n",
    "    fig.write_html(\"savings_of_hbai_bhc.html\")\n",
    "\n",
    "\n",
    "\n"
   ]
  },
  {
   "cell_type": "code",
   "execution_count": 91,
   "metadata": {},
   "outputs": [
    {
     "name": "stdout",
     "output_type": "stream",
     "text": [
      "    Financial Year              Savings  Savings categories\n",
      "0          1994-95       No savings pct           56.535217\n",
      "1          1995-96       No savings pct           58.441240\n",
      "2          1996-97       No savings pct           57.657053\n",
      "3          1997-98       No savings pct           57.394117\n",
      "4          1998-99       No savings pct           56.607639\n",
      "..             ...                  ...                 ...\n",
      "227        2018-19  £20,000 or more pct           11.995876\n",
      "228        2019-20  £20,000 or more pct           12.107126\n",
      "229        2020-21  £20,000 or more pct                 NaN\n",
      "230        2021-22  £20,000 or more pct           12.003169\n",
      "231        2022-23  £20,000 or more pct           13.415221\n",
      "\n",
      "[232 rows x 3 columns]\n"
     ]
    },
    {
     "data": {
      "application/vnd.plotly.v1+json": {
       "config": {
        "plotlyServerURL": "https://plot.ly"
       },
       "data": [
        {
         "customdata": [
          [
           "No savings pct"
          ],
          [
           "No savings pct"
          ],
          [
           "No savings pct"
          ],
          [
           "No savings pct"
          ],
          [
           "No savings pct"
          ],
          [
           "No savings pct"
          ],
          [
           "No savings pct"
          ],
          [
           "No savings pct"
          ],
          [
           "No savings pct"
          ],
          [
           "No savings pct"
          ],
          [
           "No savings pct"
          ],
          [
           "No savings pct"
          ],
          [
           "No savings pct"
          ],
          [
           "No savings pct"
          ],
          [
           "No savings pct"
          ],
          [
           "No savings pct"
          ],
          [
           "No savings pct"
          ],
          [
           "No savings pct"
          ],
          [
           "No savings pct"
          ],
          [
           "No savings pct"
          ],
          [
           "No savings pct"
          ],
          [
           "No savings pct"
          ],
          [
           "No savings pct"
          ],
          [
           "No savings pct"
          ],
          [
           "No savings pct"
          ],
          [
           "No savings pct"
          ],
          [
           "No savings pct"
          ],
          [
           "No savings pct"
          ],
          [
           "No savings pct"
          ]
         ],
         "hovertemplate": "Savings=%{customdata[0]}<br>Year=%{x}<br>Amount of savings=%{y}<extra></extra>",
         "legendgroup": "No savings pct",
         "line": {
          "color": "#636efa",
          "dash": "solid"
         },
         "marker": {
          "symbol": "circle"
         },
         "mode": "lines",
         "name": "No savings pct",
         "orientation": "v",
         "showlegend": true,
         "type": "scatter",
         "x": [
          "1994-95",
          "1995-96",
          "1996-97",
          "1997-98",
          "1998-99",
          "1999-00",
          "2000-01",
          "2001-02",
          "2002-03",
          "2003-04",
          "2004-05",
          "2005-06",
          "2006-07",
          "2007-08",
          "2008-09",
          "2009-10",
          "2010-11",
          "2011-12",
          "2012-13",
          "2013-14",
          "2014-15",
          "2015-16",
          "2016-17",
          "2017-18",
          "2018-19",
          "2019-20",
          "2020-21",
          "2021-22",
          "2022-23"
         ],
         "xaxis": "x",
         "y": [
          56.53521748023479,
          58.44124034995305,
          57.65705336322687,
          57.394116760114656,
          56.60763880334417,
          53.60308768156735,
          55.26568752786412,
          54.73183731476969,
          55.07502646257695,
          54.66317140236888,
          53.76683687343263,
          54.77880882809325,
          53.183179336916595,
          52.94221745189177,
          55.07453794740568,
          54.637423878591996,
          56.95641683442615,
          59.02960409230049,
          62.3494106722631,
          61.32015221919882,
          63.10028592178841,
          59.32644513676849,
          59.73854767482399,
          59.86844012724688,
          58.40605307047812,
          25.546695450993536,
          null,
          27.512640179919984,
          30.18610673368286
         ],
         "yaxis": "y"
        },
        {
         "customdata": [
          [
           "Less than £1,500 pct"
          ],
          [
           "Less than £1,500 pct"
          ],
          [
           "Less than £1,500 pct"
          ],
          [
           "Less than £1,500 pct"
          ],
          [
           "Less than £1,500 pct"
          ],
          [
           "Less than £1,500 pct"
          ],
          [
           "Less than £1,500 pct"
          ],
          [
           "Less than £1,500 pct"
          ],
          [
           "Less than £1,500 pct"
          ],
          [
           "Less than £1,500 pct"
          ],
          [
           "Less than £1,500 pct"
          ],
          [
           "Less than £1,500 pct"
          ],
          [
           "Less than £1,500 pct"
          ],
          [
           "Less than £1,500 pct"
          ],
          [
           "Less than £1,500 pct"
          ],
          [
           "Less than £1,500 pct"
          ],
          [
           "Less than £1,500 pct"
          ],
          [
           "Less than £1,500 pct"
          ],
          [
           "Less than £1,500 pct"
          ],
          [
           "Less than £1,500 pct"
          ],
          [
           "Less than £1,500 pct"
          ],
          [
           "Less than £1,500 pct"
          ],
          [
           "Less than £1,500 pct"
          ],
          [
           "Less than £1,500 pct"
          ],
          [
           "Less than £1,500 pct"
          ],
          [
           "Less than £1,500 pct"
          ],
          [
           "Less than £1,500 pct"
          ],
          [
           "Less than £1,500 pct"
          ],
          [
           "Less than £1,500 pct"
          ]
         ],
         "hovertemplate": "Savings=%{customdata[0]}<br>Year=%{x}<br>Amount of savings=%{y}<extra></extra>",
         "legendgroup": "Less than £1,500 pct",
         "line": {
          "color": "#EF553B",
          "dash": "solid"
         },
         "marker": {
          "symbol": "circle"
         },
         "mode": "lines",
         "name": "Less than £1,500 pct",
         "orientation": "v",
         "showlegend": true,
         "type": "scatter",
         "x": [
          "1994-95",
          "1995-96",
          "1996-97",
          "1997-98",
          "1998-99",
          "1999-00",
          "2000-01",
          "2001-02",
          "2002-03",
          "2003-04",
          "2004-05",
          "2005-06",
          "2006-07",
          "2007-08",
          "2008-09",
          "2009-10",
          "2010-11",
          "2011-12",
          "2012-13",
          "2013-14",
          "2014-15",
          "2015-16",
          "2016-17",
          "2017-18",
          "2018-19",
          "2019-20",
          "2020-21",
          "2021-22",
          "2022-23"
         ],
         "xaxis": "x",
         "y": [
          15.171256698299809,
          16.68424381769084,
          19.16505263110999,
          18.078103934652816,
          19.299558703477746,
          21.73664584087241,
          19.452897601882828,
          19.090553216868962,
          17.82155953430499,
          17.065697896214438,
          19.49766846944839,
          19.59951661893453,
          19.100321250307097,
          19.219630275611877,
          17.047125988537854,
          17.82159049067578,
          13.180206269173208,
          11.734417426854197,
          10.621155798526678,
          11.74291316635952,
          9.375117717738432,
          11.569996275815813,
          10.057101068547277,
          9.429658102804167,
          9.910471997371715,
          40.19342453770077,
          null,
          35.93438340542562,
          34.74708960057738
         ],
         "yaxis": "y"
        },
        {
         "customdata": [
          [
           "£1,500 but less than £3,000 pct"
          ],
          [
           "£1,500 but less than £3,000 pct"
          ],
          [
           "£1,500 but less than £3,000 pct"
          ],
          [
           "£1,500 but less than £3,000 pct"
          ],
          [
           "£1,500 but less than £3,000 pct"
          ],
          [
           "£1,500 but less than £3,000 pct"
          ],
          [
           "£1,500 but less than £3,000 pct"
          ],
          [
           "£1,500 but less than £3,000 pct"
          ],
          [
           "£1,500 but less than £3,000 pct"
          ],
          [
           "£1,500 but less than £3,000 pct"
          ],
          [
           "£1,500 but less than £3,000 pct"
          ],
          [
           "£1,500 but less than £3,000 pct"
          ],
          [
           "£1,500 but less than £3,000 pct"
          ],
          [
           "£1,500 but less than £3,000 pct"
          ],
          [
           "£1,500 but less than £3,000 pct"
          ],
          [
           "£1,500 but less than £3,000 pct"
          ],
          [
           "£1,500 but less than £3,000 pct"
          ],
          [
           "£1,500 but less than £3,000 pct"
          ],
          [
           "£1,500 but less than £3,000 pct"
          ],
          [
           "£1,500 but less than £3,000 pct"
          ],
          [
           "£1,500 but less than £3,000 pct"
          ],
          [
           "£1,500 but less than £3,000 pct"
          ],
          [
           "£1,500 but less than £3,000 pct"
          ],
          [
           "£1,500 but less than £3,000 pct"
          ],
          [
           "£1,500 but less than £3,000 pct"
          ],
          [
           "£1,500 but less than £3,000 pct"
          ],
          [
           "£1,500 but less than £3,000 pct"
          ],
          [
           "£1,500 but less than £3,000 pct"
          ],
          [
           "£1,500 but less than £3,000 pct"
          ]
         ],
         "hovertemplate": "Savings=%{customdata[0]}<br>Year=%{x}<br>Amount of savings=%{y}<extra></extra>",
         "legendgroup": "£1,500 but less than £3,000 pct",
         "line": {
          "color": "#00cc96",
          "dash": "solid"
         },
         "marker": {
          "symbol": "circle"
         },
         "mode": "lines",
         "name": "£1,500 but less than £3,000 pct",
         "orientation": "v",
         "showlegend": true,
         "type": "scatter",
         "x": [
          "1994-95",
          "1995-96",
          "1996-97",
          "1997-98",
          "1998-99",
          "1999-00",
          "2000-01",
          "2001-02",
          "2002-03",
          "2003-04",
          "2004-05",
          "2005-06",
          "2006-07",
          "2007-08",
          "2008-09",
          "2009-10",
          "2010-11",
          "2011-12",
          "2012-13",
          "2013-14",
          "2014-15",
          "2015-16",
          "2016-17",
          "2017-18",
          "2018-19",
          "2019-20",
          "2020-21",
          "2021-22",
          "2022-23"
         ],
         "xaxis": "x",
         "y": [
          6.883615380290617,
          5.940882656856843,
          5.267603197108361,
          5.854382504081988,
          5.068547022447902,
          5.125708283247027,
          5.175491291873626,
          5.260899727407161,
          5.574621956634685,
          5.42596444477439,
          5.167205486902136,
          4.792331804472282,
          4.320709896516805,
          4.494911540824965,
          4.882018521146913,
          5.589225446315097,
          5.112103054668052,
          5.64813741343015,
          4.429167965239614,
          4.56207756390834,
          3.3511401239401923,
          4.380935806583888,
          5.0531884392603965,
          4.501209709732693,
          4.167693245564746,
          6.139212634409633,
          null,
          7.476998019365337,
          6.308254561490141
         ],
         "yaxis": "y"
        },
        {
         "customdata": [
          [
           "£3,000 but less than £8,000 pct"
          ],
          [
           "£3,000 but less than £8,000 pct"
          ],
          [
           "£3,000 but less than £8,000 pct"
          ],
          [
           "£3,000 but less than £8,000 pct"
          ],
          [
           "£3,000 but less than £8,000 pct"
          ],
          [
           "£3,000 but less than £8,000 pct"
          ],
          [
           "£3,000 but less than £8,000 pct"
          ],
          [
           "£3,000 but less than £8,000 pct"
          ],
          [
           "£3,000 but less than £8,000 pct"
          ],
          [
           "£3,000 but less than £8,000 pct"
          ],
          [
           "£3,000 but less than £8,000 pct"
          ],
          [
           "£3,000 but less than £8,000 pct"
          ],
          [
           "£3,000 but less than £8,000 pct"
          ],
          [
           "£3,000 but less than £8,000 pct"
          ],
          [
           "£3,000 but less than £8,000 pct"
          ],
          [
           "£3,000 but less than £8,000 pct"
          ],
          [
           "£3,000 but less than £8,000 pct"
          ],
          [
           "£3,000 but less than £8,000 pct"
          ],
          [
           "£3,000 but less than £8,000 pct"
          ],
          [
           "£3,000 but less than £8,000 pct"
          ],
          [
           "£3,000 but less than £8,000 pct"
          ],
          [
           "£3,000 but less than £8,000 pct"
          ],
          [
           "£3,000 but less than £8,000 pct"
          ],
          [
           "£3,000 but less than £8,000 pct"
          ],
          [
           "£3,000 but less than £8,000 pct"
          ],
          [
           "£3,000 but less than £8,000 pct"
          ],
          [
           "£3,000 but less than £8,000 pct"
          ],
          [
           "£3,000 but less than £8,000 pct"
          ],
          [
           "£3,000 but less than £8,000 pct"
          ]
         ],
         "hovertemplate": "Savings=%{customdata[0]}<br>Year=%{x}<br>Amount of savings=%{y}<extra></extra>",
         "legendgroup": "£3,000 but less than £8,000 pct",
         "line": {
          "color": "#ab63fa",
          "dash": "solid"
         },
         "marker": {
          "symbol": "circle"
         },
         "mode": "lines",
         "name": "£3,000 but less than £8,000 pct",
         "orientation": "v",
         "showlegend": true,
         "type": "scatter",
         "x": [
          "1994-95",
          "1995-96",
          "1996-97",
          "1997-98",
          "1998-99",
          "1999-00",
          "2000-01",
          "2001-02",
          "2002-03",
          "2003-04",
          "2004-05",
          "2005-06",
          "2006-07",
          "2007-08",
          "2008-09",
          "2009-10",
          "2010-11",
          "2011-12",
          "2012-13",
          "2013-14",
          "2014-15",
          "2015-16",
          "2016-17",
          "2017-18",
          "2018-19",
          "2019-20",
          "2020-21",
          "2021-22",
          "2022-23"
         ],
         "xaxis": "x",
         "y": [
          9.09521275103044,
          8.074110993148079,
          7.578839000742141,
          7.986135193469261,
          8.177591517207563,
          8.655849834123138,
          8.37415875176503,
          8.627593770283932,
          9.272797861250263,
          9.042305615115275,
          8.687927405303602,
          8.168836054094228,
          8.747582570841347,
          9.169597593909709,
          7.86235134324478,
          8.196528066032707,
          8.703089665463585,
          7.67378547965545,
          7.171888142086938,
          6.555255233095955,
          7.668681381429525,
          8.740160736897515,
          8.178608946560404,
          9.391246329676742,
          8.433965390180893,
          8.678321079105315,
          null,
          9.805281335217853,
          7.931488918590681
         ],
         "yaxis": "y"
        },
        {
         "customdata": [
          [
           "£8,000 but less than £10,000 pct"
          ],
          [
           "£8,000 but less than £10,000 pct"
          ],
          [
           "£8,000 but less than £10,000 pct"
          ],
          [
           "£8,000 but less than £10,000 pct"
          ],
          [
           "£8,000 but less than £10,000 pct"
          ],
          [
           "£8,000 but less than £10,000 pct"
          ],
          [
           "£8,000 but less than £10,000 pct"
          ],
          [
           "£8,000 but less than £10,000 pct"
          ],
          [
           "£8,000 but less than £10,000 pct"
          ],
          [
           "£8,000 but less than £10,000 pct"
          ],
          [
           "£8,000 but less than £10,000 pct"
          ],
          [
           "£8,000 but less than £10,000 pct"
          ],
          [
           "£8,000 but less than £10,000 pct"
          ],
          [
           "£8,000 but less than £10,000 pct"
          ],
          [
           "£8,000 but less than £10,000 pct"
          ],
          [
           "£8,000 but less than £10,000 pct"
          ],
          [
           "£8,000 but less than £10,000 pct"
          ],
          [
           "£8,000 but less than £10,000 pct"
          ],
          [
           "£8,000 but less than £10,000 pct"
          ],
          [
           "£8,000 but less than £10,000 pct"
          ],
          [
           "£8,000 but less than £10,000 pct"
          ],
          [
           "£8,000 but less than £10,000 pct"
          ],
          [
           "£8,000 but less than £10,000 pct"
          ],
          [
           "£8,000 but less than £10,000 pct"
          ],
          [
           "£8,000 but less than £10,000 pct"
          ],
          [
           "£8,000 but less than £10,000 pct"
          ],
          [
           "£8,000 but less than £10,000 pct"
          ],
          [
           "£8,000 but less than £10,000 pct"
          ],
          [
           "£8,000 but less than £10,000 pct"
          ]
         ],
         "hovertemplate": "Savings=%{customdata[0]}<br>Year=%{x}<br>Amount of savings=%{y}<extra></extra>",
         "legendgroup": "£8,000 but less than £10,000 pct",
         "line": {
          "color": "#FFA15A",
          "dash": "solid"
         },
         "marker": {
          "symbol": "circle"
         },
         "mode": "lines",
         "name": "£8,000 but less than £10,000 pct",
         "orientation": "v",
         "showlegend": true,
         "type": "scatter",
         "x": [
          "1994-95",
          "1995-96",
          "1996-97",
          "1997-98",
          "1998-99",
          "1999-00",
          "2000-01",
          "2001-02",
          "2002-03",
          "2003-04",
          "2004-05",
          "2005-06",
          "2006-07",
          "2007-08",
          "2008-09",
          "2009-10",
          "2010-11",
          "2011-12",
          "2012-13",
          "2013-14",
          "2014-15",
          "2015-16",
          "2016-17",
          "2017-18",
          "2018-19",
          "2019-20",
          "2020-21",
          "2021-22",
          "2022-23"
         ],
         "xaxis": "x",
         "y": [
          1.870456253461437,
          1.6868836580958742,
          1.5477663567050137,
          1.8286074190457426,
          1.6294517034734852,
          1.644044598513595,
          2.3395934513456824,
          2.0913375892565433,
          1.8857826613082704,
          1.9864432511554952,
          2.105628908964559,
          1.712045593629623,
          1.6074780390323993,
          2.1611901608642126,
          1.9994129749081224,
          2.2014471809624445,
          2.001715706933992,
          1.6176383846396354,
          1.6780089985560176,
          1.5909413273914086,
          2.2033381296737358,
          1.6870774056257438,
          1.799838142917434,
          1.8924416327434703,
          2.0352721731250587,
          2.0781158543577862,
          null,
          1.842483373848448,
          2.1854343327163828
         ],
         "yaxis": "y"
        },
        {
         "customdata": [
          [
           "£10,000 but less than £16,000 pct"
          ],
          [
           "£10,000 but less than £16,000 pct"
          ],
          [
           "£10,000 but less than £16,000 pct"
          ],
          [
           "£10,000 but less than £16,000 pct"
          ],
          [
           "£10,000 but less than £16,000 pct"
          ],
          [
           "£10,000 but less than £16,000 pct"
          ],
          [
           "£10,000 but less than £16,000 pct"
          ],
          [
           "£10,000 but less than £16,000 pct"
          ],
          [
           "£10,000 but less than £16,000 pct"
          ],
          [
           "£10,000 but less than £16,000 pct"
          ],
          [
           "£10,000 but less than £16,000 pct"
          ],
          [
           "£10,000 but less than £16,000 pct"
          ],
          [
           "£10,000 but less than £16,000 pct"
          ],
          [
           "£10,000 but less than £16,000 pct"
          ],
          [
           "£10,000 but less than £16,000 pct"
          ],
          [
           "£10,000 but less than £16,000 pct"
          ],
          [
           "£10,000 but less than £16,000 pct"
          ],
          [
           "£10,000 but less than £16,000 pct"
          ],
          [
           "£10,000 but less than £16,000 pct"
          ],
          [
           "£10,000 but less than £16,000 pct"
          ],
          [
           "£10,000 but less than £16,000 pct"
          ],
          [
           "£10,000 but less than £16,000 pct"
          ],
          [
           "£10,000 but less than £16,000 pct"
          ],
          [
           "£10,000 but less than £16,000 pct"
          ],
          [
           "£10,000 but less than £16,000 pct"
          ],
          [
           "£10,000 but less than £16,000 pct"
          ],
          [
           "£10,000 but less than £16,000 pct"
          ],
          [
           "£10,000 but less than £16,000 pct"
          ],
          [
           "£10,000 but less than £16,000 pct"
          ]
         ],
         "hovertemplate": "Savings=%{customdata[0]}<br>Year=%{x}<br>Amount of savings=%{y}<extra></extra>",
         "legendgroup": "£10,000 but less than £16,000 pct",
         "line": {
          "color": "#19d3f3",
          "dash": "solid"
         },
         "marker": {
          "symbol": "circle"
         },
         "mode": "lines",
         "name": "£10,000 but less than £16,000 pct",
         "orientation": "v",
         "showlegend": true,
         "type": "scatter",
         "x": [
          "1994-95",
          "1995-96",
          "1996-97",
          "1997-98",
          "1998-99",
          "1999-00",
          "2000-01",
          "2001-02",
          "2002-03",
          "2003-04",
          "2004-05",
          "2005-06",
          "2006-07",
          "2007-08",
          "2008-09",
          "2009-10",
          "2010-11",
          "2011-12",
          "2012-13",
          "2013-14",
          "2014-15",
          "2015-16",
          "2016-17",
          "2017-18",
          "2018-19",
          "2019-20",
          "2020-21",
          "2021-22",
          "2022-23"
         ],
         "xaxis": "x",
         "y": [
          3.875305230891541,
          3.2124811614131445,
          2.8531860634944324,
          2.771634953482325,
          3.628234308206619,
          2.944775295402344,
          3.0286146626850527,
          3.536594687430454,
          3.2449882828932757,
          4.210321031695056,
          3.6560816186764153,
          3.6337021611400573,
          4.020834456848047,
          3.811618406854131,
          4.358923125894834,
          3.9220666495024017,
          3.7717184512109947,
          3.631764143555949,
          3.961042089444364,
          3.512322017020236,
          3.786965357713333,
          3.1138726386317774,
          4.011419831430092,
          3.5946792580927194,
          3.605730673849577,
          3.526975288194973,
          null,
          4.03484042536284,
          3.779745302770225
         ],
         "yaxis": "y"
        },
        {
         "customdata": [
          [
           "£16,000 but less than £20,000 pct"
          ],
          [
           "£16,000 but less than £20,000 pct"
          ],
          [
           "£16,000 but less than £20,000 pct"
          ],
          [
           "£16,000 but less than £20,000 pct"
          ],
          [
           "£16,000 but less than £20,000 pct"
          ],
          [
           "£16,000 but less than £20,000 pct"
          ],
          [
           "£16,000 but less than £20,000 pct"
          ],
          [
           "£16,000 but less than £20,000 pct"
          ],
          [
           "£16,000 but less than £20,000 pct"
          ],
          [
           "£16,000 but less than £20,000 pct"
          ],
          [
           "£16,000 but less than £20,000 pct"
          ],
          [
           "£16,000 but less than £20,000 pct"
          ],
          [
           "£16,000 but less than £20,000 pct"
          ],
          [
           "£16,000 but less than £20,000 pct"
          ],
          [
           "£16,000 but less than £20,000 pct"
          ],
          [
           "£16,000 but less than £20,000 pct"
          ],
          [
           "£16,000 but less than £20,000 pct"
          ],
          [
           "£16,000 but less than £20,000 pct"
          ],
          [
           "£16,000 but less than £20,000 pct"
          ],
          [
           "£16,000 but less than £20,000 pct"
          ],
          [
           "£16,000 but less than £20,000 pct"
          ],
          [
           "£16,000 but less than £20,000 pct"
          ],
          [
           "£16,000 but less than £20,000 pct"
          ],
          [
           "£16,000 but less than £20,000 pct"
          ],
          [
           "£16,000 but less than £20,000 pct"
          ],
          [
           "£16,000 but less than £20,000 pct"
          ],
          [
           "£16,000 but less than £20,000 pct"
          ],
          [
           "£16,000 but less than £20,000 pct"
          ],
          [
           "£16,000 but less than £20,000 pct"
          ]
         ],
         "hovertemplate": "Savings=%{customdata[0]}<br>Year=%{x}<br>Amount of savings=%{y}<extra></extra>",
         "legendgroup": "£16,000 but less than £20,000 pct",
         "line": {
          "color": "#FF6692",
          "dash": "solid"
         },
         "marker": {
          "symbol": "circle"
         },
         "mode": "lines",
         "name": "£16,000 but less than £20,000 pct",
         "orientation": "v",
         "showlegend": true,
         "type": "scatter",
         "x": [
          "1994-95",
          "1995-96",
          "1996-97",
          "1997-98",
          "1998-99",
          "1999-00",
          "2000-01",
          "2001-02",
          "2002-03",
          "2003-04",
          "2004-05",
          "2005-06",
          "2006-07",
          "2007-08",
          "2008-09",
          "2009-10",
          "2010-11",
          "2011-12",
          "2012-13",
          "2013-14",
          "2014-15",
          "2015-16",
          "2016-17",
          "2017-18",
          "2018-19",
          "2019-20",
          "2020-21",
          "2021-22",
          "2022-23"
         ],
         "xaxis": "x",
         "y": [
          1.4741635870744982,
          1.5097413680335687,
          1.1656882214200617,
          1.468106606700789,
          1.3564732288816097,
          1.2531982380603013,
          1.1141193196532724,
          1.6030109385981466,
          1.4622848778115916,
          1.522787593120297,
          1.4749675197147778,
          1.5433423492962535,
          1.7670733040919904,
          1.6350271024458642,
          1.8582329809804787,
          1.277152488993632,
          1.675259605655834,
          1.4965270362347582,
          1.5455571370549221,
          1.0703479935619642,
          1.2553146297592628,
          1.5205445733459402,
          1.3656930266127603,
          1.282022191668085,
          1.4449373136389276,
          1.7301290306903507,
          null,
          1.3902041000926608,
          1.4466591345164022
         ],
         "yaxis": "y"
        },
        {
         "customdata": [
          [
           "£20,000 or more pct"
          ],
          [
           "£20,000 or more pct"
          ],
          [
           "£20,000 or more pct"
          ],
          [
           "£20,000 or more pct"
          ],
          [
           "£20,000 or more pct"
          ],
          [
           "£20,000 or more pct"
          ],
          [
           "£20,000 or more pct"
          ],
          [
           "£20,000 or more pct"
          ],
          [
           "£20,000 or more pct"
          ],
          [
           "£20,000 or more pct"
          ],
          [
           "£20,000 or more pct"
          ],
          [
           "£20,000 or more pct"
          ],
          [
           "£20,000 or more pct"
          ],
          [
           "£20,000 or more pct"
          ],
          [
           "£20,000 or more pct"
          ],
          [
           "£20,000 or more pct"
          ],
          [
           "£20,000 or more pct"
          ],
          [
           "£20,000 or more pct"
          ],
          [
           "£20,000 or more pct"
          ],
          [
           "£20,000 or more pct"
          ],
          [
           "£20,000 or more pct"
          ],
          [
           "£20,000 or more pct"
          ],
          [
           "£20,000 or more pct"
          ],
          [
           "£20,000 or more pct"
          ],
          [
           "£20,000 or more pct"
          ],
          [
           "£20,000 or more pct"
          ],
          [
           "£20,000 or more pct"
          ],
          [
           "£20,000 or more pct"
          ],
          [
           "£20,000 or more pct"
          ]
         ],
         "hovertemplate": "Savings=%{customdata[0]}<br>Year=%{x}<br>Amount of savings=%{y}<extra></extra>",
         "legendgroup": "£20,000 or more pct",
         "line": {
          "color": "#B6E880",
          "dash": "solid"
         },
         "marker": {
          "symbol": "circle"
         },
         "mode": "lines",
         "name": "£20,000 or more pct",
         "orientation": "v",
         "showlegend": true,
         "type": "scatter",
         "x": [
          "1994-95",
          "1995-96",
          "1996-97",
          "1997-98",
          "1998-99",
          "1999-00",
          "2000-01",
          "2001-02",
          "2002-03",
          "2003-04",
          "2004-05",
          "2005-06",
          "2006-07",
          "2007-08",
          "2008-09",
          "2009-10",
          "2010-11",
          "2011-12",
          "2012-13",
          "2013-14",
          "2014-15",
          "2015-16",
          "2016-17",
          "2017-18",
          "2018-19",
          "2019-20",
          "2020-21",
          "2021-22",
          "2022-23"
         ],
         "xaxis": "x",
         "y": [
          5.094772618716868,
          4.450415994808599,
          4.764811166193129,
          4.61891262845242,
          4.232504712960907,
          5.036690228213837,
          5.249437392930393,
          5.058172755385107,
          5.662938363219978,
          6.083308765556164,
          5.643683717557482,
          5.771416590339775,
          7.25282114544572,
          6.565807467597466,
          6.917397117881345,
          6.354565798925944,
          8.599490412468189,
          9.168126023329368,
          8.243769196828376,
          9.645990479463757,
          9.259156737957108,
          9.660967426330833,
          9.795602869847638,
          10.040302648035246,
          11.995876135790953,
          12.107126124547634,
          null,
          12.00316916076725,
          13.415221415655923
         ],
         "yaxis": "y"
        }
       ],
       "layout": {
        "hovermode": "x unified",
        "legend": {
         "title": {
          "text": "Savings"
         },
         "tracegroupgap": 0
        },
        "template": {
         "data": {
          "bar": [
           {
            "error_x": {
             "color": "#2a3f5f"
            },
            "error_y": {
             "color": "#2a3f5f"
            },
            "marker": {
             "line": {
              "color": "#E5ECF6",
              "width": 0.5
             },
             "pattern": {
              "fillmode": "overlay",
              "size": 10,
              "solidity": 0.2
             }
            },
            "type": "bar"
           }
          ],
          "barpolar": [
           {
            "marker": {
             "line": {
              "color": "#E5ECF6",
              "width": 0.5
             },
             "pattern": {
              "fillmode": "overlay",
              "size": 10,
              "solidity": 0.2
             }
            },
            "type": "barpolar"
           }
          ],
          "carpet": [
           {
            "aaxis": {
             "endlinecolor": "#2a3f5f",
             "gridcolor": "white",
             "linecolor": "white",
             "minorgridcolor": "white",
             "startlinecolor": "#2a3f5f"
            },
            "baxis": {
             "endlinecolor": "#2a3f5f",
             "gridcolor": "white",
             "linecolor": "white",
             "minorgridcolor": "white",
             "startlinecolor": "#2a3f5f"
            },
            "type": "carpet"
           }
          ],
          "choropleth": [
           {
            "colorbar": {
             "outlinewidth": 0,
             "ticks": ""
            },
            "type": "choropleth"
           }
          ],
          "contour": [
           {
            "colorbar": {
             "outlinewidth": 0,
             "ticks": ""
            },
            "colorscale": [
             [
              0,
              "#0d0887"
             ],
             [
              0.1111111111111111,
              "#46039f"
             ],
             [
              0.2222222222222222,
              "#7201a8"
             ],
             [
              0.3333333333333333,
              "#9c179e"
             ],
             [
              0.4444444444444444,
              "#bd3786"
             ],
             [
              0.5555555555555556,
              "#d8576b"
             ],
             [
              0.6666666666666666,
              "#ed7953"
             ],
             [
              0.7777777777777778,
              "#fb9f3a"
             ],
             [
              0.8888888888888888,
              "#fdca26"
             ],
             [
              1,
              "#f0f921"
             ]
            ],
            "type": "contour"
           }
          ],
          "contourcarpet": [
           {
            "colorbar": {
             "outlinewidth": 0,
             "ticks": ""
            },
            "type": "contourcarpet"
           }
          ],
          "heatmap": [
           {
            "colorbar": {
             "outlinewidth": 0,
             "ticks": ""
            },
            "colorscale": [
             [
              0,
              "#0d0887"
             ],
             [
              0.1111111111111111,
              "#46039f"
             ],
             [
              0.2222222222222222,
              "#7201a8"
             ],
             [
              0.3333333333333333,
              "#9c179e"
             ],
             [
              0.4444444444444444,
              "#bd3786"
             ],
             [
              0.5555555555555556,
              "#d8576b"
             ],
             [
              0.6666666666666666,
              "#ed7953"
             ],
             [
              0.7777777777777778,
              "#fb9f3a"
             ],
             [
              0.8888888888888888,
              "#fdca26"
             ],
             [
              1,
              "#f0f921"
             ]
            ],
            "type": "heatmap"
           }
          ],
          "heatmapgl": [
           {
            "colorbar": {
             "outlinewidth": 0,
             "ticks": ""
            },
            "colorscale": [
             [
              0,
              "#0d0887"
             ],
             [
              0.1111111111111111,
              "#46039f"
             ],
             [
              0.2222222222222222,
              "#7201a8"
             ],
             [
              0.3333333333333333,
              "#9c179e"
             ],
             [
              0.4444444444444444,
              "#bd3786"
             ],
             [
              0.5555555555555556,
              "#d8576b"
             ],
             [
              0.6666666666666666,
              "#ed7953"
             ],
             [
              0.7777777777777778,
              "#fb9f3a"
             ],
             [
              0.8888888888888888,
              "#fdca26"
             ],
             [
              1,
              "#f0f921"
             ]
            ],
            "type": "heatmapgl"
           }
          ],
          "histogram": [
           {
            "marker": {
             "pattern": {
              "fillmode": "overlay",
              "size": 10,
              "solidity": 0.2
             }
            },
            "type": "histogram"
           }
          ],
          "histogram2d": [
           {
            "colorbar": {
             "outlinewidth": 0,
             "ticks": ""
            },
            "colorscale": [
             [
              0,
              "#0d0887"
             ],
             [
              0.1111111111111111,
              "#46039f"
             ],
             [
              0.2222222222222222,
              "#7201a8"
             ],
             [
              0.3333333333333333,
              "#9c179e"
             ],
             [
              0.4444444444444444,
              "#bd3786"
             ],
             [
              0.5555555555555556,
              "#d8576b"
             ],
             [
              0.6666666666666666,
              "#ed7953"
             ],
             [
              0.7777777777777778,
              "#fb9f3a"
             ],
             [
              0.8888888888888888,
              "#fdca26"
             ],
             [
              1,
              "#f0f921"
             ]
            ],
            "type": "histogram2d"
           }
          ],
          "histogram2dcontour": [
           {
            "colorbar": {
             "outlinewidth": 0,
             "ticks": ""
            },
            "colorscale": [
             [
              0,
              "#0d0887"
             ],
             [
              0.1111111111111111,
              "#46039f"
             ],
             [
              0.2222222222222222,
              "#7201a8"
             ],
             [
              0.3333333333333333,
              "#9c179e"
             ],
             [
              0.4444444444444444,
              "#bd3786"
             ],
             [
              0.5555555555555556,
              "#d8576b"
             ],
             [
              0.6666666666666666,
              "#ed7953"
             ],
             [
              0.7777777777777778,
              "#fb9f3a"
             ],
             [
              0.8888888888888888,
              "#fdca26"
             ],
             [
              1,
              "#f0f921"
             ]
            ],
            "type": "histogram2dcontour"
           }
          ],
          "mesh3d": [
           {
            "colorbar": {
             "outlinewidth": 0,
             "ticks": ""
            },
            "type": "mesh3d"
           }
          ],
          "parcoords": [
           {
            "line": {
             "colorbar": {
              "outlinewidth": 0,
              "ticks": ""
             }
            },
            "type": "parcoords"
           }
          ],
          "pie": [
           {
            "automargin": true,
            "type": "pie"
           }
          ],
          "scatter": [
           {
            "fillpattern": {
             "fillmode": "overlay",
             "size": 10,
             "solidity": 0.2
            },
            "type": "scatter"
           }
          ],
          "scatter3d": [
           {
            "line": {
             "colorbar": {
              "outlinewidth": 0,
              "ticks": ""
             }
            },
            "marker": {
             "colorbar": {
              "outlinewidth": 0,
              "ticks": ""
             }
            },
            "type": "scatter3d"
           }
          ],
          "scattercarpet": [
           {
            "marker": {
             "colorbar": {
              "outlinewidth": 0,
              "ticks": ""
             }
            },
            "type": "scattercarpet"
           }
          ],
          "scattergeo": [
           {
            "marker": {
             "colorbar": {
              "outlinewidth": 0,
              "ticks": ""
             }
            },
            "type": "scattergeo"
           }
          ],
          "scattergl": [
           {
            "marker": {
             "colorbar": {
              "outlinewidth": 0,
              "ticks": ""
             }
            },
            "type": "scattergl"
           }
          ],
          "scattermapbox": [
           {
            "marker": {
             "colorbar": {
              "outlinewidth": 0,
              "ticks": ""
             }
            },
            "type": "scattermapbox"
           }
          ],
          "scatterpolar": [
           {
            "marker": {
             "colorbar": {
              "outlinewidth": 0,
              "ticks": ""
             }
            },
            "type": "scatterpolar"
           }
          ],
          "scatterpolargl": [
           {
            "marker": {
             "colorbar": {
              "outlinewidth": 0,
              "ticks": ""
             }
            },
            "type": "scatterpolargl"
           }
          ],
          "scatterternary": [
           {
            "marker": {
             "colorbar": {
              "outlinewidth": 0,
              "ticks": ""
             }
            },
            "type": "scatterternary"
           }
          ],
          "surface": [
           {
            "colorbar": {
             "outlinewidth": 0,
             "ticks": ""
            },
            "colorscale": [
             [
              0,
              "#0d0887"
             ],
             [
              0.1111111111111111,
              "#46039f"
             ],
             [
              0.2222222222222222,
              "#7201a8"
             ],
             [
              0.3333333333333333,
              "#9c179e"
             ],
             [
              0.4444444444444444,
              "#bd3786"
             ],
             [
              0.5555555555555556,
              "#d8576b"
             ],
             [
              0.6666666666666666,
              "#ed7953"
             ],
             [
              0.7777777777777778,
              "#fb9f3a"
             ],
             [
              0.8888888888888888,
              "#fdca26"
             ],
             [
              1,
              "#f0f921"
             ]
            ],
            "type": "surface"
           }
          ],
          "table": [
           {
            "cells": {
             "fill": {
              "color": "#EBF0F8"
             },
             "line": {
              "color": "white"
             }
            },
            "header": {
             "fill": {
              "color": "#C8D4E3"
             },
             "line": {
              "color": "white"
             }
            },
            "type": "table"
           }
          ]
         },
         "layout": {
          "annotationdefaults": {
           "arrowcolor": "#2a3f5f",
           "arrowhead": 0,
           "arrowwidth": 1
          },
          "autotypenumbers": "strict",
          "coloraxis": {
           "colorbar": {
            "outlinewidth": 0,
            "ticks": ""
           }
          },
          "colorscale": {
           "diverging": [
            [
             0,
             "#8e0152"
            ],
            [
             0.1,
             "#c51b7d"
            ],
            [
             0.2,
             "#de77ae"
            ],
            [
             0.3,
             "#f1b6da"
            ],
            [
             0.4,
             "#fde0ef"
            ],
            [
             0.5,
             "#f7f7f7"
            ],
            [
             0.6,
             "#e6f5d0"
            ],
            [
             0.7,
             "#b8e186"
            ],
            [
             0.8,
             "#7fbc41"
            ],
            [
             0.9,
             "#4d9221"
            ],
            [
             1,
             "#276419"
            ]
           ],
           "sequential": [
            [
             0,
             "#0d0887"
            ],
            [
             0.1111111111111111,
             "#46039f"
            ],
            [
             0.2222222222222222,
             "#7201a8"
            ],
            [
             0.3333333333333333,
             "#9c179e"
            ],
            [
             0.4444444444444444,
             "#bd3786"
            ],
            [
             0.5555555555555556,
             "#d8576b"
            ],
            [
             0.6666666666666666,
             "#ed7953"
            ],
            [
             0.7777777777777778,
             "#fb9f3a"
            ],
            [
             0.8888888888888888,
             "#fdca26"
            ],
            [
             1,
             "#f0f921"
            ]
           ],
           "sequentialminus": [
            [
             0,
             "#0d0887"
            ],
            [
             0.1111111111111111,
             "#46039f"
            ],
            [
             0.2222222222222222,
             "#7201a8"
            ],
            [
             0.3333333333333333,
             "#9c179e"
            ],
            [
             0.4444444444444444,
             "#bd3786"
            ],
            [
             0.5555555555555556,
             "#d8576b"
            ],
            [
             0.6666666666666666,
             "#ed7953"
            ],
            [
             0.7777777777777778,
             "#fb9f3a"
            ],
            [
             0.8888888888888888,
             "#fdca26"
            ],
            [
             1,
             "#f0f921"
            ]
           ]
          },
          "colorway": [
           "#636efa",
           "#EF553B",
           "#00cc96",
           "#ab63fa",
           "#FFA15A",
           "#19d3f3",
           "#FF6692",
           "#B6E880",
           "#FF97FF",
           "#FECB52"
          ],
          "font": {
           "color": "#2a3f5f"
          },
          "geo": {
           "bgcolor": "white",
           "lakecolor": "white",
           "landcolor": "#E5ECF6",
           "showlakes": true,
           "showland": true,
           "subunitcolor": "white"
          },
          "hoverlabel": {
           "align": "left"
          },
          "hovermode": "closest",
          "mapbox": {
           "style": "light"
          },
          "paper_bgcolor": "white",
          "plot_bgcolor": "#E5ECF6",
          "polar": {
           "angularaxis": {
            "gridcolor": "white",
            "linecolor": "white",
            "ticks": ""
           },
           "bgcolor": "#E5ECF6",
           "radialaxis": {
            "gridcolor": "white",
            "linecolor": "white",
            "ticks": ""
           }
          },
          "scene": {
           "xaxis": {
            "backgroundcolor": "#E5ECF6",
            "gridcolor": "white",
            "gridwidth": 2,
            "linecolor": "white",
            "showbackground": true,
            "ticks": "",
            "zerolinecolor": "white"
           },
           "yaxis": {
            "backgroundcolor": "#E5ECF6",
            "gridcolor": "white",
            "gridwidth": 2,
            "linecolor": "white",
            "showbackground": true,
            "ticks": "",
            "zerolinecolor": "white"
           },
           "zaxis": {
            "backgroundcolor": "#E5ECF6",
            "gridcolor": "white",
            "gridwidth": 2,
            "linecolor": "white",
            "showbackground": true,
            "ticks": "",
            "zerolinecolor": "white"
           }
          },
          "shapedefaults": {
           "line": {
            "color": "#2a3f5f"
           }
          },
          "ternary": {
           "aaxis": {
            "gridcolor": "white",
            "linecolor": "white",
            "ticks": ""
           },
           "baxis": {
            "gridcolor": "white",
            "linecolor": "white",
            "ticks": ""
           },
           "bgcolor": "#E5ECF6",
           "caxis": {
            "gridcolor": "white",
            "linecolor": "white",
            "ticks": ""
           }
          },
          "title": {
           "x": 0.05
          },
          "xaxis": {
           "automargin": true,
           "gridcolor": "white",
           "linecolor": "white",
           "ticks": "",
           "title": {
            "standoff": 15
           },
           "zerolinecolor": "white",
           "zerolinewidth": 2
          },
          "yaxis": {
           "automargin": true,
           "gridcolor": "white",
           "linecolor": "white",
           "ticks": "",
           "title": {
            "standoff": 15
           },
           "zerolinecolor": "white",
           "zerolinewidth": 2
          }
         }
        },
        "title": {
         "text": "Savings of  Low income Populations  BHC , 1994-2023"
        },
        "xaxis": {
         "anchor": "y",
         "domain": [
          0,
          1
         ],
         "title": {
          "text": "Year"
         }
        },
        "yaxis": {
         "anchor": "x",
         "domain": [
          0,
          1
         ],
         "title": {
          "text": "Pct of  Low income population with savings"
         }
        }
       }
      }
     },
     "metadata": {},
     "output_type": "display_data"
    }
   ],
   "source": [
    "savings_categories.remove(\"Total\") if \"Total\" in savings_categories else None\n",
    "plot_hbai_trends(BHC, savings_categories, True)\n"
   ]
  },
  {
   "cell_type": "code",
   "execution_count": 89,
   "metadata": {},
   "outputs": [
    {
     "data": {
      "application/vnd.plotly.v1+json": {
       "config": {
        "plotlyServerURL": "https://plot.ly"
       },
       "data": [
        {
         "customdata": [
          [
           "No savings pct"
          ],
          [
           "No savings pct"
          ],
          [
           "No savings pct"
          ],
          [
           "No savings pct"
          ],
          [
           "No savings pct"
          ],
          [
           "No savings pct"
          ],
          [
           "No savings pct"
          ],
          [
           "No savings pct"
          ],
          [
           "No savings pct"
          ],
          [
           "No savings pct"
          ],
          [
           "No savings pct"
          ],
          [
           "No savings pct"
          ],
          [
           "No savings pct"
          ],
          [
           "No savings pct"
          ],
          [
           "No savings pct"
          ],
          [
           "No savings pct"
          ],
          [
           "No savings pct"
          ],
          [
           "No savings pct"
          ],
          [
           "No savings pct"
          ],
          [
           "No savings pct"
          ],
          [
           "No savings pct"
          ],
          [
           "No savings pct"
          ],
          [
           "No savings pct"
          ],
          [
           "No savings pct"
          ],
          [
           "No savings pct"
          ],
          [
           "No savings pct"
          ],
          [
           "No savings pct"
          ],
          [
           "No savings pct"
          ],
          [
           "No savings pct"
          ]
         ],
         "hovertemplate": "Savings=%{customdata[0]}<br>Year=%{x}<br>Amount of savings=%{y}<extra></extra>",
         "legendgroup": "No savings pct",
         "line": {
          "color": "#636efa",
          "dash": "solid"
         },
         "marker": {
          "symbol": "circle"
         },
         "mode": "lines",
         "name": "No savings pct",
         "orientation": "v",
         "showlegend": true,
         "type": "scatter",
         "x": [
          "1994-95",
          "1995-96",
          "1996-97",
          "1997-98",
          "1998-99",
          "1999-00",
          "2000-01",
          "2001-02",
          "2002-03",
          "2003-04",
          "2004-05",
          "2005-06",
          "2006-07",
          "2007-08",
          "2008-09",
          "2009-10",
          "2010-11",
          "2011-12",
          "2012-13",
          "2013-14",
          "2014-15",
          "2015-16",
          "2016-17",
          "2017-18",
          "2018-19",
          "2019-20",
          "2020-21",
          "2021-22",
          "2022-23"
         ],
         "xaxis": "x",
         "y": [
          28.71190599144835,
          30.84243976999865,
          27.702162504707182,
          27.791955740860242,
          26.94248552929227,
          25.04777256286878,
          26.00963314179929,
          27.502367524399336,
          27.855706302910892,
          27.918796162023156,
          27.997103935330948,
          28.583625770118005,
          28.889326334671956,
          27.489601478522097,
          28.695737802863093,
          31.969604560438093,
          34.045217743873735,
          34.8282278260161,
          37.689447086703076,
          38.60041618161982,
          37.13080898073784,
          35.599373084663746,
          38.12054518846067,
          38.28040380532123,
          37.88539487297506,
          12.73381472523288,
          null,
          14.252905631918491,
          16.04454865659402
         ],
         "yaxis": "y"
        },
        {
         "customdata": [
          [
           "Less than £1,500 pct"
          ],
          [
           "Less than £1,500 pct"
          ],
          [
           "Less than £1,500 pct"
          ],
          [
           "Less than £1,500 pct"
          ],
          [
           "Less than £1,500 pct"
          ],
          [
           "Less than £1,500 pct"
          ],
          [
           "Less than £1,500 pct"
          ],
          [
           "Less than £1,500 pct"
          ],
          [
           "Less than £1,500 pct"
          ],
          [
           "Less than £1,500 pct"
          ],
          [
           "Less than £1,500 pct"
          ],
          [
           "Less than £1,500 pct"
          ],
          [
           "Less than £1,500 pct"
          ],
          [
           "Less than £1,500 pct"
          ],
          [
           "Less than £1,500 pct"
          ],
          [
           "Less than £1,500 pct"
          ],
          [
           "Less than £1,500 pct"
          ],
          [
           "Less than £1,500 pct"
          ],
          [
           "Less than £1,500 pct"
          ],
          [
           "Less than £1,500 pct"
          ],
          [
           "Less than £1,500 pct"
          ],
          [
           "Less than £1,500 pct"
          ],
          [
           "Less than £1,500 pct"
          ],
          [
           "Less than £1,500 pct"
          ],
          [
           "Less than £1,500 pct"
          ],
          [
           "Less than £1,500 pct"
          ],
          [
           "Less than £1,500 pct"
          ],
          [
           "Less than £1,500 pct"
          ],
          [
           "Less than £1,500 pct"
          ]
         ],
         "hovertemplate": "Savings=%{customdata[0]}<br>Year=%{x}<br>Amount of savings=%{y}<extra></extra>",
         "legendgroup": "Less than £1,500 pct",
         "line": {
          "color": "#EF553B",
          "dash": "solid"
         },
         "marker": {
          "symbol": "circle"
         },
         "mode": "lines",
         "name": "Less than £1,500 pct",
         "orientation": "v",
         "showlegend": true,
         "type": "scatter",
         "x": [
          "1994-95",
          "1995-96",
          "1996-97",
          "1997-98",
          "1998-99",
          "1999-00",
          "2000-01",
          "2001-02",
          "2002-03",
          "2003-04",
          "2004-05",
          "2005-06",
          "2006-07",
          "2007-08",
          "2008-09",
          "2009-10",
          "2010-11",
          "2011-12",
          "2012-13",
          "2013-14",
          "2014-15",
          "2015-16",
          "2016-17",
          "2017-18",
          "2018-19",
          "2019-20",
          "2020-21",
          "2021-22",
          "2022-23"
         ],
         "xaxis": "x",
         "y": [
          19.69388240746795,
          21.00015240386625,
          22.89120966212243,
          24.097166822139823,
          24.49906716248191,
          25.54545782890579,
          25.018719033117343,
          23.744448385798542,
          22.10335774112942,
          21.077691028940716,
          23.496530038264027,
          22.534490185857358,
          22.014504562342967,
          21.384761171062056,
          19.312293040457767,
          19.704164494541995,
          15.766909118006318,
          14.95445043000386,
          13.966658440625276,
          12.949973143649885,
          11.979838247334836,
          13.330585134816225,
          12.486425258356551,
          11.444644153246768,
          11.74488185050057,
          31.10683270431475,
          null,
          26.757925018738955,
          26.883854054422734
         ],
         "yaxis": "y"
        },
        {
         "customdata": [
          [
           "£1,500 but less than £3,000 pct"
          ],
          [
           "£1,500 but less than £3,000 pct"
          ],
          [
           "£1,500 but less than £3,000 pct"
          ],
          [
           "£1,500 but less than £3,000 pct"
          ],
          [
           "£1,500 but less than £3,000 pct"
          ],
          [
           "£1,500 but less than £3,000 pct"
          ],
          [
           "£1,500 but less than £3,000 pct"
          ],
          [
           "£1,500 but less than £3,000 pct"
          ],
          [
           "£1,500 but less than £3,000 pct"
          ],
          [
           "£1,500 but less than £3,000 pct"
          ],
          [
           "£1,500 but less than £3,000 pct"
          ],
          [
           "£1,500 but less than £3,000 pct"
          ],
          [
           "£1,500 but less than £3,000 pct"
          ],
          [
           "£1,500 but less than £3,000 pct"
          ],
          [
           "£1,500 but less than £3,000 pct"
          ],
          [
           "£1,500 but less than £3,000 pct"
          ],
          [
           "£1,500 but less than £3,000 pct"
          ],
          [
           "£1,500 but less than £3,000 pct"
          ],
          [
           "£1,500 but less than £3,000 pct"
          ],
          [
           "£1,500 but less than £3,000 pct"
          ],
          [
           "£1,500 but less than £3,000 pct"
          ],
          [
           "£1,500 but less than £3,000 pct"
          ],
          [
           "£1,500 but less than £3,000 pct"
          ],
          [
           "£1,500 but less than £3,000 pct"
          ],
          [
           "£1,500 but less than £3,000 pct"
          ],
          [
           "£1,500 but less than £3,000 pct"
          ],
          [
           "£1,500 but less than £3,000 pct"
          ],
          [
           "£1,500 but less than £3,000 pct"
          ],
          [
           "£1,500 but less than £3,000 pct"
          ]
         ],
         "hovertemplate": "Savings=%{customdata[0]}<br>Year=%{x}<br>Amount of savings=%{y}<extra></extra>",
         "legendgroup": "£1,500 but less than £3,000 pct",
         "line": {
          "color": "#00cc96",
          "dash": "solid"
         },
         "marker": {
          "symbol": "circle"
         },
         "mode": "lines",
         "name": "£1,500 but less than £3,000 pct",
         "orientation": "v",
         "showlegend": true,
         "type": "scatter",
         "x": [
          "1994-95",
          "1995-96",
          "1996-97",
          "1997-98",
          "1998-99",
          "1999-00",
          "2000-01",
          "2001-02",
          "2002-03",
          "2003-04",
          "2004-05",
          "2005-06",
          "2006-07",
          "2007-08",
          "2008-09",
          "2009-10",
          "2010-11",
          "2011-12",
          "2012-13",
          "2013-14",
          "2014-15",
          "2015-16",
          "2016-17",
          "2017-18",
          "2018-19",
          "2019-20",
          "2020-21",
          "2021-22",
          "2022-23"
         ],
         "xaxis": "x",
         "y": [
          9.822323961923672,
          9.969294980681125,
          9.816927006359686,
          9.023592912207262,
          8.33010391343566,
          8.377891125648842,
          7.867090487037247,
          8.27824513559162,
          8.731227710780756,
          8.74453381971176,
          7.685297084432922,
          7.335017252720916,
          7.178435693336118,
          7.128082617230833,
          7.397797571032269,
          7.197579216271169,
          7.324548209237139,
          7.017846853111054,
          6.744891507988283,
          6.192563964916096,
          6.833177178075589,
          6.863536051240341,
          7.005081914748584,
          6.9614623757952785,
          6.782011788800488,
          8.572221218085302,
          null,
          8.096545472608282,
          7.4617002110315855
         ],
         "yaxis": "y"
        },
        {
         "customdata": [
          [
           "£3,000 but less than £8,000 pct"
          ],
          [
           "£3,000 but less than £8,000 pct"
          ],
          [
           "£3,000 but less than £8,000 pct"
          ],
          [
           "£3,000 but less than £8,000 pct"
          ],
          [
           "£3,000 but less than £8,000 pct"
          ],
          [
           "£3,000 but less than £8,000 pct"
          ],
          [
           "£3,000 but less than £8,000 pct"
          ],
          [
           "£3,000 but less than £8,000 pct"
          ],
          [
           "£3,000 but less than £8,000 pct"
          ],
          [
           "£3,000 but less than £8,000 pct"
          ],
          [
           "£3,000 but less than £8,000 pct"
          ],
          [
           "£3,000 but less than £8,000 pct"
          ],
          [
           "£3,000 but less than £8,000 pct"
          ],
          [
           "£3,000 but less than £8,000 pct"
          ],
          [
           "£3,000 but less than £8,000 pct"
          ],
          [
           "£3,000 but less than £8,000 pct"
          ],
          [
           "£3,000 but less than £8,000 pct"
          ],
          [
           "£3,000 but less than £8,000 pct"
          ],
          [
           "£3,000 but less than £8,000 pct"
          ],
          [
           "£3,000 but less than £8,000 pct"
          ],
          [
           "£3,000 but less than £8,000 pct"
          ],
          [
           "£3,000 but less than £8,000 pct"
          ],
          [
           "£3,000 but less than £8,000 pct"
          ],
          [
           "£3,000 but less than £8,000 pct"
          ],
          [
           "£3,000 but less than £8,000 pct"
          ],
          [
           "£3,000 but less than £8,000 pct"
          ],
          [
           "£3,000 but less than £8,000 pct"
          ],
          [
           "£3,000 but less than £8,000 pct"
          ],
          [
           "£3,000 but less than £8,000 pct"
          ]
         ],
         "hovertemplate": "Savings=%{customdata[0]}<br>Year=%{x}<br>Amount of savings=%{y}<extra></extra>",
         "legendgroup": "£3,000 but less than £8,000 pct",
         "line": {
          "color": "#ab63fa",
          "dash": "solid"
         },
         "marker": {
          "symbol": "circle"
         },
         "mode": "lines",
         "name": "£3,000 but less than £8,000 pct",
         "orientation": "v",
         "showlegend": true,
         "type": "scatter",
         "x": [
          "1994-95",
          "1995-96",
          "1996-97",
          "1997-98",
          "1998-99",
          "1999-00",
          "2000-01",
          "2001-02",
          "2002-03",
          "2003-04",
          "2004-05",
          "2005-06",
          "2006-07",
          "2007-08",
          "2008-09",
          "2009-10",
          "2010-11",
          "2011-12",
          "2012-13",
          "2013-14",
          "2014-15",
          "2015-16",
          "2016-17",
          "2017-18",
          "2018-19",
          "2019-20",
          "2020-21",
          "2021-22",
          "2022-23"
         ],
         "xaxis": "x",
         "y": [
          14.502393225577023,
          14.269524139957573,
          14.455494951028905,
          13.992082571291963,
          14.027432962412659,
          14.402711240450197,
          14.328570966207904,
          14.334341090569064,
          15.157275992851266,
          15.607139225679893,
          13.87273937244414,
          14.03629215621081,
          13.811202169238188,
          14.12887826225365,
          14.1984173605303,
          13.940427741877567,
          13.094290763005207,
          12.4110162364222,
          12.222596680047895,
          12.460671953599183,
          12.902700745959155,
          13.058488801683113,
          12.380440525525332,
          12.425568112771904,
          12.588863985837081,
          13.253772905301311,
          null,
          13.891540459763291,
          12.411553547982628
         ],
         "yaxis": "y"
        },
        {
         "customdata": [
          [
           "£8,000 but less than £10,000 pct"
          ],
          [
           "£8,000 but less than £10,000 pct"
          ],
          [
           "£8,000 but less than £10,000 pct"
          ],
          [
           "£8,000 but less than £10,000 pct"
          ],
          [
           "£8,000 but less than £10,000 pct"
          ],
          [
           "£8,000 but less than £10,000 pct"
          ],
          [
           "£8,000 but less than £10,000 pct"
          ],
          [
           "£8,000 but less than £10,000 pct"
          ],
          [
           "£8,000 but less than £10,000 pct"
          ],
          [
           "£8,000 but less than £10,000 pct"
          ],
          [
           "£8,000 but less than £10,000 pct"
          ],
          [
           "£8,000 but less than £10,000 pct"
          ],
          [
           "£8,000 but less than £10,000 pct"
          ],
          [
           "£8,000 but less than £10,000 pct"
          ],
          [
           "£8,000 but less than £10,000 pct"
          ],
          [
           "£8,000 but less than £10,000 pct"
          ],
          [
           "£8,000 but less than £10,000 pct"
          ],
          [
           "£8,000 but less than £10,000 pct"
          ],
          [
           "£8,000 but less than £10,000 pct"
          ],
          [
           "£8,000 but less than £10,000 pct"
          ],
          [
           "£8,000 but less than £10,000 pct"
          ],
          [
           "£8,000 but less than £10,000 pct"
          ],
          [
           "£8,000 but less than £10,000 pct"
          ],
          [
           "£8,000 but less than £10,000 pct"
          ],
          [
           "£8,000 but less than £10,000 pct"
          ],
          [
           "£8,000 but less than £10,000 pct"
          ],
          [
           "£8,000 but less than £10,000 pct"
          ],
          [
           "£8,000 but less than £10,000 pct"
          ],
          [
           "£8,000 but less than £10,000 pct"
          ]
         ],
         "hovertemplate": "Savings=%{customdata[0]}<br>Year=%{x}<br>Amount of savings=%{y}<extra></extra>",
         "legendgroup": "£8,000 but less than £10,000 pct",
         "line": {
          "color": "#FFA15A",
          "dash": "solid"
         },
         "marker": {
          "symbol": "circle"
         },
         "mode": "lines",
         "name": "£8,000 but less than £10,000 pct",
         "orientation": "v",
         "showlegend": true,
         "type": "scatter",
         "x": [
          "1994-95",
          "1995-96",
          "1996-97",
          "1997-98",
          "1998-99",
          "1999-00",
          "2000-01",
          "2001-02",
          "2002-03",
          "2003-04",
          "2004-05",
          "2005-06",
          "2006-07",
          "2007-08",
          "2008-09",
          "2009-10",
          "2010-11",
          "2011-12",
          "2012-13",
          "2013-14",
          "2014-15",
          "2015-16",
          "2016-17",
          "2017-18",
          "2018-19",
          "2019-20",
          "2020-21",
          "2021-22",
          "2022-23"
         ],
         "xaxis": "x",
         "y": [
          3.6930733233076287,
          2.83436049820053,
          3.037707595469422,
          2.84538612510741,
          3.2901720421032037,
          3.1312136973421745,
          3.242495038786481,
          3.2969347474477924,
          3.3978240791683203,
          3.5164669823644115,
          3.584565451989039,
          3.487552421108807,
          3.264337903925979,
          3.534755728456488,
          3.324936168025752,
          3.422948897453141,
          2.9746520693933722,
          2.9454017762038602,
          2.8135354924361025,
          2.710091265124824,
          3.037343200480486,
          3.0913456538832182,
          2.7533753466753086,
          2.9240861425264697,
          2.539737241267066,
          3.221728772432099,
          null,
          3.003843256354213,
          2.762740202424955
         ],
         "yaxis": "y"
        },
        {
         "customdata": [
          [
           "£10,000 but less than £16,000 pct"
          ],
          [
           "£10,000 but less than £16,000 pct"
          ],
          [
           "£10,000 but less than £16,000 pct"
          ],
          [
           "£10,000 but less than £16,000 pct"
          ],
          [
           "£10,000 but less than £16,000 pct"
          ],
          [
           "£10,000 but less than £16,000 pct"
          ],
          [
           "£10,000 but less than £16,000 pct"
          ],
          [
           "£10,000 but less than £16,000 pct"
          ],
          [
           "£10,000 but less than £16,000 pct"
          ],
          [
           "£10,000 but less than £16,000 pct"
          ],
          [
           "£10,000 but less than £16,000 pct"
          ],
          [
           "£10,000 but less than £16,000 pct"
          ],
          [
           "£10,000 but less than £16,000 pct"
          ],
          [
           "£10,000 but less than £16,000 pct"
          ],
          [
           "£10,000 but less than £16,000 pct"
          ],
          [
           "£10,000 but less than £16,000 pct"
          ],
          [
           "£10,000 but less than £16,000 pct"
          ],
          [
           "£10,000 but less than £16,000 pct"
          ],
          [
           "£10,000 but less than £16,000 pct"
          ],
          [
           "£10,000 but less than £16,000 pct"
          ],
          [
           "£10,000 but less than £16,000 pct"
          ],
          [
           "£10,000 but less than £16,000 pct"
          ],
          [
           "£10,000 but less than £16,000 pct"
          ],
          [
           "£10,000 but less than £16,000 pct"
          ],
          [
           "£10,000 but less than £16,000 pct"
          ],
          [
           "£10,000 but less than £16,000 pct"
          ],
          [
           "£10,000 but less than £16,000 pct"
          ],
          [
           "£10,000 but less than £16,000 pct"
          ],
          [
           "£10,000 but less than £16,000 pct"
          ]
         ],
         "hovertemplate": "Savings=%{customdata[0]}<br>Year=%{x}<br>Amount of savings=%{y}<extra></extra>",
         "legendgroup": "£10,000 but less than £16,000 pct",
         "line": {
          "color": "#19d3f3",
          "dash": "solid"
         },
         "marker": {
          "symbol": "circle"
         },
         "mode": "lines",
         "name": "£10,000 but less than £16,000 pct",
         "orientation": "v",
         "showlegend": true,
         "type": "scatter",
         "x": [
          "1994-95",
          "1995-96",
          "1996-97",
          "1997-98",
          "1998-99",
          "1999-00",
          "2000-01",
          "2001-02",
          "2002-03",
          "2003-04",
          "2004-05",
          "2005-06",
          "2006-07",
          "2007-08",
          "2008-09",
          "2009-10",
          "2010-11",
          "2011-12",
          "2012-13",
          "2013-14",
          "2014-15",
          "2015-16",
          "2016-17",
          "2017-18",
          "2018-19",
          "2019-20",
          "2020-21",
          "2021-22",
          "2022-23"
         ],
         "xaxis": "x",
         "y": [
          6.534815749875124,
          5.493593821315768,
          5.875719320043347,
          6.395037787221332,
          6.5276993257645755,
          6.411978682424177,
          6.6462684491214095,
          6.774256955314807,
          6.5555696634116725,
          6.711819725307294,
          6.825951040661642,
          6.41315435194571,
          6.310847650599477,
          6.614521804964813,
          6.8256807907415435,
          6.693434329912007,
          6.421560159094687,
          6.578528594598902,
          6.004557181815366,
          6.1064808753334,
          6.113740040362231,
          5.999356751031051,
          6.044617745135055,
          5.932372476965325,
          5.977029593586575,
          6.41596728633255,
          null,
          6.656704439934242,
          6.571019519993515
         ],
         "yaxis": "y"
        },
        {
         "customdata": [
          [
           "£16,000 but less than £20,000 pct"
          ],
          [
           "£16,000 but less than £20,000 pct"
          ],
          [
           "£16,000 but less than £20,000 pct"
          ],
          [
           "£16,000 but less than £20,000 pct"
          ],
          [
           "£16,000 but less than £20,000 pct"
          ],
          [
           "£16,000 but less than £20,000 pct"
          ],
          [
           "£16,000 but less than £20,000 pct"
          ],
          [
           "£16,000 but less than £20,000 pct"
          ],
          [
           "£16,000 but less than £20,000 pct"
          ],
          [
           "£16,000 but less than £20,000 pct"
          ],
          [
           "£16,000 but less than £20,000 pct"
          ],
          [
           "£16,000 but less than £20,000 pct"
          ],
          [
           "£16,000 but less than £20,000 pct"
          ],
          [
           "£16,000 but less than £20,000 pct"
          ],
          [
           "£16,000 but less than £20,000 pct"
          ],
          [
           "£16,000 but less than £20,000 pct"
          ],
          [
           "£16,000 but less than £20,000 pct"
          ],
          [
           "£16,000 but less than £20,000 pct"
          ],
          [
           "£16,000 but less than £20,000 pct"
          ],
          [
           "£16,000 but less than £20,000 pct"
          ],
          [
           "£16,000 but less than £20,000 pct"
          ],
          [
           "£16,000 but less than £20,000 pct"
          ],
          [
           "£16,000 but less than £20,000 pct"
          ],
          [
           "£16,000 but less than £20,000 pct"
          ],
          [
           "£16,000 but less than £20,000 pct"
          ],
          [
           "£16,000 but less than £20,000 pct"
          ],
          [
           "£16,000 but less than £20,000 pct"
          ],
          [
           "£16,000 but less than £20,000 pct"
          ],
          [
           "£16,000 but less than £20,000 pct"
          ]
         ],
         "hovertemplate": "Savings=%{customdata[0]}<br>Year=%{x}<br>Amount of savings=%{y}<extra></extra>",
         "legendgroup": "£16,000 but less than £20,000 pct",
         "line": {
          "color": "#FF6692",
          "dash": "solid"
         },
         "marker": {
          "symbol": "circle"
         },
         "mode": "lines",
         "name": "£16,000 but less than £20,000 pct",
         "orientation": "v",
         "showlegend": true,
         "type": "scatter",
         "x": [
          "1994-95",
          "1995-96",
          "1996-97",
          "1997-98",
          "1998-99",
          "1999-00",
          "2000-01",
          "2001-02",
          "2002-03",
          "2003-04",
          "2004-05",
          "2005-06",
          "2006-07",
          "2007-08",
          "2008-09",
          "2009-10",
          "2010-11",
          "2011-12",
          "2012-13",
          "2013-14",
          "2014-15",
          "2015-16",
          "2016-17",
          "2017-18",
          "2018-19",
          "2019-20",
          "2020-21",
          "2021-22",
          "2022-23"
         ],
         "xaxis": "x",
         "y": [
          2.974282777360411,
          2.301621241975763,
          2.37858939315442,
          2.5651978632750114,
          2.848579101839196,
          2.7139267099745807,
          2.4663886142278764,
          2.66845003899771,
          2.61196342676414,
          2.453365483490908,
          2.79687124663943,
          2.630331991018507,
          2.7932541891708196,
          2.9972657120617168,
          2.860069953178509,
          2.6014703774693317,
          2.5114554779156544,
          2.6048311597676443,
          2.3832849545853336,
          2.4310748842876153,
          2.516923259345772,
          2.6525568959546475,
          2.2657206609699148,
          2.6955555176149746,
          2.3865894829691627,
          2.3351113361037616,
          null,
          3.023273839391713,
          2.9448053608769573
         ],
         "yaxis": "y"
        },
        {
         "customdata": [
          [
           "£20,000 or more pct"
          ],
          [
           "£20,000 or more pct"
          ],
          [
           "£20,000 or more pct"
          ],
          [
           "£20,000 or more pct"
          ],
          [
           "£20,000 or more pct"
          ],
          [
           "£20,000 or more pct"
          ],
          [
           "£20,000 or more pct"
          ],
          [
           "£20,000 or more pct"
          ],
          [
           "£20,000 or more pct"
          ],
          [
           "£20,000 or more pct"
          ],
          [
           "£20,000 or more pct"
          ],
          [
           "£20,000 or more pct"
          ],
          [
           "£20,000 or more pct"
          ],
          [
           "£20,000 or more pct"
          ],
          [
           "£20,000 or more pct"
          ],
          [
           "£20,000 or more pct"
          ],
          [
           "£20,000 or more pct"
          ],
          [
           "£20,000 or more pct"
          ],
          [
           "£20,000 or more pct"
          ],
          [
           "£20,000 or more pct"
          ],
          [
           "£20,000 or more pct"
          ],
          [
           "£20,000 or more pct"
          ],
          [
           "£20,000 or more pct"
          ],
          [
           "£20,000 or more pct"
          ],
          [
           "£20,000 or more pct"
          ],
          [
           "£20,000 or more pct"
          ],
          [
           "£20,000 or more pct"
          ],
          [
           "£20,000 or more pct"
          ],
          [
           "£20,000 or more pct"
          ]
         ],
         "hovertemplate": "Savings=%{customdata[0]}<br>Year=%{x}<br>Amount of savings=%{y}<extra></extra>",
         "legendgroup": "£20,000 or more pct",
         "line": {
          "color": "#B6E880",
          "dash": "solid"
         },
         "marker": {
          "symbol": "circle"
         },
         "mode": "lines",
         "name": "£20,000 or more pct",
         "orientation": "v",
         "showlegend": true,
         "type": "scatter",
         "x": [
          "1994-95",
          "1995-96",
          "1996-97",
          "1997-98",
          "1998-99",
          "1999-00",
          "2000-01",
          "2001-02",
          "2002-03",
          "2003-04",
          "2004-05",
          "2005-06",
          "2006-07",
          "2007-08",
          "2008-09",
          "2009-10",
          "2010-11",
          "2011-12",
          "2012-13",
          "2013-14",
          "2014-15",
          "2015-16",
          "2016-17",
          "2017-18",
          "2018-19",
          "2019-20",
          "2020-21",
          "2021-22",
          "2022-23"
         ],
         "xaxis": "x",
         "y": [
          14.067322563039845,
          13.289013144004347,
          13.842189567114607,
          13.289580177896957,
          13.534459962670525,
          14.369048152385458,
          14.420834269702443,
          13.400956121881133,
          13.587075082983532,
          13.970187572481862,
          13.740941830237851,
          14.979535871019891,
          15.738091496714496,
          16.722133225448346,
          17.38506731317077,
          14.470370382036698,
          17.86136645947389,
          18.659697123876388,
          18.175028655798666,
          18.548727731469175,
          19.485468347704092,
          19.404757626727655,
          18.943793360128584,
          19.335907415758054,
          20.09549118406399,
          22.360551052197348,
          null,
          24.317261881290815,
          24.9197784466736
         ],
         "yaxis": "y"
        }
       ],
       "layout": {
        "hovermode": "x unified",
        "legend": {
         "title": {
          "text": "Savings"
         },
         "tracegroupgap": 0
        },
        "template": {
         "data": {
          "bar": [
           {
            "error_x": {
             "color": "#2a3f5f"
            },
            "error_y": {
             "color": "#2a3f5f"
            },
            "marker": {
             "line": {
              "color": "#E5ECF6",
              "width": 0.5
             },
             "pattern": {
              "fillmode": "overlay",
              "size": 10,
              "solidity": 0.2
             }
            },
            "type": "bar"
           }
          ],
          "barpolar": [
           {
            "marker": {
             "line": {
              "color": "#E5ECF6",
              "width": 0.5
             },
             "pattern": {
              "fillmode": "overlay",
              "size": 10,
              "solidity": 0.2
             }
            },
            "type": "barpolar"
           }
          ],
          "carpet": [
           {
            "aaxis": {
             "endlinecolor": "#2a3f5f",
             "gridcolor": "white",
             "linecolor": "white",
             "minorgridcolor": "white",
             "startlinecolor": "#2a3f5f"
            },
            "baxis": {
             "endlinecolor": "#2a3f5f",
             "gridcolor": "white",
             "linecolor": "white",
             "minorgridcolor": "white",
             "startlinecolor": "#2a3f5f"
            },
            "type": "carpet"
           }
          ],
          "choropleth": [
           {
            "colorbar": {
             "outlinewidth": 0,
             "ticks": ""
            },
            "type": "choropleth"
           }
          ],
          "contour": [
           {
            "colorbar": {
             "outlinewidth": 0,
             "ticks": ""
            },
            "colorscale": [
             [
              0,
              "#0d0887"
             ],
             [
              0.1111111111111111,
              "#46039f"
             ],
             [
              0.2222222222222222,
              "#7201a8"
             ],
             [
              0.3333333333333333,
              "#9c179e"
             ],
             [
              0.4444444444444444,
              "#bd3786"
             ],
             [
              0.5555555555555556,
              "#d8576b"
             ],
             [
              0.6666666666666666,
              "#ed7953"
             ],
             [
              0.7777777777777778,
              "#fb9f3a"
             ],
             [
              0.8888888888888888,
              "#fdca26"
             ],
             [
              1,
              "#f0f921"
             ]
            ],
            "type": "contour"
           }
          ],
          "contourcarpet": [
           {
            "colorbar": {
             "outlinewidth": 0,
             "ticks": ""
            },
            "type": "contourcarpet"
           }
          ],
          "heatmap": [
           {
            "colorbar": {
             "outlinewidth": 0,
             "ticks": ""
            },
            "colorscale": [
             [
              0,
              "#0d0887"
             ],
             [
              0.1111111111111111,
              "#46039f"
             ],
             [
              0.2222222222222222,
              "#7201a8"
             ],
             [
              0.3333333333333333,
              "#9c179e"
             ],
             [
              0.4444444444444444,
              "#bd3786"
             ],
             [
              0.5555555555555556,
              "#d8576b"
             ],
             [
              0.6666666666666666,
              "#ed7953"
             ],
             [
              0.7777777777777778,
              "#fb9f3a"
             ],
             [
              0.8888888888888888,
              "#fdca26"
             ],
             [
              1,
              "#f0f921"
             ]
            ],
            "type": "heatmap"
           }
          ],
          "heatmapgl": [
           {
            "colorbar": {
             "outlinewidth": 0,
             "ticks": ""
            },
            "colorscale": [
             [
              0,
              "#0d0887"
             ],
             [
              0.1111111111111111,
              "#46039f"
             ],
             [
              0.2222222222222222,
              "#7201a8"
             ],
             [
              0.3333333333333333,
              "#9c179e"
             ],
             [
              0.4444444444444444,
              "#bd3786"
             ],
             [
              0.5555555555555556,
              "#d8576b"
             ],
             [
              0.6666666666666666,
              "#ed7953"
             ],
             [
              0.7777777777777778,
              "#fb9f3a"
             ],
             [
              0.8888888888888888,
              "#fdca26"
             ],
             [
              1,
              "#f0f921"
             ]
            ],
            "type": "heatmapgl"
           }
          ],
          "histogram": [
           {
            "marker": {
             "pattern": {
              "fillmode": "overlay",
              "size": 10,
              "solidity": 0.2
             }
            },
            "type": "histogram"
           }
          ],
          "histogram2d": [
           {
            "colorbar": {
             "outlinewidth": 0,
             "ticks": ""
            },
            "colorscale": [
             [
              0,
              "#0d0887"
             ],
             [
              0.1111111111111111,
              "#46039f"
             ],
             [
              0.2222222222222222,
              "#7201a8"
             ],
             [
              0.3333333333333333,
              "#9c179e"
             ],
             [
              0.4444444444444444,
              "#bd3786"
             ],
             [
              0.5555555555555556,
              "#d8576b"
             ],
             [
              0.6666666666666666,
              "#ed7953"
             ],
             [
              0.7777777777777778,
              "#fb9f3a"
             ],
             [
              0.8888888888888888,
              "#fdca26"
             ],
             [
              1,
              "#f0f921"
             ]
            ],
            "type": "histogram2d"
           }
          ],
          "histogram2dcontour": [
           {
            "colorbar": {
             "outlinewidth": 0,
             "ticks": ""
            },
            "colorscale": [
             [
              0,
              "#0d0887"
             ],
             [
              0.1111111111111111,
              "#46039f"
             ],
             [
              0.2222222222222222,
              "#7201a8"
             ],
             [
              0.3333333333333333,
              "#9c179e"
             ],
             [
              0.4444444444444444,
              "#bd3786"
             ],
             [
              0.5555555555555556,
              "#d8576b"
             ],
             [
              0.6666666666666666,
              "#ed7953"
             ],
             [
              0.7777777777777778,
              "#fb9f3a"
             ],
             [
              0.8888888888888888,
              "#fdca26"
             ],
             [
              1,
              "#f0f921"
             ]
            ],
            "type": "histogram2dcontour"
           }
          ],
          "mesh3d": [
           {
            "colorbar": {
             "outlinewidth": 0,
             "ticks": ""
            },
            "type": "mesh3d"
           }
          ],
          "parcoords": [
           {
            "line": {
             "colorbar": {
              "outlinewidth": 0,
              "ticks": ""
             }
            },
            "type": "parcoords"
           }
          ],
          "pie": [
           {
            "automargin": true,
            "type": "pie"
           }
          ],
          "scatter": [
           {
            "fillpattern": {
             "fillmode": "overlay",
             "size": 10,
             "solidity": 0.2
            },
            "type": "scatter"
           }
          ],
          "scatter3d": [
           {
            "line": {
             "colorbar": {
              "outlinewidth": 0,
              "ticks": ""
             }
            },
            "marker": {
             "colorbar": {
              "outlinewidth": 0,
              "ticks": ""
             }
            },
            "type": "scatter3d"
           }
          ],
          "scattercarpet": [
           {
            "marker": {
             "colorbar": {
              "outlinewidth": 0,
              "ticks": ""
             }
            },
            "type": "scattercarpet"
           }
          ],
          "scattergeo": [
           {
            "marker": {
             "colorbar": {
              "outlinewidth": 0,
              "ticks": ""
             }
            },
            "type": "scattergeo"
           }
          ],
          "scattergl": [
           {
            "marker": {
             "colorbar": {
              "outlinewidth": 0,
              "ticks": ""
             }
            },
            "type": "scattergl"
           }
          ],
          "scattermapbox": [
           {
            "marker": {
             "colorbar": {
              "outlinewidth": 0,
              "ticks": ""
             }
            },
            "type": "scattermapbox"
           }
          ],
          "scatterpolar": [
           {
            "marker": {
             "colorbar": {
              "outlinewidth": 0,
              "ticks": ""
             }
            },
            "type": "scatterpolar"
           }
          ],
          "scatterpolargl": [
           {
            "marker": {
             "colorbar": {
              "outlinewidth": 0,
              "ticks": ""
             }
            },
            "type": "scatterpolargl"
           }
          ],
          "scatterternary": [
           {
            "marker": {
             "colorbar": {
              "outlinewidth": 0,
              "ticks": ""
             }
            },
            "type": "scatterternary"
           }
          ],
          "surface": [
           {
            "colorbar": {
             "outlinewidth": 0,
             "ticks": ""
            },
            "colorscale": [
             [
              0,
              "#0d0887"
             ],
             [
              0.1111111111111111,
              "#46039f"
             ],
             [
              0.2222222222222222,
              "#7201a8"
             ],
             [
              0.3333333333333333,
              "#9c179e"
             ],
             [
              0.4444444444444444,
              "#bd3786"
             ],
             [
              0.5555555555555556,
              "#d8576b"
             ],
             [
              0.6666666666666666,
              "#ed7953"
             ],
             [
              0.7777777777777778,
              "#fb9f3a"
             ],
             [
              0.8888888888888888,
              "#fdca26"
             ],
             [
              1,
              "#f0f921"
             ]
            ],
            "type": "surface"
           }
          ],
          "table": [
           {
            "cells": {
             "fill": {
              "color": "#EBF0F8"
             },
             "line": {
              "color": "white"
             }
            },
            "header": {
             "fill": {
              "color": "#C8D4E3"
             },
             "line": {
              "color": "white"
             }
            },
            "type": "table"
           }
          ]
         },
         "layout": {
          "annotationdefaults": {
           "arrowcolor": "#2a3f5f",
           "arrowhead": 0,
           "arrowwidth": 1
          },
          "autotypenumbers": "strict",
          "coloraxis": {
           "colorbar": {
            "outlinewidth": 0,
            "ticks": ""
           }
          },
          "colorscale": {
           "diverging": [
            [
             0,
             "#8e0152"
            ],
            [
             0.1,
             "#c51b7d"
            ],
            [
             0.2,
             "#de77ae"
            ],
            [
             0.3,
             "#f1b6da"
            ],
            [
             0.4,
             "#fde0ef"
            ],
            [
             0.5,
             "#f7f7f7"
            ],
            [
             0.6,
             "#e6f5d0"
            ],
            [
             0.7,
             "#b8e186"
            ],
            [
             0.8,
             "#7fbc41"
            ],
            [
             0.9,
             "#4d9221"
            ],
            [
             1,
             "#276419"
            ]
           ],
           "sequential": [
            [
             0,
             "#0d0887"
            ],
            [
             0.1111111111111111,
             "#46039f"
            ],
            [
             0.2222222222222222,
             "#7201a8"
            ],
            [
             0.3333333333333333,
             "#9c179e"
            ],
            [
             0.4444444444444444,
             "#bd3786"
            ],
            [
             0.5555555555555556,
             "#d8576b"
            ],
            [
             0.6666666666666666,
             "#ed7953"
            ],
            [
             0.7777777777777778,
             "#fb9f3a"
            ],
            [
             0.8888888888888888,
             "#fdca26"
            ],
            [
             1,
             "#f0f921"
            ]
           ],
           "sequentialminus": [
            [
             0,
             "#0d0887"
            ],
            [
             0.1111111111111111,
             "#46039f"
            ],
            [
             0.2222222222222222,
             "#7201a8"
            ],
            [
             0.3333333333333333,
             "#9c179e"
            ],
            [
             0.4444444444444444,
             "#bd3786"
            ],
            [
             0.5555555555555556,
             "#d8576b"
            ],
            [
             0.6666666666666666,
             "#ed7953"
            ],
            [
             0.7777777777777778,
             "#fb9f3a"
            ],
            [
             0.8888888888888888,
             "#fdca26"
            ],
            [
             1,
             "#f0f921"
            ]
           ]
          },
          "colorway": [
           "#636efa",
           "#EF553B",
           "#00cc96",
           "#ab63fa",
           "#FFA15A",
           "#19d3f3",
           "#FF6692",
           "#B6E880",
           "#FF97FF",
           "#FECB52"
          ],
          "font": {
           "color": "#2a3f5f"
          },
          "geo": {
           "bgcolor": "white",
           "lakecolor": "white",
           "landcolor": "#E5ECF6",
           "showlakes": true,
           "showland": true,
           "subunitcolor": "white"
          },
          "hoverlabel": {
           "align": "left"
          },
          "hovermode": "closest",
          "mapbox": {
           "style": "light"
          },
          "paper_bgcolor": "white",
          "plot_bgcolor": "#E5ECF6",
          "polar": {
           "angularaxis": {
            "gridcolor": "white",
            "linecolor": "white",
            "ticks": ""
           },
           "bgcolor": "#E5ECF6",
           "radialaxis": {
            "gridcolor": "white",
            "linecolor": "white",
            "ticks": ""
           }
          },
          "scene": {
           "xaxis": {
            "backgroundcolor": "#E5ECF6",
            "gridcolor": "white",
            "gridwidth": 2,
            "linecolor": "white",
            "showbackground": true,
            "ticks": "",
            "zerolinecolor": "white"
           },
           "yaxis": {
            "backgroundcolor": "#E5ECF6",
            "gridcolor": "white",
            "gridwidth": 2,
            "linecolor": "white",
            "showbackground": true,
            "ticks": "",
            "zerolinecolor": "white"
           },
           "zaxis": {
            "backgroundcolor": "#E5ECF6",
            "gridcolor": "white",
            "gridwidth": 2,
            "linecolor": "white",
            "showbackground": true,
            "ticks": "",
            "zerolinecolor": "white"
           }
          },
          "shapedefaults": {
           "line": {
            "color": "#2a3f5f"
           }
          },
          "ternary": {
           "aaxis": {
            "gridcolor": "white",
            "linecolor": "white",
            "ticks": ""
           },
           "baxis": {
            "gridcolor": "white",
            "linecolor": "white",
            "ticks": ""
           },
           "bgcolor": "#E5ECF6",
           "caxis": {
            "gridcolor": "white",
            "linecolor": "white",
            "ticks": ""
           }
          },
          "title": {
           "x": 0.05
          },
          "xaxis": {
           "automargin": true,
           "gridcolor": "white",
           "linecolor": "white",
           "ticks": "",
           "title": {
            "standoff": 15
           },
           "zerolinecolor": "white",
           "zerolinewidth": 2
          },
          "yaxis": {
           "automargin": true,
           "gridcolor": "white",
           "linecolor": "white",
           "ticks": "",
           "title": {
            "standoff": 15
           },
           "zerolinecolor": "white",
           "zerolinewidth": 2
          }
         }
        },
        "title": {
         "text": "Savings of  Not low income Populations  BHC , 1994-2023"
        },
        "xaxis": {
         "anchor": "y",
         "domain": [
          0,
          1
         ],
         "title": {
          "text": "Year"
         }
        },
        "yaxis": {
         "anchor": "x",
         "domain": [
          0,
          1
         ],
         "title": {
          "text": "Pct of  Not low income population with savings"
         }
        }
       }
      }
     },
     "metadata": {},
     "output_type": "display_data"
    }
   ],
   "source": [
    "plot_hbai_trends(BHC, savings_categories, False)"
   ]
  },
  {
   "cell_type": "markdown",
   "metadata": {},
   "source": [
    "### Observations\n",
    "The percentage of the higher-income population with no saving actaully increases over the years.  This is concerning, as these population would not be able to cushion shocks when the economy takes a downturn or when there are changes in their circumstances due to unfortunate events like accidents or sickness.\n",
    "\n"
   ]
  }
 ],
 "metadata": {
  "kernelspec": {
   "display_name": "venv",
   "language": "python",
   "name": "python3"
  },
  "language_info": {
   "codemirror_mode": {
    "name": "ipython",
    "version": 3
   },
   "file_extension": ".py",
   "mimetype": "text/x-python",
   "name": "python",
   "nbconvert_exporter": "python",
   "pygments_lexer": "ipython3",
   "version": "3.10.0"
  }
 },
 "nbformat": 4,
 "nbformat_minor": 2
}
