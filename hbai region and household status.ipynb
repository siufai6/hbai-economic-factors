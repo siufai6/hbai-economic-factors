{
 "cells": [
  {
   "cell_type": "markdown",
   "metadata": {},
   "source": [
    "### HBAI BHC  low income changes vs household status in different regions in the UK\n",
    "\n",
    "We look at 3 economic statuses (All adults in work, not all adults in work, workless) and the percentage of low income population.  The objective is to establish the relationship between ecocomic status and poverty."
   ]
  },
  {
   "cell_type": "code",
   "execution_count": 120,
   "metadata": {},
   "outputs": [],
   "source": [
    "import pandas as pd\n",
    "import re\n",
    "\n",
    "def extract_and_fix_year(year_range):\n",
    "    try:\n",
    "        year_suffix = year_range.split('-')[1]\n",
    "        full_year = \"20\" + year_suffix  if int(year_suffix) < 50 else \"19\" +year_suffix\n",
    "        return int(full_year) \n",
    "    except:\n",
    "        return None\n",
    "\n",
    "def clean_region_name(region):\n",
    "    # Remove anything in parentheses and trim whitespace\n",
    "    return re.sub(r'\\s*\\(.*\\)', '', region).strip()\n",
    "\n",
    "def read_csv(file_path):\n",
    "    df = pd.read_csv(file_path)\n",
    "\n",
    "    # Clean the data: Replace '..' with NaN and convert numeric columns to appropriate types\n",
    "    df['Not low income'] = pd.to_numeric(df['Not low income'], errors='coerce')\n",
    "    df['Low income'] = pd.to_numeric(df['Low income'], errors='coerce')\n",
    "    df['Total'] = pd.to_numeric(df['Total'], errors='coerce')\n",
    "    df['Low income pct'] = pd.to_numeric(df['Low income pct'], errors='coerce')\n",
    "    df['Financial Year'] = df['Financial Year'].str.extract(r'(\\d{4}-\\d{2})')\n",
    "    df.rename(columns={'Financial Year':'Year'},inplace=True)\n",
    "    #df['Year'] = df['Year'].apply(extract_and_fix_year)\n",
    "    #df['Year']=df['Year'].astype('category') # for groupby\n",
    "    df['Region']=df['Region'].apply(clean_region_name)  #remove the code behind the region names)\n",
    "    df = df.rename(columns=lambda x: x.strip())\n",
    "    \n",
    "    # Filter out rows where Region is Northern Ireland (incomplete data)\n",
    "    #df = df[df['Region'] != 'Northern Ireland (N92000002)']\n",
    "\n",
    "    return df"
   ]
  },
  {
   "cell_type": "code",
   "execution_count": 121,
   "metadata": {},
   "outputs": [
    {
     "data": {
      "text/html": [
       "<div>\n",
       "<style scoped>\n",
       "    .dataframe tbody tr th:only-of-type {\n",
       "        vertical-align: middle;\n",
       "    }\n",
       "\n",
       "    .dataframe tbody tr th {\n",
       "        vertical-align: top;\n",
       "    }\n",
       "\n",
       "    .dataframe thead th {\n",
       "        text-align: right;\n",
       "    }\n",
       "</style>\n",
       "<table border=\"1\" class=\"dataframe\">\n",
       "  <thead>\n",
       "    <tr style=\"text-align: right;\">\n",
       "      <th></th>\n",
       "      <th>Year</th>\n",
       "      <th>Economic Status</th>\n",
       "      <th>Region</th>\n",
       "      <th>Not low income</th>\n",
       "      <th>Low income</th>\n",
       "      <th>Total</th>\n",
       "      <th>Low income pct</th>\n",
       "    </tr>\n",
       "  </thead>\n",
       "  <tbody>\n",
       "    <tr>\n",
       "      <th>0</th>\n",
       "      <td>1996-97</td>\n",
       "      <td>All adults in work</td>\n",
       "      <td>Northern Ireland</td>\n",
       "      <td>NaN</td>\n",
       "      <td>NaN</td>\n",
       "      <td>NaN</td>\n",
       "      <td>NaN</td>\n",
       "    </tr>\n",
       "    <tr>\n",
       "      <th>1</th>\n",
       "      <td>1996-97</td>\n",
       "      <td>All adults in work</td>\n",
       "      <td>Scotland</td>\n",
       "      <td>2253616.0</td>\n",
       "      <td>140094.0</td>\n",
       "      <td>2393710.0</td>\n",
       "      <td>5.85</td>\n",
       "    </tr>\n",
       "    <tr>\n",
       "      <th>2</th>\n",
       "      <td>1996-97</td>\n",
       "      <td>All adults in work</td>\n",
       "      <td>Wales</td>\n",
       "      <td>1159969.0</td>\n",
       "      <td>82779.0</td>\n",
       "      <td>1242748.0</td>\n",
       "      <td>6.66</td>\n",
       "    </tr>\n",
       "    <tr>\n",
       "      <th>3</th>\n",
       "      <td>1996-97</td>\n",
       "      <td>All adults in work</td>\n",
       "      <td>North East</td>\n",
       "      <td>1051034.0</td>\n",
       "      <td>61769.0</td>\n",
       "      <td>1112803.0</td>\n",
       "      <td>5.55</td>\n",
       "    </tr>\n",
       "    <tr>\n",
       "      <th>4</th>\n",
       "      <td>1996-97</td>\n",
       "      <td>All adults in work</td>\n",
       "      <td>North West</td>\n",
       "      <td>3028264.0</td>\n",
       "      <td>196047.0</td>\n",
       "      <td>3224311.0</td>\n",
       "      <td>6.08</td>\n",
       "    </tr>\n",
       "    <tr>\n",
       "      <th>...</th>\n",
       "      <td>...</td>\n",
       "      <td>...</td>\n",
       "      <td>...</td>\n",
       "      <td>...</td>\n",
       "      <td>...</td>\n",
       "      <td>...</td>\n",
       "      <td>...</td>\n",
       "    </tr>\n",
       "    <tr>\n",
       "      <th>1385</th>\n",
       "      <td>2022-23</td>\n",
       "      <td>Workless households</td>\n",
       "      <td>West Midlands</td>\n",
       "      <td>914199.0</td>\n",
       "      <td>586769.0</td>\n",
       "      <td>1500968.0</td>\n",
       "      <td>39.09</td>\n",
       "    </tr>\n",
       "    <tr>\n",
       "      <th>1386</th>\n",
       "      <td>2022-23</td>\n",
       "      <td>Workless households</td>\n",
       "      <td>East</td>\n",
       "      <td>1002501.0</td>\n",
       "      <td>405705.0</td>\n",
       "      <td>1408206.0</td>\n",
       "      <td>28.81</td>\n",
       "    </tr>\n",
       "    <tr>\n",
       "      <th>1387</th>\n",
       "      <td>2022-23</td>\n",
       "      <td>Workless households</td>\n",
       "      <td>London</td>\n",
       "      <td>830277.0</td>\n",
       "      <td>589351.0</td>\n",
       "      <td>1419628.0</td>\n",
       "      <td>41.51</td>\n",
       "    </tr>\n",
       "    <tr>\n",
       "      <th>1388</th>\n",
       "      <td>2022-23</td>\n",
       "      <td>Workless households</td>\n",
       "      <td>South East</td>\n",
       "      <td>1389776.0</td>\n",
       "      <td>506661.0</td>\n",
       "      <td>1896437.0</td>\n",
       "      <td>26.72</td>\n",
       "    </tr>\n",
       "    <tr>\n",
       "      <th>1389</th>\n",
       "      <td>2022-23</td>\n",
       "      <td>Workless households</td>\n",
       "      <td>South West</td>\n",
       "      <td>985210.0</td>\n",
       "      <td>363518.0</td>\n",
       "      <td>1348728.0</td>\n",
       "      <td>26.95</td>\n",
       "    </tr>\n",
       "  </tbody>\n",
       "</table>\n",
       "<p>972 rows × 7 columns</p>\n",
       "</div>"
      ],
      "text/plain": [
       "         Year      Economic Status            Region  Not low income  \\\n",
       "0     1996-97   All adults in work  Northern Ireland             NaN   \n",
       "1     1996-97   All adults in work          Scotland       2253616.0   \n",
       "2     1996-97   All adults in work             Wales       1159969.0   \n",
       "3     1996-97   All adults in work        North East       1051034.0   \n",
       "4     1996-97   All adults in work        North West       3028264.0   \n",
       "...       ...                  ...               ...             ...   \n",
       "1385  2022-23  Workless households     West Midlands        914199.0   \n",
       "1386  2022-23  Workless households              East       1002501.0   \n",
       "1387  2022-23  Workless households            London        830277.0   \n",
       "1388  2022-23  Workless households        South East       1389776.0   \n",
       "1389  2022-23  Workless households        South West        985210.0   \n",
       "\n",
       "      Low income      Total  Low income pct  \n",
       "0            NaN        NaN             NaN  \n",
       "1       140094.0  2393710.0            5.85  \n",
       "2        82779.0  1242748.0            6.66  \n",
       "3        61769.0  1112803.0            5.55  \n",
       "4       196047.0  3224311.0            6.08  \n",
       "...          ...        ...             ...  \n",
       "1385    586769.0  1500968.0           39.09  \n",
       "1386    405705.0  1408206.0           28.81  \n",
       "1387    589351.0  1419628.0           41.51  \n",
       "1388    506661.0  1896437.0           26.72  \n",
       "1389    363518.0  1348728.0           26.95  \n",
       "\n",
       "[972 rows x 7 columns]"
      ]
     },
     "execution_count": 121,
     "metadata": {},
     "output_type": "execute_result"
    }
   ],
   "source": [
    "\n",
    "BHC=read_csv(\"./hbai bhc region household status-cleaned.csv\")\n",
    "BHC =BHC[BHC['Region'] != 'Total']\n",
    "BHC =BHC[BHC['Economic Status'] != 'Total']\n",
    "BHC"
   ]
  },
  {
   "cell_type": "code",
   "execution_count": null,
   "metadata": {},
   "outputs": [],
   "source": [
    "# group data in all regions\n",
    "BHC.Year\n",
    "grouped = BHC.groupby(['Year', 'Economic Status']).agg({\n",
    "    'Not low income': 'sum',\n",
    "    'Low income': 'sum',\n",
    "    'Total': 'sum'\n",
    "}).reset_index()\n",
    "\n",
    "#grouped['Year']\n",
    "grouped['Low income pct']=round(grouped['Low income']/grouped['Total']*100,2)\n",
    "\n"
   ]
  },
  {
   "cell_type": "code",
   "execution_count": 125,
   "metadata": {},
   "outputs": [],
   "source": [
    "\n",
    "import plotly.express as px\n",
    "import plotly.graph_objects as go\n",
    "import numpy as np\n",
    "\n",
    "\n",
    "\n",
    "plot_data=grouped.copy()\n",
    "#plot_data['Economic Status']=plot_data['Economic Status'].apply(numeric_economic_status)\n",
    "plot_data.to_csv(\"plot_data.csv\")"
   ]
  },
  {
   "cell_type": "code",
   "execution_count": 139,
   "metadata": {},
   "outputs": [
    {
     "data": {
      "application/vnd.plotly.v1+json": {
       "config": {
        "plotlyServerURL": "https://plot.ly"
       },
       "data": [
        {
         "customdata": [
          [
           25789490,
           1538953,
           27328443
          ],
          [
           9949677,
           2509857,
           12459534
          ],
          [
           9077984,
           6725426,
           15803410
          ]
         ],
         "hovertemplate": "Year=1996-97<br>Economic Status=%{x}<br>Low Income Percentage (%)=%{y}<br>Not low income=%{customdata[0]}<br>Low income=%{customdata[1]}<br>Total=%{customdata[2]}<extra></extra>",
         "legendgroup": "1996-97",
         "marker": {
          "color": "#636EFA",
          "size": 12,
          "symbol": "circle"
         },
         "mode": "markers",
         "name": "1996-97",
         "orientation": "v",
         "showlegend": true,
         "textposition": "top center",
         "type": "scatter",
         "x": [
          0.02712567980269112,
          0.9728642725465381,
          2.091323397690795
         ],
         "xaxis": "x",
         "y": [
          5.63,
          20.14,
          42.56
         ],
         "yaxis": "y"
        },
        {
         "customdata": [
          [
           26595809,
           1878500,
           28474309
          ],
          [
           9771222,
           2544769,
           12315991
          ],
          [
           8496019,
           6433572,
           14929591
          ]
         ],
         "hovertemplate": "Year=1997-98<br>Economic Status=%{x}<br>Low Income Percentage (%)=%{y}<br>Not low income=%{customdata[0]}<br>Low income=%{customdata[1]}<br>Total=%{customdata[2]}<extra></extra>",
         "legendgroup": "1997-98",
         "marker": {
          "color": "#EF553B",
          "size": 12,
          "symbol": "circle"
         },
         "mode": "markers",
         "name": "1997-98",
         "orientation": "v",
         "showlegend": true,
         "textposition": "top center",
         "type": "scatter",
         "x": [
          0.09032515051956061,
          0.9423369515719472,
          2.0810790066320743
         ],
         "xaxis": "x",
         "y": [
          6.6,
          20.66,
          43.09
         ],
         "yaxis": "y"
        },
        {
         "customdata": [
          [
           26933746,
           1788620,
           28722366
          ],
          [
           9527744,
           2547183,
           12074927
          ],
          [
           8608524,
           6461019,
           15069543
          ]
         ],
         "hovertemplate": "Year=1998-99<br>Economic Status=%{x}<br>Low Income Percentage (%)=%{y}<br>Not low income=%{customdata[0]}<br>Low income=%{customdata[1]}<br>Total=%{customdata[2]}<extra></extra>",
         "legendgroup": "1998-99",
         "marker": {
          "color": "#00CC96",
          "size": 12,
          "symbol": "circle"
         },
         "mode": "markers",
         "name": "1998-99",
         "orientation": "v",
         "showlegend": true,
         "textposition": "top center",
         "type": "scatter",
         "x": [
          0.045865238596118546,
          1.068894501538798,
          1.9765506192780045
         ],
         "xaxis": "x",
         "y": [
          6.23,
          21.09,
          42.87
         ],
         "yaxis": "y"
        },
        {
         "customdata": [
          [
           27229838,
           1744038,
           28973876
          ],
          [
           9443513,
           2640429,
           12083942
          ],
          [
           8705730,
           6298759,
           15004489
          ]
         ],
         "hovertemplate": "Year=1999-00<br>Economic Status=%{x}<br>Low Income Percentage (%)=%{y}<br>Not low income=%{customdata[0]}<br>Low income=%{customdata[1]}<br>Total=%{customdata[2]}<extra></extra>",
         "legendgroup": "1999-00",
         "marker": {
          "color": "#AB63FA",
          "size": 12,
          "symbol": "circle"
         },
         "mode": "markers",
         "name": "1999-00",
         "orientation": "v",
         "showlegend": true,
         "textposition": "top center",
         "type": "scatter",
         "x": [
          0.05575212084788006,
          1.0611524064432398,
          2.057489203762193
         ],
         "xaxis": "x",
         "y": [
          6.02,
          21.85,
          41.98
         ],
         "yaxis": "y"
        },
        {
         "customdata": [
          [
           27698904,
           1714767,
           29413671
          ],
          [
           9517300,
           2484317,
           12001617
          ],
          [
           8696958,
           6130061,
           14827019
          ]
         ],
         "hovertemplate": "Year=2000-01<br>Economic Status=%{x}<br>Low Income Percentage (%)=%{y}<br>Not low income=%{customdata[0]}<br>Low income=%{customdata[1]}<br>Total=%{customdata[2]}<extra></extra>",
         "legendgroup": "2000-01",
         "marker": {
          "color": "#FFA15A",
          "size": 12,
          "symbol": "circle"
         },
         "mode": "markers",
         "name": "2000-01",
         "orientation": "v",
         "showlegend": true,
         "textposition": "top center",
         "type": "scatter",
         "x": [
          0.07310437023895208,
          1.0830485751566739,
          1.9282130959160395
         ],
         "xaxis": "x",
         "y": [
          5.83,
          20.7,
          41.34
         ],
         "yaxis": "y"
        },
        {
         "customdata": [
          [
           27816306,
           1782449,
           29598755
          ],
          [
           9746420,
           2399130,
           12145550
          ],
          [
           8529724,
           6166822,
           14696546
          ]
         ],
         "hovertemplate": "Year=2001-02<br>Economic Status=%{x}<br>Low Income Percentage (%)=%{y}<br>Not low income=%{customdata[0]}<br>Low income=%{customdata[1]}<br>Total=%{customdata[2]}<extra></extra>",
         "legendgroup": "2001-02",
         "marker": {
          "color": "#19D3F3",
          "size": 12,
          "symbol": "circle"
         },
         "mode": "markers",
         "name": "2001-02",
         "orientation": "v",
         "showlegend": true,
         "textposition": "top center",
         "type": "scatter",
         "x": [
          0.005651301407998882,
          1.0100786816584102,
          1.9691204652998584
         ],
         "xaxis": "x",
         "y": [
          6.02,
          19.75,
          41.96
         ],
         "yaxis": "y"
        },
        {
         "customdata": [
          [
           28781407,
           1631693,
           30413100
          ],
          [
           10475964,
           2663290,
           13139254
          ],
          [
           8690697,
           6062096,
           14752793
          ]
         ],
         "hovertemplate": "Year=2002-03<br>Economic Status=%{x}<br>Low Income Percentage (%)=%{y}<br>Not low income=%{customdata[0]}<br>Low income=%{customdata[1]}<br>Total=%{customdata[2]}<extra></extra>",
         "legendgroup": "2002-03",
         "marker": {
          "color": "#FF6692",
          "size": 12,
          "symbol": "circle"
         },
         "mode": "markers",
         "name": "2002-03",
         "orientation": "v",
         "showlegend": true,
         "textposition": "top center",
         "type": "scatter",
         "x": [
          0.024339895630689307,
          0.9647414913103863,
          2.0077800600294373
         ],
         "xaxis": "x",
         "y": [
          5.37,
          20.27,
          41.09
         ],
         "yaxis": "y"
        },
        {
         "customdata": [
          [
           28545412,
           1708891,
           30254303
          ],
          [
           10722127,
           2693545,
           13415672
          ],
          [
           9010918,
           5888822,
           14899740
          ]
         ],
         "hovertemplate": "Year=2003-04<br>Economic Status=%{x}<br>Low Income Percentage (%)=%{y}<br>Not low income=%{customdata[0]}<br>Low income=%{customdata[1]}<br>Total=%{customdata[2]}<extra></extra>",
         "legendgroup": "2003-04",
         "marker": {
          "color": "#B6E880",
          "size": 12,
          "symbol": "circle"
         },
         "mode": "markers",
         "name": "2003-04",
         "orientation": "v",
         "showlegend": true,
         "textposition": "top center",
         "type": "scatter",
         "x": [
          0.003992765213691851,
          0.9147707527917525,
          2.077321569846786
         ],
         "xaxis": "x",
         "y": [
          5.65,
          20.08,
          39.52
         ],
         "yaxis": "y"
        },
        {
         "customdata": [
          [
           28677908,
           1780345,
           30458253
          ],
          [
           10915844,
           2615692,
           13531536
          ],
          [
           9354050,
           5533063,
           14887113
          ]
         ],
         "hovertemplate": "Year=2004-05<br>Economic Status=%{x}<br>Low Income Percentage (%)=%{y}<br>Not low income=%{customdata[0]}<br>Low income=%{customdata[1]}<br>Total=%{customdata[2]}<extra></extra>",
         "legendgroup": "2004-05",
         "marker": {
          "color": "#FF97FF",
          "size": 12,
          "symbol": "circle"
         },
         "mode": "markers",
         "name": "2004-05",
         "orientation": "v",
         "showlegend": true,
         "textposition": "top center",
         "type": "scatter",
         "x": [
          0.011285141317209174,
          1.0773147829363627,
          1.957490950261263
         ],
         "xaxis": "x",
         "y": [
          5.85,
          19.33,
          37.17
         ],
         "yaxis": "y"
        },
        {
         "customdata": [
          [
           28903539,
           1794576,
           30698115
          ],
          [
           10729042,
           2964018,
           13693060
          ],
          [
           9364618,
           5571972,
           14936590
          ]
         ],
         "hovertemplate": "Year=2005-06<br>Economic Status=%{x}<br>Low Income Percentage (%)=%{y}<br>Not low income=%{customdata[0]}<br>Low income=%{customdata[1]}<br>Total=%{customdata[2]}<extra></extra>",
         "legendgroup": "2005-06",
         "marker": {
          "color": "#FECB52",
          "size": 12,
          "symbol": "circle"
         },
         "mode": "markers",
         "name": "2005-06",
         "orientation": "v",
         "showlegend": true,
         "textposition": "top center",
         "type": "scatter",
         "x": [
          0.009832298338048065,
          1.0293539939955723,
          1.9542771155874716
         ],
         "xaxis": "x",
         "y": [
          5.85,
          21.65,
          37.3
         ],
         "yaxis": "y"
        },
        {
         "customdata": [
          [
           28819169,
           1705799,
           30524968
          ],
          [
           11381901,
           3102317,
           14484218
          ],
          [
           8851358,
           5872652,
           14724010
          ]
         ],
         "hovertemplate": "Year=2006-07<br>Economic Status=%{x}<br>Low Income Percentage (%)=%{y}<br>Not low income=%{customdata[0]}<br>Low income=%{customdata[1]}<br>Total=%{customdata[2]}<extra></extra>",
         "legendgroup": "2006-07",
         "marker": {
          "color": "#636EFA",
          "size": 12,
          "symbol": "circle"
         },
         "mode": "markers",
         "name": "2006-07",
         "orientation": "v",
         "showlegend": true,
         "textposition": "top center",
         "type": "scatter",
         "x": [
          0.04023348402955182,
          1.037452888383448,
          2.010708089428429
         ],
         "xaxis": "x",
         "y": [
          5.59,
          21.42,
          39.88
         ],
         "yaxis": "y"
        },
        {
         "customdata": [
          [
           29208271,
           1874335,
           31082606
          ],
          [
           10887960,
           3182626,
           14070586
          ],
          [
           9190824,
           5877292,
           15068116
          ]
         ],
         "hovertemplate": "Year=2007-08<br>Economic Status=%{x}<br>Low Income Percentage (%)=%{y}<br>Not low income=%{customdata[0]}<br>Low income=%{customdata[1]}<br>Total=%{customdata[2]}<extra></extra>",
         "legendgroup": "2007-08",
         "marker": {
          "color": "#EF553B",
          "size": 12,
          "symbol": "circle"
         },
         "mode": "markers",
         "name": "2007-08",
         "orientation": "v",
         "showlegend": true,
         "textposition": "top center",
         "type": "scatter",
         "x": [
          -0.08217769261893991,
          1.0526617148036823,
          1.9956506270971677
         ],
         "xaxis": "x",
         "y": [
          6.03,
          22.62,
          39
         ],
         "yaxis": "y"
        },
        {
         "customdata": [
          [
           28985121,
           1895940,
           30881061
          ],
          [
           11184343,
           3531644,
           14715987
          ],
          [
           9640996,
           5457811,
           15098807
          ]
         ],
         "hovertemplate": "Year=2008-09<br>Economic Status=%{x}<br>Low Income Percentage (%)=%{y}<br>Not low income=%{customdata[0]}<br>Low income=%{customdata[1]}<br>Total=%{customdata[2]}<extra></extra>",
         "legendgroup": "2008-09",
         "marker": {
          "color": "#00CC96",
          "size": 12,
          "symbol": "circle"
         },
         "mode": "markers",
         "name": "2008-09",
         "orientation": "v",
         "showlegend": true,
         "textposition": "top center",
         "type": "scatter",
         "x": [
          -0.005961322013509823,
          0.9989958059357579,
          1.9457552899734225
         ],
         "xaxis": "x",
         "y": [
          6.14,
          24,
          36.15
         ],
         "yaxis": "y"
        },
        {
         "customdata": [
          [
           28917151,
           1761130,
           30678281
          ],
          [
           11501956,
           3139426,
           14641382
          ],
          [
           10376013,
           5465943,
           15841956
          ]
         ],
         "hovertemplate": "Year=2009-10<br>Economic Status=%{x}<br>Low Income Percentage (%)=%{y}<br>Not low income=%{customdata[0]}<br>Low income=%{customdata[1]}<br>Total=%{customdata[2]}<extra></extra>",
         "legendgroup": "2009-10",
         "marker": {
          "color": "#AB63FA",
          "size": 12,
          "symbol": "circle"
         },
         "mode": "markers",
         "name": "2009-10",
         "orientation": "v",
         "showlegend": true,
         "textposition": "top center",
         "type": "scatter",
         "x": [
          0.013212150315792773,
          1.0796099658498575,
          1.9427010255177204
         ],
         "xaxis": "x",
         "y": [
          5.74,
          21.44,
          34.5
         ],
         "yaxis": "y"
        },
        {
         "customdata": [
          [
           28797660,
           1880800,
           30678460
          ],
          [
           11983297,
           2875882,
           14859179
          ],
          [
           11032464,
           5078331,
           16110795
          ]
         ],
         "hovertemplate": "Year=2010-11<br>Economic Status=%{x}<br>Low Income Percentage (%)=%{y}<br>Not low income=%{customdata[0]}<br>Low income=%{customdata[1]}<br>Total=%{customdata[2]}<extra></extra>",
         "legendgroup": "2010-11",
         "marker": {
          "color": "#FFA15A",
          "size": 12,
          "symbol": "circle"
         },
         "mode": "markers",
         "name": "2010-11",
         "orientation": "v",
         "showlegend": true,
         "textposition": "top center",
         "type": "scatter",
         "x": [
          0.03887172328438515,
          0.9398366806205668,
          1.980701267516992
         ],
         "xaxis": "x",
         "y": [
          6.13,
          19.35,
          31.52
         ],
         "yaxis": "y"
        },
        {
         "customdata": [
          [
           29931824,
           1925029,
           31856853
          ],
          [
           11876890,
           3276990,
           15153880
          ],
          [
           10835581,
           4631081,
           15466662
          ]
         ],
         "hovertemplate": "Year=2011-12<br>Economic Status=%{x}<br>Low Income Percentage (%)=%{y}<br>Not low income=%{customdata[0]}<br>Low income=%{customdata[1]}<br>Total=%{customdata[2]}<extra></extra>",
         "legendgroup": "2011-12",
         "marker": {
          "color": "#19D3F3",
          "size": 12,
          "symbol": "circle"
         },
         "mode": "markers",
         "name": "2011-12",
         "orientation": "v",
         "showlegend": true,
         "textposition": "top center",
         "type": "scatter",
         "x": [
          -0.061861638348527564,
          0.9190761047098509,
          1.911600192014747
         ],
         "xaxis": "x",
         "y": [
          6.04,
          21.62,
          29.94
         ],
         "yaxis": "y"
        },
        {
         "customdata": [
          [
           29418334,
           1887805,
           31306139
          ],
          [
           12456685,
           3015573,
           15472258
          ],
          [
           11321893,
           4789955,
           16111848
          ]
         ],
         "hovertemplate": "Year=2012-13<br>Economic Status=%{x}<br>Low Income Percentage (%)=%{y}<br>Not low income=%{customdata[0]}<br>Low income=%{customdata[1]}<br>Total=%{customdata[2]}<extra></extra>",
         "legendgroup": "2012-13",
         "marker": {
          "color": "#FF6692",
          "size": 12,
          "symbol": "circle"
         },
         "mode": "markers",
         "name": "2012-13",
         "orientation": "v",
         "showlegend": true,
         "textposition": "top center",
         "type": "scatter",
         "x": [
          -0.08175820355630717,
          1.0118185166004101,
          2.0293091241334507
         ],
         "xaxis": "x",
         "y": [
          6.03,
          19.49,
          29.73
         ],
         "yaxis": "y"
        },
        {
         "customdata": [
          [
           30493681,
           2052159,
           32545840
          ],
          [
           11734674,
           3002305,
           14736979
          ],
          [
           11144497,
           4526719,
           15671216
          ]
         ],
         "hovertemplate": "Year=2013-14<br>Economic Status=%{x}<br>Low Income Percentage (%)=%{y}<br>Not low income=%{customdata[0]}<br>Low income=%{customdata[1]}<br>Total=%{customdata[2]}<extra></extra>",
         "legendgroup": "2013-14",
         "marker": {
          "color": "#B6E880",
          "size": 12,
          "symbol": "circle"
         },
         "mode": "markers",
         "name": "2013-14",
         "orientation": "v",
         "showlegend": true,
         "textposition": "top center",
         "type": "scatter",
         "x": [
          -0.04405129417601361,
          0.9361804960719242,
          1.9291215857117756
         ],
         "xaxis": "x",
         "y": [
          6.31,
          20.37,
          28.89
         ],
         "yaxis": "y"
        },
        {
         "customdata": [
          [
           31462126,
           2167875,
           33630001
          ],
          [
           11225105,
           3212312,
           14437417
          ],
          [
           10713682,
           4680956,
           15394638
          ]
         ],
         "hovertemplate": "Year=2014-15<br>Economic Status=%{x}<br>Low Income Percentage (%)=%{y}<br>Not low income=%{customdata[0]}<br>Low income=%{customdata[1]}<br>Total=%{customdata[2]}<extra></extra>",
         "legendgroup": "2014-15",
         "marker": {
          "color": "#FF97FF",
          "size": 12,
          "symbol": "circle"
         },
         "mode": "markers",
         "name": "2014-15",
         "orientation": "v",
         "showlegend": true,
         "textposition": "top center",
         "type": "scatter",
         "x": [
          -0.08311795530552771,
          1.0489889237274665,
          1.98964147234995
         ],
         "xaxis": "x",
         "y": [
          6.45,
          22.25,
          30.41
         ],
         "yaxis": "y"
        },
        {
         "customdata": [
          [
           31105894,
           2182585,
           33288479
          ],
          [
           11625429,
           3397002,
           15022431
          ],
          [
           10753411,
           4889820,
           15643231
          ]
         ],
         "hovertemplate": "Year=2015-16<br>Economic Status=%{x}<br>Low Income Percentage (%)=%{y}<br>Not low income=%{customdata[0]}<br>Low income=%{customdata[1]}<br>Total=%{customdata[2]}<extra></extra>",
         "legendgroup": "2015-16",
         "marker": {
          "color": "#FECB52",
          "size": 12,
          "symbol": "circle"
         },
         "mode": "markers",
         "name": "2015-16",
         "orientation": "v",
         "showlegend": true,
         "textposition": "top center",
         "type": "scatter",
         "x": [
          -0.029375310019517695,
          0.9471336375429588,
          1.9391211797992551
         ],
         "xaxis": "x",
         "y": [
          6.56,
          22.61,
          31.26
         ],
         "yaxis": "y"
        },
        {
         "customdata": [
          [
           31445188,
           2367545,
           33812733
          ],
          [
           11904520,
           3284494,
           15189014
          ],
          [
           10607120,
           4811513,
           15418633
          ]
         ],
         "hovertemplate": "Year=2016-17<br>Economic Status=%{x}<br>Low Income Percentage (%)=%{y}<br>Not low income=%{customdata[0]}<br>Low income=%{customdata[1]}<br>Total=%{customdata[2]}<extra></extra>",
         "legendgroup": "2016-17",
         "marker": {
          "color": "#636EFA",
          "size": 12,
          "symbol": "circle"
         },
         "mode": "markers",
         "name": "2016-17",
         "orientation": "v",
         "showlegend": true,
         "textposition": "top center",
         "type": "scatter",
         "x": [
          0.0696516299810842,
          1.017238192146421,
          1.9149913498232471
         ],
         "xaxis": "x",
         "y": [
          7,
          21.62,
          31.21
         ],
         "yaxis": "y"
        },
        {
         "customdata": [
          [
           31720625,
           2832688,
           34553313
          ],
          [
           11833464,
           3395060,
           15228524
          ],
          [
           10214197,
           4878222,
           15092419
          ]
         ],
         "hovertemplate": "Year=2017-18<br>Economic Status=%{x}<br>Low Income Percentage (%)=%{y}<br>Not low income=%{customdata[0]}<br>Low income=%{customdata[1]}<br>Total=%{customdata[2]}<extra></extra>",
         "legendgroup": "2017-18",
         "marker": {
          "color": "#EF553B",
          "size": 12,
          "symbol": "circle"
         },
         "mode": "markers",
         "name": "2017-18",
         "orientation": "v",
         "showlegend": true,
         "textposition": "top center",
         "type": "scatter",
         "x": [
          0.09125303899416651,
          0.9544548506948546,
          1.9244889894377697
         ],
         "xaxis": "x",
         "y": [
          8.2,
          22.29,
          32.32
         ],
         "yaxis": "y"
        },
        {
         "customdata": [
          [
           32373600,
           2526750,
           34900350
          ],
          [
           11489312,
           3661891,
           15151203
          ],
          [
           10765377,
           4790382,
           15555759
          ]
         ],
         "hovertemplate": "Year=2018-19<br>Economic Status=%{x}<br>Low Income Percentage (%)=%{y}<br>Not low income=%{customdata[0]}<br>Low income=%{customdata[1]}<br>Total=%{customdata[2]}<extra></extra>",
         "legendgroup": "2018-19",
         "marker": {
          "color": "#00CC96",
          "size": 12,
          "symbol": "circle"
         },
         "mode": "markers",
         "name": "2018-19",
         "orientation": "v",
         "showlegend": true,
         "textposition": "top center",
         "type": "scatter",
         "x": [
          -0.058581199436975706,
          0.9885708688684676,
          1.939045210844006
         ],
         "xaxis": "x",
         "y": [
          7.24,
          24.17,
          30.79
         ],
         "yaxis": "y"
        },
        {
         "customdata": [
          [
           32472133,
           2993684,
           35465817
          ],
          [
           11420894,
           3670117,
           15091011
          ],
          [
           9995153,
           5064804,
           15059957
          ]
         ],
         "hovertemplate": "Year=2019-20<br>Economic Status=%{x}<br>Low Income Percentage (%)=%{y}<br>Not low income=%{customdata[0]}<br>Low income=%{customdata[1]}<br>Total=%{customdata[2]}<extra></extra>",
         "legendgroup": "2019-20",
         "marker": {
          "color": "#AB63FA",
          "size": 12,
          "symbol": "circle"
         },
         "mode": "markers",
         "name": "2019-20",
         "orientation": "v",
         "showlegend": true,
         "textposition": "top center",
         "type": "scatter",
         "x": [
          0.04530239664349106,
          0.9986431300064788,
          2.0673288624544766
         ],
         "xaxis": "x",
         "y": [
          8.44,
          24.32,
          33.63
         ],
         "yaxis": "y"
        },
        {
         "customdata": [
          [
           0,
           0,
           0
          ],
          [
           0,
           0,
           0
          ],
          [
           0,
           0,
           0
          ]
         ],
         "hovertemplate": "Year=2020-21<br>Economic Status=%{x}<br>Low Income Percentage (%)=%{y}<br>Not low income=%{customdata[0]}<br>Low income=%{customdata[1]}<br>Total=%{customdata[2]}<extra></extra>",
         "legendgroup": "2020-21",
         "marker": {
          "color": "#FFA15A",
          "size": 12,
          "symbol": "circle"
         },
         "mode": "markers",
         "name": "2020-21",
         "orientation": "v",
         "showlegend": true,
         "textposition": "top center",
         "type": "scatter",
         "x": [
          0.07024549111380154,
          1.0151059984500403,
          1.9678724620727512
         ],
         "xaxis": "x",
         "y": [
          null,
          null,
          null
         ],
         "yaxis": "y"
        },
        {
         "customdata": [
          [
           32081292,
           2127493,
           34208785
          ],
          [
           12306854,
           3667401,
           15974255
          ],
          [
           11024499,
           5216223,
           16240722
          ]
         ],
         "hovertemplate": "Year=2021-22<br>Economic Status=%{x}<br>Low Income Percentage (%)=%{y}<br>Not low income=%{customdata[0]}<br>Low income=%{customdata[1]}<br>Total=%{customdata[2]}<extra></extra>",
         "legendgroup": "2021-22",
         "marker": {
          "color": "#19D3F3",
          "size": 12,
          "symbol": "circle"
         },
         "mode": "markers",
         "name": "2021-22",
         "orientation": "v",
         "showlegend": true,
         "textposition": "top center",
         "type": "scatter",
         "x": [
          0.027439403293192027,
          0.9743876115630785,
          2.0908481403978696
         ],
         "xaxis": "x",
         "y": [
          6.22,
          22.96,
          32.12
         ],
         "yaxis": "y"
        },
        {
         "customdata": [
          [
           33007520,
           2512449,
           35519969
          ],
          [
           11907571,
           3665559,
           15573130
          ],
          [
           10549118,
           5255646,
           15804764
          ]
         ],
         "hovertemplate": "Year=2022-23<br>Economic Status=%{x}<br>Low Income Percentage (%)=%{y}<br>Not low income=%{customdata[0]}<br>Low income=%{customdata[1]}<br>Total=%{customdata[2]}<extra></extra>",
         "legendgroup": "2022-23",
         "marker": {
          "color": "#FF6692",
          "size": 12,
          "symbol": "circle"
         },
         "mode": "markers",
         "name": "2022-23",
         "orientation": "v",
         "showlegend": true,
         "textposition": "top center",
         "type": "scatter",
         "x": [
          0.024660749358677264,
          1.0656232916145607,
          1.9662175817531242
         ],
         "xaxis": "x",
         "y": [
          7.07,
          23.54,
          33.25
         ],
         "yaxis": "y"
        },
        {
         "line": {
          "dash": "dash"
         },
         "marker": {
          "size": 12
         },
         "mode": "lines",
         "name": "Trend 2013-14",
         "showlegend": true,
         "textposition": "top center",
         "type": "scatter",
         "x": [
          -0.04405129417601361,
          0.9361804960719242,
          1.9291215857117756
         ],
         "y": [
          6.31,
          20.37,
          28.89
         ]
        },
        {
         "line": {
          "dash": "dash"
         },
         "marker": {
          "size": 12
         },
         "mode": "lines",
         "name": "Trend 2014-15",
         "showlegend": true,
         "textposition": "top center",
         "type": "scatter",
         "x": [
          -0.08311795530552771,
          1.0489889237274665,
          1.98964147234995
         ],
         "y": [
          6.45,
          22.25,
          30.41
         ]
        },
        {
         "line": {
          "dash": "dash"
         },
         "marker": {
          "size": 12
         },
         "mode": "lines",
         "name": "Trend 2015-16",
         "showlegend": true,
         "textposition": "top center",
         "type": "scatter",
         "x": [
          -0.029375310019517695,
          0.9471336375429588,
          1.9391211797992551
         ],
         "y": [
          6.56,
          22.61,
          31.26
         ]
        },
        {
         "line": {
          "dash": "dash"
         },
         "marker": {
          "size": 12
         },
         "mode": "lines",
         "name": "Trend 2016-17",
         "showlegend": true,
         "textposition": "top center",
         "type": "scatter",
         "x": [
          0.0696516299810842,
          1.017238192146421,
          1.9149913498232471
         ],
         "y": [
          7,
          21.62,
          31.21
         ]
        },
        {
         "line": {
          "dash": "dash"
         },
         "marker": {
          "size": 12
         },
         "mode": "lines",
         "name": "Trend 2017-18",
         "showlegend": true,
         "textposition": "top center",
         "type": "scatter",
         "x": [
          0.09125303899416651,
          0.9544548506948546,
          1.9244889894377697
         ],
         "y": [
          8.2,
          22.29,
          32.32
         ]
        },
        {
         "line": {
          "dash": "dash"
         },
         "marker": {
          "size": 12
         },
         "mode": "lines",
         "name": "Trend 2018-19",
         "showlegend": true,
         "textposition": "top center",
         "type": "scatter",
         "x": [
          -0.058581199436975706,
          0.9885708688684676,
          1.939045210844006
         ],
         "y": [
          7.24,
          24.17,
          30.79
         ]
        },
        {
         "line": {
          "dash": "dash"
         },
         "marker": {
          "size": 12
         },
         "mode": "lines",
         "name": "Trend 2019-20",
         "showlegend": true,
         "textposition": "top center",
         "type": "scatter",
         "x": [
          0.04530239664349106,
          0.9986431300064788,
          2.0673288624544766
         ],
         "y": [
          8.44,
          24.32,
          33.63
         ]
        },
        {
         "line": {
          "dash": "dash"
         },
         "marker": {
          "size": 12
         },
         "mode": "lines",
         "name": "Trend 2020-21",
         "showlegend": true,
         "textposition": "top center",
         "type": "scatter",
         "x": [
          0.07024549111380154,
          1.0151059984500403,
          1.9678724620727512
         ],
         "y": [
          null,
          null,
          null
         ]
        },
        {
         "line": {
          "dash": "dash"
         },
         "marker": {
          "size": 12
         },
         "mode": "lines",
         "name": "Trend 2021-22",
         "showlegend": true,
         "textposition": "top center",
         "type": "scatter",
         "x": [
          0.027439403293192027,
          0.9743876115630785,
          2.0908481403978696
         ],
         "y": [
          6.22,
          22.96,
          32.12
         ]
        },
        {
         "line": {
          "dash": "dash"
         },
         "marker": {
          "size": 12
         },
         "mode": "lines",
         "name": "Trend 2022-23",
         "showlegend": true,
         "textposition": "top center",
         "type": "scatter",
         "x": [
          0.024660749358677264,
          1.0656232916145607,
          1.9662175817531242
         ],
         "y": [
          7.07,
          23.54,
          33.25
         ]
        }
       ],
       "layout": {
        "height": 500,
        "legend": {
         "title": {
          "text": "Year"
         },
         "tracegroupgap": 0
        },
        "showlegend": true,
        "template": {
         "data": {
          "bar": [
           {
            "error_x": {
             "color": "#2a3f5f"
            },
            "error_y": {
             "color": "#2a3f5f"
            },
            "marker": {
             "line": {
              "color": "#E5ECF6",
              "width": 0.5
             },
             "pattern": {
              "fillmode": "overlay",
              "size": 10,
              "solidity": 0.2
             }
            },
            "type": "bar"
           }
          ],
          "barpolar": [
           {
            "marker": {
             "line": {
              "color": "#E5ECF6",
              "width": 0.5
             },
             "pattern": {
              "fillmode": "overlay",
              "size": 10,
              "solidity": 0.2
             }
            },
            "type": "barpolar"
           }
          ],
          "carpet": [
           {
            "aaxis": {
             "endlinecolor": "#2a3f5f",
             "gridcolor": "white",
             "linecolor": "white",
             "minorgridcolor": "white",
             "startlinecolor": "#2a3f5f"
            },
            "baxis": {
             "endlinecolor": "#2a3f5f",
             "gridcolor": "white",
             "linecolor": "white",
             "minorgridcolor": "white",
             "startlinecolor": "#2a3f5f"
            },
            "type": "carpet"
           }
          ],
          "choropleth": [
           {
            "colorbar": {
             "outlinewidth": 0,
             "ticks": ""
            },
            "type": "choropleth"
           }
          ],
          "contour": [
           {
            "colorbar": {
             "outlinewidth": 0,
             "ticks": ""
            },
            "colorscale": [
             [
              0,
              "#0d0887"
             ],
             [
              0.1111111111111111,
              "#46039f"
             ],
             [
              0.2222222222222222,
              "#7201a8"
             ],
             [
              0.3333333333333333,
              "#9c179e"
             ],
             [
              0.4444444444444444,
              "#bd3786"
             ],
             [
              0.5555555555555556,
              "#d8576b"
             ],
             [
              0.6666666666666666,
              "#ed7953"
             ],
             [
              0.7777777777777778,
              "#fb9f3a"
             ],
             [
              0.8888888888888888,
              "#fdca26"
             ],
             [
              1,
              "#f0f921"
             ]
            ],
            "type": "contour"
           }
          ],
          "contourcarpet": [
           {
            "colorbar": {
             "outlinewidth": 0,
             "ticks": ""
            },
            "type": "contourcarpet"
           }
          ],
          "heatmap": [
           {
            "colorbar": {
             "outlinewidth": 0,
             "ticks": ""
            },
            "colorscale": [
             [
              0,
              "#0d0887"
             ],
             [
              0.1111111111111111,
              "#46039f"
             ],
             [
              0.2222222222222222,
              "#7201a8"
             ],
             [
              0.3333333333333333,
              "#9c179e"
             ],
             [
              0.4444444444444444,
              "#bd3786"
             ],
             [
              0.5555555555555556,
              "#d8576b"
             ],
             [
              0.6666666666666666,
              "#ed7953"
             ],
             [
              0.7777777777777778,
              "#fb9f3a"
             ],
             [
              0.8888888888888888,
              "#fdca26"
             ],
             [
              1,
              "#f0f921"
             ]
            ],
            "type": "heatmap"
           }
          ],
          "heatmapgl": [
           {
            "colorbar": {
             "outlinewidth": 0,
             "ticks": ""
            },
            "colorscale": [
             [
              0,
              "#0d0887"
             ],
             [
              0.1111111111111111,
              "#46039f"
             ],
             [
              0.2222222222222222,
              "#7201a8"
             ],
             [
              0.3333333333333333,
              "#9c179e"
             ],
             [
              0.4444444444444444,
              "#bd3786"
             ],
             [
              0.5555555555555556,
              "#d8576b"
             ],
             [
              0.6666666666666666,
              "#ed7953"
             ],
             [
              0.7777777777777778,
              "#fb9f3a"
             ],
             [
              0.8888888888888888,
              "#fdca26"
             ],
             [
              1,
              "#f0f921"
             ]
            ],
            "type": "heatmapgl"
           }
          ],
          "histogram": [
           {
            "marker": {
             "pattern": {
              "fillmode": "overlay",
              "size": 10,
              "solidity": 0.2
             }
            },
            "type": "histogram"
           }
          ],
          "histogram2d": [
           {
            "colorbar": {
             "outlinewidth": 0,
             "ticks": ""
            },
            "colorscale": [
             [
              0,
              "#0d0887"
             ],
             [
              0.1111111111111111,
              "#46039f"
             ],
             [
              0.2222222222222222,
              "#7201a8"
             ],
             [
              0.3333333333333333,
              "#9c179e"
             ],
             [
              0.4444444444444444,
              "#bd3786"
             ],
             [
              0.5555555555555556,
              "#d8576b"
             ],
             [
              0.6666666666666666,
              "#ed7953"
             ],
             [
              0.7777777777777778,
              "#fb9f3a"
             ],
             [
              0.8888888888888888,
              "#fdca26"
             ],
             [
              1,
              "#f0f921"
             ]
            ],
            "type": "histogram2d"
           }
          ],
          "histogram2dcontour": [
           {
            "colorbar": {
             "outlinewidth": 0,
             "ticks": ""
            },
            "colorscale": [
             [
              0,
              "#0d0887"
             ],
             [
              0.1111111111111111,
              "#46039f"
             ],
             [
              0.2222222222222222,
              "#7201a8"
             ],
             [
              0.3333333333333333,
              "#9c179e"
             ],
             [
              0.4444444444444444,
              "#bd3786"
             ],
             [
              0.5555555555555556,
              "#d8576b"
             ],
             [
              0.6666666666666666,
              "#ed7953"
             ],
             [
              0.7777777777777778,
              "#fb9f3a"
             ],
             [
              0.8888888888888888,
              "#fdca26"
             ],
             [
              1,
              "#f0f921"
             ]
            ],
            "type": "histogram2dcontour"
           }
          ],
          "mesh3d": [
           {
            "colorbar": {
             "outlinewidth": 0,
             "ticks": ""
            },
            "type": "mesh3d"
           }
          ],
          "parcoords": [
           {
            "line": {
             "colorbar": {
              "outlinewidth": 0,
              "ticks": ""
             }
            },
            "type": "parcoords"
           }
          ],
          "pie": [
           {
            "automargin": true,
            "type": "pie"
           }
          ],
          "scatter": [
           {
            "fillpattern": {
             "fillmode": "overlay",
             "size": 10,
             "solidity": 0.2
            },
            "type": "scatter"
           }
          ],
          "scatter3d": [
           {
            "line": {
             "colorbar": {
              "outlinewidth": 0,
              "ticks": ""
             }
            },
            "marker": {
             "colorbar": {
              "outlinewidth": 0,
              "ticks": ""
             }
            },
            "type": "scatter3d"
           }
          ],
          "scattercarpet": [
           {
            "marker": {
             "colorbar": {
              "outlinewidth": 0,
              "ticks": ""
             }
            },
            "type": "scattercarpet"
           }
          ],
          "scattergeo": [
           {
            "marker": {
             "colorbar": {
              "outlinewidth": 0,
              "ticks": ""
             }
            },
            "type": "scattergeo"
           }
          ],
          "scattergl": [
           {
            "marker": {
             "colorbar": {
              "outlinewidth": 0,
              "ticks": ""
             }
            },
            "type": "scattergl"
           }
          ],
          "scattermapbox": [
           {
            "marker": {
             "colorbar": {
              "outlinewidth": 0,
              "ticks": ""
             }
            },
            "type": "scattermapbox"
           }
          ],
          "scatterpolar": [
           {
            "marker": {
             "colorbar": {
              "outlinewidth": 0,
              "ticks": ""
             }
            },
            "type": "scatterpolar"
           }
          ],
          "scatterpolargl": [
           {
            "marker": {
             "colorbar": {
              "outlinewidth": 0,
              "ticks": ""
             }
            },
            "type": "scatterpolargl"
           }
          ],
          "scatterternary": [
           {
            "marker": {
             "colorbar": {
              "outlinewidth": 0,
              "ticks": ""
             }
            },
            "type": "scatterternary"
           }
          ],
          "surface": [
           {
            "colorbar": {
             "outlinewidth": 0,
             "ticks": ""
            },
            "colorscale": [
             [
              0,
              "#0d0887"
             ],
             [
              0.1111111111111111,
              "#46039f"
             ],
             [
              0.2222222222222222,
              "#7201a8"
             ],
             [
              0.3333333333333333,
              "#9c179e"
             ],
             [
              0.4444444444444444,
              "#bd3786"
             ],
             [
              0.5555555555555556,
              "#d8576b"
             ],
             [
              0.6666666666666666,
              "#ed7953"
             ],
             [
              0.7777777777777778,
              "#fb9f3a"
             ],
             [
              0.8888888888888888,
              "#fdca26"
             ],
             [
              1,
              "#f0f921"
             ]
            ],
            "type": "surface"
           }
          ],
          "table": [
           {
            "cells": {
             "fill": {
              "color": "#EBF0F8"
             },
             "line": {
              "color": "white"
             }
            },
            "header": {
             "fill": {
              "color": "#C8D4E3"
             },
             "line": {
              "color": "white"
             }
            },
            "type": "table"
           }
          ]
         },
         "layout": {
          "annotationdefaults": {
           "arrowcolor": "#2a3f5f",
           "arrowhead": 0,
           "arrowwidth": 1
          },
          "autotypenumbers": "strict",
          "coloraxis": {
           "colorbar": {
            "outlinewidth": 0,
            "ticks": ""
           }
          },
          "colorscale": {
           "diverging": [
            [
             0,
             "#8e0152"
            ],
            [
             0.1,
             "#c51b7d"
            ],
            [
             0.2,
             "#de77ae"
            ],
            [
             0.3,
             "#f1b6da"
            ],
            [
             0.4,
             "#fde0ef"
            ],
            [
             0.5,
             "#f7f7f7"
            ],
            [
             0.6,
             "#e6f5d0"
            ],
            [
             0.7,
             "#b8e186"
            ],
            [
             0.8,
             "#7fbc41"
            ],
            [
             0.9,
             "#4d9221"
            ],
            [
             1,
             "#276419"
            ]
           ],
           "sequential": [
            [
             0,
             "#0d0887"
            ],
            [
             0.1111111111111111,
             "#46039f"
            ],
            [
             0.2222222222222222,
             "#7201a8"
            ],
            [
             0.3333333333333333,
             "#9c179e"
            ],
            [
             0.4444444444444444,
             "#bd3786"
            ],
            [
             0.5555555555555556,
             "#d8576b"
            ],
            [
             0.6666666666666666,
             "#ed7953"
            ],
            [
             0.7777777777777778,
             "#fb9f3a"
            ],
            [
             0.8888888888888888,
             "#fdca26"
            ],
            [
             1,
             "#f0f921"
            ]
           ],
           "sequentialminus": [
            [
             0,
             "#0d0887"
            ],
            [
             0.1111111111111111,
             "#46039f"
            ],
            [
             0.2222222222222222,
             "#7201a8"
            ],
            [
             0.3333333333333333,
             "#9c179e"
            ],
            [
             0.4444444444444444,
             "#bd3786"
            ],
            [
             0.5555555555555556,
             "#d8576b"
            ],
            [
             0.6666666666666666,
             "#ed7953"
            ],
            [
             0.7777777777777778,
             "#fb9f3a"
            ],
            [
             0.8888888888888888,
             "#fdca26"
            ],
            [
             1,
             "#f0f921"
            ]
           ]
          },
          "colorway": [
           "#636efa",
           "#EF553B",
           "#00cc96",
           "#ab63fa",
           "#FFA15A",
           "#19d3f3",
           "#FF6692",
           "#B6E880",
           "#FF97FF",
           "#FECB52"
          ],
          "font": {
           "color": "#2a3f5f"
          },
          "geo": {
           "bgcolor": "white",
           "lakecolor": "white",
           "landcolor": "#E5ECF6",
           "showlakes": true,
           "showland": true,
           "subunitcolor": "white"
          },
          "hoverlabel": {
           "align": "left"
          },
          "hovermode": "closest",
          "mapbox": {
           "style": "light"
          },
          "paper_bgcolor": "white",
          "plot_bgcolor": "#E5ECF6",
          "polar": {
           "angularaxis": {
            "gridcolor": "white",
            "linecolor": "white",
            "ticks": ""
           },
           "bgcolor": "#E5ECF6",
           "radialaxis": {
            "gridcolor": "white",
            "linecolor": "white",
            "ticks": ""
           }
          },
          "scene": {
           "xaxis": {
            "backgroundcolor": "#E5ECF6",
            "gridcolor": "white",
            "gridwidth": 2,
            "linecolor": "white",
            "showbackground": true,
            "ticks": "",
            "zerolinecolor": "white"
           },
           "yaxis": {
            "backgroundcolor": "#E5ECF6",
            "gridcolor": "white",
            "gridwidth": 2,
            "linecolor": "white",
            "showbackground": true,
            "ticks": "",
            "zerolinecolor": "white"
           },
           "zaxis": {
            "backgroundcolor": "#E5ECF6",
            "gridcolor": "white",
            "gridwidth": 2,
            "linecolor": "white",
            "showbackground": true,
            "ticks": "",
            "zerolinecolor": "white"
           }
          },
          "shapedefaults": {
           "line": {
            "color": "#2a3f5f"
           }
          },
          "ternary": {
           "aaxis": {
            "gridcolor": "white",
            "linecolor": "white",
            "ticks": ""
           },
           "baxis": {
            "gridcolor": "white",
            "linecolor": "white",
            "ticks": ""
           },
           "bgcolor": "#E5ECF6",
           "caxis": {
            "gridcolor": "white",
            "linecolor": "white",
            "ticks": ""
           }
          },
          "title": {
           "x": 0.05
          },
          "xaxis": {
           "automargin": true,
           "gridcolor": "white",
           "linecolor": "white",
           "ticks": "",
           "title": {
            "standoff": 15
           },
           "zerolinecolor": "white",
           "zerolinewidth": 2
          },
          "yaxis": {
           "automargin": true,
           "gridcolor": "white",
           "linecolor": "white",
           "ticks": "",
           "title": {
            "standoff": 15
           },
           "zerolinecolor": "white",
           "zerolinewidth": 2
          }
         }
        },
        "title": {
         "text": "Low Income Percentage vs Economic Status (with Jitter)"
        },
        "width": 800,
        "xaxis": {
         "anchor": "y",
         "domain": [
          0,
          1
         ],
         "tickangle": 15,
         "ticktext": [
          "All adults in work",
          "At least one adult in work but not all",
          "Workless households"
         ],
         "tickvals": [
          0,
          1,
          2
         ],
         "title": {
          "text": "Economic Status"
         }
        },
        "yaxis": {
         "anchor": "x",
         "domain": [
          0,
          1
         ],
         "title": {
          "text": "Low Income Percentage (%)"
         }
        }
       }
      }
     },
     "metadata": {},
     "output_type": "display_data"
    }
   ],
   "source": [
    "# Scatter Plot with Plotly\n",
    "\n",
    "status_map = {'All adults in work': 0, 'At least one adult in work but not all': 1, 'Workless households': 2}\n",
    "plot_data['x_jitter'] = plot_data['Economic Status'].map(status_map) + np.random.uniform(-0.1, 0.1, size=len(plot_data))\n",
    "\n",
    "fig = px.scatter(\n",
    "    plot_data,\n",
    "    x='x_jitter',\n",
    "    y='Low income pct',\n",
    "    color='Year',\n",
    "    #text=plot_data['Low income pct'].apply(lambda x: f\"{x}%\"),\n",
    "    title='Low Income Percentage vs Economic Status (with Jitter)',\n",
    "    labels={'x_jitter': 'Economic Status', 'Low income pct': 'Low Income Percentage (%)'},\n",
    "    hover_data=['Not low income', 'Low income', 'Total'],\n",
    "    color_discrete_sequence=px.colors.qualitative.Plotly\n",
    ")\n",
    "\n",
    "# Update x-axis to show original labels\n",
    "fig.update_xaxes(\n",
    "    tickvals=[0, 1, 2],\n",
    "    ticktext=['All adults in work', 'At least one adult in work but not all', 'Workless households']\n",
    ")\n",
    "\n",
    "all_years = sorted(plot_data['Year'].unique())\n",
    "recent_years = all_years[-10:]  # Last 5 years: 2018-19 to 2022-23\n",
    "# Add trend lines for each year\n",
    "#for year in plot_data['Year'].unique():\n",
    "for year in recent_years:\n",
    "    year_data = plot_data[plot_data['Year'] == year]\n",
    "    fig.add_scatter(\n",
    "        x=year_data['x_jitter'],\n",
    "        y=year_data['Low income pct'],\n",
    "        mode='lines',\n",
    "        name=f'Trend {year}',\n",
    "        line=dict(dash='dash'),\n",
    "        showlegend=True\n",
    "    )\n",
    "\n",
    "fig.update_traces(textposition='top center', marker=dict(size=12))\n",
    "fig.update_layout(width=800, height=500, showlegend=True, xaxis={'tickangle': 15})\n",
    "fig.show()\n",
    "\n"
   ]
  },
  {
   "cell_type": "markdown",
   "metadata": {},
   "source": [
    " strong positive relationship: as household employment decreases, the likelihood of being low-income increases significantly.\n",
    "\n",
    " even if all adults are working, there are still considerable percentages below average income.  This suggests that employment alone isn’t a complete safeguard against poverty. (Low Wages, cost of living, household size- adults with large # of dependents  )\n",
    "\n",
    "\n",
    "\n"
   ]
  },
  {
   "cell_type": "code",
   "execution_count": 143,
   "metadata": {},
   "outputs": [
    {
     "data": {
      "application/vnd.plotly.v1+json": {
       "config": {
        "plotlyServerURL": "https://plot.ly"
       },
       "data": [
        {
         "customdata": [
          [
           "1996-97"
          ],
          [
           "1996-97"
          ],
          [
           "1996-97"
          ],
          [
           "1997-98"
          ],
          [
           "1997-98"
          ],
          [
           "1997-98"
          ],
          [
           "1998-99"
          ],
          [
           "1998-99"
          ],
          [
           "1998-99"
          ],
          [
           "1999-00"
          ],
          [
           "1999-00"
          ],
          [
           "1999-00"
          ],
          [
           "2000-01"
          ],
          [
           "2000-01"
          ],
          [
           "2000-01"
          ],
          [
           "2001-02"
          ],
          [
           "2001-02"
          ],
          [
           "2001-02"
          ],
          [
           "2002-03"
          ],
          [
           "2002-03"
          ],
          [
           "2002-03"
          ],
          [
           "2003-04"
          ],
          [
           "2003-04"
          ],
          [
           "2003-04"
          ],
          [
           "2004-05"
          ],
          [
           "2004-05"
          ],
          [
           "2004-05"
          ],
          [
           "2005-06"
          ],
          [
           "2005-06"
          ],
          [
           "2005-06"
          ],
          [
           "2006-07"
          ],
          [
           "2006-07"
          ],
          [
           "2006-07"
          ],
          [
           "2007-08"
          ],
          [
           "2007-08"
          ],
          [
           "2007-08"
          ],
          [
           "2008-09"
          ],
          [
           "2008-09"
          ],
          [
           "2008-09"
          ],
          [
           "2009-10"
          ],
          [
           "2009-10"
          ],
          [
           "2009-10"
          ],
          [
           "2010-11"
          ],
          [
           "2010-11"
          ],
          [
           "2010-11"
          ],
          [
           "2011-12"
          ],
          [
           "2011-12"
          ],
          [
           "2011-12"
          ],
          [
           "2012-13"
          ],
          [
           "2012-13"
          ],
          [
           "2012-13"
          ],
          [
           "2013-14"
          ],
          [
           "2013-14"
          ],
          [
           "2013-14"
          ],
          [
           "2014-15"
          ],
          [
           "2014-15"
          ],
          [
           "2014-15"
          ],
          [
           "2015-16"
          ],
          [
           "2015-16"
          ],
          [
           "2015-16"
          ],
          [
           "2016-17"
          ],
          [
           "2016-17"
          ],
          [
           "2016-17"
          ],
          [
           "2017-18"
          ],
          [
           "2017-18"
          ],
          [
           "2017-18"
          ],
          [
           "2018-19"
          ],
          [
           "2018-19"
          ],
          [
           "2018-19"
          ],
          [
           "2019-20"
          ],
          [
           "2019-20"
          ],
          [
           "2019-20"
          ],
          [
           "2020-21"
          ],
          [
           "2020-21"
          ],
          [
           "2020-21"
          ],
          [
           "2021-22"
          ],
          [
           "2021-22"
          ],
          [
           "2021-22"
          ],
          [
           "2022-23"
          ],
          [
           "2022-23"
          ],
          [
           "2022-23"
          ]
         ],
         "hovertemplate": "Region=Northern Ireland<br>Economic Status=%{x}<br>Low Income Percentage (%)=%{y}<br>Year=%{customdata[0]}<extra></extra>",
         "legendgroup": "Northern Ireland",
         "marker": {
          "color": "#636efa",
          "symbol": "circle"
         },
         "mode": "markers",
         "name": "Northern Ireland",
         "orientation": "v",
         "showlegend": true,
         "textposition": "top center",
         "type": "scatter",
         "x": [
          -0.012381459271653392,
          1.062326967323022,
          1.923812371608875,
          0.09140721269909322,
          1.0870962243298647,
          1.998205015268062,
          -0.05467127308005937,
          0.9523418917961837,
          2.0860614878093298,
          -0.014421005586799415,
          1.0092358024727617,
          1.9632760346240667,
          -0.02208707115738287,
          0.9362898262420317,
          2.0443344739155562,
          -0.05452833525108174,
          0.9767000089379494,
          1.9572850107609772,
          0.05422122171066132,
          1.052360118319132,
          2.0405885249343507,
          0.008209040092932732,
          0.9301665937750079,
          1.949662309605523,
          -0.03383103150812315,
          1.0629688824240078,
          2.045036432008412,
          -0.058394090442205164,
          0.9337156776743408,
          1.9137964134695498,
          -0.026618081617099776,
          1.0446947992446098,
          2.0887591157302925,
          0.0030372029789566407,
          1.0030361539669457,
          2.071262135389601,
          -0.00415974879066458,
          1.0156533084222468,
          1.9988883512597377,
          0.0021411801137213304,
          0.9074050193658695,
          1.9783375964407492,
          0.004675541365383201,
          1.0279436529404538,
          1.979424719715034,
          0.06490554736813325,
          0.9968336786149008,
          1.9995147851807469,
          0.029568372020280675,
          1.0345891236349598,
          1.9399433260337564,
          -0.007769907694227848,
          1.0592421524494195,
          1.99069031806316,
          -0.07697217094288396,
          0.9728775400843789,
          2.009948487052372,
          0.07517406335987106,
          0.9620272922048742,
          1.927747326511661,
          0.006720987640388004,
          1.0531969122966536,
          2.086887625608049,
          -0.019842742715626666,
          1.038615556774443,
          1.927360374272709,
          0.045420359231301666,
          1.0766391282174619,
          2.039046802891116,
          0.06104305666667126,
          0.989157068180964,
          1.9712354838213728,
          -0.053282218934844,
          1.0915095096056915,
          2.056837548132637,
          -0.02339759866000038,
          0.9498642603281143,
          2.0267774858631435,
          0.06033860388039672,
          0.9575812897799605,
          1.917596844929066
         ],
         "xaxis": "x",
         "y": [
          null,
          null,
          null,
          null,
          null,
          null,
          null,
          null,
          null,
          null,
          null,
          null,
          null,
          null,
          null,
          null,
          null,
          null,
          6.78,
          20.11,
          43.44,
          6.9,
          24.64,
          41.47,
          6.6,
          24.5,
          43.74,
          8.08,
          19.93,
          42.13,
          6.68,
          20.68,
          45.48,
          5.37,
          23,
          46.17,
          7.02,
          21.03,
          43.64,
          6.61,
          26.6,
          43.82,
          7.17,
          25.51,
          39.13,
          8.16,
          26.57,
          38.97,
          7.53,
          21.39,
          37.88,
          9.18,
          23.91,
          40.5,
          6.9,
          28.11,
          42.47,
          7.91,
          22.25,
          34.49,
          7.8,
          21.09,
          37.55,
          7.08,
          17.55,
          34.33,
          10.63,
          26,
          30.25,
          7.8,
          20.96,
          34.13,
          null,
          null,
          null,
          5.21,
          19.5,
          38.8,
          8.2,
          26.98,
          35.41
         ],
         "yaxis": "y"
        },
        {
         "customdata": [
          [
           "1996-97"
          ],
          [
           "1996-97"
          ],
          [
           "1996-97"
          ],
          [
           "1997-98"
          ],
          [
           "1997-98"
          ],
          [
           "1997-98"
          ],
          [
           "1998-99"
          ],
          [
           "1998-99"
          ],
          [
           "1998-99"
          ],
          [
           "1999-00"
          ],
          [
           "1999-00"
          ],
          [
           "1999-00"
          ],
          [
           "2000-01"
          ],
          [
           "2000-01"
          ],
          [
           "2000-01"
          ],
          [
           "2001-02"
          ],
          [
           "2001-02"
          ],
          [
           "2001-02"
          ],
          [
           "2002-03"
          ],
          [
           "2002-03"
          ],
          [
           "2002-03"
          ],
          [
           "2003-04"
          ],
          [
           "2003-04"
          ],
          [
           "2003-04"
          ],
          [
           "2004-05"
          ],
          [
           "2004-05"
          ],
          [
           "2004-05"
          ],
          [
           "2005-06"
          ],
          [
           "2005-06"
          ],
          [
           "2005-06"
          ],
          [
           "2006-07"
          ],
          [
           "2006-07"
          ],
          [
           "2006-07"
          ],
          [
           "2007-08"
          ],
          [
           "2007-08"
          ],
          [
           "2007-08"
          ],
          [
           "2008-09"
          ],
          [
           "2008-09"
          ],
          [
           "2008-09"
          ],
          [
           "2009-10"
          ],
          [
           "2009-10"
          ],
          [
           "2009-10"
          ],
          [
           "2010-11"
          ],
          [
           "2010-11"
          ],
          [
           "2010-11"
          ],
          [
           "2011-12"
          ],
          [
           "2011-12"
          ],
          [
           "2011-12"
          ],
          [
           "2012-13"
          ],
          [
           "2012-13"
          ],
          [
           "2012-13"
          ],
          [
           "2013-14"
          ],
          [
           "2013-14"
          ],
          [
           "2013-14"
          ],
          [
           "2014-15"
          ],
          [
           "2014-15"
          ],
          [
           "2014-15"
          ],
          [
           "2015-16"
          ],
          [
           "2015-16"
          ],
          [
           "2015-16"
          ],
          [
           "2016-17"
          ],
          [
           "2016-17"
          ],
          [
           "2016-17"
          ],
          [
           "2017-18"
          ],
          [
           "2017-18"
          ],
          [
           "2017-18"
          ],
          [
           "2018-19"
          ],
          [
           "2018-19"
          ],
          [
           "2018-19"
          ],
          [
           "2019-20"
          ],
          [
           "2019-20"
          ],
          [
           "2019-20"
          ],
          [
           "2020-21"
          ],
          [
           "2020-21"
          ],
          [
           "2020-21"
          ],
          [
           "2021-22"
          ],
          [
           "2021-22"
          ],
          [
           "2021-22"
          ],
          [
           "2022-23"
          ],
          [
           "2022-23"
          ],
          [
           "2022-23"
          ]
         ],
         "hovertemplate": "Region=Scotland<br>Economic Status=%{x}<br>Low Income Percentage (%)=%{y}<br>Year=%{customdata[0]}<extra></extra>",
         "legendgroup": "Scotland",
         "marker": {
          "color": "#EF553B",
          "symbol": "circle"
         },
         "mode": "markers",
         "name": "Scotland",
         "orientation": "v",
         "showlegend": true,
         "textposition": "top center",
         "type": "scatter",
         "x": [
          -0.08391891679290645,
          1.039421441362689,
          1.9428440159599671,
          -0.0022147572845244434,
          0.9567705952612315,
          2.0058174693492195,
          -0.06990213974574583,
          1.0477192708424243,
          1.9293520556194006,
          -0.021420844845944906,
          0.987740347307714,
          2.03026388109093,
          0.07910885955645514,
          0.9766522543878773,
          2.062399560135102,
          -0.013823036978619238,
          1.0573980618047232,
          1.9148809202884767,
          0.05414766814279201,
          1.0103233482518725,
          2.0230741556350753,
          0.029310474505494677,
          1.0017062984295848,
          2.026596993520031,
          -0.061853514748924955,
          1.0028146560944151,
          2.0734935086805284,
          -0.05897373527650236,
          0.944367278107148,
          2.0536618878918462,
          -0.052286893805523676,
          1.0725660887066022,
          2.0774349974489326,
          0.06938913674008446,
          1.0890029525953937,
          1.9495501913999762,
          -0.0498618268744822,
          0.9077816517848913,
          1.9032180590992887,
          0.03917429792031396,
          1.0057355879826573,
          2.06374225836716,
          -0.020961400401379796,
          0.9933460100099568,
          2.011006161380192,
          0.033698533502523054,
          1.0745525044293842,
          2.0635362754162565,
          0.05810044236941131,
          0.9321410680245802,
          2.006012111383237,
          0.09467316849080071,
          1.0165936962569329,
          2.0816535306087403,
          0.05782321956448841,
          0.9077208984254539,
          2.00136638965691,
          -0.0643120879799209,
          0.9232155327279441,
          1.9505934829531903,
          0.08165293506674348,
          0.987218109890037,
          1.9913147085277842,
          -0.07333596850868809,
          0.9300741386154016,
          2.059689882858543,
          -0.029314033161877404,
          0.9664846103980267,
          2.0134942629155828,
          -0.09875196654830548,
          0.9516296489037364,
          2.0033256627761653,
          -0.08842686083785489,
          1.0509227245672408,
          2.0810227609441383,
          -0.03029021764193321,
          1.0609137688184165,
          2.0638198420821023,
          0.06766346495942596,
          0.9200686507326636,
          2.0746670202131092
         ],
         "xaxis": "x",
         "y": [
          5.85,
          21.53,
          48.74,
          6.37,
          19.69,
          46.08,
          5.94,
          20.22,
          44.84,
          5.41,
          20.28,
          46.38,
          7.16,
          18.7,
          45.52,
          6.64,
          19.76,
          43.09,
          5.6,
          23.84,
          43.93,
          5.54,
          18.45,
          42.22,
          4.93,
          17.92,
          39.65,
          5.45,
          22.99,
          36.72,
          5.23,
          17.52,
          38.16,
          5.84,
          16.86,
          39.02,
          4.89,
          21.36,
          37.63,
          5.58,
          17.4,
          37,
          4.67,
          18.23,
          32.21,
          5.19,
          12.72,
          29.85,
          6.67,
          17.22,
          30.48,
          5.49,
          13.35,
          30.37,
          6.43,
          19.76,
          29.79,
          8.71,
          20.29,
          30.95,
          6.38,
          24.2,
          33.65,
          7.25,
          24.9,
          30.64,
          7.47,
          21.63,
          30.74,
          7.78,
          22.65,
          33.26,
          null,
          null,
          null,
          4.53,
          30.16,
          38.14,
          7.93,
          28.7,
          28.89
         ],
         "yaxis": "y"
        },
        {
         "customdata": [
          [
           "1996-97"
          ],
          [
           "1996-97"
          ],
          [
           "1996-97"
          ],
          [
           "1997-98"
          ],
          [
           "1997-98"
          ],
          [
           "1997-98"
          ],
          [
           "1998-99"
          ],
          [
           "1998-99"
          ],
          [
           "1998-99"
          ],
          [
           "1999-00"
          ],
          [
           "1999-00"
          ],
          [
           "1999-00"
          ],
          [
           "2000-01"
          ],
          [
           "2000-01"
          ],
          [
           "2000-01"
          ],
          [
           "2001-02"
          ],
          [
           "2001-02"
          ],
          [
           "2001-02"
          ],
          [
           "2002-03"
          ],
          [
           "2002-03"
          ],
          [
           "2002-03"
          ],
          [
           "2003-04"
          ],
          [
           "2003-04"
          ],
          [
           "2003-04"
          ],
          [
           "2004-05"
          ],
          [
           "2004-05"
          ],
          [
           "2004-05"
          ],
          [
           "2005-06"
          ],
          [
           "2005-06"
          ],
          [
           "2005-06"
          ],
          [
           "2006-07"
          ],
          [
           "2006-07"
          ],
          [
           "2006-07"
          ],
          [
           "2007-08"
          ],
          [
           "2007-08"
          ],
          [
           "2007-08"
          ],
          [
           "2008-09"
          ],
          [
           "2008-09"
          ],
          [
           "2008-09"
          ],
          [
           "2009-10"
          ],
          [
           "2009-10"
          ],
          [
           "2009-10"
          ],
          [
           "2010-11"
          ],
          [
           "2010-11"
          ],
          [
           "2010-11"
          ],
          [
           "2011-12"
          ],
          [
           "2011-12"
          ],
          [
           "2011-12"
          ],
          [
           "2012-13"
          ],
          [
           "2012-13"
          ],
          [
           "2012-13"
          ],
          [
           "2013-14"
          ],
          [
           "2013-14"
          ],
          [
           "2013-14"
          ],
          [
           "2014-15"
          ],
          [
           "2014-15"
          ],
          [
           "2014-15"
          ],
          [
           "2015-16"
          ],
          [
           "2015-16"
          ],
          [
           "2015-16"
          ],
          [
           "2016-17"
          ],
          [
           "2016-17"
          ],
          [
           "2016-17"
          ],
          [
           "2017-18"
          ],
          [
           "2017-18"
          ],
          [
           "2017-18"
          ],
          [
           "2018-19"
          ],
          [
           "2018-19"
          ],
          [
           "2018-19"
          ],
          [
           "2019-20"
          ],
          [
           "2019-20"
          ],
          [
           "2019-20"
          ],
          [
           "2020-21"
          ],
          [
           "2020-21"
          ],
          [
           "2020-21"
          ],
          [
           "2021-22"
          ],
          [
           "2021-22"
          ],
          [
           "2021-22"
          ],
          [
           "2022-23"
          ],
          [
           "2022-23"
          ],
          [
           "2022-23"
          ]
         ],
         "hovertemplate": "Region=Wales<br>Economic Status=%{x}<br>Low Income Percentage (%)=%{y}<br>Year=%{customdata[0]}<extra></extra>",
         "legendgroup": "Wales",
         "marker": {
          "color": "#00cc96",
          "symbol": "circle"
         },
         "mode": "markers",
         "name": "Wales",
         "orientation": "v",
         "showlegend": true,
         "textposition": "top center",
         "type": "scatter",
         "x": [
          -0.07387005377334649,
          0.9187028174400124,
          2.064843184993125,
          -0.08249371611971644,
          1.0138390458302797,
          1.9228214300797726,
          0.009626566678308218,
          1.033990417548479,
          1.9968058576607421,
          -0.047721492739040805,
          1.046881174213681,
          2.0959043475887724,
          -0.018851987433266687,
          1.0167809041403544,
          2.001456839068736,
          0.09963704262188428,
          0.9098329592810082,
          1.944100003969593,
          -0.014993778556599807,
          1.0884709151303804,
          1.9356004252766468,
          -0.08631007532763667,
          0.9051745568418019,
          2.001365281486517,
          -0.0815828089571006,
          1.0633000462535416,
          1.9364238128593343,
          -0.0549520678158689,
          1.0141912426035928,
          1.9236721717856464,
          -0.05376366201544163,
          1.0186851709258398,
          1.9976822633141864,
          0.09850768630692239,
          0.9999332939318982,
          2.0089108083061693,
          -0.09553785476297556,
          0.9094900365374915,
          1.9054495991482252,
          0.0315246007401527,
          0.9410881599372326,
          2.0999766847950996,
          -0.008544806941628472,
          0.9679412937439552,
          1.9217939437012466,
          0.09577763560671965,
          0.9474746377478085,
          1.9858052223440537,
          0.08287069450218665,
          0.9666411758048006,
          1.909066939138558,
          -0.0680918437899076,
          0.9251690255327845,
          1.9148336124076928,
          0.07144378157152884,
          1.0677626484354135,
          2.0121083009396923,
          0.05893819553896035,
          0.9355609602094028,
          1.9747917388031202,
          0.02005763296617062,
          0.9832781644643834,
          2.07685496577048,
          0.0669655153288696,
          0.9523997682694464,
          1.962142633142962,
          -0.09338729987249611,
          0.9926631569140567,
          2.037330119063638,
          -0.06258227634699609,
          0.9706406962895472,
          2.0002610969855947,
          -0.03631110281941918,
          1.0320978456849752,
          1.99473514957187,
          -0.004766828563471173,
          0.9198378596626545,
          1.9218096752190716,
          -0.0010269160318522735,
          0.9043399218864143,
          1.9561583660643185
         ],
         "xaxis": "x",
         "y": [
          6.66,
          18.93,
          40.85,
          9.59,
          29.77,
          44.18,
          10.16,
          19.9,
          41.37,
          7.26,
          20.74,
          41.64,
          7.56,
          22.59,
          41.62,
          6.05,
          23.56,
          43.02,
          6.38,
          22.14,
          41.85,
          7.47,
          21.91,
          46.39,
          7.26,
          15.18,
          42.39,
          7.29,
          25.29,
          38,
          7.03,
          21.78,
          42.58,
          6.01,
          27.4,
          44.5,
          6.84,
          19.29,
          38.16,
          6.61,
          28.59,
          37.7,
          6.83,
          29.29,
          29.03,
          7.32,
          18.85,
          35.11,
          6.46,
          30.82,
          35.08,
          7.86,
          19.64,
          36.56,
          8,
          18.27,
          37.86,
          8.72,
          30.95,
          35.44,
          10.67,
          18.83,
          32.75,
          10.63,
          19.22,
          33.39,
          6.18,
          27.46,
          42.12,
          7.95,
          35.54,
          34.74,
          null,
          null,
          null,
          6.77,
          26.09,
          27.98,
          9.88,
          23.69,
          34.15
         ],
         "yaxis": "y"
        },
        {
         "customdata": [
          [
           "1996-97"
          ],
          [
           "1996-97"
          ],
          [
           "1996-97"
          ],
          [
           "1997-98"
          ],
          [
           "1997-98"
          ],
          [
           "1997-98"
          ],
          [
           "1998-99"
          ],
          [
           "1998-99"
          ],
          [
           "1998-99"
          ],
          [
           "1999-00"
          ],
          [
           "1999-00"
          ],
          [
           "1999-00"
          ],
          [
           "2000-01"
          ],
          [
           "2000-01"
          ],
          [
           "2000-01"
          ],
          [
           "2001-02"
          ],
          [
           "2001-02"
          ],
          [
           "2001-02"
          ],
          [
           "2002-03"
          ],
          [
           "2002-03"
          ],
          [
           "2002-03"
          ],
          [
           "2003-04"
          ],
          [
           "2003-04"
          ],
          [
           "2003-04"
          ],
          [
           "2004-05"
          ],
          [
           "2004-05"
          ],
          [
           "2004-05"
          ],
          [
           "2005-06"
          ],
          [
           "2005-06"
          ],
          [
           "2005-06"
          ],
          [
           "2006-07"
          ],
          [
           "2006-07"
          ],
          [
           "2006-07"
          ],
          [
           "2007-08"
          ],
          [
           "2007-08"
          ],
          [
           "2007-08"
          ],
          [
           "2008-09"
          ],
          [
           "2008-09"
          ],
          [
           "2008-09"
          ],
          [
           "2009-10"
          ],
          [
           "2009-10"
          ],
          [
           "2009-10"
          ],
          [
           "2010-11"
          ],
          [
           "2010-11"
          ],
          [
           "2010-11"
          ],
          [
           "2011-12"
          ],
          [
           "2011-12"
          ],
          [
           "2011-12"
          ],
          [
           "2012-13"
          ],
          [
           "2012-13"
          ],
          [
           "2012-13"
          ],
          [
           "2013-14"
          ],
          [
           "2013-14"
          ],
          [
           "2013-14"
          ],
          [
           "2014-15"
          ],
          [
           "2014-15"
          ],
          [
           "2014-15"
          ],
          [
           "2015-16"
          ],
          [
           "2015-16"
          ],
          [
           "2015-16"
          ],
          [
           "2016-17"
          ],
          [
           "2016-17"
          ],
          [
           "2016-17"
          ],
          [
           "2017-18"
          ],
          [
           "2017-18"
          ],
          [
           "2017-18"
          ],
          [
           "2018-19"
          ],
          [
           "2018-19"
          ],
          [
           "2018-19"
          ],
          [
           "2019-20"
          ],
          [
           "2019-20"
          ],
          [
           "2019-20"
          ],
          [
           "2020-21"
          ],
          [
           "2020-21"
          ],
          [
           "2020-21"
          ],
          [
           "2021-22"
          ],
          [
           "2021-22"
          ],
          [
           "2021-22"
          ],
          [
           "2022-23"
          ],
          [
           "2022-23"
          ],
          [
           "2022-23"
          ]
         ],
         "hovertemplate": "Region=North East<br>Economic Status=%{x}<br>Low Income Percentage (%)=%{y}<br>Year=%{customdata[0]}<extra></extra>",
         "legendgroup": "North East",
         "marker": {
          "color": "#ab63fa",
          "symbol": "circle"
         },
         "mode": "markers",
         "name": "North East",
         "orientation": "v",
         "showlegend": true,
         "textposition": "top center",
         "type": "scatter",
         "x": [
          -0.08178739769602557,
          0.9025327363361091,
          1.9591662303649862,
          0.09892595491365055,
          1.0275653625038215,
          1.951063306839226,
          -0.04644978665101558,
          0.9661674817425085,
          2.084196593737865,
          0.07459393826939817,
          0.9581122641331898,
          1.9919599704748265,
          0.0009566608383058395,
          0.9362173153231198,
          1.9222104195235652,
          0.037567775270472864,
          1.0344027924188917,
          1.9331988754053642,
          -0.03806887375056376,
          1.0322096265701475,
          1.9227966894662072,
          -0.020866455449051594,
          1.0063038556445145,
          2.006652129424754,
          0.05127518074977072,
          1.067188684019187,
          1.946979761094825,
          0.018084047826802507,
          0.9389145654743437,
          2.064467065299266,
          -0.05888705655777822,
          1.0172827617141884,
          2.080584963836453,
          0.044342784816595204,
          0.9198488960557283,
          1.931886972695455,
          0.08976255655105925,
          1.0399188941366928,
          2.0274537974893385,
          -0.014935242704789603,
          0.9590733440478751,
          2.026678049323512,
          -0.03791818820859649,
          1.034295681064467,
          1.9783347284592783,
          0.06481550626359248,
          1.0916372754646324,
          1.9098448344000611,
          -0.0655675295732488,
          0.9500357918135636,
          2.0914254746290313,
          0.01936674830008986,
          0.9193298241406448,
          2.037840247765646,
          -0.0032160592691561074,
          1.0086268580893445,
          1.9828605571115938,
          0.009309126189142675,
          1.0694798493567297,
          2.030194752021875,
          0.03752926748445634,
          0.9447594714912091,
          1.9127714009455836,
          0.0701655406047674,
          0.982313521879698,
          1.9799108894304027,
          0.08025823829672044,
          0.9572611845750801,
          1.928152802804501,
          0.04626125934622688,
          1.0207334095964662,
          1.9757034495535486,
          0.03759609751409371,
          1.061719638692331,
          1.9751747301462654,
          -0.07536478093574435,
          0.961883399388012,
          2.0712703345149084,
          0.06344699683541341,
          1.0358428287039114,
          1.9719048022930776
         ],
         "xaxis": "x",
         "y": [
          5.55,
          27.41,
          45.61,
          7.01,
          25.41,
          44.42,
          8.63,
          23.61,
          50.39,
          6.56,
          29.79,
          48.78,
          6.1,
          28.03,
          49.4,
          7.24,
          20.61,
          44.98,
          5.85,
          26.36,
          44.43,
          6.61,
          21.31,
          41.94,
          7.89,
          23.54,
          38.56,
          5.45,
          22.23,
          38.43,
          8.73,
          22.91,
          40.36,
          9.44,
          26.59,
          42.09,
          6.89,
          29.63,
          37.21,
          5.61,
          22.8,
          36.72,
          5.72,
          21.73,
          34.36,
          4.64,
          31.28,
          31.87,
          5.62,
          24.42,
          30,
          7.86,
          19.28,
          27.38,
          9.26,
          28.42,
          29.82,
          6.41,
          24.78,
          32.63,
          8.81,
          25.21,
          28.24,
          6.8,
          28.5,
          31.76,
          6.03,
          34.01,
          31.85,
          15.56,
          37.95,
          34.47,
          null,
          null,
          null,
          4.45,
          13.57,
          34.31,
          7.03,
          24.52,
          35.98
         ],
         "yaxis": "y"
        },
        {
         "customdata": [
          [
           "1996-97"
          ],
          [
           "1996-97"
          ],
          [
           "1996-97"
          ],
          [
           "1997-98"
          ],
          [
           "1997-98"
          ],
          [
           "1997-98"
          ],
          [
           "1998-99"
          ],
          [
           "1998-99"
          ],
          [
           "1998-99"
          ],
          [
           "1999-00"
          ],
          [
           "1999-00"
          ],
          [
           "1999-00"
          ],
          [
           "2000-01"
          ],
          [
           "2000-01"
          ],
          [
           "2000-01"
          ],
          [
           "2001-02"
          ],
          [
           "2001-02"
          ],
          [
           "2001-02"
          ],
          [
           "2002-03"
          ],
          [
           "2002-03"
          ],
          [
           "2002-03"
          ],
          [
           "2003-04"
          ],
          [
           "2003-04"
          ],
          [
           "2003-04"
          ],
          [
           "2004-05"
          ],
          [
           "2004-05"
          ],
          [
           "2004-05"
          ],
          [
           "2005-06"
          ],
          [
           "2005-06"
          ],
          [
           "2005-06"
          ],
          [
           "2006-07"
          ],
          [
           "2006-07"
          ],
          [
           "2006-07"
          ],
          [
           "2007-08"
          ],
          [
           "2007-08"
          ],
          [
           "2007-08"
          ],
          [
           "2008-09"
          ],
          [
           "2008-09"
          ],
          [
           "2008-09"
          ],
          [
           "2009-10"
          ],
          [
           "2009-10"
          ],
          [
           "2009-10"
          ],
          [
           "2010-11"
          ],
          [
           "2010-11"
          ],
          [
           "2010-11"
          ],
          [
           "2011-12"
          ],
          [
           "2011-12"
          ],
          [
           "2011-12"
          ],
          [
           "2012-13"
          ],
          [
           "2012-13"
          ],
          [
           "2012-13"
          ],
          [
           "2013-14"
          ],
          [
           "2013-14"
          ],
          [
           "2013-14"
          ],
          [
           "2014-15"
          ],
          [
           "2014-15"
          ],
          [
           "2014-15"
          ],
          [
           "2015-16"
          ],
          [
           "2015-16"
          ],
          [
           "2015-16"
          ],
          [
           "2016-17"
          ],
          [
           "2016-17"
          ],
          [
           "2016-17"
          ],
          [
           "2017-18"
          ],
          [
           "2017-18"
          ],
          [
           "2017-18"
          ],
          [
           "2018-19"
          ],
          [
           "2018-19"
          ],
          [
           "2018-19"
          ],
          [
           "2019-20"
          ],
          [
           "2019-20"
          ],
          [
           "2019-20"
          ],
          [
           "2020-21"
          ],
          [
           "2020-21"
          ],
          [
           "2020-21"
          ],
          [
           "2021-22"
          ],
          [
           "2021-22"
          ],
          [
           "2021-22"
          ],
          [
           "2022-23"
          ],
          [
           "2022-23"
          ],
          [
           "2022-23"
          ]
         ],
         "hovertemplate": "Region=North West<br>Economic Status=%{x}<br>Low Income Percentage (%)=%{y}<br>Year=%{customdata[0]}<extra></extra>",
         "legendgroup": "North West",
         "marker": {
          "color": "#FFA15A",
          "symbol": "circle"
         },
         "mode": "markers",
         "name": "North West",
         "orientation": "v",
         "showlegend": true,
         "textposition": "top center",
         "type": "scatter",
         "x": [
          -0.0775072514729658,
          1.0952907180756108,
          2.06960038801623,
          -0.039484181699029945,
          1.0199066952964304,
          1.995652981525141,
          0.08821108169553235,
          0.9581575423031147,
          2.0971449173546777,
          0.004947634798189632,
          0.902682849027057,
          2.0304038800734565,
          -0.039762365602956144,
          0.9366056862222291,
          1.995575721934746,
          0.06948674326818902,
          1.0895939787462874,
          1.9502006478036895,
          0.0846088315681458,
          0.9150738624146804,
          1.948347010815558,
          -0.014048083056279984,
          0.9901603506729759,
          1.929420395487516,
          -0.08501787111697795,
          0.9922231136768552,
          2.0077554204315966,
          -0.018984911880007685,
          1.0728223605428524,
          2.018998195172391,
          0.02505344553111183,
          0.9316011833845212,
          1.9757220789257928,
          -0.028536366334249455,
          1.015037559324176,
          2.0199268576402347,
          0.0032772951537735073,
          0.9078223075519517,
          2.080124999270841,
          -0.02814702714816411,
          1.0154418179204834,
          1.9832374137213538,
          0.0352047452377659,
          0.9075338855575785,
          2.0244666366058404,
          -0.06829831609635156,
          0.9483659731810428,
          1.9822018481450692,
          -0.017935856935219416,
          0.9229936380545958,
          2.058788542812927,
          -0.04500202088777714,
          0.9156573969532222,
          2.094799700825828,
          0.08910207770190529,
          0.9316985597206172,
          1.9613082712448842,
          -0.01951770790819589,
          1.0037022949681944,
          1.9315754448117461,
          0.0003234313526001842,
          1.0947506555557753,
          2.05937718890846,
          0.0950976701148431,
          0.9176567337492942,
          2.099656503760113,
          -0.0057752344156401375,
          0.9615820021253351,
          1.9705267536408697,
          0.08000123168278847,
          1.0800641636147457,
          1.9641770003690717,
          0.04624585504299411,
          0.9113864259381115,
          1.975816066431604,
          -0.02426889263771806,
          0.9825748143340848,
          2.058472228985764,
          0.04108713129198094,
          1.0088557932415367,
          2.0851253705804735
         ],
         "xaxis": "x",
         "y": [
          6.08,
          21.71,
          45.52,
          6.87,
          21.96,
          46.85,
          8.24,
          25.92,
          47.69,
          5.23,
          29.28,
          43.1,
          6.25,
          24.87,
          41.23,
          6.67,
          24.11,
          43.56,
          5.37,
          23.42,
          42.34,
          5.29,
          22.42,
          41.49,
          4.94,
          19.93,
          40.03,
          7.48,
          24.91,
          40.31,
          6.12,
          22.79,
          44.58,
          5.83,
          26.69,
          43.09,
          6.43,
          22.25,
          36.02,
          5.76,
          24.96,
          32.73,
          7.52,
          23.01,
          30.21,
          6.16,
          29.22,
          27.68,
          6.3,
          20.74,
          32.71,
          4.98,
          29.14,
          29.28,
          7.02,
          27.18,
          33.46,
          5.8,
          29.31,
          30.86,
          6.73,
          27.06,
          36.44,
          10.01,
          27.37,
          33.94,
          8.4,
          26.21,
          32.22,
          7.44,
          28.25,
          33.56,
          null,
          null,
          null,
          7.83,
          25.63,
          32.64,
          8.01,
          33.43,
          36.07
         ],
         "yaxis": "y"
        },
        {
         "customdata": [
          [
           "1996-97"
          ],
          [
           "1996-97"
          ],
          [
           "1996-97"
          ],
          [
           "1997-98"
          ],
          [
           "1997-98"
          ],
          [
           "1997-98"
          ],
          [
           "1998-99"
          ],
          [
           "1998-99"
          ],
          [
           "1998-99"
          ],
          [
           "1999-00"
          ],
          [
           "1999-00"
          ],
          [
           "1999-00"
          ],
          [
           "2000-01"
          ],
          [
           "2000-01"
          ],
          [
           "2000-01"
          ],
          [
           "2001-02"
          ],
          [
           "2001-02"
          ],
          [
           "2001-02"
          ],
          [
           "2002-03"
          ],
          [
           "2002-03"
          ],
          [
           "2002-03"
          ],
          [
           "2003-04"
          ],
          [
           "2003-04"
          ],
          [
           "2003-04"
          ],
          [
           "2004-05"
          ],
          [
           "2004-05"
          ],
          [
           "2004-05"
          ],
          [
           "2005-06"
          ],
          [
           "2005-06"
          ],
          [
           "2005-06"
          ],
          [
           "2006-07"
          ],
          [
           "2006-07"
          ],
          [
           "2006-07"
          ],
          [
           "2007-08"
          ],
          [
           "2007-08"
          ],
          [
           "2007-08"
          ],
          [
           "2008-09"
          ],
          [
           "2008-09"
          ],
          [
           "2008-09"
          ],
          [
           "2009-10"
          ],
          [
           "2009-10"
          ],
          [
           "2009-10"
          ],
          [
           "2010-11"
          ],
          [
           "2010-11"
          ],
          [
           "2010-11"
          ],
          [
           "2011-12"
          ],
          [
           "2011-12"
          ],
          [
           "2011-12"
          ],
          [
           "2012-13"
          ],
          [
           "2012-13"
          ],
          [
           "2012-13"
          ],
          [
           "2013-14"
          ],
          [
           "2013-14"
          ],
          [
           "2013-14"
          ],
          [
           "2014-15"
          ],
          [
           "2014-15"
          ],
          [
           "2014-15"
          ],
          [
           "2015-16"
          ],
          [
           "2015-16"
          ],
          [
           "2015-16"
          ],
          [
           "2016-17"
          ],
          [
           "2016-17"
          ],
          [
           "2016-17"
          ],
          [
           "2017-18"
          ],
          [
           "2017-18"
          ],
          [
           "2017-18"
          ],
          [
           "2018-19"
          ],
          [
           "2018-19"
          ],
          [
           "2018-19"
          ],
          [
           "2019-20"
          ],
          [
           "2019-20"
          ],
          [
           "2019-20"
          ],
          [
           "2020-21"
          ],
          [
           "2020-21"
          ],
          [
           "2020-21"
          ],
          [
           "2021-22"
          ],
          [
           "2021-22"
          ],
          [
           "2021-22"
          ],
          [
           "2022-23"
          ],
          [
           "2022-23"
          ],
          [
           "2022-23"
          ]
         ],
         "hovertemplate": "Region=Yorkshire and The Humber<br>Economic Status=%{x}<br>Low Income Percentage (%)=%{y}<br>Year=%{customdata[0]}<extra></extra>",
         "legendgroup": "Yorkshire and The Humber",
         "marker": {
          "color": "#19d3f3",
          "symbol": "circle"
         },
         "mode": "markers",
         "name": "Yorkshire and The Humber",
         "orientation": "v",
         "showlegend": true,
         "textposition": "top center",
         "type": "scatter",
         "x": [
          0.044082644730028486,
          0.9536144482892235,
          1.9272312346282527,
          0.0852751692605587,
          1.0108842990586993,
          2.0915950034042368,
          0.011771292461731891,
          0.9366613518393334,
          1.943707164944654,
          -0.06499527585687281,
          0.965773122772636,
          2.0076948138704975,
          -0.09243780670756681,
          0.9586262812703201,
          1.92530054203437,
          0.04123805341462555,
          0.9994799106703327,
          1.9135995171537674,
          0.006793078802831337,
          0.9284880083431872,
          2.07361837103434,
          -0.07303857664354028,
          0.9025503014851124,
          1.9226526088593452,
          0.08704960090648034,
          0.9778693855662545,
          2.046822991365797,
          -0.03512381240251064,
          0.9350365980196349,
          1.9479418625654545,
          0.07506484229826035,
          0.908043879294108,
          1.990540410792413,
          -0.006768545592228684,
          1.0082005000302883,
          2.0115345107512455,
          0.08872884346996948,
          0.925215287539171,
          1.9715159328766794,
          0.09855727230365369,
          0.9346470517820633,
          2.01007853854954,
          -0.06299247770152833,
          1.0381487948193406,
          2.027742902571042,
          -0.05477929111209683,
          1.0731500568914043,
          2.018646175623504,
          -0.015233257230305844,
          1.0254055839457838,
          1.9114826803691851,
          0.06124061733523786,
          1.0284091496791032,
          1.9755979630503793,
          0.09185417878019461,
          1.0304855118560252,
          2.0863100887585433,
          -0.0964919223044457,
          1.0074367621132754,
          1.9828969849699527,
          -0.06081965247327501,
          0.9092872179719813,
          1.9826182746708403,
          0.05530921753110493,
          0.9174169980587257,
          1.9714381096166231,
          0.02306319749977208,
          0.9311431280837686,
          1.997098739617504,
          -0.04180167411715399,
          0.9079836088123848,
          2.0606935130109085,
          -0.029490696199632835,
          0.9247289723914235,
          2.06775284199679,
          0.02055684000602656,
          1.0752066035489634,
          1.9828333223008043,
          0.06242216431198799,
          0.9618754928084132,
          1.9511928702761407
         ],
         "xaxis": "x",
         "y": [
          5.39,
          23.15,
          47.99,
          4.94,
          27.18,
          48.69,
          6.87,
          34.35,
          47.96,
          7.43,
          29.79,
          45.07,
          5.66,
          28.97,
          42.4,
          7.21,
          24.05,
          45.52,
          5.58,
          20.93,
          44.35,
          5.58,
          24.8,
          39.95,
          5.26,
          22.96,
          37.58,
          4.91,
          28.62,
          39.45,
          7.1,
          27.03,
          41.43,
          6.68,
          22.94,
          42.88,
          7.05,
          28.69,
          41.33,
          5.17,
          30.3,
          38.43,
          6.52,
          31.81,
          34.15,
          5.61,
          29.89,
          31.3,
          7.13,
          26.54,
          32.09,
          7.83,
          25.29,
          28.92,
          5.94,
          31.01,
          34.6,
          7.58,
          24.68,
          34.57,
          6.93,
          21.63,
          36.8,
          9.13,
          29.9,
          34.97,
          8.78,
          35.23,
          33.65,
          9.23,
          29.93,
          35.69,
          null,
          null,
          null,
          6.67,
          27.2,
          36.05,
          8.43,
          27.39,
          37.82
         ],
         "yaxis": "y"
        },
        {
         "customdata": [
          [
           "1996-97"
          ],
          [
           "1996-97"
          ],
          [
           "1996-97"
          ],
          [
           "1997-98"
          ],
          [
           "1997-98"
          ],
          [
           "1997-98"
          ],
          [
           "1998-99"
          ],
          [
           "1998-99"
          ],
          [
           "1998-99"
          ],
          [
           "1999-00"
          ],
          [
           "1999-00"
          ],
          [
           "1999-00"
          ],
          [
           "2000-01"
          ],
          [
           "2000-01"
          ],
          [
           "2000-01"
          ],
          [
           "2001-02"
          ],
          [
           "2001-02"
          ],
          [
           "2001-02"
          ],
          [
           "2002-03"
          ],
          [
           "2002-03"
          ],
          [
           "2002-03"
          ],
          [
           "2003-04"
          ],
          [
           "2003-04"
          ],
          [
           "2003-04"
          ],
          [
           "2004-05"
          ],
          [
           "2004-05"
          ],
          [
           "2004-05"
          ],
          [
           "2005-06"
          ],
          [
           "2005-06"
          ],
          [
           "2005-06"
          ],
          [
           "2006-07"
          ],
          [
           "2006-07"
          ],
          [
           "2006-07"
          ],
          [
           "2007-08"
          ],
          [
           "2007-08"
          ],
          [
           "2007-08"
          ],
          [
           "2008-09"
          ],
          [
           "2008-09"
          ],
          [
           "2008-09"
          ],
          [
           "2009-10"
          ],
          [
           "2009-10"
          ],
          [
           "2009-10"
          ],
          [
           "2010-11"
          ],
          [
           "2010-11"
          ],
          [
           "2010-11"
          ],
          [
           "2011-12"
          ],
          [
           "2011-12"
          ],
          [
           "2011-12"
          ],
          [
           "2012-13"
          ],
          [
           "2012-13"
          ],
          [
           "2012-13"
          ],
          [
           "2013-14"
          ],
          [
           "2013-14"
          ],
          [
           "2013-14"
          ],
          [
           "2014-15"
          ],
          [
           "2014-15"
          ],
          [
           "2014-15"
          ],
          [
           "2015-16"
          ],
          [
           "2015-16"
          ],
          [
           "2015-16"
          ],
          [
           "2016-17"
          ],
          [
           "2016-17"
          ],
          [
           "2016-17"
          ],
          [
           "2017-18"
          ],
          [
           "2017-18"
          ],
          [
           "2017-18"
          ],
          [
           "2018-19"
          ],
          [
           "2018-19"
          ],
          [
           "2018-19"
          ],
          [
           "2019-20"
          ],
          [
           "2019-20"
          ],
          [
           "2019-20"
          ],
          [
           "2020-21"
          ],
          [
           "2020-21"
          ],
          [
           "2020-21"
          ],
          [
           "2021-22"
          ],
          [
           "2021-22"
          ],
          [
           "2021-22"
          ],
          [
           "2022-23"
          ],
          [
           "2022-23"
          ],
          [
           "2022-23"
          ]
         ],
         "hovertemplate": "Region=East Midlands<br>Economic Status=%{x}<br>Low Income Percentage (%)=%{y}<br>Year=%{customdata[0]}<extra></extra>",
         "legendgroup": "East Midlands",
         "marker": {
          "color": "#FF6692",
          "symbol": "circle"
         },
         "mode": "markers",
         "name": "East Midlands",
         "orientation": "v",
         "showlegend": true,
         "textposition": "top center",
         "type": "scatter",
         "x": [
          -0.09349366582714165,
          0.9507190414739904,
          2.0648891214109195,
          0.08921353131547244,
          1.0985458108114243,
          2.072839563520834,
          0.04680308182945453,
          0.937554376548849,
          2.095093485685469,
          -0.09920319807291074,
          0.9423925288739796,
          2.0450761369326043,
          -0.0897720003128007,
          1.083877943406387,
          2.0264781031328125,
          0.0821971009610187,
          0.9046435535887246,
          2.03567471283481,
          -0.00035705657798437707,
          1.0344073547776766,
          1.901169353520267,
          0.060333877935554586,
          1.0582050387318944,
          2.012599897557371,
          -0.029390945553175493,
          1.0695012925714644,
          2.017134756062173,
          0.09037663885686567,
          0.9986639568244753,
          1.9825020451571096,
          0.003979921321701996,
          1.01317828064352,
          2.048991911460432,
          -0.008251697155131937,
          0.9536319090730633,
          1.9301570869520126,
          -0.09863474106516093,
          1.0375536328426072,
          1.933907520228066,
          -0.01977746824839391,
          1.0207433824113534,
          2.0775968922835046,
          -0.029835573660940806,
          0.9968559306904483,
          2.038729901708534,
          0.04890512001936881,
          0.9960367913134012,
          2.0854034658245104,
          -0.032670154273147484,
          1.0250636086169513,
          1.9825381115716159,
          0.036068894213181546,
          1.0524150851589535,
          1.9082517471619032,
          0.08930677366649395,
          0.9255500979785516,
          1.9906283536161453,
          -0.0010121094026490363,
          0.9914554235593435,
          1.9583408656227572,
          -0.06972984375995726,
          1.019380392926824,
          1.991296707969459,
          -0.068424948332604,
          1.0280320838198251,
          1.9623669601343194,
          0.03509997914084001,
          0.9289412237382724,
          2.090644989333798,
          -0.02636972815836272,
          1.0129550646240346,
          2.096264615187649,
          -0.006808718516765788,
          1.0815416343761968,
          2.0120531050011796,
          -0.008816525790348279,
          1.04072729270812,
          1.9172500619251645,
          0.01899559833612985,
          1.0056382965184096,
          1.926587824073546
         ],
         "xaxis": "x",
         "y": [
          6.29,
          22.04,
          44.77,
          6.6,
          21.07,
          46.03,
          7.13,
          23.69,
          45.52,
          5.99,
          23.1,
          43.74,
          7.76,
          22.74,
          47.25,
          6.15,
          23.5,
          48.72,
          6.99,
          22.81,
          45.1,
          5.81,
          22.83,
          41.57,
          5.17,
          23.78,
          41.99,
          5.52,
          23.3,
          41.91,
          5.59,
          22.17,
          48.68,
          7,
          29.75,
          43.15,
          6.76,
          21.82,
          44.74,
          5.4,
          24.93,
          36.09,
          5.63,
          19.87,
          33.18,
          7.6,
          17.58,
          31.26,
          5.8,
          21.65,
          28.4,
          7.18,
          20.94,
          29.52,
          7.31,
          29.48,
          33.41,
          6.69,
          30.01,
          33.13,
          7.89,
          27.3,
          31.69,
          6.85,
          26.02,
          29.42,
          6.06,
          19.3,
          26.55,
          11.54,
          28.13,
          38.1,
          null,
          null,
          null,
          4.87,
          30.82,
          35.08,
          7.08,
          24.55,
          30.36
         ],
         "yaxis": "y"
        },
        {
         "customdata": [
          [
           "1996-97"
          ],
          [
           "1996-97"
          ],
          [
           "1996-97"
          ],
          [
           "1997-98"
          ],
          [
           "1997-98"
          ],
          [
           "1997-98"
          ],
          [
           "1998-99"
          ],
          [
           "1998-99"
          ],
          [
           "1998-99"
          ],
          [
           "1999-00"
          ],
          [
           "1999-00"
          ],
          [
           "1999-00"
          ],
          [
           "2000-01"
          ],
          [
           "2000-01"
          ],
          [
           "2000-01"
          ],
          [
           "2001-02"
          ],
          [
           "2001-02"
          ],
          [
           "2001-02"
          ],
          [
           "2002-03"
          ],
          [
           "2002-03"
          ],
          [
           "2002-03"
          ],
          [
           "2003-04"
          ],
          [
           "2003-04"
          ],
          [
           "2003-04"
          ],
          [
           "2004-05"
          ],
          [
           "2004-05"
          ],
          [
           "2004-05"
          ],
          [
           "2005-06"
          ],
          [
           "2005-06"
          ],
          [
           "2005-06"
          ],
          [
           "2006-07"
          ],
          [
           "2006-07"
          ],
          [
           "2006-07"
          ],
          [
           "2007-08"
          ],
          [
           "2007-08"
          ],
          [
           "2007-08"
          ],
          [
           "2008-09"
          ],
          [
           "2008-09"
          ],
          [
           "2008-09"
          ],
          [
           "2009-10"
          ],
          [
           "2009-10"
          ],
          [
           "2009-10"
          ],
          [
           "2010-11"
          ],
          [
           "2010-11"
          ],
          [
           "2010-11"
          ],
          [
           "2011-12"
          ],
          [
           "2011-12"
          ],
          [
           "2011-12"
          ],
          [
           "2012-13"
          ],
          [
           "2012-13"
          ],
          [
           "2012-13"
          ],
          [
           "2013-14"
          ],
          [
           "2013-14"
          ],
          [
           "2013-14"
          ],
          [
           "2014-15"
          ],
          [
           "2014-15"
          ],
          [
           "2014-15"
          ],
          [
           "2015-16"
          ],
          [
           "2015-16"
          ],
          [
           "2015-16"
          ],
          [
           "2016-17"
          ],
          [
           "2016-17"
          ],
          [
           "2016-17"
          ],
          [
           "2017-18"
          ],
          [
           "2017-18"
          ],
          [
           "2017-18"
          ],
          [
           "2018-19"
          ],
          [
           "2018-19"
          ],
          [
           "2018-19"
          ],
          [
           "2019-20"
          ],
          [
           "2019-20"
          ],
          [
           "2019-20"
          ],
          [
           "2020-21"
          ],
          [
           "2020-21"
          ],
          [
           "2020-21"
          ],
          [
           "2021-22"
          ],
          [
           "2021-22"
          ],
          [
           "2021-22"
          ],
          [
           "2022-23"
          ],
          [
           "2022-23"
          ],
          [
           "2022-23"
          ]
         ],
         "hovertemplate": "Region=West Midlands<br>Economic Status=%{x}<br>Low Income Percentage (%)=%{y}<br>Year=%{customdata[0]}<extra></extra>",
         "legendgroup": "West Midlands",
         "marker": {
          "color": "#B6E880",
          "symbol": "circle"
         },
         "mode": "markers",
         "name": "West Midlands",
         "orientation": "v",
         "showlegend": true,
         "textposition": "top center",
         "type": "scatter",
         "x": [
          0.06391339439122504,
          0.9286568689850849,
          1.9476325242853394,
          -0.026695841090696407,
          1.0636494942598607,
          1.9867697780991223,
          0.023396573929390874,
          0.9928407594382954,
          2.0199400668718908,
          -0.06728685434289246,
          1.0184542613575818,
          1.9400999724814594,
          -0.04410655883568724,
          1.0796580860906506,
          1.9029604787993797,
          -0.08553388082111082,
          0.9494054526149192,
          1.9169443088998215,
          -0.026888181475672554,
          0.9110146181325072,
          2.005444154094641,
          0.03221406376433997,
          1.0875889953087345,
          1.9427427484060398,
          -0.09078226538771428,
          1.031643268668122,
          2.086031294228336,
          -0.09462046837210035,
          1.0117905920437824,
          2.0542568269857924,
          -0.06873221442670348,
          1.0418701955337673,
          2.0030130540157733,
          -0.08606102685246858,
          1.0027362435537819,
          1.9133984815929574,
          -0.03853652380875825,
          1.0145809131103383,
          2.0221817718256037,
          0.029085913439990257,
          1.0261874913377482,
          1.9986572510445613,
          -0.09180910521152459,
          0.9025057117103887,
          1.9944027498906143,
          0.09765473748862405,
          0.9883550883376268,
          1.967072955182078,
          0.0806144895723303,
          0.9272254761744896,
          2.075293114431954,
          -0.02238883730133305,
          1.064168526563728,
          2.092911280430286,
          -0.04374833773904679,
          0.9762189090457722,
          1.9292037861917846,
          -0.09686897880971644,
          0.9706867614179434,
          1.9156179091825407,
          0.06156440172589184,
          0.9779433053706843,
          2.074517069065656,
          -0.098068815385685,
          0.9642836342537454,
          1.9651439431958153,
          -0.07823740063328471,
          1.0924200230481502,
          1.984189637091105,
          0.03145126681782748,
          1.0688120628870403,
          2.017988352309907,
          0.022909519312030377,
          1.0675902480791604,
          2.0253982080324255,
          -0.01097275991005664,
          1.0021291408663109,
          1.9852675438170975,
          0.07695011108864588,
          0.9847995708410939,
          1.9965884638554257
         ],
         "xaxis": "x",
         "y": [
          6.32,
          22.23,
          47.63,
          6.11,
          25.81,
          45.93,
          4.14,
          21.92,
          44.8,
          5.99,
          25.85,
          43.31,
          6.52,
          23.85,
          45.31,
          7.47,
          22.07,
          45.31,
          4.82,
          26.4,
          43.69,
          5.8,
          23.07,
          45.19,
          5.76,
          21.48,
          44.01,
          6.63,
          26.74,
          43.97,
          5.84,
          29.66,
          38.73,
          6.26,
          29.81,
          44.71,
          6.97,
          37.88,
          38.36,
          7.87,
          22.96,
          40.67,
          8.09,
          23.84,
          36.44,
          6.06,
          24.23,
          32.55,
          5.28,
          22.32,
          31.5,
          7.6,
          28.63,
          32.11,
          6.36,
          25.72,
          34.72,
          7.2,
          26.41,
          35.65,
          7,
          23.55,
          34.4,
          8.94,
          30.38,
          34.07,
          7.6,
          31.03,
          34.8,
          12.08,
          26.25,
          39.12,
          null,
          null,
          null,
          7.93,
          30.71,
          35.85,
          8.99,
          31.57,
          39.09
         ],
         "yaxis": "y"
        },
        {
         "customdata": [
          [
           "1996-97"
          ],
          [
           "1996-97"
          ],
          [
           "1996-97"
          ],
          [
           "1997-98"
          ],
          [
           "1997-98"
          ],
          [
           "1997-98"
          ],
          [
           "1998-99"
          ],
          [
           "1998-99"
          ],
          [
           "1998-99"
          ],
          [
           "1999-00"
          ],
          [
           "1999-00"
          ],
          [
           "1999-00"
          ],
          [
           "2000-01"
          ],
          [
           "2000-01"
          ],
          [
           "2000-01"
          ],
          [
           "2001-02"
          ],
          [
           "2001-02"
          ],
          [
           "2001-02"
          ],
          [
           "2002-03"
          ],
          [
           "2002-03"
          ],
          [
           "2002-03"
          ],
          [
           "2003-04"
          ],
          [
           "2003-04"
          ],
          [
           "2003-04"
          ],
          [
           "2004-05"
          ],
          [
           "2004-05"
          ],
          [
           "2004-05"
          ],
          [
           "2005-06"
          ],
          [
           "2005-06"
          ],
          [
           "2005-06"
          ],
          [
           "2006-07"
          ],
          [
           "2006-07"
          ],
          [
           "2006-07"
          ],
          [
           "2007-08"
          ],
          [
           "2007-08"
          ],
          [
           "2007-08"
          ],
          [
           "2008-09"
          ],
          [
           "2008-09"
          ],
          [
           "2008-09"
          ],
          [
           "2009-10"
          ],
          [
           "2009-10"
          ],
          [
           "2009-10"
          ],
          [
           "2010-11"
          ],
          [
           "2010-11"
          ],
          [
           "2010-11"
          ],
          [
           "2011-12"
          ],
          [
           "2011-12"
          ],
          [
           "2011-12"
          ],
          [
           "2012-13"
          ],
          [
           "2012-13"
          ],
          [
           "2012-13"
          ],
          [
           "2013-14"
          ],
          [
           "2013-14"
          ],
          [
           "2013-14"
          ],
          [
           "2014-15"
          ],
          [
           "2014-15"
          ],
          [
           "2014-15"
          ],
          [
           "2015-16"
          ],
          [
           "2015-16"
          ],
          [
           "2015-16"
          ],
          [
           "2016-17"
          ],
          [
           "2016-17"
          ],
          [
           "2016-17"
          ],
          [
           "2017-18"
          ],
          [
           "2017-18"
          ],
          [
           "2017-18"
          ],
          [
           "2018-19"
          ],
          [
           "2018-19"
          ],
          [
           "2018-19"
          ],
          [
           "2019-20"
          ],
          [
           "2019-20"
          ],
          [
           "2019-20"
          ],
          [
           "2020-21"
          ],
          [
           "2020-21"
          ],
          [
           "2020-21"
          ],
          [
           "2021-22"
          ],
          [
           "2021-22"
          ],
          [
           "2021-22"
          ],
          [
           "2022-23"
          ],
          [
           "2022-23"
          ],
          [
           "2022-23"
          ]
         ],
         "hovertemplate": "Region=East<br>Economic Status=%{x}<br>Low Income Percentage (%)=%{y}<br>Year=%{customdata[0]}<extra></extra>",
         "legendgroup": "East",
         "marker": {
          "color": "#FF97FF",
          "symbol": "circle"
         },
         "mode": "markers",
         "name": "East",
         "orientation": "v",
         "showlegend": true,
         "textposition": "top center",
         "type": "scatter",
         "x": [
          0.05871361443193529,
          0.9015381460983269,
          1.9902066934373193,
          0.03936136750697411,
          1.0656283731722451,
          1.98917928443919,
          -0.037250917332866784,
          1.0173784186931265,
          2.0598662800112404,
          0.024434351411039404,
          1.0731753181516033,
          2.0380252248416877,
          0.09052796538742511,
          1.0426865855153946,
          1.9544715540084534,
          -0.08176926168870371,
          0.9881289855280192,
          1.9866361231213367,
          0.009442554056264957,
          0.9226648606163708,
          1.9489824727793335,
          -0.027789716981689194,
          0.9725078401371771,
          2.075325760067499,
          0.08760840542983533,
          1.0927883257482673,
          1.9294926357072426,
          -0.006882253274881345,
          1.0658429325172138,
          2.092519850969179,
          -0.03175112468284898,
          1.0175383874519313,
          1.9784630456456016,
          -0.07430488676738622,
          1.0193273773466325,
          1.9034612813567844,
          0.08825910575839208,
          0.9432098364605305,
          1.9029026189505984,
          0.09506897851370089,
          0.9065475635964492,
          2.0335039286708794,
          0.07982781035891015,
          0.9511457096026592,
          1.9136209587660613,
          -0.09620613850295656,
          0.9475066241273148,
          1.972524092473493,
          0.0708636652097537,
          1.000987776327041,
          1.9914174617920628,
          0.0009814494150668096,
          0.966348754530524,
          1.9909809313496174,
          0.01640780345011565,
          0.9006845479105173,
          2.069139038471956,
          0.09261712894401508,
          1.0858183462810678,
          2.048811399226402,
          0.014174101715151294,
          1.0115385274643784,
          2.0714116058816243,
          0.04140337765515567,
          1.08330400838192,
          1.9750376977231132,
          -0.07179358695145575,
          0.9902217994872339,
          2.0951675629710014,
          -0.04217739546239041,
          0.9933334588001056,
          1.983408446566391,
          -0.059426939523643176,
          0.976320806459822,
          2.0835216149314206,
          -0.09190298956054772,
          1.0165495161668434,
          1.9326195537222355,
          0.027220802362744878,
          1.0620245123942151,
          2.0372968322046705
         ],
         "xaxis": "x",
         "y": [
          4.8,
          20.17,
          38.14,
          6.79,
          16.16,
          36.75,
          4.73,
          16.05,
          39.05,
          5.94,
          14.92,
          37.64,
          4.1,
          12.71,
          37.96,
          4.42,
          14.53,
          36.48,
          4.96,
          15.57,
          33.93,
          5.86,
          17.68,
          34.73,
          6.07,
          15.73,
          30.32,
          5.39,
          15.59,
          29.18,
          4.92,
          16.13,
          34.64,
          5.58,
          18.28,
          30.93,
          5.79,
          23.14,
          35.09,
          7.15,
          18.35,
          30.13,
          5.85,
          13.21,
          28.5,
          5.99,
          16.76,
          27.91,
          6.38,
          9.98,
          25.31,
          5.71,
          20.63,
          26.07,
          5.09,
          20.01,
          25.25,
          5.31,
          19.46,
          31.82,
          6.83,
          19.94,
          28.78,
          8.33,
          19.02,
          27.52,
          5.66,
          19.62,
          26.12,
          7.99,
          17.58,
          31.63,
          null,
          null,
          null,
          5.18,
          20.57,
          29.14,
          5.87,
          19.79,
          28.81
         ],
         "yaxis": "y"
        },
        {
         "customdata": [
          [
           "1996-97"
          ],
          [
           "1996-97"
          ],
          [
           "1996-97"
          ],
          [
           "1997-98"
          ],
          [
           "1997-98"
          ],
          [
           "1997-98"
          ],
          [
           "1998-99"
          ],
          [
           "1998-99"
          ],
          [
           "1998-99"
          ],
          [
           "1999-00"
          ],
          [
           "1999-00"
          ],
          [
           "1999-00"
          ],
          [
           "2000-01"
          ],
          [
           "2000-01"
          ],
          [
           "2000-01"
          ],
          [
           "2001-02"
          ],
          [
           "2001-02"
          ],
          [
           "2001-02"
          ],
          [
           "2002-03"
          ],
          [
           "2002-03"
          ],
          [
           "2002-03"
          ],
          [
           "2003-04"
          ],
          [
           "2003-04"
          ],
          [
           "2003-04"
          ],
          [
           "2004-05"
          ],
          [
           "2004-05"
          ],
          [
           "2004-05"
          ],
          [
           "2005-06"
          ],
          [
           "2005-06"
          ],
          [
           "2005-06"
          ],
          [
           "2006-07"
          ],
          [
           "2006-07"
          ],
          [
           "2006-07"
          ],
          [
           "2007-08"
          ],
          [
           "2007-08"
          ],
          [
           "2007-08"
          ],
          [
           "2008-09"
          ],
          [
           "2008-09"
          ],
          [
           "2008-09"
          ],
          [
           "2009-10"
          ],
          [
           "2009-10"
          ],
          [
           "2009-10"
          ],
          [
           "2010-11"
          ],
          [
           "2010-11"
          ],
          [
           "2010-11"
          ],
          [
           "2011-12"
          ],
          [
           "2011-12"
          ],
          [
           "2011-12"
          ],
          [
           "2012-13"
          ],
          [
           "2012-13"
          ],
          [
           "2012-13"
          ],
          [
           "2013-14"
          ],
          [
           "2013-14"
          ],
          [
           "2013-14"
          ],
          [
           "2014-15"
          ],
          [
           "2014-15"
          ],
          [
           "2014-15"
          ],
          [
           "2015-16"
          ],
          [
           "2015-16"
          ],
          [
           "2015-16"
          ],
          [
           "2016-17"
          ],
          [
           "2016-17"
          ],
          [
           "2016-17"
          ],
          [
           "2017-18"
          ],
          [
           "2017-18"
          ],
          [
           "2017-18"
          ],
          [
           "2018-19"
          ],
          [
           "2018-19"
          ],
          [
           "2018-19"
          ],
          [
           "2019-20"
          ],
          [
           "2019-20"
          ],
          [
           "2019-20"
          ],
          [
           "2020-21"
          ],
          [
           "2020-21"
          ],
          [
           "2020-21"
          ],
          [
           "2021-22"
          ],
          [
           "2021-22"
          ],
          [
           "2021-22"
          ],
          [
           "2022-23"
          ],
          [
           "2022-23"
          ],
          [
           "2022-23"
          ]
         ],
         "hovertemplate": "Region=London<br>Economic Status=%{x}<br>Low Income Percentage (%)=%{y}<br>Year=%{customdata[0]}<extra></extra>",
         "legendgroup": "London",
         "marker": {
          "color": "#FECB52",
          "symbol": "circle"
         },
         "mode": "markers",
         "name": "London",
         "orientation": "v",
         "showlegend": true,
         "textposition": "top center",
         "type": "scatter",
         "x": [
          0.0989013203712345,
          1.0802354330750459,
          1.9690128230938182,
          -0.03369041976830282,
          0.9550975755881277,
          1.9019047565439975,
          0.01226562287979871,
          0.9369470177994572,
          2.098771028559718,
          0.04882014237787394,
          1.0686073507458511,
          2.0621936848413247,
          -0.09273685913859911,
          1.0119468704771888,
          2.020840089927999,
          0.08373562695190645,
          1.0086119175299162,
          1.9801178534774104,
          -0.0633051019650058,
          1.053797659267795,
          1.9018021539782177,
          -0.04843216291688573,
          0.9468986192941219,
          2.041364526183643,
          -0.024838937761471544,
          0.9896547773273104,
          1.9817187941766783,
          -0.06426424916959224,
          0.9211096009615094,
          1.9047981726346115,
          -0.07727765364160472,
          0.9299522958004971,
          2.010670395621104,
          -0.08833083895535486,
          1.0867903135376538,
          1.969401284862456,
          -0.06264486744784356,
          1.0451169126140918,
          2.0219500169451896,
          -0.012267782621667472,
          0.9833436929796802,
          1.9053578145995822,
          0.010637557983031606,
          1.0341984890343152,
          2.05610468821475,
          0.08835969952789446,
          1.0231142080814384,
          2.0204122058711302,
          0.005478197434073073,
          1.0516776172044413,
          1.9076945034507982,
          0.037520364048397925,
          1.0438499355814677,
          2.025992345048322,
          -0.08623463556906688,
          1.0906279191942463,
          1.910957090665191,
          0.09041630123940195,
          0.902749185674546,
          1.9136060244233377,
          -0.084424887462328,
          0.951796963779982,
          2.0810156375793354,
          0.0397283439063478,
          0.9128570348346353,
          1.9731593214194463,
          -0.07108270377815516,
          1.0400990460509134,
          2.0776384621701363,
          -0.022697772512477107,
          0.9839460877620589,
          1.9545188348047942,
          -0.0894346423704787,
          0.9397317248235407,
          2.0436097366819417,
          0.07092028630239297,
          0.9698851674079824,
          1.9726427027313345,
          0.06967690891886066,
          0.9254528014289175,
          2.0637454728354765
         ],
         "xaxis": "x",
         "y": [
          4.44,
          17.7,
          41.72,
          6.28,
          18.93,
          42.43,
          4.72,
          16.28,
          39.97,
          5.93,
          17.26,
          41.76,
          4.57,
          20.26,
          42.15,
          4.49,
          18.02,
          42.67,
          4.8,
          19.17,
          44.31,
          6.06,
          21.42,
          41.48,
          6.7,
          22.8,
          37.66,
          4.64,
          18.6,
          40.39,
          4.95,
          18.92,
          43.37,
          5.7,
          21.56,
          37.11,
          5.69,
          26.5,
          34.88,
          5.26,
          18.56,
          33.83,
          6.15,
          14.07,
          36.39,
          5.3,
          21.93,
          29.9,
          5.61,
          20.04,
          31.62,
          4.66,
          15.71,
          30.61,
          5.94,
          17.67,
          28.15,
          5.73,
          19.04,
          31.67,
          5.96,
          21.96,
          30.61,
          8.08,
          19.14,
          42.24,
          7.04,
          19.97,
          36.93,
          6.3,
          19.27,
          40.38,
          null,
          null,
          null,
          6.53,
          11.68,
          30.62,
          5.92,
          17.45,
          41.51
         ],
         "yaxis": "y"
        },
        {
         "customdata": [
          [
           "1996-97"
          ],
          [
           "1996-97"
          ],
          [
           "1996-97"
          ],
          [
           "1997-98"
          ],
          [
           "1997-98"
          ],
          [
           "1997-98"
          ],
          [
           "1998-99"
          ],
          [
           "1998-99"
          ],
          [
           "1998-99"
          ],
          [
           "1999-00"
          ],
          [
           "1999-00"
          ],
          [
           "1999-00"
          ],
          [
           "2000-01"
          ],
          [
           "2000-01"
          ],
          [
           "2000-01"
          ],
          [
           "2001-02"
          ],
          [
           "2001-02"
          ],
          [
           "2001-02"
          ],
          [
           "2002-03"
          ],
          [
           "2002-03"
          ],
          [
           "2002-03"
          ],
          [
           "2003-04"
          ],
          [
           "2003-04"
          ],
          [
           "2003-04"
          ],
          [
           "2004-05"
          ],
          [
           "2004-05"
          ],
          [
           "2004-05"
          ],
          [
           "2005-06"
          ],
          [
           "2005-06"
          ],
          [
           "2005-06"
          ],
          [
           "2006-07"
          ],
          [
           "2006-07"
          ],
          [
           "2006-07"
          ],
          [
           "2007-08"
          ],
          [
           "2007-08"
          ],
          [
           "2007-08"
          ],
          [
           "2008-09"
          ],
          [
           "2008-09"
          ],
          [
           "2008-09"
          ],
          [
           "2009-10"
          ],
          [
           "2009-10"
          ],
          [
           "2009-10"
          ],
          [
           "2010-11"
          ],
          [
           "2010-11"
          ],
          [
           "2010-11"
          ],
          [
           "2011-12"
          ],
          [
           "2011-12"
          ],
          [
           "2011-12"
          ],
          [
           "2012-13"
          ],
          [
           "2012-13"
          ],
          [
           "2012-13"
          ],
          [
           "2013-14"
          ],
          [
           "2013-14"
          ],
          [
           "2013-14"
          ],
          [
           "2014-15"
          ],
          [
           "2014-15"
          ],
          [
           "2014-15"
          ],
          [
           "2015-16"
          ],
          [
           "2015-16"
          ],
          [
           "2015-16"
          ],
          [
           "2016-17"
          ],
          [
           "2016-17"
          ],
          [
           "2016-17"
          ],
          [
           "2017-18"
          ],
          [
           "2017-18"
          ],
          [
           "2017-18"
          ],
          [
           "2018-19"
          ],
          [
           "2018-19"
          ],
          [
           "2018-19"
          ],
          [
           "2019-20"
          ],
          [
           "2019-20"
          ],
          [
           "2019-20"
          ],
          [
           "2020-21"
          ],
          [
           "2020-21"
          ],
          [
           "2020-21"
          ],
          [
           "2021-22"
          ],
          [
           "2021-22"
          ],
          [
           "2021-22"
          ],
          [
           "2022-23"
          ],
          [
           "2022-23"
          ],
          [
           "2022-23"
          ]
         ],
         "hovertemplate": "Region=South East<br>Economic Status=%{x}<br>Low Income Percentage (%)=%{y}<br>Year=%{customdata[0]}<extra></extra>",
         "legendgroup": "South East",
         "marker": {
          "color": "#636efa",
          "symbol": "circle"
         },
         "mode": "markers",
         "name": "South East",
         "orientation": "v",
         "showlegend": true,
         "textposition": "top center",
         "type": "scatter",
         "x": [
          -0.027230662659674,
          1.0048381637092805,
          1.9984360660844953,
          -0.06401614772752079,
          0.9273963373112432,
          1.9869509368408025,
          -0.04584347707254979,
          0.9283297661705141,
          2.014036325751442,
          -0.07379771967726506,
          0.9093333392516072,
          2.076106429593424,
          -0.0957287647915261,
          0.9672801613492336,
          2.0254045857623657,
          0.048017443968076806,
          0.9106344372313564,
          1.9637807346153588,
          0.004692505410883174,
          1.0049464382331075,
          2.044212899252965,
          0.09998171081087118,
          0.9318710745695307,
          1.9596105032989983,
          -0.04829361048621435,
          1.008979759608988,
          2.049309330016342,
          -0.07907039076925132,
          1.094345452998828,
          2.0631569542626345,
          -0.021123626897391473,
          1.087173372574836,
          2.0059399643859437,
          -0.003315527449880104,
          0.9923205500854504,
          1.943598504924418,
          -0.002826421501677376,
          0.9806813563508694,
          2.0424110702179337,
          -0.014564133697175422,
          1.086657277785017,
          2.017310369875438,
          -0.022784010470712462,
          1.0231541788047815,
          1.9073955873696766,
          -0.012253308042749073,
          1.0762617414505242,
          1.947498191064938,
          0.006410142610560415,
          1.0027737321262657,
          1.9880417131335306,
          0.02512868542842911,
          0.9402629350902821,
          1.9395803229243005,
          -0.0645933235032927,
          1.0178212678833074,
          2.025275072040232,
          0.07155916421673345,
          1.0112117902361164,
          1.9722655633644135,
          0.09846951913018037,
          1.0155658326083616,
          1.985805053836573,
          -0.07777151816170014,
          0.9342855807106505,
          1.9310351985711787,
          -0.005883927971510494,
          0.9075704379403807,
          1.992082497660232,
          0.037868852119105206,
          1.0546158154639318,
          1.9871630963409896,
          -0.08285480179145577,
          1.0976887080354567,
          2.066079657292969,
          -0.08154395873800345,
          0.901627995861829,
          1.9924510789970835,
          0.07134230789382628,
          0.9948231177701113,
          2.080661777337537
         ],
         "xaxis": "x",
         "y": [
          4.93,
          13.85,
          32.71,
          5.33,
          13.18,
          32.96,
          5.01,
          14.11,
          34.13,
          5.07,
          15.74,
          34.57,
          4.35,
          11.32,
          31.75,
          4.96,
          12.87,
          35,
          3.79,
          12.64,
          33.98,
          4.38,
          10.71,
          30.1,
          5.65,
          12.21,
          29.33,
          5.1,
          19.33,
          29.16,
          4.11,
          20.09,
          31.46,
          5,
          14.86,
          31.48,
          4.7,
          15.61,
          26.94,
          3.65,
          15,
          29.47,
          4.24,
          13.16,
          24.07,
          6.13,
          16.19,
          27.16,
          5.01,
          14.22,
          24.39,
          5.75,
          13.83,
          21.8,
          5.3,
          16.6,
          20.59,
          4.97,
          17.64,
          25.11,
          7.05,
          15.54,
          26.29,
          6.43,
          12.95,
          30.11,
          6.98,
          20.57,
          24.6,
          7.24,
          19.57,
          26.49,
          null,
          null,
          null,
          5.77,
          18.97,
          26.93,
          5.06,
          16.93,
          26.72
         ],
         "yaxis": "y"
        },
        {
         "customdata": [
          [
           "1996-97"
          ],
          [
           "1996-97"
          ],
          [
           "1996-97"
          ],
          [
           "1997-98"
          ],
          [
           "1997-98"
          ],
          [
           "1997-98"
          ],
          [
           "1998-99"
          ],
          [
           "1998-99"
          ],
          [
           "1998-99"
          ],
          [
           "1999-00"
          ],
          [
           "1999-00"
          ],
          [
           "1999-00"
          ],
          [
           "2000-01"
          ],
          [
           "2000-01"
          ],
          [
           "2000-01"
          ],
          [
           "2001-02"
          ],
          [
           "2001-02"
          ],
          [
           "2001-02"
          ],
          [
           "2002-03"
          ],
          [
           "2002-03"
          ],
          [
           "2002-03"
          ],
          [
           "2003-04"
          ],
          [
           "2003-04"
          ],
          [
           "2003-04"
          ],
          [
           "2004-05"
          ],
          [
           "2004-05"
          ],
          [
           "2004-05"
          ],
          [
           "2005-06"
          ],
          [
           "2005-06"
          ],
          [
           "2005-06"
          ],
          [
           "2006-07"
          ],
          [
           "2006-07"
          ],
          [
           "2006-07"
          ],
          [
           "2007-08"
          ],
          [
           "2007-08"
          ],
          [
           "2007-08"
          ],
          [
           "2008-09"
          ],
          [
           "2008-09"
          ],
          [
           "2008-09"
          ],
          [
           "2009-10"
          ],
          [
           "2009-10"
          ],
          [
           "2009-10"
          ],
          [
           "2010-11"
          ],
          [
           "2010-11"
          ],
          [
           "2010-11"
          ],
          [
           "2011-12"
          ],
          [
           "2011-12"
          ],
          [
           "2011-12"
          ],
          [
           "2012-13"
          ],
          [
           "2012-13"
          ],
          [
           "2012-13"
          ],
          [
           "2013-14"
          ],
          [
           "2013-14"
          ],
          [
           "2013-14"
          ],
          [
           "2014-15"
          ],
          [
           "2014-15"
          ],
          [
           "2014-15"
          ],
          [
           "2015-16"
          ],
          [
           "2015-16"
          ],
          [
           "2015-16"
          ],
          [
           "2016-17"
          ],
          [
           "2016-17"
          ],
          [
           "2016-17"
          ],
          [
           "2017-18"
          ],
          [
           "2017-18"
          ],
          [
           "2017-18"
          ],
          [
           "2018-19"
          ],
          [
           "2018-19"
          ],
          [
           "2018-19"
          ],
          [
           "2019-20"
          ],
          [
           "2019-20"
          ],
          [
           "2019-20"
          ],
          [
           "2020-21"
          ],
          [
           "2020-21"
          ],
          [
           "2020-21"
          ],
          [
           "2021-22"
          ],
          [
           "2021-22"
          ],
          [
           "2021-22"
          ],
          [
           "2022-23"
          ],
          [
           "2022-23"
          ],
          [
           "2022-23"
          ]
         ],
         "hovertemplate": "Region=South West<br>Economic Status=%{x}<br>Low Income Percentage (%)=%{y}<br>Year=%{customdata[0]}<extra></extra>",
         "legendgroup": "South West",
         "marker": {
          "color": "#EF553B",
          "symbol": "circle"
         },
         "mode": "markers",
         "name": "South West",
         "orientation": "v",
         "showlegend": true,
         "textposition": "top center",
         "type": "scatter",
         "x": [
          -0.04020858391710794,
          1.003031833807168,
          2.0677194254261444,
          0.033765398671810554,
          1.0107433042747165,
          2.0229542731298666,
          0.07158393640109206,
          1.0888291958176914,
          1.9482210441453185,
          -0.015034186084890155,
          1.0450911961379021,
          2.0494171953533256,
          -0.009497517786784981,
          1.0039191378604342,
          2.007642330417392,
          -0.012374700560794899,
          1.0977849035724783,
          1.987088102515185,
          0.08895062291819764,
          1.0100626176655347,
          1.929001423068703,
          -0.024952421139891046,
          0.9043592063162047,
          1.9214688129345114,
          -0.004414856213020957,
          1.0761596216582419,
          2.0823195388866265,
          0.006492837388145961,
          1.0493756458230126,
          2.05485588386469,
          -0.026241044997481255,
          1.0837954913230468,
          2.0009237418762984,
          0.00597448979681274,
          0.9832625261642269,
          1.9505922777921092,
          -0.09600415309149797,
          1.0094776199564268,
          2.0070280699953584,
          -0.010534283831874422,
          1.0576382247562344,
          1.9683854129340388,
          -0.028894797915525544,
          0.9646097819315542,
          1.9109550493082932,
          -0.06357940971659967,
          1.0559485529363812,
          1.964943639517823,
          0.04433675539095089,
          0.9788254025583735,
          1.929617764958633,
          0.03256624929694771,
          1.0194136989663123,
          2.0347168935493727,
          -0.051212328760408314,
          1.0989698565369124,
          1.9919754132574632,
          -0.06689472812650044,
          0.963188636626201,
          2.0238721189241486,
          0.03719829210179362,
          1.0053132259518618,
          1.9693220517174963,
          -0.053740809912650934,
          0.915098424034335,
          1.9558082115641109,
          -0.05577009686650152,
          1.0643821614274556,
          2.0731308321243227,
          0.026894412424197045,
          0.9438133970898628,
          1.9164099899381801,
          -0.06537337169720964,
          0.9462658480004281,
          1.9896135245741418,
          0.09747643139061701,
          0.9886274573504394,
          2.0335018592926186,
          0.012152394589669074,
          0.910522590531048,
          2.0955947186006694
         ],
         "xaxis": "x",
         "y": [
          6.98,
          20.12,
          35.89,
          9.03,
          19.19,
          41.36,
          7.5,
          23.76,
          38.73,
          7.33,
          20.47,
          39.2,
          7.25,
          24.05,
          34.7,
          7.01,
          21.62,
          36.47,
          6.87,
          17.09,
          35.24,
          5.64,
          19.38,
          33.21,
          6.22,
          16.74,
          27.6,
          6.53,
          16.17,
          31.03,
          5.12,
          19.66,
          35.01,
          6.29,
          21.47,
          31.72,
          7.28,
          20.62,
          29.9,
          6.59,
          19.42,
          27.97,
          6.86,
          16.64,
          27.21,
          5.99,
          20.77,
          26.19,
          6.45,
          14.16,
          24.51,
          6.74,
          21.18,
          25.53,
          7.54,
          18.18,
          26.55,
          7.49,
          16.57,
          24.5,
          6.11,
          16.61,
          20.63,
          8.74,
          19.5,
          26,
          7.41,
          18.93,
          25.47,
          7.05,
          23.34,
          24.46,
          null,
          null,
          null,
          7.14,
          26.48,
          25.44,
          6.9,
          17.97,
          26.95
         ],
         "yaxis": "y"
        }
       ],
       "layout": {
        "height": 600,
        "legend": {
         "title": {
          "text": "Region"
         },
         "tracegroupgap": 0
        },
        "showlegend": true,
        "template": {
         "data": {
          "bar": [
           {
            "error_x": {
             "color": "#2a3f5f"
            },
            "error_y": {
             "color": "#2a3f5f"
            },
            "marker": {
             "line": {
              "color": "#E5ECF6",
              "width": 0.5
             },
             "pattern": {
              "fillmode": "overlay",
              "size": 10,
              "solidity": 0.2
             }
            },
            "type": "bar"
           }
          ],
          "barpolar": [
           {
            "marker": {
             "line": {
              "color": "#E5ECF6",
              "width": 0.5
             },
             "pattern": {
              "fillmode": "overlay",
              "size": 10,
              "solidity": 0.2
             }
            },
            "type": "barpolar"
           }
          ],
          "carpet": [
           {
            "aaxis": {
             "endlinecolor": "#2a3f5f",
             "gridcolor": "white",
             "linecolor": "white",
             "minorgridcolor": "white",
             "startlinecolor": "#2a3f5f"
            },
            "baxis": {
             "endlinecolor": "#2a3f5f",
             "gridcolor": "white",
             "linecolor": "white",
             "minorgridcolor": "white",
             "startlinecolor": "#2a3f5f"
            },
            "type": "carpet"
           }
          ],
          "choropleth": [
           {
            "colorbar": {
             "outlinewidth": 0,
             "ticks": ""
            },
            "type": "choropleth"
           }
          ],
          "contour": [
           {
            "colorbar": {
             "outlinewidth": 0,
             "ticks": ""
            },
            "colorscale": [
             [
              0,
              "#0d0887"
             ],
             [
              0.1111111111111111,
              "#46039f"
             ],
             [
              0.2222222222222222,
              "#7201a8"
             ],
             [
              0.3333333333333333,
              "#9c179e"
             ],
             [
              0.4444444444444444,
              "#bd3786"
             ],
             [
              0.5555555555555556,
              "#d8576b"
             ],
             [
              0.6666666666666666,
              "#ed7953"
             ],
             [
              0.7777777777777778,
              "#fb9f3a"
             ],
             [
              0.8888888888888888,
              "#fdca26"
             ],
             [
              1,
              "#f0f921"
             ]
            ],
            "type": "contour"
           }
          ],
          "contourcarpet": [
           {
            "colorbar": {
             "outlinewidth": 0,
             "ticks": ""
            },
            "type": "contourcarpet"
           }
          ],
          "heatmap": [
           {
            "colorbar": {
             "outlinewidth": 0,
             "ticks": ""
            },
            "colorscale": [
             [
              0,
              "#0d0887"
             ],
             [
              0.1111111111111111,
              "#46039f"
             ],
             [
              0.2222222222222222,
              "#7201a8"
             ],
             [
              0.3333333333333333,
              "#9c179e"
             ],
             [
              0.4444444444444444,
              "#bd3786"
             ],
             [
              0.5555555555555556,
              "#d8576b"
             ],
             [
              0.6666666666666666,
              "#ed7953"
             ],
             [
              0.7777777777777778,
              "#fb9f3a"
             ],
             [
              0.8888888888888888,
              "#fdca26"
             ],
             [
              1,
              "#f0f921"
             ]
            ],
            "type": "heatmap"
           }
          ],
          "heatmapgl": [
           {
            "colorbar": {
             "outlinewidth": 0,
             "ticks": ""
            },
            "colorscale": [
             [
              0,
              "#0d0887"
             ],
             [
              0.1111111111111111,
              "#46039f"
             ],
             [
              0.2222222222222222,
              "#7201a8"
             ],
             [
              0.3333333333333333,
              "#9c179e"
             ],
             [
              0.4444444444444444,
              "#bd3786"
             ],
             [
              0.5555555555555556,
              "#d8576b"
             ],
             [
              0.6666666666666666,
              "#ed7953"
             ],
             [
              0.7777777777777778,
              "#fb9f3a"
             ],
             [
              0.8888888888888888,
              "#fdca26"
             ],
             [
              1,
              "#f0f921"
             ]
            ],
            "type": "heatmapgl"
           }
          ],
          "histogram": [
           {
            "marker": {
             "pattern": {
              "fillmode": "overlay",
              "size": 10,
              "solidity": 0.2
             }
            },
            "type": "histogram"
           }
          ],
          "histogram2d": [
           {
            "colorbar": {
             "outlinewidth": 0,
             "ticks": ""
            },
            "colorscale": [
             [
              0,
              "#0d0887"
             ],
             [
              0.1111111111111111,
              "#46039f"
             ],
             [
              0.2222222222222222,
              "#7201a8"
             ],
             [
              0.3333333333333333,
              "#9c179e"
             ],
             [
              0.4444444444444444,
              "#bd3786"
             ],
             [
              0.5555555555555556,
              "#d8576b"
             ],
             [
              0.6666666666666666,
              "#ed7953"
             ],
             [
              0.7777777777777778,
              "#fb9f3a"
             ],
             [
              0.8888888888888888,
              "#fdca26"
             ],
             [
              1,
              "#f0f921"
             ]
            ],
            "type": "histogram2d"
           }
          ],
          "histogram2dcontour": [
           {
            "colorbar": {
             "outlinewidth": 0,
             "ticks": ""
            },
            "colorscale": [
             [
              0,
              "#0d0887"
             ],
             [
              0.1111111111111111,
              "#46039f"
             ],
             [
              0.2222222222222222,
              "#7201a8"
             ],
             [
              0.3333333333333333,
              "#9c179e"
             ],
             [
              0.4444444444444444,
              "#bd3786"
             ],
             [
              0.5555555555555556,
              "#d8576b"
             ],
             [
              0.6666666666666666,
              "#ed7953"
             ],
             [
              0.7777777777777778,
              "#fb9f3a"
             ],
             [
              0.8888888888888888,
              "#fdca26"
             ],
             [
              1,
              "#f0f921"
             ]
            ],
            "type": "histogram2dcontour"
           }
          ],
          "mesh3d": [
           {
            "colorbar": {
             "outlinewidth": 0,
             "ticks": ""
            },
            "type": "mesh3d"
           }
          ],
          "parcoords": [
           {
            "line": {
             "colorbar": {
              "outlinewidth": 0,
              "ticks": ""
             }
            },
            "type": "parcoords"
           }
          ],
          "pie": [
           {
            "automargin": true,
            "type": "pie"
           }
          ],
          "scatter": [
           {
            "fillpattern": {
             "fillmode": "overlay",
             "size": 10,
             "solidity": 0.2
            },
            "type": "scatter"
           }
          ],
          "scatter3d": [
           {
            "line": {
             "colorbar": {
              "outlinewidth": 0,
              "ticks": ""
             }
            },
            "marker": {
             "colorbar": {
              "outlinewidth": 0,
              "ticks": ""
             }
            },
            "type": "scatter3d"
           }
          ],
          "scattercarpet": [
           {
            "marker": {
             "colorbar": {
              "outlinewidth": 0,
              "ticks": ""
             }
            },
            "type": "scattercarpet"
           }
          ],
          "scattergeo": [
           {
            "marker": {
             "colorbar": {
              "outlinewidth": 0,
              "ticks": ""
             }
            },
            "type": "scattergeo"
           }
          ],
          "scattergl": [
           {
            "marker": {
             "colorbar": {
              "outlinewidth": 0,
              "ticks": ""
             }
            },
            "type": "scattergl"
           }
          ],
          "scattermapbox": [
           {
            "marker": {
             "colorbar": {
              "outlinewidth": 0,
              "ticks": ""
             }
            },
            "type": "scattermapbox"
           }
          ],
          "scatterpolar": [
           {
            "marker": {
             "colorbar": {
              "outlinewidth": 0,
              "ticks": ""
             }
            },
            "type": "scatterpolar"
           }
          ],
          "scatterpolargl": [
           {
            "marker": {
             "colorbar": {
              "outlinewidth": 0,
              "ticks": ""
             }
            },
            "type": "scatterpolargl"
           }
          ],
          "scatterternary": [
           {
            "marker": {
             "colorbar": {
              "outlinewidth": 0,
              "ticks": ""
             }
            },
            "type": "scatterternary"
           }
          ],
          "surface": [
           {
            "colorbar": {
             "outlinewidth": 0,
             "ticks": ""
            },
            "colorscale": [
             [
              0,
              "#0d0887"
             ],
             [
              0.1111111111111111,
              "#46039f"
             ],
             [
              0.2222222222222222,
              "#7201a8"
             ],
             [
              0.3333333333333333,
              "#9c179e"
             ],
             [
              0.4444444444444444,
              "#bd3786"
             ],
             [
              0.5555555555555556,
              "#d8576b"
             ],
             [
              0.6666666666666666,
              "#ed7953"
             ],
             [
              0.7777777777777778,
              "#fb9f3a"
             ],
             [
              0.8888888888888888,
              "#fdca26"
             ],
             [
              1,
              "#f0f921"
             ]
            ],
            "type": "surface"
           }
          ],
          "table": [
           {
            "cells": {
             "fill": {
              "color": "#EBF0F8"
             },
             "line": {
              "color": "white"
             }
            },
            "header": {
             "fill": {
              "color": "#C8D4E3"
             },
             "line": {
              "color": "white"
             }
            },
            "type": "table"
           }
          ]
         },
         "layout": {
          "annotationdefaults": {
           "arrowcolor": "#2a3f5f",
           "arrowhead": 0,
           "arrowwidth": 1
          },
          "autotypenumbers": "strict",
          "coloraxis": {
           "colorbar": {
            "outlinewidth": 0,
            "ticks": ""
           }
          },
          "colorscale": {
           "diverging": [
            [
             0,
             "#8e0152"
            ],
            [
             0.1,
             "#c51b7d"
            ],
            [
             0.2,
             "#de77ae"
            ],
            [
             0.3,
             "#f1b6da"
            ],
            [
             0.4,
             "#fde0ef"
            ],
            [
             0.5,
             "#f7f7f7"
            ],
            [
             0.6,
             "#e6f5d0"
            ],
            [
             0.7,
             "#b8e186"
            ],
            [
             0.8,
             "#7fbc41"
            ],
            [
             0.9,
             "#4d9221"
            ],
            [
             1,
             "#276419"
            ]
           ],
           "sequential": [
            [
             0,
             "#0d0887"
            ],
            [
             0.1111111111111111,
             "#46039f"
            ],
            [
             0.2222222222222222,
             "#7201a8"
            ],
            [
             0.3333333333333333,
             "#9c179e"
            ],
            [
             0.4444444444444444,
             "#bd3786"
            ],
            [
             0.5555555555555556,
             "#d8576b"
            ],
            [
             0.6666666666666666,
             "#ed7953"
            ],
            [
             0.7777777777777778,
             "#fb9f3a"
            ],
            [
             0.8888888888888888,
             "#fdca26"
            ],
            [
             1,
             "#f0f921"
            ]
           ],
           "sequentialminus": [
            [
             0,
             "#0d0887"
            ],
            [
             0.1111111111111111,
             "#46039f"
            ],
            [
             0.2222222222222222,
             "#7201a8"
            ],
            [
             0.3333333333333333,
             "#9c179e"
            ],
            [
             0.4444444444444444,
             "#bd3786"
            ],
            [
             0.5555555555555556,
             "#d8576b"
            ],
            [
             0.6666666666666666,
             "#ed7953"
            ],
            [
             0.7777777777777778,
             "#fb9f3a"
            ],
            [
             0.8888888888888888,
             "#fdca26"
            ],
            [
             1,
             "#f0f921"
            ]
           ]
          },
          "colorway": [
           "#636efa",
           "#EF553B",
           "#00cc96",
           "#ab63fa",
           "#FFA15A",
           "#19d3f3",
           "#FF6692",
           "#B6E880",
           "#FF97FF",
           "#FECB52"
          ],
          "font": {
           "color": "#2a3f5f"
          },
          "geo": {
           "bgcolor": "white",
           "lakecolor": "white",
           "landcolor": "#E5ECF6",
           "showlakes": true,
           "showland": true,
           "subunitcolor": "white"
          },
          "hoverlabel": {
           "align": "left"
          },
          "hovermode": "closest",
          "mapbox": {
           "style": "light"
          },
          "paper_bgcolor": "white",
          "plot_bgcolor": "#E5ECF6",
          "polar": {
           "angularaxis": {
            "gridcolor": "white",
            "linecolor": "white",
            "ticks": ""
           },
           "bgcolor": "#E5ECF6",
           "radialaxis": {
            "gridcolor": "white",
            "linecolor": "white",
            "ticks": ""
           }
          },
          "scene": {
           "xaxis": {
            "backgroundcolor": "#E5ECF6",
            "gridcolor": "white",
            "gridwidth": 2,
            "linecolor": "white",
            "showbackground": true,
            "ticks": "",
            "zerolinecolor": "white"
           },
           "yaxis": {
            "backgroundcolor": "#E5ECF6",
            "gridcolor": "white",
            "gridwidth": 2,
            "linecolor": "white",
            "showbackground": true,
            "ticks": "",
            "zerolinecolor": "white"
           },
           "zaxis": {
            "backgroundcolor": "#E5ECF6",
            "gridcolor": "white",
            "gridwidth": 2,
            "linecolor": "white",
            "showbackground": true,
            "ticks": "",
            "zerolinecolor": "white"
           }
          },
          "shapedefaults": {
           "line": {
            "color": "#2a3f5f"
           }
          },
          "ternary": {
           "aaxis": {
            "gridcolor": "white",
            "linecolor": "white",
            "ticks": ""
           },
           "baxis": {
            "gridcolor": "white",
            "linecolor": "white",
            "ticks": ""
           },
           "bgcolor": "#E5ECF6",
           "caxis": {
            "gridcolor": "white",
            "linecolor": "white",
            "ticks": ""
           }
          },
          "title": {
           "x": 0.05
          },
          "xaxis": {
           "automargin": true,
           "gridcolor": "white",
           "linecolor": "white",
           "ticks": "",
           "title": {
            "standoff": 15
           },
           "zerolinecolor": "white",
           "zerolinewidth": 2
          },
          "yaxis": {
           "automargin": true,
           "gridcolor": "white",
           "linecolor": "white",
           "ticks": "",
           "title": {
            "standoff": 15
           },
           "zerolinecolor": "white",
           "zerolinewidth": 2
          }
         }
        },
        "title": {
         "text": "Economic Status vs. HBAI Low income Percentage (1997-2023)"
        },
        "width": 800,
        "xaxis": {
         "anchor": "y",
         "domain": [
          0,
          1
         ],
         "ticktext": [
          "All adults in work",
          "At least one adult in work but not all",
          "Workless households"
         ],
         "tickvals": [
          0,
          1,
          2
         ],
         "title": {
          "text": "Economic Status"
         }
        },
        "yaxis": {
         "anchor": "x",
         "domain": [
          0,
          1
         ],
         "title": {
          "text": "HBAI Percentage (%)"
         }
        }
       }
      }
     },
     "metadata": {},
     "output_type": "display_data"
    }
   ],
   "source": [
    "region_plot=BHC.copy()\n",
    "\n",
    "status_map = {'All adults in work': 0, 'At least one adult in work but not all': 1, 'Workless households': 2}\n",
    "region_plot['x_jitter'] = region_plot['Economic Status'].map(status_map) + np.random.uniform(-0.1, 0.1, size=len(region_plot))\n",
    "\n",
    "# Scatter plot with Plotly Express\n",
    "fig = px.scatter(region_plot, x='x_jitter', y='Low income pct', color='Region', \n",
    "                 #text='Regions', \n",
    "                 hover_data=['Year'], title='Economic Status vs. HBAI Low income Percentage (1997-2023)',\n",
    "                 labels={'x_jitter': 'Economic Status', 'Low income pct': 'Low Income Percentage (%)'},)\n",
    "\n",
    "fig.update_xaxes(\n",
    "    tickvals=[0, 1, 2],\n",
    "    ticktext=['All adults in work', 'At least one adult in work but not all', 'Workless households']\n",
    ")\n",
    "\n",
    "# Update layout\n",
    "fig.update_traces(textposition='top center')\n",
    "fig.update_layout(xaxis_title='Economic Status', yaxis_title='HBAI Percentage (%)', \n",
    "                  showlegend=True, height=600, width=800)\n",
    "\n",
    "# Add trend lines for each region\n",
    "#for region in BHC['Region'].unique():\n",
    "#    region_data = BHC[BHC['Region'] == region]\n",
    "#    fig.add_scatter(\n",
    "#        x=region_data['Economic Status'],\n",
    "#        y=region_data['Low income pct'],\n",
    "#        mode='lines',\n",
    "#        name=f'Trend {region}',\n",
    "#        line=dict(dash='dash'),\n",
    "#        showlegend=True\n",
    "#    )\n",
    "\n",
    "\n",
    "# Show plot\n",
    "fig.show()"
   ]
  }
 ],
 "metadata": {
  "kernelspec": {
   "display_name": "venv",
   "language": "python",
   "name": "python3"
  },
  "language_info": {
   "codemirror_mode": {
    "name": "ipython",
    "version": 3
   },
   "file_extension": ".py",
   "mimetype": "text/x-python",
   "name": "python",
   "nbconvert_exporter": "python",
   "pygments_lexer": "ipython3",
   "version": "3.10.0"
  }
 },
 "nbformat": 4,
 "nbformat_minor": 2
}
