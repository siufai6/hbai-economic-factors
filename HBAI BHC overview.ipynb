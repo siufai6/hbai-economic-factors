{
 "cells": [
  {
   "cell_type": "markdown",
   "metadata": {},
   "source": [
    "### An overview of HBAI BHC (regional) data\n",
    "In this notebook we examine how HBAI low income groups changes in different regions in the UK in the years 1994-2023.\n",
    "\n",
    "HBAI (Households below average income ) -relative low income if their net household income is below a threshold set at 60% of median income.\n",
    "\n",
    "Income includes :\n",
    "- Earnings from Employment (Wages, Self-Employment Income, Pandemic Support Schemes)\n",
    "- Benefits and Tax Credits: Cash Benefits, Tax Credits\n",
    "- Pension Payments: State Pension payments for retirees.\n",
    "- Cost of Living Payments\n",
    "- Income from Savings and Investments\n",
    "- Rental Income: Income from renting out property, after expenses but before taxes.\n",
    "- Private Pensions and Annuities\n",
    "- Child Maintenance Payments: Regular payments received for child support.\n",
    "\n"
   ]
  },
  {
   "cell_type": "code",
   "execution_count": 15,
   "metadata": {},
   "outputs": [],
   "source": [
    "import pandas as pd\n",
    "\n",
    "import plotly.express as px\n",
    "import sys\n",
    "\n",
    "\n",
    "\n",
    "def read_csv(data_file):\n",
    "\n",
    "    # Read the CSV file, skipping the first row (header row) and unnecessary footer rows\n",
    "    df = pd.read_csv(data_file, skiprows=1, skipfooter=0, engine='python')\n",
    "\n",
    "    # Drop empty columns and rows\n",
    "    df = df.dropna(how='all', axis=1).dropna(how='all', axis=0)\n",
    "    #print(df)\n",
    "    # Extract the year column and clean it\n",
    "    df['Financial Year'] = df['Financial Year'].str.extract(r'(\\d{4}-\\d{2})')\n",
    "    df = df.dropna(subset=['Financial Year'])\n",
    "    #print(df.head(5))\n",
    "    # Set the year as the index\n",
    "    df.set_index('Financial Year', inplace=True)\n",
    "\n",
    "    # extract data columns.\n",
    "    total_col_index = df.columns.str.contains('Total').argmax()\n",
    "    not_low_income = df.iloc[:, :total_col_index].add_suffix('-not low income')\n",
    "\n",
    "    # clean up the duplcated 1. 2. column names\n",
    "    df.columns = df.columns.str.replace(r'\\.\\d+$', '', regex=True)\n",
    "    \n",
    "    low_income = df.iloc[:, total_col_index + 1: total_col_index *2+1 ].add_suffix('-low income')\n",
    "\n",
    "    total_columns = df.iloc[:, total_col_index *2 +2:].add_suffix('-total')\n",
    "\n",
    "    # Combine the two groups of columns\n",
    "    result = pd.concat([not_low_income, low_income, total_columns], axis=1)\n",
    "\n",
    "    # Save or display the resulting DataFrame\n",
    "    #print(result.head())  # Display the first few rows\n",
    "    result.to_csv(data_file+\"_processed.csv\")  # Save to a new CSV file\n",
    "    #print(df.head())\n",
    "    print(\"----\")    \n",
    "\n",
    "    # convert to numbers\n",
    "    result = result.apply(pd.to_numeric, errors='coerce')\n",
    "    #print(result.head(10))\n",
    "    return result, low_income.columns\n",
    "\n",
    "\n",
    "\n",
    "\n"
   ]
  },
  {
   "cell_type": "code",
   "execution_count": 16,
   "metadata": {},
   "outputs": [
    {
     "name": "stdout",
     "output_type": "stream",
     "text": [
      "----\n"
     ]
    }
   ],
   "source": [
    "\n",
    "BHC, regions=read_csv(\"./HBAI-BHC-Region.csv\")"
   ]
  },
  {
   "cell_type": "code",
   "execution_count": 17,
   "metadata": {},
   "outputs": [
    {
     "data": {
      "text/plain": [
       "['Northern Ireland (N92000002)',\n",
       " 'Scotland (S92000003)',\n",
       " 'Wales (W92000004)',\n",
       " 'North East (E12000001)',\n",
       " 'North West (E12000002)',\n",
       " 'Yorkshire and The Humber (E12000003)',\n",
       " 'East Midlands (E12000004)',\n",
       " 'West Midlands (E12000005)',\n",
       " 'East (E12000006)',\n",
       " 'London (E12000007)',\n",
       " 'South East (E12000008)',\n",
       " 'South West (E12000009)']"
      ]
     },
     "execution_count": 17,
     "metadata": {},
     "output_type": "execute_result"
    }
   ],
   "source": [
    "region_list=list(regions.str.replace('-low income',''))\n",
    "\n",
    "region_list"
   ]
  },
  {
   "cell_type": "code",
   "execution_count": 18,
   "metadata": {},
   "outputs": [],
   "source": [
    "def extract_and_fix_year(year_range):\n",
    "    try:\n",
    "        year_suffix = year_range.split('-')[1]\n",
    "        full_year = \"20\" + year_suffix  if int(year_suffix) < 50 else \"19\" +year_suffix\n",
    "        return int(full_year) \n",
    "    except:\n",
    "        return None\n",
    "\n",
    "\n",
    "def plot_hbai_trends(bhc_df, region_list):\n",
    "\n",
    "    # Calculate the impact (AHC - BHC) for each region\n",
    "    for region in region_list:\n",
    "        print(region)\n",
    "        bhc_df[f'{region} pct'] = (bhc_df[f'{region}-low income']/bhc_df[f'{region}-total'])*100\n",
    "\n",
    "    region_pct_cols = [f'{region} pct' for region in region_list]\n",
    "    bhc_df=bhc_df.reset_index()\n",
    "    # Melt the data to long format for easier plotting (if needed)\n",
    "    impact_data = bhc_df.melt(\n",
    "        id_vars=['Financial Year'],\n",
    "        value_vars=region_pct_cols,\n",
    "        var_name='Region',\n",
    "        value_name='Percentage of HBAI'\n",
    "    )\n",
    "    impact_data['Financial Year'] = impact_data['Financial Year'].apply(extract_and_fix_year)\n",
    "\n",
    "    impact_data.to_csv(\"./temp.csv\")\n",
    "    # Create the line chart\n",
    "    fig = px.line(impact_data, \n",
    "                x='Financial Year', \n",
    "                y='Percentage of HBAI', \n",
    "                color='Region',\n",
    "                title='Household below average income (before housing costs) by Region , 1994-2023',\n",
    "                labels={'Percentage of HBAI':'percentage', 'Financial Year': 'Year'},\n",
    "                hover_data=['Region'],\n",
    "                width=1200, height=600)\n",
    "\n",
    "    # Customize the layout (optional)\n",
    "    fig.update_layout(\n",
    "        xaxis_title=\"Year\",\n",
    "        yaxis_title=\"Percentage of HBAI (%)\",\n",
    "        legend_title=\"Region\",\n",
    "        hovermode=\"x unified\"  # Shows data for all regions at a given year\n",
    "    )\n",
    "    #fig.add_annotation(\n",
    "    #    text=\"Note: percentage is calculated by (low income BHC in region-low income AHC in region)/total BHC in region.\",\n",
    "    #    xref=\"paper\", yref=\"paper\",  # Relative to the entire plot\n",
    "    #    x=0.5, y=-0.2,  # Position below the plot\n",
    "    #    showarrow=False,\n",
    "    #    font=dict(size=12, color=\"gray\")\n",
    "    #)\n",
    "\n",
    "    # Show the plot\n",
    "    fig.show()\n",
    "    fig.write_html(\"HBAI_by_region.html\")\n",
    "\n"
   ]
  },
  {
   "cell_type": "code",
   "execution_count": 19,
   "metadata": {},
   "outputs": [
    {
     "name": "stdout",
     "output_type": "stream",
     "text": [
      "Northern Ireland (N92000002)\n",
      "Scotland (S92000003)\n",
      "Wales (W92000004)\n",
      "North East (E12000001)\n",
      "North West (E12000002)\n",
      "Yorkshire and The Humber (E12000003)\n",
      "East Midlands (E12000004)\n",
      "West Midlands (E12000005)\n",
      "East (E12000006)\n",
      "London (E12000007)\n",
      "South East (E12000008)\n",
      "South West (E12000009)\n"
     ]
    },
    {
     "data": {
      "application/vnd.plotly.v1+json": {
       "config": {
        "plotlyServerURL": "https://plot.ly"
       },
       "data": [
        {
         "customdata": [
          [
           "Northern Ireland (N92000002) pct"
          ],
          [
           "Northern Ireland (N92000002) pct"
          ],
          [
           "Northern Ireland (N92000002) pct"
          ],
          [
           "Northern Ireland (N92000002) pct"
          ],
          [
           "Northern Ireland (N92000002) pct"
          ],
          [
           "Northern Ireland (N92000002) pct"
          ],
          [
           "Northern Ireland (N92000002) pct"
          ],
          [
           "Northern Ireland (N92000002) pct"
          ],
          [
           "Northern Ireland (N92000002) pct"
          ],
          [
           "Northern Ireland (N92000002) pct"
          ],
          [
           "Northern Ireland (N92000002) pct"
          ],
          [
           "Northern Ireland (N92000002) pct"
          ],
          [
           "Northern Ireland (N92000002) pct"
          ],
          [
           "Northern Ireland (N92000002) pct"
          ],
          [
           "Northern Ireland (N92000002) pct"
          ],
          [
           "Northern Ireland (N92000002) pct"
          ],
          [
           "Northern Ireland (N92000002) pct"
          ],
          [
           "Northern Ireland (N92000002) pct"
          ],
          [
           "Northern Ireland (N92000002) pct"
          ],
          [
           "Northern Ireland (N92000002) pct"
          ],
          [
           "Northern Ireland (N92000002) pct"
          ],
          [
           "Northern Ireland (N92000002) pct"
          ],
          [
           "Northern Ireland (N92000002) pct"
          ],
          [
           "Northern Ireland (N92000002) pct"
          ],
          [
           "Northern Ireland (N92000002) pct"
          ],
          [
           "Northern Ireland (N92000002) pct"
          ],
          [
           "Northern Ireland (N92000002) pct"
          ],
          [
           "Northern Ireland (N92000002) pct"
          ],
          [
           "Northern Ireland (N92000002) pct"
          ]
         ],
         "hovertemplate": "Region=%{customdata[0]}<br>Year=%{x}<br>percentage=%{y}<extra></extra>",
         "legendgroup": "Northern Ireland (N92000002) pct",
         "line": {
          "color": "#636efa",
          "dash": "solid"
         },
         "marker": {
          "symbol": "circle"
         },
         "mode": "lines",
         "name": "Northern Ireland (N92000002) pct",
         "orientation": "v",
         "showlegend": true,
         "type": "scatter",
         "x": {
          "bdata": "ywfMB80HzgfPB9AH0QfSB9MH1AfVB9YH1wfYB9kH2gfbB9wH3QfeB98H4AfhB+IH4wfkB+UH5gfnBw==",
          "dtype": "i2"
         },
         "xaxis": "x",
         "y": {
          "bdata": "AAAAAAAA+H8AAAAAAAD4fwAAAAAAAPh/AAAAAAAA+H8AAAAAAAD4fwAAAAAAAPh/AAAAAAAA+H8AAAAAAAD4f9V7V7ZtDzNA9brL7oYYNEA1OD9xlWY0QJaKtcfK9DNA5PdnUyQ1M0Aw4rNhP4szQJRkkcMW4zNAJrm2p73NNUB7CJjZqzc0QG1GGBHG1DRAV6f99ZS+MkD5RECi+O00QK+lUKZFvjVAEOjAJVWeMUCHQMBp/iwyQBV4mqOHdS9AqOGz+QDqMkCrjWawbMAwQAAAAAAAAPh/LTMwt0LwL0BPhkcY/HQyQA==",
          "dtype": "f8"
         },
         "yaxis": "y"
        },
        {
         "customdata": [
          [
           "Scotland (S92000003) pct"
          ],
          [
           "Scotland (S92000003) pct"
          ],
          [
           "Scotland (S92000003) pct"
          ],
          [
           "Scotland (S92000003) pct"
          ],
          [
           "Scotland (S92000003) pct"
          ],
          [
           "Scotland (S92000003) pct"
          ],
          [
           "Scotland (S92000003) pct"
          ],
          [
           "Scotland (S92000003) pct"
          ],
          [
           "Scotland (S92000003) pct"
          ],
          [
           "Scotland (S92000003) pct"
          ],
          [
           "Scotland (S92000003) pct"
          ],
          [
           "Scotland (S92000003) pct"
          ],
          [
           "Scotland (S92000003) pct"
          ],
          [
           "Scotland (S92000003) pct"
          ],
          [
           "Scotland (S92000003) pct"
          ],
          [
           "Scotland (S92000003) pct"
          ],
          [
           "Scotland (S92000003) pct"
          ],
          [
           "Scotland (S92000003) pct"
          ],
          [
           "Scotland (S92000003) pct"
          ],
          [
           "Scotland (S92000003) pct"
          ],
          [
           "Scotland (S92000003) pct"
          ],
          [
           "Scotland (S92000003) pct"
          ],
          [
           "Scotland (S92000003) pct"
          ],
          [
           "Scotland (S92000003) pct"
          ],
          [
           "Scotland (S92000003) pct"
          ],
          [
           "Scotland (S92000003) pct"
          ],
          [
           "Scotland (S92000003) pct"
          ],
          [
           "Scotland (S92000003) pct"
          ],
          [
           "Scotland (S92000003) pct"
          ]
         ],
         "hovertemplate": "Region=%{customdata[0]}<br>Year=%{x}<br>percentage=%{y}<extra></extra>",
         "legendgroup": "Scotland (S92000003) pct",
         "line": {
          "color": "#EF553B",
          "dash": "solid"
         },
         "marker": {
          "symbol": "circle"
         },
         "mode": "lines",
         "name": "Scotland (S92000003) pct",
         "orientation": "v",
         "showlegend": true,
         "type": "scatter",
         "x": {
          "bdata": "ywfMB80HzgfPB9AH0QfSB9MH1AfVB9YH1wfYB9kH2gfbB9wH3QfeB98H4AfhB+IH4wfkB+UH5gfnBw==",
          "dtype": "i2"
         },
         "xaxis": "x",
         "y": {
          "bdata": "7Kf5rB/ENEDAPQW9THwzQBIDPyxn1TVAT1KpJu9KNEDuCweA174zQFfv0aZH7DRAnMvo+My1NEBKUgVa3GMzQGr4Xdfo/zNARcE/tIBQMkBovHbywCExQMLUGQ89ZjFAMV4xQAGVMECV2skVFuUwQG1Ifkrv6DBAZ7yh86z0MEA8i1qPC/AtQDQsH9xxEitAG95WYvQoL0Az7wdIo9krQHGfrwUrHS5AnWjffqW7MEAI4DYFLysxQAkQBw+bdDFAkcOvNiJfMEAbr4Ezz1cxQAAAAAAAAPh/JmE6+mTKM0A7+50loPsxQA==",
          "dtype": "f8"
         },
         "yaxis": "y"
        },
        {
         "customdata": [
          [
           "Wales (W92000004) pct"
          ],
          [
           "Wales (W92000004) pct"
          ],
          [
           "Wales (W92000004) pct"
          ],
          [
           "Wales (W92000004) pct"
          ],
          [
           "Wales (W92000004) pct"
          ],
          [
           "Wales (W92000004) pct"
          ],
          [
           "Wales (W92000004) pct"
          ],
          [
           "Wales (W92000004) pct"
          ],
          [
           "Wales (W92000004) pct"
          ],
          [
           "Wales (W92000004) pct"
          ],
          [
           "Wales (W92000004) pct"
          ],
          [
           "Wales (W92000004) pct"
          ],
          [
           "Wales (W92000004) pct"
          ],
          [
           "Wales (W92000004) pct"
          ],
          [
           "Wales (W92000004) pct"
          ],
          [
           "Wales (W92000004) pct"
          ],
          [
           "Wales (W92000004) pct"
          ],
          [
           "Wales (W92000004) pct"
          ],
          [
           "Wales (W92000004) pct"
          ],
          [
           "Wales (W92000004) pct"
          ],
          [
           "Wales (W92000004) pct"
          ],
          [
           "Wales (W92000004) pct"
          ],
          [
           "Wales (W92000004) pct"
          ],
          [
           "Wales (W92000004) pct"
          ],
          [
           "Wales (W92000004) pct"
          ],
          [
           "Wales (W92000004) pct"
          ],
          [
           "Wales (W92000004) pct"
          ],
          [
           "Wales (W92000004) pct"
          ],
          [
           "Wales (W92000004) pct"
          ]
         ],
         "hovertemplate": "Region=%{customdata[0]}<br>Year=%{x}<br>percentage=%{y}<extra></extra>",
         "legendgroup": "Wales (W92000004) pct",
         "line": {
          "color": "#00cc96",
          "dash": "solid"
         },
         "marker": {
          "symbol": "circle"
         },
         "mode": "lines",
         "name": "Wales (W92000004) pct",
         "orientation": "v",
         "showlegend": true,
         "type": "scatter",
         "x": {
          "bdata": "ywfMB80HzgfPB9AH0QfSB9MH1AfVB9YH1wfYB9kH2gfbB9wH3QfeB98H4AfhB+IH4wfkB+UH5gfnBw==",
          "dtype": "i2"
         },
         "xaxis": "x",
         "y": {
          "bdata": "IuNvJFGfNkCbwXsU+Ow2QN+R5mA3HjVAihvXJFmiOEBNNGvFryI2QD2y1rCBcDVAFKQEA2HtNUCcrD4G+MY1QAOXZhg4fTRAiiBhscz3NUCIRwNauUYzQKsfa8+7cTRA8uT1fEyzNECFMcs2SX82QOWRszCyjzJAL1YA1cs3NECLqAqX/qkyQNkOjj87uTJAAqN/iCfoNEAfZqZJJ08yQPl2m0MF4TJAyXHElqmFNUCeeA0+9nkyQB16RgKvbTJAGmPHtzg7NEDzswezjR01QAAAAAAAAPh/tDWYLVXOMUBOCvBQIW00QA==",
          "dtype": "f8"
         },
         "yaxis": "y"
        },
        {
         "customdata": [
          [
           "North East (E12000001) pct"
          ],
          [
           "North East (E12000001) pct"
          ],
          [
           "North East (E12000001) pct"
          ],
          [
           "North East (E12000001) pct"
          ],
          [
           "North East (E12000001) pct"
          ],
          [
           "North East (E12000001) pct"
          ],
          [
           "North East (E12000001) pct"
          ],
          [
           "North East (E12000001) pct"
          ],
          [
           "North East (E12000001) pct"
          ],
          [
           "North East (E12000001) pct"
          ],
          [
           "North East (E12000001) pct"
          ],
          [
           "North East (E12000001) pct"
          ],
          [
           "North East (E12000001) pct"
          ],
          [
           "North East (E12000001) pct"
          ],
          [
           "North East (E12000001) pct"
          ],
          [
           "North East (E12000001) pct"
          ],
          [
           "North East (E12000001) pct"
          ],
          [
           "North East (E12000001) pct"
          ],
          [
           "North East (E12000001) pct"
          ],
          [
           "North East (E12000001) pct"
          ],
          [
           "North East (E12000001) pct"
          ],
          [
           "North East (E12000001) pct"
          ],
          [
           "North East (E12000001) pct"
          ],
          [
           "North East (E12000001) pct"
          ],
          [
           "North East (E12000001) pct"
          ],
          [
           "North East (E12000001) pct"
          ],
          [
           "North East (E12000001) pct"
          ],
          [
           "North East (E12000001) pct"
          ],
          [
           "North East (E12000001) pct"
          ]
         ],
         "hovertemplate": "Region=%{customdata[0]}<br>Year=%{x}<br>percentage=%{y}<extra></extra>",
         "legendgroup": "North East (E12000001) pct",
         "line": {
          "color": "#ab63fa",
          "dash": "solid"
         },
         "marker": {
          "symbol": "circle"
         },
         "mode": "lines",
         "name": "North East (E12000001) pct",
         "orientation": "v",
         "showlegend": true,
         "type": "scatter",
         "x": {
          "bdata": "ywfMB80HzgfPB9AH0QfSB9MH1AfVB9YH1wfYB9kH2gfbB9wH3QfeB98H4AfhB+IH4wfkB+UH5gfnBw==",
          "dtype": "i2"
         },
         "xaxis": "x",
         "y": {
          "bdata": "DBKaH+C2NkB/0eFmQgo5QA6RJzX1BjhALlYvvBUXOECVEE+acT46QCvqqlcOGTpAO0a/MYyYOEBtQKo2IFU1QDiv19UPajdAHDYgNIPDNEB61ykB0jg1QLG6MEAdjjNAxwXWVhj/NEAnEAsu6GE3QGhMGnjnKTVAS74Wxs5uM0C9tqXaiacxQIBMVCdtnjJA/AS4mpBCMUAyburSVZMwQPDQngY+eDNASlGnTwdaMkDH1PMaXeQyQL9jTbpwkzNAtCQUQy54M0DgB4UILVo5QAAAAAAAAPh/9v90ixQvMEANYLDRDPgyQA==",
          "dtype": "f8"
         },
         "yaxis": "y"
        },
        {
         "customdata": [
          [
           "North West (E12000002) pct"
          ],
          [
           "North West (E12000002) pct"
          ],
          [
           "North West (E12000002) pct"
          ],
          [
           "North West (E12000002) pct"
          ],
          [
           "North West (E12000002) pct"
          ],
          [
           "North West (E12000002) pct"
          ],
          [
           "North West (E12000002) pct"
          ],
          [
           "North West (E12000002) pct"
          ],
          [
           "North West (E12000002) pct"
          ],
          [
           "North West (E12000002) pct"
          ],
          [
           "North West (E12000002) pct"
          ],
          [
           "North West (E12000002) pct"
          ],
          [
           "North West (E12000002) pct"
          ],
          [
           "North West (E12000002) pct"
          ],
          [
           "North West (E12000002) pct"
          ],
          [
           "North West (E12000002) pct"
          ],
          [
           "North West (E12000002) pct"
          ],
          [
           "North West (E12000002) pct"
          ],
          [
           "North West (E12000002) pct"
          ],
          [
           "North West (E12000002) pct"
          ],
          [
           "North West (E12000002) pct"
          ],
          [
           "North West (E12000002) pct"
          ],
          [
           "North West (E12000002) pct"
          ],
          [
           "North West (E12000002) pct"
          ],
          [
           "North West (E12000002) pct"
          ],
          [
           "North West (E12000002) pct"
          ],
          [
           "North West (E12000002) pct"
          ],
          [
           "North West (E12000002) pct"
          ],
          [
           "North West (E12000002) pct"
          ]
         ],
         "hovertemplate": "Region=%{customdata[0]}<br>Year=%{x}<br>percentage=%{y}<extra></extra>",
         "legendgroup": "North West (E12000002) pct",
         "line": {
          "color": "#FFA15A",
          "dash": "solid"
         },
         "marker": {
          "symbol": "circle"
         },
         "mode": "lines",
         "name": "North West (E12000002) pct",
         "orientation": "v",
         "showlegend": true,
         "type": "scatter",
         "x": {
          "bdata": "ywfMB80HzgfPB9AH0QfSB9MH1AfVB9YH1wfYB9kH2gfbB9wH3QfeB98H4AfhB+IH4wfkB+UH5gfnBw==",
          "dtype": "i2"
         },
         "xaxis": "x",
         "y": {
          "bdata": "/fUytcNzNUBKvn38y90yQNBac9SztDVAx4Xvi6kjNkAAMPtE+983QPMe3T2hIzVAxsd3lukfNEBPL4x/IgI1QPWJJW4NITNACxuHN3MQM0C6eTr6jRIyQCQM4naOFTRAqnP7REjANEB1S1MS0fs0QKT+OAIuRjJAPbvynMzoMUALo+1roH0xQCFS1CElajFAZXWOdouSMUD7x8BGCtUwQEegqWc01zJAx3RsuM07MkBgQ6RIHjszQLvaqSXG6jNAVb+94oSFMkAwdFCS/3oyQAAAAAAAAPh/RA5cVbrlMkAogkvkBr01QA==",
          "dtype": "f8"
         },
         "yaxis": "y"
        },
        {
         "customdata": [
          [
           "Yorkshire and The Humber (E12000003) pct"
          ],
          [
           "Yorkshire and The Humber (E12000003) pct"
          ],
          [
           "Yorkshire and The Humber (E12000003) pct"
          ],
          [
           "Yorkshire and The Humber (E12000003) pct"
          ],
          [
           "Yorkshire and The Humber (E12000003) pct"
          ],
          [
           "Yorkshire and The Humber (E12000003) pct"
          ],
          [
           "Yorkshire and The Humber (E12000003) pct"
          ],
          [
           "Yorkshire and The Humber (E12000003) pct"
          ],
          [
           "Yorkshire and The Humber (E12000003) pct"
          ],
          [
           "Yorkshire and The Humber (E12000003) pct"
          ],
          [
           "Yorkshire and The Humber (E12000003) pct"
          ],
          [
           "Yorkshire and The Humber (E12000003) pct"
          ],
          [
           "Yorkshire and The Humber (E12000003) pct"
          ],
          [
           "Yorkshire and The Humber (E12000003) pct"
          ],
          [
           "Yorkshire and The Humber (E12000003) pct"
          ],
          [
           "Yorkshire and The Humber (E12000003) pct"
          ],
          [
           "Yorkshire and The Humber (E12000003) pct"
          ],
          [
           "Yorkshire and The Humber (E12000003) pct"
          ],
          [
           "Yorkshire and The Humber (E12000003) pct"
          ],
          [
           "Yorkshire and The Humber (E12000003) pct"
          ],
          [
           "Yorkshire and The Humber (E12000003) pct"
          ],
          [
           "Yorkshire and The Humber (E12000003) pct"
          ],
          [
           "Yorkshire and The Humber (E12000003) pct"
          ],
          [
           "Yorkshire and The Humber (E12000003) pct"
          ],
          [
           "Yorkshire and The Humber (E12000003) pct"
          ],
          [
           "Yorkshire and The Humber (E12000003) pct"
          ],
          [
           "Yorkshire and The Humber (E12000003) pct"
          ],
          [
           "Yorkshire and The Humber (E12000003) pct"
          ],
          [
           "Yorkshire and The Humber (E12000003) pct"
          ]
         ],
         "hovertemplate": "Region=%{customdata[0]}<br>Year=%{x}<br>percentage=%{y}<extra></extra>",
         "legendgroup": "Yorkshire and The Humber (E12000003) pct",
         "line": {
          "color": "#19d3f3",
          "dash": "solid"
         },
         "marker": {
          "symbol": "circle"
         },
         "mode": "lines",
         "name": "Yorkshire and The Humber (E12000003) pct",
         "orientation": "v",
         "showlegend": true,
         "type": "scatter",
         "x": {
          "bdata": "ywfMB80HzgfPB9AH0QfSB9MH1AfVB9YH1wfYB9kH2gfbB9wH3QfeB98H4AfhB+IH4wfkB+UH5gfnBw==",
          "dtype": "i2"
         },
         "xaxis": "x",
         "y": {
          "bdata": "U61r9uhXN0BYzWN8gt41QL5BAeCWozZAzlPj8jXNNkDHtYMfB1k4QM6dSLGA8jZAL7feIQe5NEB26PtN7XQ1QASV3kXSVDNAfnS6/RM9M0C03v/+wt8xQJdhnweqizNAkLGGP1mkNEBSLUhhUe4zQKd3K2YFQzVARYKepYkxNEBZTB3swh40QKwm2rqcXDJAUqp9EbsrM0CMOvI9JMAwQEmTetUtnDJAm4qjUXjXMkAAZe8t4eMxQMo3Py4nRTRAEazqgS8KNkDpLSZJ8no1QAAAAAAAAPh/LSB5R5PeMkBa7iq4Wi40QA==",
          "dtype": "f8"
         },
         "yaxis": "y"
        },
        {
         "customdata": [
          [
           "East Midlands (E12000004) pct"
          ],
          [
           "East Midlands (E12000004) pct"
          ],
          [
           "East Midlands (E12000004) pct"
          ],
          [
           "East Midlands (E12000004) pct"
          ],
          [
           "East Midlands (E12000004) pct"
          ],
          [
           "East Midlands (E12000004) pct"
          ],
          [
           "East Midlands (E12000004) pct"
          ],
          [
           "East Midlands (E12000004) pct"
          ],
          [
           "East Midlands (E12000004) pct"
          ],
          [
           "East Midlands (E12000004) pct"
          ],
          [
           "East Midlands (E12000004) pct"
          ],
          [
           "East Midlands (E12000004) pct"
          ],
          [
           "East Midlands (E12000004) pct"
          ],
          [
           "East Midlands (E12000004) pct"
          ],
          [
           "East Midlands (E12000004) pct"
          ],
          [
           "East Midlands (E12000004) pct"
          ],
          [
           "East Midlands (E12000004) pct"
          ],
          [
           "East Midlands (E12000004) pct"
          ],
          [
           "East Midlands (E12000004) pct"
          ],
          [
           "East Midlands (E12000004) pct"
          ],
          [
           "East Midlands (E12000004) pct"
          ],
          [
           "East Midlands (E12000004) pct"
          ],
          [
           "East Midlands (E12000004) pct"
          ],
          [
           "East Midlands (E12000004) pct"
          ],
          [
           "East Midlands (E12000004) pct"
          ],
          [
           "East Midlands (E12000004) pct"
          ],
          [
           "East Midlands (E12000004) pct"
          ],
          [
           "East Midlands (E12000004) pct"
          ],
          [
           "East Midlands (E12000004) pct"
          ]
         ],
         "hovertemplate": "Region=%{customdata[0]}<br>Year=%{x}<br>percentage=%{y}<extra></extra>",
         "legendgroup": "East Midlands (E12000004) pct",
         "line": {
          "color": "#FF6692",
          "dash": "solid"
         },
         "marker": {
          "symbol": "circle"
         },
         "mode": "lines",
         "name": "East Midlands (E12000004) pct",
         "orientation": "v",
         "showlegend": true,
         "type": "scatter",
         "x": {
          "bdata": "ywfMB80HzgfPB9AH0QfSB9MH1AfVB9YH1wfYB9kH2gfbB9wH3QfeB98H4AfhB+IH4wfkB+UH5gfnBw==",
          "dtype": "i2"
         },
         "xaxis": "x",
         "y": {
          "bdata": "gLIeAeMtM0Boq0Uo0OEyQK/NNJ4yLDRAOltco9ygM0Beha6AjaA0QI+5WvVM8jJAmXjYl90/NUB+a9jzqqQ0QEMsmxe/GTRA1uGP4sxyMkBQ2Eig78kyQNVLlKdREjNApABvCG+KNEBMDY3vXxU1QEFT27PLCTRAQMArnVkKMkDCIGyvqC8wQJ1BtKgmwS5AXz+GIw/cLUCF9rnsV00wQMq8u94BFDJAIkpy4sdZMkD0NgEt/eMxQLH3/T8aqTBA85cTFqc0K0D+2j1jc6s1QAAAAAAAAPh/dl4a8at9M0D7Sro8CGEwQA==",
          "dtype": "f8"
         },
         "yaxis": "y"
        },
        {
         "customdata": [
          [
           "West Midlands (E12000005) pct"
          ],
          [
           "West Midlands (E12000005) pct"
          ],
          [
           "West Midlands (E12000005) pct"
          ],
          [
           "West Midlands (E12000005) pct"
          ],
          [
           "West Midlands (E12000005) pct"
          ],
          [
           "West Midlands (E12000005) pct"
          ],
          [
           "West Midlands (E12000005) pct"
          ],
          [
           "West Midlands (E12000005) pct"
          ],
          [
           "West Midlands (E12000005) pct"
          ],
          [
           "West Midlands (E12000005) pct"
          ],
          [
           "West Midlands (E12000005) pct"
          ],
          [
           "West Midlands (E12000005) pct"
          ],
          [
           "West Midlands (E12000005) pct"
          ],
          [
           "West Midlands (E12000005) pct"
          ],
          [
           "West Midlands (E12000005) pct"
          ],
          [
           "West Midlands (E12000005) pct"
          ],
          [
           "West Midlands (E12000005) pct"
          ],
          [
           "West Midlands (E12000005) pct"
          ],
          [
           "West Midlands (E12000005) pct"
          ],
          [
           "West Midlands (E12000005) pct"
          ],
          [
           "West Midlands (E12000005) pct"
          ],
          [
           "West Midlands (E12000005) pct"
          ],
          [
           "West Midlands (E12000005) pct"
          ],
          [
           "West Midlands (E12000005) pct"
          ],
          [
           "West Midlands (E12000005) pct"
          ],
          [
           "West Midlands (E12000005) pct"
          ],
          [
           "West Midlands (E12000005) pct"
          ],
          [
           "West Midlands (E12000005) pct"
          ],
          [
           "West Midlands (E12000005) pct"
          ]
         ],
         "hovertemplate": "Region=%{customdata[0]}<br>Year=%{x}<br>percentage=%{y}<extra></extra>",
         "legendgroup": "West Midlands (E12000005) pct",
         "line": {
          "color": "#B6E880",
          "dash": "solid"
         },
         "marker": {
          "symbol": "circle"
         },
         "mode": "lines",
         "name": "West Midlands (E12000005) pct",
         "orientation": "v",
         "showlegend": true,
         "type": "scatter",
         "x": {
          "bdata": "ywfMB80HzgfPB9AH0QfSB9MH1AfVB9YH1wfYB9kH2gfbB9wH3QfeB98H4AfhB+IH4wfkB+UH5gfnBw==",
          "dtype": "i2"
         },
         "xaxis": "x",
         "y": {
          "bdata": "ZMXxvtWOMkDnGEDMtoIzQPi28mgLBDVAP/uQ45sMNECXcA0AeNUyQP3E9Bdm2TNAZtJ1ZsTrNED4NoYUFn80QEiFyoTPNTRAYaYpbDDhM0Bgb4Psl5gzQH+FP4U2fTVAYbxLwlBHNECVt9PkMfU1QCwlUEGA2TZArR1QdvjqNEDEs7V0qvozQFoNhGvfNTFAAPIDQtwHMUDgr4t4OnczQF9QSQoZmTJAVvtdfS7nM0D/erqOiwcyQIZMfHsPTTRAZWcZZcuJNEAlK6JVOOs2QAAAAAAAAPh/QgkXQgFzNUD0xF4UgAw2QA==",
          "dtype": "f8"
         },
         "yaxis": "y"
        },
        {
         "customdata": [
          [
           "East (E12000006) pct"
          ],
          [
           "East (E12000006) pct"
          ],
          [
           "East (E12000006) pct"
          ],
          [
           "East (E12000006) pct"
          ],
          [
           "East (E12000006) pct"
          ],
          [
           "East (E12000006) pct"
          ],
          [
           "East (E12000006) pct"
          ],
          [
           "East (E12000006) pct"
          ],
          [
           "East (E12000006) pct"
          ],
          [
           "East (E12000006) pct"
          ],
          [
           "East (E12000006) pct"
          ],
          [
           "East (E12000006) pct"
          ],
          [
           "East (E12000006) pct"
          ],
          [
           "East (E12000006) pct"
          ],
          [
           "East (E12000006) pct"
          ],
          [
           "East (E12000006) pct"
          ],
          [
           "East (E12000006) pct"
          ],
          [
           "East (E12000006) pct"
          ],
          [
           "East (E12000006) pct"
          ],
          [
           "East (E12000006) pct"
          ],
          [
           "East (E12000006) pct"
          ],
          [
           "East (E12000006) pct"
          ],
          [
           "East (E12000006) pct"
          ],
          [
           "East (E12000006) pct"
          ],
          [
           "East (E12000006) pct"
          ],
          [
           "East (E12000006) pct"
          ],
          [
           "East (E12000006) pct"
          ],
          [
           "East (E12000006) pct"
          ],
          [
           "East (E12000006) pct"
          ]
         ],
         "hovertemplate": "Region=%{customdata[0]}<br>Year=%{x}<br>percentage=%{y}<extra></extra>",
         "legendgroup": "East (E12000006) pct",
         "line": {
          "color": "#FF97FF",
          "dash": "solid"
         },
         "marker": {
          "symbol": "circle"
         },
         "mode": "lines",
         "name": "East (E12000006) pct",
         "orientation": "v",
         "showlegend": true,
         "type": "scatter",
         "x": {
          "bdata": "ywfMB80HzgfPB9AH0QfSB9MH1AfVB9YH1wfYB9kH2gfbB9wH3QfeB98H4AfhB+IH4wfkB+UH5gfnBw==",
          "dtype": "i2"
         },
         "xaxis": "x",
         "y": {
          "bdata": "NIjTD79bMECWxeYZf6IrQPHwP/BhVzBA8plFf7DSLkAIYz3HM1YuQEyaeYAEhC5AABgctL/wKkC7+RUYmEkrQKv1bwR3FStAWeXHd7yoLkDrsTiwon4rQFiFVJYFASpADrYztQBmLEBN3cwFu/srQAzFc91XrTBAh9BXtegOLkCWREH/NJApQGjn8JZyKStApSvM4wllJ0DWI28aeborQD/k9fu7zClASdkZA/CHLUDE6nQyKfgsQN4ese6H2S1Ay5pcpHwmK0DpZtqPo30tQAAAAAAAAPh/WprV2soRK0D4TNg/+W4rQA==",
          "dtype": "f8"
         },
         "yaxis": "y"
        },
        {
         "customdata": [
          [
           "London (E12000007) pct"
          ],
          [
           "London (E12000007) pct"
          ],
          [
           "London (E12000007) pct"
          ],
          [
           "London (E12000007) pct"
          ],
          [
           "London (E12000007) pct"
          ],
          [
           "London (E12000007) pct"
          ],
          [
           "London (E12000007) pct"
          ],
          [
           "London (E12000007) pct"
          ],
          [
           "London (E12000007) pct"
          ],
          [
           "London (E12000007) pct"
          ],
          [
           "London (E12000007) pct"
          ],
          [
           "London (E12000007) pct"
          ],
          [
           "London (E12000007) pct"
          ],
          [
           "London (E12000007) pct"
          ],
          [
           "London (E12000007) pct"
          ],
          [
           "London (E12000007) pct"
          ],
          [
           "London (E12000007) pct"
          ],
          [
           "London (E12000007) pct"
          ],
          [
           "London (E12000007) pct"
          ],
          [
           "London (E12000007) pct"
          ],
          [
           "London (E12000007) pct"
          ],
          [
           "London (E12000007) pct"
          ],
          [
           "London (E12000007) pct"
          ],
          [
           "London (E12000007) pct"
          ],
          [
           "London (E12000007) pct"
          ],
          [
           "London (E12000007) pct"
          ],
          [
           "London (E12000007) pct"
          ],
          [
           "London (E12000007) pct"
          ],
          [
           "London (E12000007) pct"
          ]
         ],
         "hovertemplate": "Region=%{customdata[0]}<br>Year=%{x}<br>percentage=%{y}<extra></extra>",
         "legendgroup": "London (E12000007) pct",
         "line": {
          "color": "#FECB52",
          "dash": "solid"
         },
         "marker": {
          "symbol": "circle"
         },
         "mode": "lines",
         "name": "London (E12000007) pct",
         "orientation": "v",
         "showlegend": true,
         "type": "scatter",
         "x": {
          "bdata": "ywfMB80HzgfPB9AH0QfSB9MH1AfVB9YH1wfYB9kH2gfbB9wH3QfeB98H4AfhB+IH4wfkB+UH5gfnBw==",
          "dtype": "i2"
         },
         "xaxis": "x",
         "y": {
          "bdata": "fPcDtb0GMUAlaeNP2oowQCgNQY+IxTJAIoeEtojKM0Bkg/xHFDExQAwvIIhNdDJApnLunpJ5MkBoMbtoHjAxQIaoMyAGsDFATWt6wlwJM0ABxcHybEsyQCv+EP9T2TBArd/jWQCJMUCAO0ZICHwxQExol+VfWjJAC0afhnLeLkCeWCLU/IQvQG1wiP6AYC9AlfvibVRlLkC9ik38JnQqQJX9FtjBeCtA/iPDT0OLLED7BpUo1GMuQDwAQr8VDTFAx55LbHGoL0BmfeczkEEvQAAAAAAAAPh/Hc1uI63cJ0AU5UmCxmguQA==",
          "dtype": "f8"
         },
         "yaxis": "y"
        },
        {
         "customdata": [
          [
           "South East (E12000008) pct"
          ],
          [
           "South East (E12000008) pct"
          ],
          [
           "South East (E12000008) pct"
          ],
          [
           "South East (E12000008) pct"
          ],
          [
           "South East (E12000008) pct"
          ],
          [
           "South East (E12000008) pct"
          ],
          [
           "South East (E12000008) pct"
          ],
          [
           "South East (E12000008) pct"
          ],
          [
           "South East (E12000008) pct"
          ],
          [
           "South East (E12000008) pct"
          ],
          [
           "South East (E12000008) pct"
          ],
          [
           "South East (E12000008) pct"
          ],
          [
           "South East (E12000008) pct"
          ],
          [
           "South East (E12000008) pct"
          ],
          [
           "South East (E12000008) pct"
          ],
          [
           "South East (E12000008) pct"
          ],
          [
           "South East (E12000008) pct"
          ],
          [
           "South East (E12000008) pct"
          ],
          [
           "South East (E12000008) pct"
          ],
          [
           "South East (E12000008) pct"
          ],
          [
           "South East (E12000008) pct"
          ],
          [
           "South East (E12000008) pct"
          ],
          [
           "South East (E12000008) pct"
          ],
          [
           "South East (E12000008) pct"
          ],
          [
           "South East (E12000008) pct"
          ],
          [
           "South East (E12000008) pct"
          ],
          [
           "South East (E12000008) pct"
          ],
          [
           "South East (E12000008) pct"
          ],
          [
           "South East (E12000008) pct"
          ]
         ],
         "hovertemplate": "Region=%{customdata[0]}<br>Year=%{x}<br>percentage=%{y}<extra></extra>",
         "legendgroup": "South East (E12000008) pct",
         "line": {
          "color": "#636efa",
          "dash": "solid"
         },
         "marker": {
          "symbol": "circle"
         },
         "mode": "lines",
         "name": "South East (E12000008) pct",
         "orientation": "v",
         "showlegend": true,
         "type": "scatter",
         "x": {
          "bdata": "ywfMB80HzgfPB9AH0QfSB9MH1AfVB9YH1wfYB9kH2gfbB9wH3QfeB98H4AfhB+IH4wfkB+UH5gfnBw==",
          "dtype": "i2"
         },
         "xaxis": "x",
         "y": {
          "bdata": "V8HcK5iQKkCxKk+lT9wpQDWs+flG3ipAMr114Z6KKkCxRbzl4qcqQGugkOnMdCtA1kei9VmfJkBYJg/N76QqQJgVqmWfdyhAFAr1osF4JkDghjz2TDAoQAtBww6M4SpAGZ8kPIEcK0Cs4ya1W9ApQPuP61mTEihAtKH6OsgaKEBZBX75qiImQDIg9KbR8SlAzej+UMNFJ0DygUNqknsmQMOQmy19BiZAfmhoi0ZUKEAKpbhHmFoqQAwYXJFOOSpA+lmqfrxqK0DOZClWY2srQAAAAAAAAPh/rJxbez2EK0DcpfGjNJooQA==",
          "dtype": "f8"
         },
         "yaxis": "y"
        },
        {
         "customdata": [
          [
           "South West (E12000009) pct"
          ],
          [
           "South West (E12000009) pct"
          ],
          [
           "South West (E12000009) pct"
          ],
          [
           "South West (E12000009) pct"
          ],
          [
           "South West (E12000009) pct"
          ],
          [
           "South West (E12000009) pct"
          ],
          [
           "South West (E12000009) pct"
          ],
          [
           "South West (E12000009) pct"
          ],
          [
           "South West (E12000009) pct"
          ],
          [
           "South West (E12000009) pct"
          ],
          [
           "South West (E12000009) pct"
          ],
          [
           "South West (E12000009) pct"
          ],
          [
           "South West (E12000009) pct"
          ],
          [
           "South West (E12000009) pct"
          ],
          [
           "South West (E12000009) pct"
          ],
          [
           "South West (E12000009) pct"
          ],
          [
           "South West (E12000009) pct"
          ],
          [
           "South West (E12000009) pct"
          ],
          [
           "South West (E12000009) pct"
          ],
          [
           "South West (E12000009) pct"
          ],
          [
           "South West (E12000009) pct"
          ],
          [
           "South West (E12000009) pct"
          ],
          [
           "South West (E12000009) pct"
          ],
          [
           "South West (E12000009) pct"
          ],
          [
           "South West (E12000009) pct"
          ],
          [
           "South West (E12000009) pct"
          ],
          [
           "South West (E12000009) pct"
          ],
          [
           "South West (E12000009) pct"
          ],
          [
           "South West (E12000009) pct"
          ]
         ],
         "hovertemplate": "Region=%{customdata[0]}<br>Year=%{x}<br>percentage=%{y}<extra></extra>",
         "legendgroup": "South West (E12000009) pct",
         "line": {
          "color": "#EF553B",
          "dash": "solid"
         },
         "marker": {
          "symbol": "circle"
         },
         "mode": "lines",
         "name": "South West (E12000009) pct",
         "orientation": "v",
         "showlegend": true,
         "type": "scatter",
         "x": {
          "bdata": "ywfMB80HzgfPB9AH0QfSB9MH1AfVB9YH1wfYB9kH2gfbB9wH3QfeB98H4AfhB+IH4wfkB+UH5gfnBw==",
          "dtype": "i2"
         },
         "xaxis": "x",
         "y": {
          "bdata": "jNu+6bAVMUDe97d1cQEwQDtgF/hq9jFA03WK8/9RM0CZhfmQPuIyQEF6kO5GJjJAkQTJmRpTMUBzx2MZd5IxQBI4PdzyLzBA30eFx5S5LkCwIg9aQCUrQGkZfdFamixAupji2fQ7L0A2EmZP55kvQEFbc+2ety9A6ltmR323LUCn+NA/wEwsQOFX03ob4CtAJcNyX4+EKUAPll0f3VIsQH9W7/bHdSxAWHCZ9XzQKkDbJt9rw/gnQJCzS1M3aS1ANcMhXQlKLEAo7qQVTqosQAAAAAAAAPh/P/xlmwjTL0C6LdL6rr8rQA==",
          "dtype": "f8"
         },
         "yaxis": "y"
        }
       ],
       "layout": {
        "height": 600,
        "hovermode": "x unified",
        "legend": {
         "title": {
          "text": "Region"
         },
         "tracegroupgap": 0
        },
        "template": {
         "data": {
          "bar": [
           {
            "error_x": {
             "color": "#2a3f5f"
            },
            "error_y": {
             "color": "#2a3f5f"
            },
            "marker": {
             "line": {
              "color": "#E5ECF6",
              "width": 0.5
             },
             "pattern": {
              "fillmode": "overlay",
              "size": 10,
              "solidity": 0.2
             }
            },
            "type": "bar"
           }
          ],
          "barpolar": [
           {
            "marker": {
             "line": {
              "color": "#E5ECF6",
              "width": 0.5
             },
             "pattern": {
              "fillmode": "overlay",
              "size": 10,
              "solidity": 0.2
             }
            },
            "type": "barpolar"
           }
          ],
          "carpet": [
           {
            "aaxis": {
             "endlinecolor": "#2a3f5f",
             "gridcolor": "white",
             "linecolor": "white",
             "minorgridcolor": "white",
             "startlinecolor": "#2a3f5f"
            },
            "baxis": {
             "endlinecolor": "#2a3f5f",
             "gridcolor": "white",
             "linecolor": "white",
             "minorgridcolor": "white",
             "startlinecolor": "#2a3f5f"
            },
            "type": "carpet"
           }
          ],
          "choropleth": [
           {
            "colorbar": {
             "outlinewidth": 0,
             "ticks": ""
            },
            "type": "choropleth"
           }
          ],
          "contour": [
           {
            "colorbar": {
             "outlinewidth": 0,
             "ticks": ""
            },
            "colorscale": [
             [
              0,
              "#0d0887"
             ],
             [
              0.1111111111111111,
              "#46039f"
             ],
             [
              0.2222222222222222,
              "#7201a8"
             ],
             [
              0.3333333333333333,
              "#9c179e"
             ],
             [
              0.4444444444444444,
              "#bd3786"
             ],
             [
              0.5555555555555556,
              "#d8576b"
             ],
             [
              0.6666666666666666,
              "#ed7953"
             ],
             [
              0.7777777777777778,
              "#fb9f3a"
             ],
             [
              0.8888888888888888,
              "#fdca26"
             ],
             [
              1,
              "#f0f921"
             ]
            ],
            "type": "contour"
           }
          ],
          "contourcarpet": [
           {
            "colorbar": {
             "outlinewidth": 0,
             "ticks": ""
            },
            "type": "contourcarpet"
           }
          ],
          "heatmap": [
           {
            "colorbar": {
             "outlinewidth": 0,
             "ticks": ""
            },
            "colorscale": [
             [
              0,
              "#0d0887"
             ],
             [
              0.1111111111111111,
              "#46039f"
             ],
             [
              0.2222222222222222,
              "#7201a8"
             ],
             [
              0.3333333333333333,
              "#9c179e"
             ],
             [
              0.4444444444444444,
              "#bd3786"
             ],
             [
              0.5555555555555556,
              "#d8576b"
             ],
             [
              0.6666666666666666,
              "#ed7953"
             ],
             [
              0.7777777777777778,
              "#fb9f3a"
             ],
             [
              0.8888888888888888,
              "#fdca26"
             ],
             [
              1,
              "#f0f921"
             ]
            ],
            "type": "heatmap"
           }
          ],
          "histogram": [
           {
            "marker": {
             "pattern": {
              "fillmode": "overlay",
              "size": 10,
              "solidity": 0.2
             }
            },
            "type": "histogram"
           }
          ],
          "histogram2d": [
           {
            "colorbar": {
             "outlinewidth": 0,
             "ticks": ""
            },
            "colorscale": [
             [
              0,
              "#0d0887"
             ],
             [
              0.1111111111111111,
              "#46039f"
             ],
             [
              0.2222222222222222,
              "#7201a8"
             ],
             [
              0.3333333333333333,
              "#9c179e"
             ],
             [
              0.4444444444444444,
              "#bd3786"
             ],
             [
              0.5555555555555556,
              "#d8576b"
             ],
             [
              0.6666666666666666,
              "#ed7953"
             ],
             [
              0.7777777777777778,
              "#fb9f3a"
             ],
             [
              0.8888888888888888,
              "#fdca26"
             ],
             [
              1,
              "#f0f921"
             ]
            ],
            "type": "histogram2d"
           }
          ],
          "histogram2dcontour": [
           {
            "colorbar": {
             "outlinewidth": 0,
             "ticks": ""
            },
            "colorscale": [
             [
              0,
              "#0d0887"
             ],
             [
              0.1111111111111111,
              "#46039f"
             ],
             [
              0.2222222222222222,
              "#7201a8"
             ],
             [
              0.3333333333333333,
              "#9c179e"
             ],
             [
              0.4444444444444444,
              "#bd3786"
             ],
             [
              0.5555555555555556,
              "#d8576b"
             ],
             [
              0.6666666666666666,
              "#ed7953"
             ],
             [
              0.7777777777777778,
              "#fb9f3a"
             ],
             [
              0.8888888888888888,
              "#fdca26"
             ],
             [
              1,
              "#f0f921"
             ]
            ],
            "type": "histogram2dcontour"
           }
          ],
          "mesh3d": [
           {
            "colorbar": {
             "outlinewidth": 0,
             "ticks": ""
            },
            "type": "mesh3d"
           }
          ],
          "parcoords": [
           {
            "line": {
             "colorbar": {
              "outlinewidth": 0,
              "ticks": ""
             }
            },
            "type": "parcoords"
           }
          ],
          "pie": [
           {
            "automargin": true,
            "type": "pie"
           }
          ],
          "scatter": [
           {
            "fillpattern": {
             "fillmode": "overlay",
             "size": 10,
             "solidity": 0.2
            },
            "type": "scatter"
           }
          ],
          "scatter3d": [
           {
            "line": {
             "colorbar": {
              "outlinewidth": 0,
              "ticks": ""
             }
            },
            "marker": {
             "colorbar": {
              "outlinewidth": 0,
              "ticks": ""
             }
            },
            "type": "scatter3d"
           }
          ],
          "scattercarpet": [
           {
            "marker": {
             "colorbar": {
              "outlinewidth": 0,
              "ticks": ""
             }
            },
            "type": "scattercarpet"
           }
          ],
          "scattergeo": [
           {
            "marker": {
             "colorbar": {
              "outlinewidth": 0,
              "ticks": ""
             }
            },
            "type": "scattergeo"
           }
          ],
          "scattergl": [
           {
            "marker": {
             "colorbar": {
              "outlinewidth": 0,
              "ticks": ""
             }
            },
            "type": "scattergl"
           }
          ],
          "scattermap": [
           {
            "marker": {
             "colorbar": {
              "outlinewidth": 0,
              "ticks": ""
             }
            },
            "type": "scattermap"
           }
          ],
          "scattermapbox": [
           {
            "marker": {
             "colorbar": {
              "outlinewidth": 0,
              "ticks": ""
             }
            },
            "type": "scattermapbox"
           }
          ],
          "scatterpolar": [
           {
            "marker": {
             "colorbar": {
              "outlinewidth": 0,
              "ticks": ""
             }
            },
            "type": "scatterpolar"
           }
          ],
          "scatterpolargl": [
           {
            "marker": {
             "colorbar": {
              "outlinewidth": 0,
              "ticks": ""
             }
            },
            "type": "scatterpolargl"
           }
          ],
          "scatterternary": [
           {
            "marker": {
             "colorbar": {
              "outlinewidth": 0,
              "ticks": ""
             }
            },
            "type": "scatterternary"
           }
          ],
          "surface": [
           {
            "colorbar": {
             "outlinewidth": 0,
             "ticks": ""
            },
            "colorscale": [
             [
              0,
              "#0d0887"
             ],
             [
              0.1111111111111111,
              "#46039f"
             ],
             [
              0.2222222222222222,
              "#7201a8"
             ],
             [
              0.3333333333333333,
              "#9c179e"
             ],
             [
              0.4444444444444444,
              "#bd3786"
             ],
             [
              0.5555555555555556,
              "#d8576b"
             ],
             [
              0.6666666666666666,
              "#ed7953"
             ],
             [
              0.7777777777777778,
              "#fb9f3a"
             ],
             [
              0.8888888888888888,
              "#fdca26"
             ],
             [
              1,
              "#f0f921"
             ]
            ],
            "type": "surface"
           }
          ],
          "table": [
           {
            "cells": {
             "fill": {
              "color": "#EBF0F8"
             },
             "line": {
              "color": "white"
             }
            },
            "header": {
             "fill": {
              "color": "#C8D4E3"
             },
             "line": {
              "color": "white"
             }
            },
            "type": "table"
           }
          ]
         },
         "layout": {
          "annotationdefaults": {
           "arrowcolor": "#2a3f5f",
           "arrowhead": 0,
           "arrowwidth": 1
          },
          "autotypenumbers": "strict",
          "coloraxis": {
           "colorbar": {
            "outlinewidth": 0,
            "ticks": ""
           }
          },
          "colorscale": {
           "diverging": [
            [
             0,
             "#8e0152"
            ],
            [
             0.1,
             "#c51b7d"
            ],
            [
             0.2,
             "#de77ae"
            ],
            [
             0.3,
             "#f1b6da"
            ],
            [
             0.4,
             "#fde0ef"
            ],
            [
             0.5,
             "#f7f7f7"
            ],
            [
             0.6,
             "#e6f5d0"
            ],
            [
             0.7,
             "#b8e186"
            ],
            [
             0.8,
             "#7fbc41"
            ],
            [
             0.9,
             "#4d9221"
            ],
            [
             1,
             "#276419"
            ]
           ],
           "sequential": [
            [
             0,
             "#0d0887"
            ],
            [
             0.1111111111111111,
             "#46039f"
            ],
            [
             0.2222222222222222,
             "#7201a8"
            ],
            [
             0.3333333333333333,
             "#9c179e"
            ],
            [
             0.4444444444444444,
             "#bd3786"
            ],
            [
             0.5555555555555556,
             "#d8576b"
            ],
            [
             0.6666666666666666,
             "#ed7953"
            ],
            [
             0.7777777777777778,
             "#fb9f3a"
            ],
            [
             0.8888888888888888,
             "#fdca26"
            ],
            [
             1,
             "#f0f921"
            ]
           ],
           "sequentialminus": [
            [
             0,
             "#0d0887"
            ],
            [
             0.1111111111111111,
             "#46039f"
            ],
            [
             0.2222222222222222,
             "#7201a8"
            ],
            [
             0.3333333333333333,
             "#9c179e"
            ],
            [
             0.4444444444444444,
             "#bd3786"
            ],
            [
             0.5555555555555556,
             "#d8576b"
            ],
            [
             0.6666666666666666,
             "#ed7953"
            ],
            [
             0.7777777777777778,
             "#fb9f3a"
            ],
            [
             0.8888888888888888,
             "#fdca26"
            ],
            [
             1,
             "#f0f921"
            ]
           ]
          },
          "colorway": [
           "#636efa",
           "#EF553B",
           "#00cc96",
           "#ab63fa",
           "#FFA15A",
           "#19d3f3",
           "#FF6692",
           "#B6E880",
           "#FF97FF",
           "#FECB52"
          ],
          "font": {
           "color": "#2a3f5f"
          },
          "geo": {
           "bgcolor": "white",
           "lakecolor": "white",
           "landcolor": "#E5ECF6",
           "showlakes": true,
           "showland": true,
           "subunitcolor": "white"
          },
          "hoverlabel": {
           "align": "left"
          },
          "hovermode": "closest",
          "mapbox": {
           "style": "light"
          },
          "paper_bgcolor": "white",
          "plot_bgcolor": "#E5ECF6",
          "polar": {
           "angularaxis": {
            "gridcolor": "white",
            "linecolor": "white",
            "ticks": ""
           },
           "bgcolor": "#E5ECF6",
           "radialaxis": {
            "gridcolor": "white",
            "linecolor": "white",
            "ticks": ""
           }
          },
          "scene": {
           "xaxis": {
            "backgroundcolor": "#E5ECF6",
            "gridcolor": "white",
            "gridwidth": 2,
            "linecolor": "white",
            "showbackground": true,
            "ticks": "",
            "zerolinecolor": "white"
           },
           "yaxis": {
            "backgroundcolor": "#E5ECF6",
            "gridcolor": "white",
            "gridwidth": 2,
            "linecolor": "white",
            "showbackground": true,
            "ticks": "",
            "zerolinecolor": "white"
           },
           "zaxis": {
            "backgroundcolor": "#E5ECF6",
            "gridcolor": "white",
            "gridwidth": 2,
            "linecolor": "white",
            "showbackground": true,
            "ticks": "",
            "zerolinecolor": "white"
           }
          },
          "shapedefaults": {
           "line": {
            "color": "#2a3f5f"
           }
          },
          "ternary": {
           "aaxis": {
            "gridcolor": "white",
            "linecolor": "white",
            "ticks": ""
           },
           "baxis": {
            "gridcolor": "white",
            "linecolor": "white",
            "ticks": ""
           },
           "bgcolor": "#E5ECF6",
           "caxis": {
            "gridcolor": "white",
            "linecolor": "white",
            "ticks": ""
           }
          },
          "title": {
           "x": 0.05
          },
          "xaxis": {
           "automargin": true,
           "gridcolor": "white",
           "linecolor": "white",
           "ticks": "",
           "title": {
            "standoff": 15
           },
           "zerolinecolor": "white",
           "zerolinewidth": 2
          },
          "yaxis": {
           "automargin": true,
           "gridcolor": "white",
           "linecolor": "white",
           "ticks": "",
           "title": {
            "standoff": 15
           },
           "zerolinecolor": "white",
           "zerolinewidth": 2
          }
         }
        },
        "title": {
         "text": "Household below average income (before housing costs) by Region , 1994-2023"
        },
        "width": 1200,
        "xaxis": {
         "anchor": "y",
         "domain": [
          0,
          1
         ],
         "title": {
          "text": "Year"
         }
        },
        "yaxis": {
         "anchor": "x",
         "domain": [
          0,
          1
         ],
         "title": {
          "text": "Percentage of HBAI (%)"
         }
        }
       }
      }
     },
     "metadata": {},
     "output_type": "display_data"
    }
   ],
   "source": [
    "\n",
    "plot_hbai_trends(BHC, region_list)"
   ]
  },
  {
   "cell_type": "markdown",
   "metadata": {},
   "source": [
    "### Observations\n",
    "\n",
    "Overall a downtrend in the % of population in below average income.  The fluctuations in the percentage might be related to to major economic events:\n",
    "- Late 1990s to Early 2000s: Many regions see a slight decline in poverty rates, possibly due to economic growth and welfare reforms during this period.\n",
    "- 2008-2010 (Global Financial Crisis):  noticeable increase in poverty rates across most regions around 2008-2010.   it  reflects the economic downturn’s impact on employment and income levels.\n",
    "- Post-2010 Recovery: After 2010, poverty rates generally resume their downward trend, though some regions (e.g., London, North East) show slower declines or temporary increases around \n",
    "- 2015-2018, possibly due to austerity measures or wage stagnation.\n",
    "- 2020-2023 (Post-COVID): There’s a data gap in 2020-2021 (as seen in the previous chart), but by 2021-2023, the downward trend continues, with some regions like the South East and South West reaching their lowest poverty rates (around 12-13%).\n",
    "\n",
    "Action: Government could prepare for such fluctuations by building flexible programs (e.g., emergency funds, rapid-response job support) that can address sudden increases in poverty during economic downturns.  We should also teach people to spend wisely and to save, however small, to build up their own emergence funds.\n",
    "\n",
    "\n"
   ]
  }
 ],
 "metadata": {
  "kernelspec": {
   "display_name": "venv",
   "language": "python",
   "name": "python3"
  },
  "language_info": {
   "codemirror_mode": {
    "name": "ipython",
    "version": 3
   },
   "file_extension": ".py",
   "mimetype": "text/x-python",
   "name": "python",
   "nbconvert_exporter": "python",
   "pygments_lexer": "ipython3",
   "version": "3.10.0"
  }
 },
 "nbformat": 4,
 "nbformat_minor": 2
}
